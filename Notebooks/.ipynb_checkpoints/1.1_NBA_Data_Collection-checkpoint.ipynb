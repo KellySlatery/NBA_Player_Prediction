{
 "cells": [
  {
   "cell_type": "markdown",
   "metadata": {},
   "source": [
    "<img src=\"https://theundefeated.com/wp-content/uploads/2017/05/nba-logo.png?w=50\" style=\"float: left; margin: 20px; height: 55px\">\n",
    "\n",
    "# NBA Player Prediction\n",
    "\n",
    "_Authors: Patrick Wales-Dinan_\n",
    "\n",
    "---\n",
    "\n",
    "This project is an attempt to glean information about NBA Players. When teams invest in a player they are taking a risk. They pay them millions of dollars for the promise of a return on the basketball court and or through marketing/ticket sales. These two are obviously related but that relationship is not one to one. Here I wanted to focus on whether you could predict the future performance of an NBA player based on his statistics in his first two years:\n",
    "\n",
    "\n",
    "\n",
    "\n",
    "## Contents:\n",
    "- [Data Import](#Data-Import)\n",
    "- [Feature Creation](#Feature-Creation)\n",
    "- [Choosing the Features](#Feature-Choice)\n",
    "- [Log Scaling](#Log-Scaling-Independent-Variables)\n",
    "- [Cleaning the Data and Modifying the Data](#Cleaning-&-Creating-the-Data-Set)\n",
    "- [Modeling the Data](#Modeling-the-Data)\n",
    "- [Model Analysis](#Analyzing-the-model)\n",
    "\n",
    "Please visit the Graphs & Relationships notebook for additional visuals: Notebook - [Here](/Users/pwalesdi/Desktop/GA/GA_Project_2/Project_2_Graphs_&_Relationships.ipynb)\n",
    "\n",
    "\n"
   ]
  },
  {
   "cell_type": "code",
   "execution_count": 3,
   "metadata": {},
   "outputs": [],
   "source": [
    "import numpy as np\n",
    "import pandas as pd\n",
    "import os\n",
    "pd.set_option('display.max_rows', 2000)\n",
    "pd.set_option('display.max_columns', 500)\n",
    "pd.set_option('display.width', 1000)"
   ]
  },
  {
   "cell_type": "markdown",
   "metadata": {},
   "source": [
    "## Part 1\n",
    "This data was downloaded from Basketball Reference's (https://www.basketball-reference.com/) advanced metrics tables for each NBA season going back to 2006. I also took data from the NBA draft tables going back to 2006. I am using all of this information to create a single dataframe that I will use to model the data. The reason I chose to go back to 2006 is that this was the first year that the NBA required draft picks to be one year removed from high school. I decided not to go back any farther because I suspected that there could be significant differences between the draft classes that included high schoolers and those that haven't in the past 15 years.\n",
    "\n",
    "Part one is just building the basic NBA dataframe that I will use to take all subsets from. Part two of this notebook is creating some specific dataframes that I can use for EDA and visualizations."
   ]
  },
  {
   "cell_type": "code",
   "execution_count": 6,
   "metadata": {},
   "outputs": [
    {
     "name": "stdout",
     "output_type": "stream",
     "text": [
      "Stored 'nba' (DataFrame)\n"
     ]
    }
   ],
   "source": [
    "# Read in all of the .txt files that I have downloaded from basketball reference\n",
    "nba_2019 = pd.read_csv('./csv_files/2019_advanced.txt')\n",
    "nba_2018 = pd.read_csv('./csv_files/2018_advanced.txt')\n",
    "nba_2017 = pd.read_csv('./csv_files/2017_advanced.txt')\n",
    "nba_2016 = pd.read_csv('./csv_files/2016_advanced.txt')\n",
    "nba_2015 = pd.read_csv('./csv_files/2015_advanced.txt')\n",
    "nba_2014 = pd.read_csv('./csv_files/2014_advanced.txt')\n",
    "nba_2013 = pd.read_csv('./csv_files/2013_advanced.txt')\n",
    "nba_2012 = pd.read_csv('./csv_files/2012_advanced.txt')\n",
    "nba_2011 = pd.read_csv('./csv_files/2011_advanced.txt')\n",
    "nba_2010 = pd.read_csv('./csv_files/2010_advanced.txt')\n",
    "nba_2009 = pd.read_csv('./csv_files/2009_advanced.txt')\n",
    "nba_2008 = pd.read_csv('./csv_files/2008_advanced.txt')\n",
    "nba_2007 = pd.read_csv('./csv_files/2007_advanced.txt')\n",
    "nba_2006 = pd.read_csv('./csv_files/2006_advanced.txt')\n",
    "draft_2019 = pd.read_csv('./csv_files/draft/2019_draft.txt')\n",
    "draft_2018 = pd.read_csv('./csv_files/draft/2018_draft.txt')\n",
    "draft_2017 = pd.read_csv('./csv_files/draft/2017_draft.txt')\n",
    "draft_2016 = pd.read_csv('./csv_files/draft/2016_draft.txt')\n",
    "draft_2015 = pd.read_csv('./csv_files/draft/2015_draft.txt')\n",
    "draft_2014 = pd.read_csv('./csv_files/draft/2014_draft.txt')\n",
    "draft_2013 = pd.read_csv('./csv_files/draft/2013_draft.txt')\n",
    "draft_2012 = pd.read_csv('./csv_files/draft/2012_draft.txt')\n",
    "draft_2011 = pd.read_csv('./csv_files/draft/2011_draft.txt')\n",
    "draft_2010 = pd.read_csv('./csv_files/draft/2010_draft.txt')\n",
    "draft_2009 = pd.read_csv('./csv_files/draft/2009_draft.txt')\n",
    "draft_2008 = pd.read_csv('./csv_files/draft/2008_draft.txt')\n",
    "draft_2007 = pd.read_csv('./csv_files/draft/2007_draft.txt')\n",
    "draft_2006 = pd.read_csv('./csv_files/draft/2006_draft.txt')\n",
    "\n",
    "# Adding a season column to each of the Dataframes that I have loaded in\n",
    "nba_2019['SEASON'] = 2019\n",
    "nba_2018['SEASON'] = 2018\n",
    "nba_2017['SEASON'] = 2017\n",
    "nba_2016['SEASON'] = 2016\n",
    "nba_2015['SEASON'] = 2015\n",
    "nba_2014['SEASON'] = 2014\n",
    "nba_2013['SEASON'] = 2013\n",
    "nba_2012['SEASON'] = 2012\n",
    "nba_2011['SEASON'] = 2011\n",
    "nba_2010['SEASON'] = 2010\n",
    "nba_2009['SEASON'] = 2009\n",
    "nba_2008['SEASON'] = 2008\n",
    "nba_2007['SEASON'] = 2007\n",
    "nba_2006['SEASON'] = 2006\n",
    "\n",
    "# Adding a column to each of the Dataframes that is called \"draft year +1\" The reason that I am doing this is that\n",
    "# I want each players first season to be able to be matched to their draft. Meaning that players first season is\n",
    "# always the season after their draft year. \n",
    "draft_2019['DRAFT_YEAR+1'] = 2020\n",
    "draft_2018['DRAFT_YEAR+1'] = 2019\n",
    "draft_2017['DRAFT_YEAR+1'] = 2018\n",
    "draft_2016['DRAFT_YEAR+1'] = 2017\n",
    "draft_2015['DRAFT_YEAR+1'] = 2016\n",
    "draft_2014['DRAFT_YEAR+1'] = 2015\n",
    "draft_2013['DRAFT_YEAR+1'] = 2014\n",
    "draft_2012['DRAFT_YEAR+1'] = 2013\n",
    "draft_2011['DRAFT_YEAR+1'] = 2012\n",
    "draft_2010['DRAFT_YEAR+1'] = 2011\n",
    "draft_2009['DRAFT_YEAR+1'] = 2010\n",
    "draft_2008['DRAFT_YEAR+1'] = 2009\n",
    "draft_2007['DRAFT_YEAR+1'] = 2008\n",
    "draft_2006['DRAFT_YEAR+1'] = 2007\n",
    "#Creating a list of every advanced metrics DF\n",
    "advanced_list = [nba_2019, nba_2018, nba_2017, nba_2016, nba_2015, nba_2014, nba_2013, \n",
    "           nba_2012, nba_2011, nba_2010, nba_2009, nba_2008, nba_2007, nba_2006]\n",
    "#Creating a list of every draft DF\n",
    "draft_list = [draft_2019, draft_2018, draft_2017, draft_2016, draft_2015, draft_2014, draft_2013, \n",
    "           draft_2012, draft_2011, draft_2010, draft_2009, draft_2008, draft_2007, draft_2006]\n",
    "\n",
    "#Creating a master advanced metrics DF and a master draft DF\n",
    "advanced = pd.concat([nba_2019, nba_2018, nba_2017, nba_2016, nba_2015, nba_2014, nba_2013, nba_2012, nba_2011, nba_2010, nba_2009, nba_2008, nba_2007, nba_2006])\n",
    "draft = pd.concat([draft_2019, draft_2018, draft_2017, draft_2016, draft_2015, draft_2014, draft_2013, draft_2012, draft_2011, draft_2010, draft_2009, draft_2008, draft_2007, draft_2006])\n",
    "\n",
    "#Splitting the player name and unique player id column and labeling them, \n",
    "# then dropping the Player column and the unnamed columns\n",
    "advanced[['player_name','player_id']] = advanced.Player.str.split(\"\\\\\", expand=True)\n",
    "advanced.drop(columns=['Player', 'Unnamed: 19', 'Unnamed: 24', 'Rk'], inplace=True)\n",
    "advanced.head(3)\n",
    "\n",
    "#Splitting the player name and unique player id column and labeling them, then dropping various columns that are redundent between DFs\n",
    "draft[['player_name','player_id']] = draft.Player.str.split(\"\\\\\", expand=True)\n",
    "draft.drop(columns=['Player', 'MP', 'MP.1', 'WS', 'WS/48', 'VORP', 'BPM', 'G', 'Rk'], inplace=True)\n",
    "draft.head(3)\n",
    "\n",
    "# Merge the DFs and then rename some of the columns and reorder all the columns\n",
    "nba = pd.merge(advanced, draft, how='left', on='player_id')\n",
    "nba.drop(columns=['player_name_y',], inplace=True)\n",
    "nba.rename({'player_name_x':'Player_name', 'Tm_y':'Draft_team', 'PTS.1':'PPG', 'TRB.1':'RPG', 'AST.1':'APG'}, axis=1, inplace=True)\n",
    "nba = nba[['Player_name', 'player_id','SEASON', 'Tm_x','DRAFT_YEAR+1','Draft_team','Pk','Pos','Age','G', 'MP', 'PER', 'TS%', '3PAr',\n",
    "           'FTr', 'ORB%', 'DRB%', 'TRB%', 'AST%', 'STL%', 'BLK%', 'TOV%', 'USG%', 'OWS', 'DWS', 'WS', 'WS/48', 'OBPM', 'DBPM',\n",
    "           'BPM', 'VORP', 'College', 'Yrs', 'PTS', 'TRB', 'AST', 'FG%', '3P%', 'FT%', 'PPG', 'RPG', 'APG',]]\n",
    "# Some NBA teams have changed city locations during this time, so I have renamed their teams to be the most current \n",
    "# iteration of the team\n",
    "nba.loc[(nba['Tm_x'] == 'NOH'), 'Tm_x'] = 'NOP'\n",
    "nba.loc[(nba['Tm_x'] == 'SEA'), 'Tm_x'] = 'OKC'\n",
    "nba.loc[(nba['Tm_x'] == 'NJN'), 'Tm_x'] = 'BRK'\n",
    "nba.loc[(nba['Tm_x'] == 'CHA'), 'Tm_x'] = 'CHO'\n",
    "nba.loc[(nba['Tm_x'] == 'NOK'), 'Tm_x'] = 'NOP'\n",
    "nba = nba[(nba.Tm_x != 'TOT')]\n",
    "# Here I am creating a column for the draft round and then populating it with the appropriate round that the player \n",
    "# was drafted in\n",
    "nba[\"draft_round\"] = np.nan\n",
    "nba.loc[nba['Pk'] > 30 , 'draft_round'] = 2\n",
    "nba.loc[nba['Pk'] < 31 , 'draft_round'] = 1\n",
    "# Storing the data for use in other notebooks\n",
    "%store nba"
   ]
  },
  {
   "cell_type": "markdown",
   "metadata": {},
   "source": [
    "## Part 2\n",
    "\n",
    "Here I am looking to specifically view players who have improved their `VORP` (value over replacement player) by 2 units from their "
   ]
  },
  {
   "cell_type": "code",
   "execution_count": null,
   "metadata": {
    "scrolled": true
   },
   "outputs": [],
   "source": [
    "years = pd.DataFrame()\n",
    "for player in nba['Player_name'].unique():\n",
    "    player_df = nba.loc[nba['Player_name'] == player]\n",
    "    max_year = max(player_df.SEASON)\n",
    "    min_year = min(player_df.SEASON)\n",
    "    for year in range(min_year, max_year + 1):\n",
    "        stats1 = player_df.loc[player_df['SEASON'] == year]\n",
    "        stats1.squeeze()\n",
    "        vorp1 = stats1['VORP']\n",
    "        stats2 = player_df.loc[player_df['SEASON'] == (year + 2)]\n",
    "        stats2.squeeze()\n",
    "        vorp2 = stats2['VORP']\n",
    "        if vorp2.sum() > (vorp1.sum() + 2):\n",
    "            years = years.append(stats2)\n",
    "improvement = pd.DataFrame()\n",
    "for player in years['Player_name'].unique():\n",
    "    first_season = min(years.loc[years['Player_name'] == player][\"SEASON\"])\n",
    "    first_season_stats = years.loc[(years['SEASON'] == first_season) & (years[\"Player_name\"] == player)]\n",
    "    improvement = improvement.append(first_season_stats)"
   ]
  },
  {
   "cell_type": "code",
   "execution_count": null,
   "metadata": {},
   "outputs": [],
   "source": [
    "years = pd.DataFrame()\n",
    "for player in nba['Player_name'].unique():\n",
    "    player_df = nba.loc[nba['Player_name'] == player]\n",
    "    max_year = max(player_df.SEASON)\n",
    "    min_year = min(player_df.SEASON)\n",
    "    for year in range(min_year, max_year + 1):\n",
    "        stats1 = player_df.loc[player_df['SEASON'] == year]\n",
    "        stats1.squeeze()\n",
    "        vorp1 = stats1['PER']\n",
    "        stats2 = player_df.loc[player_df['SEASON'] == (year + 2)]\n",
    "        stats2.squeeze()\n",
    "        vorp2 = stats2['PER']\n",
    "        if vorp2.sum() > (vorp1.sum() + 4):\n",
    "            years = years.append(stats2)\n",
    "per_improvement = pd.DataFrame()\n",
    "for player in years['Player_name'].unique():\n",
    "    first_season = min(years.loc[years['Player_name'] == player][\"SEASON\"])\n",
    "    first_season_stats = years.loc[(years['SEASON'] == first_season) & (years[\"Player_name\"] == player)]\n",
    "    per_improvement = per_improvement.append(first_season_stats)"
   ]
  },
  {
   "cell_type": "code",
   "execution_count": null,
   "metadata": {},
   "outputs": [],
   "source": [
    "per_improvement = per_improvement.loc[(per_improvement[\"MP\"] > 900) | (per_improvement[\"G\"] > 55)]\n",
    "per_improvement = per_improvement[per_improvement.PER > 11]"
   ]
  },
  {
   "cell_type": "code",
   "execution_count": null,
   "metadata": {},
   "outputs": [],
   "source": [
    "per_improvement = per_improvement.loc[per_improvement[\"DRAFT_YEAR+1\"].notnull()]\n",
    "print(per_improvement.shape)\n",
    "per_improvement.sort_values(by='SEASON', ascending=True)"
   ]
  },
  {
   "cell_type": "code",
   "execution_count": null,
   "metadata": {},
   "outputs": [],
   "source": [
    "%store per_improvement\n",
    "%store improvement"
   ]
  },
  {
   "cell_type": "code",
   "execution_count": null,
   "metadata": {},
   "outputs": [],
   "source": [
    "improvement.sort_values(by='DRAFT_YEAR+1', ascending=True)"
   ]
  }
 ],
 "metadata": {
  "kernelspec": {
   "display_name": "Python 3",
   "language": "python",
   "name": "python3"
  },
  "language_info": {
   "codemirror_mode": {
    "name": "ipython",
    "version": 3
   },
   "file_extension": ".py",
   "mimetype": "text/x-python",
   "name": "python",
   "nbconvert_exporter": "python",
   "pygments_lexer": "ipython3",
   "version": "3.6.8"
  }
 },
 "nbformat": 4,
 "nbformat_minor": 2
}
