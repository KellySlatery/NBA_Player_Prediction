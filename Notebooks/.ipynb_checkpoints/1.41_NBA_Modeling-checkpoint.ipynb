{
 "cells": [
  {
   "cell_type": "markdown",
   "metadata": {},
   "source": [
    "<img src=\"https://theundefeated.com/wp-content/uploads/2017/05/nba-logo.png?w=50\" style=\"float: left; margin: 20px; height: 55px\">\n",
    "\n",
    "# NBA Player Prediction : 1.41 Modeling\n",
    "## Second Year Dataframe\n",
    "\n",
    "_Authors: Patrick Wales-Dinan_\n",
    "\n",
    "---\n",
    "\n",
    "This project is an attempt to glean information about NBA Players. When teams invest in a player they are taking a risk. They pay them millions of dollars for the promise of a return on the basketball court and or through marketing/ticket sales. These two are obviously related but that relationship is not one to one. Here I wanted to focus on whether you could predict the future performance of an NBA player based on his statistics in his first two years. I had a number of different theories about what might be interesting and useful. Ultimately I decided that I wanted to see the following **`Can I use a players stats from their first two seasons in the NBA, to predict if they will achieve a benchmark`**. What benchmark? Here I have decided that I am going to try to predict if a player will have a [PER](https://www.basketball-reference.com/about/per.html) of over 20 and play over 1000 minutes. Below I will walk through the steps that I used to preprocess the dataframes and prepare for modeling. \n",
    "\n",
    "I have prepared two dataframes. The first is called `second_year_prime` the second dataframe is called `first_second_seasons_agg`. In this notebook I am going to focus on `second_year_prime`. `second_year_prime` is a collection of second year seasons from NBA players dating back to the 2006 season. It only includes players who have played 5 years after their second season (7 year NBA veterans or more). The dataframe has a column called target that contains a `1` if the player will go on to reach the benchmark of higher than 20 PER and over 1200 minutes played and a `0` if the player does not go on to reach that benchmark. I split the dataframe up into training and testing and trained multiple classification models to see how the model can predict if a player reaches the benchmark.\n",
    "\n",
    "---\n",
    "\n",
    "## Notebook Contents:\n",
    "- [Part 1](#Part-1)\n",
    "- [Part 2](#Part-2)\n",
    "- [Part 3](#Part-3)\n",
    "- [Appendix](#Appendix)\n",
    "\n",
    "## Other Notebooks:\n",
    "\n",
    "- [1.3_Pre_Processing](/Users/pwalesdi/Desktop/GA/GA_Project_2/Project_2_Graphs_&_Relationships.ipynb)\n",
    "- [1.3_Pre_Processing](/Users/pwalesdi/Desktop/GA/GA_Project_2/Project_2_Graphs_&_Relationships.ipynb)\n",
    "- [1.3_Pre_Processing](/Users/pwalesdi/Desktop/GA/GA_Project_2/Project_2_Graphs_&_Relationships.ipynb)\n",
    "- [1.3_Pre_Processing](/Users/pwalesdi/Desktop/GA/GA_Project_2/Project_2_Graphs_&_Relationships.ipynb)"
   ]
  },
  {
   "cell_type": "code",
   "execution_count": 297,
   "metadata": {},
   "outputs": [],
   "source": [
    "import numpy as np\n",
    "import pandas as pd\n",
    "import seaborn as sns\n",
    "import os\n",
    "from matplotlib import pyplot as plt\n",
    "import plotly.graph_objects as go\n",
    "from matplotlib import cm\n",
    "import plotly.express as px\n",
    "\n",
    "from sklearn.pipeline import Pipeline\n",
    "from sklearn.linear_model import LinearRegression, LassoCV, RidgeCV, LogisticRegression, SGDClassifier\n",
    "from sklearn.preprocessing import StandardScaler, PolynomialFeatures, PowerTransformer\n",
    "from sklearn.model_selection import train_test_split, cross_val_score, GridSearchCV\n",
    "from sklearn.ensemble import VotingClassifier, RandomForestClassifier, ExtraTreesClassifier, BaggingClassifier, AdaBoostClassifier, GradientBoostingClassifier\n",
    "from sklearn.tree import DecisionTreeClassifier, DecisionTreeRegressor\n",
    "from sklearn.naive_bayes import MultinomialNB, ComplementNB\n",
    "from sklearn.neighbors import KNeighborsRegressor, KNeighborsClassifier\n",
    "from sklearn import metrics\n",
    "from sklearn.base import BaseEstimator\n",
    "from sklearn.svm import SVC, SVR \n",
    "from sklearn.metrics import mean_squared_error, f1_score, confusion_matrix\n",
    "from imblearn.over_sampling import RandomOverSampler\n",
    "from collections import Counter\n",
    "from keras.models import Sequential\n",
    "from keras.layers import Dense, Dropout, Activation, Flatten, Conv2D, MaxPooling2D\n",
    "from keras import regularizers\n",
    "from keras.callbacks import ReduceLROnPlateau\n",
    "from keras.optimizers import Adam\n",
    "import tensorflow as tf\n",
    "\n",
    "pd.set_option('display.max_rows', 2000)\n",
    "pd.set_option('display.max_columns', 500)\n",
    "pd.set_option('display.width', 1000)\n"
   ]
  },
  {
   "cell_type": "code",
   "execution_count": null,
   "metadata": {},
   "outputs": [],
   "source": [
    "cd /Users/pwalesdi/Desktop/GA/NBA_Player_Prediction/Notebooks/"
   ]
  },
  {
   "cell_type": "code",
   "execution_count": 298,
   "metadata": {},
   "outputs": [],
   "source": [
    "%store -r nba\n",
    "%store -r second_year_prime"
   ]
  },
  {
   "cell_type": "markdown",
   "metadata": {},
   "source": [
    "You can see in the cell below the target players broken out by draft class. This is showing us that in the draft class of 2007 3 players went on to have a PER over 20 and 1200 minutes played in a season. The 2012 draft class has the most with 9. Because I have a small number of samples in the target class I wanted to be sure that when I create my validation set later, it doesn't remove too many target samples."
   ]
  },
  {
   "cell_type": "code",
   "execution_count": 299,
   "metadata": {},
   "outputs": [
    {
     "data": {
      "text/plain": [
       "DRAFT_YEAR+1\n",
       "2007.0    3\n",
       "2008.0    2\n",
       "2009.0    5\n",
       "2010.0    3\n",
       "2011.0    5\n",
       "2012.0    9\n",
       "2013.0    3\n",
       "2014.0    3\n",
       "2015.0    4\n",
       "2016.0    4\n",
       "2017.0    1\n",
       "2018.0    0\n",
       "Name: target, dtype: int64"
      ]
     },
     "execution_count": 299,
     "metadata": {},
     "output_type": "execute_result"
    }
   ],
   "source": [
    "# There are 490 unique players in the second_year_prime, 42 of whom have hit the target\n",
    "second_year_prime.fillna(0, inplace=True)\n",
    "second_year_prime.groupby(by=['DRAFT_YEAR+1'])['target'].sum()"
   ]
  },
  {
   "cell_type": "markdown",
   "metadata": {},
   "source": [
    "#### Validation Set Creation\n",
    "This is an important step in the process. I removed all of the players from the 2015, 2016 and 2017 draft classes. I put them in a separate dataframe that I am calling `test_master`. This dataframe will serve as a validation dataframe of sorts. To be clear, some of the players from these classes (specifically 4 of them as we see above) have already achieved this benchmark and so we will be able to test if the model predicts that they will. Additionally we will be able to look at the players we know who anecdotally and from some empirical data are budding superstars and see if the model will predict that they will meet this benchmark. I not only need to make a dataframe of the players that I will remove but I need to make sure that I remove them from the `second_year_prime` dataframe. I have done that below and labeled the dataframes `test_master` and `second_year_prime_test`."
   ]
  },
  {
   "cell_type": "code",
   "execution_count": 300,
   "metadata": {},
   "outputs": [
    {
     "name": "stdout",
     "output_type": "stream",
     "text": [
      "(490, 44)\n",
      "(134, 44)\n",
      "(356, 44)\n"
     ]
    },
    {
     "data": {
      "text/html": [
       "<div>\n",
       "<style scoped>\n",
       "    .dataframe tbody tr th:only-of-type {\n",
       "        vertical-align: middle;\n",
       "    }\n",
       "\n",
       "    .dataframe tbody tr th {\n",
       "        vertical-align: top;\n",
       "    }\n",
       "\n",
       "    .dataframe thead th {\n",
       "        text-align: right;\n",
       "    }\n",
       "</style>\n",
       "<table border=\"1\" class=\"dataframe\">\n",
       "  <thead>\n",
       "    <tr style=\"text-align: right;\">\n",
       "      <th></th>\n",
       "      <th>Player_name</th>\n",
       "      <th>player_id</th>\n",
       "      <th>SEASON</th>\n",
       "      <th>Tm_x</th>\n",
       "      <th>DRAFT_YEAR+1</th>\n",
       "      <th>Draft_team</th>\n",
       "      <th>Pk</th>\n",
       "      <th>Pos</th>\n",
       "      <th>Age</th>\n",
       "      <th>G</th>\n",
       "      <th>MP</th>\n",
       "      <th>PER</th>\n",
       "      <th>TS%</th>\n",
       "      <th>3PAr</th>\n",
       "      <th>FTr</th>\n",
       "      <th>ORB%</th>\n",
       "      <th>DRB%</th>\n",
       "      <th>TRB%</th>\n",
       "      <th>AST%</th>\n",
       "      <th>STL%</th>\n",
       "      <th>BLK%</th>\n",
       "      <th>TOV%</th>\n",
       "      <th>USG%</th>\n",
       "      <th>OWS</th>\n",
       "      <th>DWS</th>\n",
       "      <th>WS</th>\n",
       "      <th>WS/48</th>\n",
       "      <th>OBPM</th>\n",
       "      <th>DBPM</th>\n",
       "      <th>BPM</th>\n",
       "      <th>VORP</th>\n",
       "      <th>College</th>\n",
       "      <th>Yrs</th>\n",
       "      <th>PTS</th>\n",
       "      <th>TRB</th>\n",
       "      <th>AST</th>\n",
       "      <th>FG%</th>\n",
       "      <th>3P%</th>\n",
       "      <th>FT%</th>\n",
       "      <th>PPG</th>\n",
       "      <th>RPG</th>\n",
       "      <th>APG</th>\n",
       "      <th>draft_round</th>\n",
       "      <th>target</th>\n",
       "    </tr>\n",
       "  </thead>\n",
       "  <tbody>\n",
       "    <tr>\n",
       "      <th>5613</th>\n",
       "      <td>LaMarcus Aldridge</td>\n",
       "      <td>aldrila01</td>\n",
       "      <td>2008</td>\n",
       "      <td>POR</td>\n",
       "      <td>2007.0</td>\n",
       "      <td>CHI</td>\n",
       "      <td>2.0</td>\n",
       "      <td>PF</td>\n",
       "      <td>22</td>\n",
       "      <td>76</td>\n",
       "      <td>2649</td>\n",
       "      <td>18.5</td>\n",
       "      <td>0.523</td>\n",
       "      <td>0.006</td>\n",
       "      <td>0.257</td>\n",
       "      <td>9.8</td>\n",
       "      <td>15.8</td>\n",
       "      <td>12.8</td>\n",
       "      <td>8.8</td>\n",
       "      <td>1.1</td>\n",
       "      <td>2.8</td>\n",
       "      <td>8.9</td>\n",
       "      <td>25.3</td>\n",
       "      <td>3.5</td>\n",
       "      <td>2.8</td>\n",
       "      <td>6.2</td>\n",
       "      <td>0.113</td>\n",
       "      <td>0.1</td>\n",
       "      <td>0.7</td>\n",
       "      <td>0.8</td>\n",
       "      <td>1.8</td>\n",
       "      <td>University of Texas at Austin</td>\n",
       "      <td>13.0</td>\n",
       "      <td>18598.0</td>\n",
       "      <td>7968.0</td>\n",
       "      <td>1856.0</td>\n",
       "      <td>0.491</td>\n",
       "      <td>0.283</td>\n",
       "      <td>0.810</td>\n",
       "      <td>19.6</td>\n",
       "      <td>8.4</td>\n",
       "      <td>2.0</td>\n",
       "      <td>1.0</td>\n",
       "      <td>1</td>\n",
       "    </tr>\n",
       "    <tr>\n",
       "      <th>5975</th>\n",
       "      <td>Paul Millsap</td>\n",
       "      <td>millspa01</td>\n",
       "      <td>2008</td>\n",
       "      <td>UTA</td>\n",
       "      <td>2007.0</td>\n",
       "      <td>UTA</td>\n",
       "      <td>47.0</td>\n",
       "      <td>PF</td>\n",
       "      <td>22</td>\n",
       "      <td>82</td>\n",
       "      <td>1702</td>\n",
       "      <td>16.1</td>\n",
       "      <td>0.548</td>\n",
       "      <td>0.008</td>\n",
       "      <td>0.456</td>\n",
       "      <td>12.1</td>\n",
       "      <td>20.8</td>\n",
       "      <td>16.5</td>\n",
       "      <td>7.0</td>\n",
       "      <td>2.2</td>\n",
       "      <td>3.5</td>\n",
       "      <td>12.6</td>\n",
       "      <td>18.1</td>\n",
       "      <td>2.5</td>\n",
       "      <td>2.7</td>\n",
       "      <td>5.2</td>\n",
       "      <td>0.148</td>\n",
       "      <td>-0.2</td>\n",
       "      <td>2.1</td>\n",
       "      <td>1.9</td>\n",
       "      <td>1.7</td>\n",
       "      <td>Louisiana Tech University</td>\n",
       "      <td>13.0</td>\n",
       "      <td>13328.0</td>\n",
       "      <td>7004.0</td>\n",
       "      <td>2168.0</td>\n",
       "      <td>0.491</td>\n",
       "      <td>0.334</td>\n",
       "      <td>0.734</td>\n",
       "      <td>14.1</td>\n",
       "      <td>7.4</td>\n",
       "      <td>2.3</td>\n",
       "      <td>2.0</td>\n",
       "      <td>1</td>\n",
       "    </tr>\n",
       "    <tr>\n",
       "      <th>6069</th>\n",
       "      <td>Brandon Roy</td>\n",
       "      <td>roybr01</td>\n",
       "      <td>2008</td>\n",
       "      <td>POR</td>\n",
       "      <td>2007.0</td>\n",
       "      <td>MIN</td>\n",
       "      <td>6.0</td>\n",
       "      <td>SG</td>\n",
       "      <td>23</td>\n",
       "      <td>74</td>\n",
       "      <td>2792</td>\n",
       "      <td>19.4</td>\n",
       "      <td>0.531</td>\n",
       "      <td>0.184</td>\n",
       "      <td>0.319</td>\n",
       "      <td>3.4</td>\n",
       "      <td>11.2</td>\n",
       "      <td>7.3</td>\n",
       "      <td>28.2</td>\n",
       "      <td>1.5</td>\n",
       "      <td>0.4</td>\n",
       "      <td>9.3</td>\n",
       "      <td>24.9</td>\n",
       "      <td>5.9</td>\n",
       "      <td>2.1</td>\n",
       "      <td>8.0</td>\n",
       "      <td>0.138</td>\n",
       "      <td>3.6</td>\n",
       "      <td>-0.2</td>\n",
       "      <td>3.5</td>\n",
       "      <td>3.9</td>\n",
       "      <td>University of Washington</td>\n",
       "      <td>6.0</td>\n",
       "      <td>6136.0</td>\n",
       "      <td>1388.0</td>\n",
       "      <td>1517.0</td>\n",
       "      <td>0.459</td>\n",
       "      <td>0.348</td>\n",
       "      <td>0.800</td>\n",
       "      <td>18.8</td>\n",
       "      <td>4.3</td>\n",
       "      <td>4.7</td>\n",
       "      <td>1.0</td>\n",
       "      <td>1</td>\n",
       "    </tr>\n",
       "    <tr>\n",
       "      <th>5272</th>\n",
       "      <td>Al Horford</td>\n",
       "      <td>horfoal01</td>\n",
       "      <td>2009</td>\n",
       "      <td>ATL</td>\n",
       "      <td>2008.0</td>\n",
       "      <td>ATL</td>\n",
       "      <td>3.0</td>\n",
       "      <td>C</td>\n",
       "      <td>22</td>\n",
       "      <td>67</td>\n",
       "      <td>2242</td>\n",
       "      <td>17.0</td>\n",
       "      <td>0.565</td>\n",
       "      <td>0.002</td>\n",
       "      <td>0.345</td>\n",
       "      <td>7.6</td>\n",
       "      <td>25.0</td>\n",
       "      <td>16.3</td>\n",
       "      <td>11.9</td>\n",
       "      <td>1.3</td>\n",
       "      <td>3.3</td>\n",
       "      <td>13.1</td>\n",
       "      <td>16.4</td>\n",
       "      <td>3.3</td>\n",
       "      <td>3.5</td>\n",
       "      <td>6.8</td>\n",
       "      <td>0.145</td>\n",
       "      <td>-0.7</td>\n",
       "      <td>3.1</td>\n",
       "      <td>2.3</td>\n",
       "      <td>2.5</td>\n",
       "      <td>University of Florida</td>\n",
       "      <td>12.0</td>\n",
       "      <td>11092.0</td>\n",
       "      <td>6597.0</td>\n",
       "      <td>2548.0</td>\n",
       "      <td>0.525</td>\n",
       "      <td>0.368</td>\n",
       "      <td>0.754</td>\n",
       "      <td>14.1</td>\n",
       "      <td>8.4</td>\n",
       "      <td>3.2</td>\n",
       "      <td>1.0</td>\n",
       "      <td>1</td>\n",
       "    </tr>\n",
       "    <tr>\n",
       "      <th>5600</th>\n",
       "      <td>Brandan Wright</td>\n",
       "      <td>wrighbr03</td>\n",
       "      <td>2009</td>\n",
       "      <td>GSW</td>\n",
       "      <td>2008.0</td>\n",
       "      <td>CHA</td>\n",
       "      <td>8.0</td>\n",
       "      <td>PF</td>\n",
       "      <td>21</td>\n",
       "      <td>39</td>\n",
       "      <td>688</td>\n",
       "      <td>18.7</td>\n",
       "      <td>0.570</td>\n",
       "      <td>0.016</td>\n",
       "      <td>0.346</td>\n",
       "      <td>9.8</td>\n",
       "      <td>15.0</td>\n",
       "      <td>12.4</td>\n",
       "      <td>4.9</td>\n",
       "      <td>1.6</td>\n",
       "      <td>3.7</td>\n",
       "      <td>7.5</td>\n",
       "      <td>19.0</td>\n",
       "      <td>1.4</td>\n",
       "      <td>0.4</td>\n",
       "      <td>1.9</td>\n",
       "      <td>0.131</td>\n",
       "      <td>-0.2</td>\n",
       "      <td>-0.9</td>\n",
       "      <td>-1.2</td>\n",
       "      <td>0.1</td>\n",
       "      <td>University of North Carolina</td>\n",
       "      <td>10.0</td>\n",
       "      <td>2976.0</td>\n",
       "      <td>1560.0</td>\n",
       "      <td>199.0</td>\n",
       "      <td>0.607</td>\n",
       "      <td>0.000</td>\n",
       "      <td>0.674</td>\n",
       "      <td>7.0</td>\n",
       "      <td>3.6</td>\n",
       "      <td>0.5</td>\n",
       "      <td>1.0</td>\n",
       "      <td>1</td>\n",
       "    </tr>\n",
       "    <tr>\n",
       "      <th>4595</th>\n",
       "      <td>Ryan Anderson</td>\n",
       "      <td>anderry01</td>\n",
       "      <td>2010</td>\n",
       "      <td>ORL</td>\n",
       "      <td>2009.0</td>\n",
       "      <td>NJN</td>\n",
       "      <td>21.0</td>\n",
       "      <td>PF</td>\n",
       "      <td>21</td>\n",
       "      <td>63</td>\n",
       "      <td>911</td>\n",
       "      <td>18.1</td>\n",
       "      <td>0.574</td>\n",
       "      <td>0.544</td>\n",
       "      <td>0.211</td>\n",
       "      <td>9.2</td>\n",
       "      <td>16.2</td>\n",
       "      <td>12.8</td>\n",
       "      <td>7.1</td>\n",
       "      <td>1.4</td>\n",
       "      <td>1.1</td>\n",
       "      <td>11.7</td>\n",
       "      <td>24.4</td>\n",
       "      <td>1.7</td>\n",
       "      <td>1.4</td>\n",
       "      <td>3.1</td>\n",
       "      <td>0.161</td>\n",
       "      <td>2.3</td>\n",
       "      <td>-1.0</td>\n",
       "      <td>1.3</td>\n",
       "      <td>0.8</td>\n",
       "      <td>University of California</td>\n",
       "      <td>11.0</td>\n",
       "      <td>7996.0</td>\n",
       "      <td>3406.0</td>\n",
       "      <td>584.0</td>\n",
       "      <td>0.422</td>\n",
       "      <td>0.380</td>\n",
       "      <td>0.854</td>\n",
       "      <td>12.4</td>\n",
       "      <td>5.3</td>\n",
       "      <td>0.9</td>\n",
       "      <td>1.0</td>\n",
       "      <td>1</td>\n",
       "    </tr>\n",
       "    <tr>\n",
       "      <th>4702</th>\n",
       "      <td>Goran Dragić</td>\n",
       "      <td>dragigo01</td>\n",
       "      <td>2010</td>\n",
       "      <td>PHO</td>\n",
       "      <td>2009.0</td>\n",
       "      <td>SAS</td>\n",
       "      <td>45.0</td>\n",
       "      <td>PG</td>\n",
       "      <td>23</td>\n",
       "      <td>80</td>\n",
       "      <td>1442</td>\n",
       "      <td>14.8</td>\n",
       "      <td>0.566</td>\n",
       "      <td>0.383</td>\n",
       "      <td>0.324</td>\n",
       "      <td>3.2</td>\n",
       "      <td>9.8</td>\n",
       "      <td>6.7</td>\n",
       "      <td>24.1</td>\n",
       "      <td>1.7</td>\n",
       "      <td>0.4</td>\n",
       "      <td>18.3</td>\n",
       "      <td>21.1</td>\n",
       "      <td>2.0</td>\n",
       "      <td>0.8</td>\n",
       "      <td>2.8</td>\n",
       "      <td>0.094</td>\n",
       "      <td>1.6</td>\n",
       "      <td>-1.2</td>\n",
       "      <td>0.4</td>\n",
       "      <td>0.9</td>\n",
       "      <td>0</td>\n",
       "      <td>11.0</td>\n",
       "      <td>10421.0</td>\n",
       "      <td>2315.0</td>\n",
       "      <td>3648.0</td>\n",
       "      <td>0.466</td>\n",
       "      <td>0.363</td>\n",
       "      <td>0.762</td>\n",
       "      <td>13.7</td>\n",
       "      <td>3.1</td>\n",
       "      <td>4.8</td>\n",
       "      <td>2.0</td>\n",
       "      <td>1</td>\n",
       "    </tr>\n",
       "    <tr>\n",
       "      <th>4862</th>\n",
       "      <td>JaVale McGee</td>\n",
       "      <td>mcgeeja01</td>\n",
       "      <td>2010</td>\n",
       "      <td>WAS</td>\n",
       "      <td>2009.0</td>\n",
       "      <td>WAS</td>\n",
       "      <td>18.0</td>\n",
       "      <td>C</td>\n",
       "      <td>22</td>\n",
       "      <td>60</td>\n",
       "      <td>968</td>\n",
       "      <td>17.0</td>\n",
       "      <td>0.539</td>\n",
       "      <td>0.003</td>\n",
       "      <td>0.378</td>\n",
       "      <td>10.3</td>\n",
       "      <td>18.7</td>\n",
       "      <td>14.5</td>\n",
       "      <td>2.4</td>\n",
       "      <td>0.9</td>\n",
       "      <td>8.0</td>\n",
       "      <td>12.5</td>\n",
       "      <td>19.1</td>\n",
       "      <td>0.8</td>\n",
       "      <td>1.3</td>\n",
       "      <td>2.1</td>\n",
       "      <td>0.105</td>\n",
       "      <td>-3.2</td>\n",
       "      <td>1.7</td>\n",
       "      <td>-1.5</td>\n",
       "      <td>0.1</td>\n",
       "      <td>University of Nevada Reno</td>\n",
       "      <td>11.0</td>\n",
       "      <td>5073.0</td>\n",
       "      <td>3219.0</td>\n",
       "      <td>240.0</td>\n",
       "      <td>0.570</td>\n",
       "      <td>0.074</td>\n",
       "      <td>0.588</td>\n",
       "      <td>8.0</td>\n",
       "      <td>5.1</td>\n",
       "      <td>0.4</td>\n",
       "      <td>1.0</td>\n",
       "      <td>1</td>\n",
       "    </tr>\n",
       "    <tr>\n",
       "      <th>4936</th>\n",
       "      <td>Derrick Rose</td>\n",
       "      <td>rosede01</td>\n",
       "      <td>2010</td>\n",
       "      <td>CHI</td>\n",
       "      <td>2009.0</td>\n",
       "      <td>CHI</td>\n",
       "      <td>1.0</td>\n",
       "      <td>PG</td>\n",
       "      <td>21</td>\n",
       "      <td>78</td>\n",
       "      <td>2871</td>\n",
       "      <td>18.6</td>\n",
       "      <td>0.532</td>\n",
       "      <td>0.044</td>\n",
       "      <td>0.246</td>\n",
       "      <td>2.6</td>\n",
       "      <td>8.7</td>\n",
       "      <td>5.7</td>\n",
       "      <td>30.3</td>\n",
       "      <td>1.0</td>\n",
       "      <td>0.7</td>\n",
       "      <td>12.5</td>\n",
       "      <td>27.2</td>\n",
       "      <td>3.5</td>\n",
       "      <td>2.5</td>\n",
       "      <td>6.0</td>\n",
       "      <td>0.100</td>\n",
       "      <td>1.7</td>\n",
       "      <td>-1.3</td>\n",
       "      <td>0.5</td>\n",
       "      <td>1.8</td>\n",
       "      <td>University of Memphis</td>\n",
       "      <td>10.0</td>\n",
       "      <td>10281.0</td>\n",
       "      <td>1910.0</td>\n",
       "      <td>3056.0</td>\n",
       "      <td>0.453</td>\n",
       "      <td>0.304</td>\n",
       "      <td>0.824</td>\n",
       "      <td>18.8</td>\n",
       "      <td>3.5</td>\n",
       "      <td>5.6</td>\n",
       "      <td>1.0</td>\n",
       "      <td>1</td>\n",
       "    </tr>\n",
       "    <tr>\n",
       "      <th>5002</th>\n",
       "      <td>Russell Westbrook</td>\n",
       "      <td>westbru01</td>\n",
       "      <td>2010</td>\n",
       "      <td>OKC</td>\n",
       "      <td>2009.0</td>\n",
       "      <td>SEA</td>\n",
       "      <td>4.0</td>\n",
       "      <td>PG</td>\n",
       "      <td>21</td>\n",
       "      <td>82</td>\n",
       "      <td>2813</td>\n",
       "      <td>17.8</td>\n",
       "      <td>0.491</td>\n",
       "      <td>0.090</td>\n",
       "      <td>0.364</td>\n",
       "      <td>6.0</td>\n",
       "      <td>10.3</td>\n",
       "      <td>8.2</td>\n",
       "      <td>38.6</td>\n",
       "      <td>2.0</td>\n",
       "      <td>0.9</td>\n",
       "      <td>16.6</td>\n",
       "      <td>25.7</td>\n",
       "      <td>2.7</td>\n",
       "      <td>3.4</td>\n",
       "      <td>6.1</td>\n",
       "      <td>0.105</td>\n",
       "      <td>1.4</td>\n",
       "      <td>0.6</td>\n",
       "      <td>2.1</td>\n",
       "      <td>2.9</td>\n",
       "      <td>University of California Los Angeles</td>\n",
       "      <td>11.0</td>\n",
       "      <td>18859.0</td>\n",
       "      <td>5760.0</td>\n",
       "      <td>6897.0</td>\n",
       "      <td>0.434</td>\n",
       "      <td>0.308</td>\n",
       "      <td>0.801</td>\n",
       "      <td>23.0</td>\n",
       "      <td>7.0</td>\n",
       "      <td>8.4</td>\n",
       "      <td>1.0</td>\n",
       "      <td>1</td>\n",
       "    </tr>\n",
       "    <tr>\n",
       "      <th>4232</th>\n",
       "      <td>Stephen Curry</td>\n",
       "      <td>curryst01</td>\n",
       "      <td>2011</td>\n",
       "      <td>GSW</td>\n",
       "      <td>2010.0</td>\n",
       "      <td>GSW</td>\n",
       "      <td>7.0</td>\n",
       "      <td>PG</td>\n",
       "      <td>22</td>\n",
       "      <td>74</td>\n",
       "      <td>2489</td>\n",
       "      <td>19.4</td>\n",
       "      <td>0.595</td>\n",
       "      <td>0.325</td>\n",
       "      <td>0.216</td>\n",
       "      <td>2.3</td>\n",
       "      <td>10.9</td>\n",
       "      <td>6.5</td>\n",
       "      <td>28.1</td>\n",
       "      <td>2.2</td>\n",
       "      <td>0.6</td>\n",
       "      <td>16.4</td>\n",
       "      <td>24.4</td>\n",
       "      <td>5.4</td>\n",
       "      <td>1.3</td>\n",
       "      <td>6.6</td>\n",
       "      <td>0.128</td>\n",
       "      <td>3.5</td>\n",
       "      <td>-1.6</td>\n",
       "      <td>1.9</td>\n",
       "      <td>2.4</td>\n",
       "      <td>Davidson College</td>\n",
       "      <td>10.0</td>\n",
       "      <td>16315.0</td>\n",
       "      <td>3132.0</td>\n",
       "      <td>4588.0</td>\n",
       "      <td>0.477</td>\n",
       "      <td>0.436</td>\n",
       "      <td>0.905</td>\n",
       "      <td>23.5</td>\n",
       "      <td>4.5</td>\n",
       "      <td>6.6</td>\n",
       "      <td>1.0</td>\n",
       "      <td>1</td>\n",
       "    </tr>\n",
       "    <tr>\n",
       "      <th>4316</th>\n",
       "      <td>James Harden</td>\n",
       "      <td>hardeja01</td>\n",
       "      <td>2011</td>\n",
       "      <td>OKC</td>\n",
       "      <td>2010.0</td>\n",
       "      <td>OKC</td>\n",
       "      <td>3.0</td>\n",
       "      <td>SG</td>\n",
       "      <td>21</td>\n",
       "      <td>82</td>\n",
       "      <td>2189</td>\n",
       "      <td>16.4</td>\n",
       "      <td>0.598</td>\n",
       "      <td>0.474</td>\n",
       "      <td>0.501</td>\n",
       "      <td>2.3</td>\n",
       "      <td>11.0</td>\n",
       "      <td>6.8</td>\n",
       "      <td>12.8</td>\n",
       "      <td>2.2</td>\n",
       "      <td>0.8</td>\n",
       "      <td>11.3</td>\n",
       "      <td>19.5</td>\n",
       "      <td>5.0</td>\n",
       "      <td>2.1</td>\n",
       "      <td>7.1</td>\n",
       "      <td>0.156</td>\n",
       "      <td>2.9</td>\n",
       "      <td>-0.6</td>\n",
       "      <td>2.3</td>\n",
       "      <td>2.4</td>\n",
       "      <td>Arizona State University</td>\n",
       "      <td>10.0</td>\n",
       "      <td>18627.0</td>\n",
       "      <td>4000.0</td>\n",
       "      <td>4743.0</td>\n",
       "      <td>0.443</td>\n",
       "      <td>0.365</td>\n",
       "      <td>0.857</td>\n",
       "      <td>24.3</td>\n",
       "      <td>5.2</td>\n",
       "      <td>6.2</td>\n",
       "      <td>1.0</td>\n",
       "      <td>1</td>\n",
       "    </tr>\n",
       "    <tr>\n",
       "      <th>4520</th>\n",
       "      <td>Jeff Teague</td>\n",
       "      <td>teaguje01</td>\n",
       "      <td>2011</td>\n",
       "      <td>ATL</td>\n",
       "      <td>2010.0</td>\n",
       "      <td>ATL</td>\n",
       "      <td>19.0</td>\n",
       "      <td>PG</td>\n",
       "      <td>22</td>\n",
       "      <td>70</td>\n",
       "      <td>963</td>\n",
       "      <td>14.6</td>\n",
       "      <td>0.521</td>\n",
       "      <td>0.158</td>\n",
       "      <td>0.319</td>\n",
       "      <td>1.4</td>\n",
       "      <td>11.3</td>\n",
       "      <td>6.4</td>\n",
       "      <td>23.3</td>\n",
       "      <td>2.5</td>\n",
       "      <td>2.0</td>\n",
       "      <td>15.6</td>\n",
       "      <td>20.3</td>\n",
       "      <td>0.4</td>\n",
       "      <td>1.2</td>\n",
       "      <td>1.7</td>\n",
       "      <td>0.083</td>\n",
       "      <td>-2.0</td>\n",
       "      <td>0.2</td>\n",
       "      <td>-1.8</td>\n",
       "      <td>0.1</td>\n",
       "      <td>Wake Forest University</td>\n",
       "      <td>10.0</td>\n",
       "      <td>9049.0</td>\n",
       "      <td>1759.0</td>\n",
       "      <td>4145.0</td>\n",
       "      <td>0.445</td>\n",
       "      <td>0.356</td>\n",
       "      <td>0.842</td>\n",
       "      <td>12.7</td>\n",
       "      <td>2.5</td>\n",
       "      <td>5.8</td>\n",
       "      <td>1.0</td>\n",
       "      <td>1</td>\n",
       "    </tr>\n",
       "    <tr>\n",
       "      <th>3793</th>\n",
       "      <td>Derrick Favors</td>\n",
       "      <td>favorde01</td>\n",
       "      <td>2012</td>\n",
       "      <td>UTA</td>\n",
       "      <td>2011.0</td>\n",
       "      <td>NJN</td>\n",
       "      <td>3.0</td>\n",
       "      <td>PF</td>\n",
       "      <td>20</td>\n",
       "      <td>65</td>\n",
       "      <td>1376</td>\n",
       "      <td>17.1</td>\n",
       "      <td>0.537</td>\n",
       "      <td>0.000</td>\n",
       "      <td>0.436</td>\n",
       "      <td>13.0</td>\n",
       "      <td>22.5</td>\n",
       "      <td>17.7</td>\n",
       "      <td>5.0</td>\n",
       "      <td>1.4</td>\n",
       "      <td>3.8</td>\n",
       "      <td>16.3</td>\n",
       "      <td>20.7</td>\n",
       "      <td>1.4</td>\n",
       "      <td>1.6</td>\n",
       "      <td>3.0</td>\n",
       "      <td>0.105</td>\n",
       "      <td>-1.3</td>\n",
       "      <td>0.5</td>\n",
       "      <td>-0.8</td>\n",
       "      <td>0.4</td>\n",
       "      <td>Georgia Institute of Technology</td>\n",
       "      <td>9.0</td>\n",
       "      <td>7320.0</td>\n",
       "      <td>4547.0</td>\n",
       "      <td>701.0</td>\n",
       "      <td>0.525</td>\n",
       "      <td>0.210</td>\n",
       "      <td>0.664</td>\n",
       "      <td>11.6</td>\n",
       "      <td>7.2</td>\n",
       "      <td>1.1</td>\n",
       "      <td>1.0</td>\n",
       "      <td>1</td>\n",
       "    </tr>\n",
       "    <tr>\n",
       "      <th>3817</th>\n",
       "      <td>Paul George</td>\n",
       "      <td>georgpa01</td>\n",
       "      <td>2012</td>\n",
       "      <td>IND</td>\n",
       "      <td>2011.0</td>\n",
       "      <td>IND</td>\n",
       "      <td>10.0</td>\n",
       "      <td>SG</td>\n",
       "      <td>21</td>\n",
       "      <td>66</td>\n",
       "      <td>1958</td>\n",
       "      <td>16.5</td>\n",
       "      <td>0.555</td>\n",
       "      <td>0.366</td>\n",
       "      <td>0.285</td>\n",
       "      <td>3.2</td>\n",
       "      <td>17.9</td>\n",
       "      <td>10.6</td>\n",
       "      <td>13.6</td>\n",
       "      <td>2.9</td>\n",
       "      <td>1.5</td>\n",
       "      <td>14.0</td>\n",
       "      <td>19.3</td>\n",
       "      <td>2.8</td>\n",
       "      <td>3.2</td>\n",
       "      <td>6.0</td>\n",
       "      <td>0.148</td>\n",
       "      <td>1.9</td>\n",
       "      <td>1.9</td>\n",
       "      <td>3.9</td>\n",
       "      <td>2.9</td>\n",
       "      <td>California State University Fresno</td>\n",
       "      <td>9.0</td>\n",
       "      <td>11983.0</td>\n",
       "      <td>3891.0</td>\n",
       "      <td>2000.0</td>\n",
       "      <td>0.433</td>\n",
       "      <td>0.378</td>\n",
       "      <td>0.844</td>\n",
       "      <td>19.8</td>\n",
       "      <td>6.4</td>\n",
       "      <td>3.3</td>\n",
       "      <td>1.0</td>\n",
       "      <td>1</td>\n",
       "    </tr>\n",
       "    <tr>\n",
       "      <th>3851</th>\n",
       "      <td>Gordon Hayward</td>\n",
       "      <td>haywago01</td>\n",
       "      <td>2012</td>\n",
       "      <td>UTA</td>\n",
       "      <td>2011.0</td>\n",
       "      <td>UTA</td>\n",
       "      <td>9.0</td>\n",
       "      <td>SF</td>\n",
       "      <td>21</td>\n",
       "      <td>66</td>\n",
       "      <td>2015</td>\n",
       "      <td>15.5</td>\n",
       "      <td>0.568</td>\n",
       "      <td>0.271</td>\n",
       "      <td>0.396</td>\n",
       "      <td>3.3</td>\n",
       "      <td>9.9</td>\n",
       "      <td>6.6</td>\n",
       "      <td>15.9</td>\n",
       "      <td>1.4</td>\n",
       "      <td>1.6</td>\n",
       "      <td>13.7</td>\n",
       "      <td>17.8</td>\n",
       "      <td>3.8</td>\n",
       "      <td>1.0</td>\n",
       "      <td>4.9</td>\n",
       "      <td>0.116</td>\n",
       "      <td>2.0</td>\n",
       "      <td>-0.1</td>\n",
       "      <td>1.9</td>\n",
       "      <td>2.0</td>\n",
       "      <td>Butler University</td>\n",
       "      <td>9.0</td>\n",
       "      <td>8904.0</td>\n",
       "      <td>2472.0</td>\n",
       "      <td>2006.0</td>\n",
       "      <td>0.446</td>\n",
       "      <td>0.364</td>\n",
       "      <td>0.821</td>\n",
       "      <td>15.1</td>\n",
       "      <td>4.2</td>\n",
       "      <td>3.4</td>\n",
       "      <td>1.0</td>\n",
       "      <td>1</td>\n",
       "    </tr>\n",
       "    <tr>\n",
       "      <th>4096</th>\n",
       "      <td>John Wall</td>\n",
       "      <td>walljo01</td>\n",
       "      <td>2012</td>\n",
       "      <td>WAS</td>\n",
       "      <td>2011.0</td>\n",
       "      <td>WAS</td>\n",
       "      <td>1.0</td>\n",
       "      <td>PG</td>\n",
       "      <td>21</td>\n",
       "      <td>66</td>\n",
       "      <td>2386</td>\n",
       "      <td>17.7</td>\n",
       "      <td>0.502</td>\n",
       "      <td>0.047</td>\n",
       "      <td>0.450</td>\n",
       "      <td>2.3</td>\n",
       "      <td>12.0</td>\n",
       "      <td>7.1</td>\n",
       "      <td>36.9</td>\n",
       "      <td>2.1</td>\n",
       "      <td>1.8</td>\n",
       "      <td>19.2</td>\n",
       "      <td>24.9</td>\n",
       "      <td>1.7</td>\n",
       "      <td>1.9</td>\n",
       "      <td>3.5</td>\n",
       "      <td>0.071</td>\n",
       "      <td>0.5</td>\n",
       "      <td>0.1</td>\n",
       "      <td>0.6</td>\n",
       "      <td>1.6</td>\n",
       "      <td>University of Kentucky</td>\n",
       "      <td>9.0</td>\n",
       "      <td>10879.0</td>\n",
       "      <td>2483.0</td>\n",
       "      <td>5282.0</td>\n",
       "      <td>0.433</td>\n",
       "      <td>0.324</td>\n",
       "      <td>0.781</td>\n",
       "      <td>19.0</td>\n",
       "      <td>4.3</td>\n",
       "      <td>9.2</td>\n",
       "      <td>1.0</td>\n",
       "      <td>1</td>\n",
       "    </tr>\n",
       "    <tr>\n",
       "      <th>4109</th>\n",
       "      <td>Hassan Whiteside</td>\n",
       "      <td>whiteha01</td>\n",
       "      <td>2012</td>\n",
       "      <td>SAC</td>\n",
       "      <td>2011.0</td>\n",
       "      <td>SAC</td>\n",
       "      <td>33.0</td>\n",
       "      <td>C</td>\n",
       "      <td>22</td>\n",
       "      <td>18</td>\n",
       "      <td>109</td>\n",
       "      <td>16.2</td>\n",
       "      <td>0.449</td>\n",
       "      <td>0.000</td>\n",
       "      <td>0.444</td>\n",
       "      <td>15.4</td>\n",
       "      <td>24.3</td>\n",
       "      <td>19.6</td>\n",
       "      <td>0.0</td>\n",
       "      <td>1.4</td>\n",
       "      <td>10.0</td>\n",
       "      <td>13.4</td>\n",
       "      <td>14.8</td>\n",
       "      <td>0.0</td>\n",
       "      <td>0.2</td>\n",
       "      <td>0.2</td>\n",
       "      <td>0.073</td>\n",
       "      <td>-6.4</td>\n",
       "      <td>-0.3</td>\n",
       "      <td>-6.7</td>\n",
       "      <td>-0.1</td>\n",
       "      <td>Marshall University</td>\n",
       "      <td>7.0</td>\n",
       "      <td>4583.0</td>\n",
       "      <td>3909.0</td>\n",
       "      <td>203.0</td>\n",
       "      <td>0.574</td>\n",
       "      <td>0.222</td>\n",
       "      <td>0.593</td>\n",
       "      <td>13.4</td>\n",
       "      <td>11.4</td>\n",
       "      <td>0.6</td>\n",
       "      <td>2.0</td>\n",
       "      <td>1</td>\n",
       "    </tr>\n",
       "    <tr>\n",
       "      <th>3251</th>\n",
       "      <td>Jimmy Butler</td>\n",
       "      <td>butleji01</td>\n",
       "      <td>2013</td>\n",
       "      <td>CHI</td>\n",
       "      <td>2012.0</td>\n",
       "      <td>CHI</td>\n",
       "      <td>30.0</td>\n",
       "      <td>SF</td>\n",
       "      <td>23</td>\n",
       "      <td>82</td>\n",
       "      <td>2134</td>\n",
       "      <td>15.2</td>\n",
       "      <td>0.574</td>\n",
       "      <td>0.205</td>\n",
       "      <td>0.455</td>\n",
       "      <td>7.2</td>\n",
       "      <td>10.4</td>\n",
       "      <td>8.8</td>\n",
       "      <td>8.6</td>\n",
       "      <td>2.0</td>\n",
       "      <td>1.1</td>\n",
       "      <td>9.2</td>\n",
       "      <td>14.6</td>\n",
       "      <td>4.4</td>\n",
       "      <td>2.6</td>\n",
       "      <td>7.0</td>\n",
       "      <td>0.158</td>\n",
       "      <td>0.9</td>\n",
       "      <td>1.0</td>\n",
       "      <td>1.9</td>\n",
       "      <td>2.1</td>\n",
       "      <td>Marquette University</td>\n",
       "      <td>8.0</td>\n",
       "      <td>8730.0</td>\n",
       "      <td>2577.0</td>\n",
       "      <td>1805.0</td>\n",
       "      <td>0.454</td>\n",
       "      <td>0.341</td>\n",
       "      <td>0.835</td>\n",
       "      <td>16.7</td>\n",
       "      <td>4.9</td>\n",
       "      <td>3.5</td>\n",
       "      <td>1.0</td>\n",
       "      <td>1</td>\n",
       "    </tr>\n",
       "    <tr>\n",
       "      <th>3312</th>\n",
       "      <td>Kenneth Faried</td>\n",
       "      <td>farieke01</td>\n",
       "      <td>2013</td>\n",
       "      <td>DEN</td>\n",
       "      <td>2012.0</td>\n",
       "      <td>DEN</td>\n",
       "      <td>22.0</td>\n",
       "      <td>PF</td>\n",
       "      <td>23</td>\n",
       "      <td>80</td>\n",
       "      <td>2248</td>\n",
       "      <td>18.5</td>\n",
       "      <td>0.573</td>\n",
       "      <td>0.000</td>\n",
       "      <td>0.386</td>\n",
       "      <td>13.2</td>\n",
       "      <td>23.2</td>\n",
       "      <td>18.3</td>\n",
       "      <td>5.1</td>\n",
       "      <td>1.8</td>\n",
       "      <td>2.9</td>\n",
       "      <td>12.3</td>\n",
       "      <td>17.7</td>\n",
       "      <td>4.5</td>\n",
       "      <td>3.4</td>\n",
       "      <td>7.8</td>\n",
       "      <td>0.167</td>\n",
       "      <td>0.8</td>\n",
       "      <td>1.5</td>\n",
       "      <td>2.2</td>\n",
       "      <td>2.4</td>\n",
       "      <td>Morehead State University</td>\n",
       "      <td>8.0</td>\n",
       "      <td>5430.0</td>\n",
       "      <td>3884.0</td>\n",
       "      <td>470.0</td>\n",
       "      <td>0.546</td>\n",
       "      <td>0.222</td>\n",
       "      <td>0.654</td>\n",
       "      <td>11.4</td>\n",
       "      <td>8.1</td>\n",
       "      <td>1.0</td>\n",
       "      <td>1.0</td>\n",
       "      <td>1</td>\n",
       "    </tr>\n",
       "    <tr>\n",
       "      <th>3426</th>\n",
       "      <td>Enes Kanter</td>\n",
       "      <td>kanteen01</td>\n",
       "      <td>2013</td>\n",
       "      <td>UTA</td>\n",
       "      <td>2012.0</td>\n",
       "      <td>UTA</td>\n",
       "      <td>3.0</td>\n",
       "      <td>C</td>\n",
       "      <td>20</td>\n",
       "      <td>70</td>\n",
       "      <td>1078</td>\n",
       "      <td>17.6</td>\n",
       "      <td>0.588</td>\n",
       "      <td>0.003</td>\n",
       "      <td>0.309</td>\n",
       "      <td>14.5</td>\n",
       "      <td>18.6</td>\n",
       "      <td>16.5</td>\n",
       "      <td>5.0</td>\n",
       "      <td>1.4</td>\n",
       "      <td>2.3</td>\n",
       "      <td>19.0</td>\n",
       "      <td>22.4</td>\n",
       "      <td>1.2</td>\n",
       "      <td>1.0</td>\n",
       "      <td>2.3</td>\n",
       "      <td>0.101</td>\n",
       "      <td>-0.9</td>\n",
       "      <td>-1.2</td>\n",
       "      <td>-2.1</td>\n",
       "      <td>0.0</td>\n",
       "      <td>0</td>\n",
       "      <td>8.0</td>\n",
       "      <td>6946.0</td>\n",
       "      <td>4436.0</td>\n",
       "      <td>490.0</td>\n",
       "      <td>0.541</td>\n",
       "      <td>0.294</td>\n",
       "      <td>0.780</td>\n",
       "      <td>11.9</td>\n",
       "      <td>7.6</td>\n",
       "      <td>0.8</td>\n",
       "      <td>1.0</td>\n",
       "      <td>1</td>\n",
       "    </tr>\n",
       "    <tr>\n",
       "      <th>3442</th>\n",
       "      <td>Kawhi Leonard</td>\n",
       "      <td>leonaka01</td>\n",
       "      <td>2013</td>\n",
       "      <td>SAS</td>\n",
       "      <td>2012.0</td>\n",
       "      <td>IND</td>\n",
       "      <td>15.0</td>\n",
       "      <td>SF</td>\n",
       "      <td>21</td>\n",
       "      <td>58</td>\n",
       "      <td>1810</td>\n",
       "      <td>16.4</td>\n",
       "      <td>0.592</td>\n",
       "      <td>0.331</td>\n",
       "      <td>0.240</td>\n",
       "      <td>4.3</td>\n",
       "      <td>17.1</td>\n",
       "      <td>11.1</td>\n",
       "      <td>7.7</td>\n",
       "      <td>2.7</td>\n",
       "      <td>1.3</td>\n",
       "      <td>9.6</td>\n",
       "      <td>16.4</td>\n",
       "      <td>3.0</td>\n",
       "      <td>3.3</td>\n",
       "      <td>6.2</td>\n",
       "      <td>0.166</td>\n",
       "      <td>1.4</td>\n",
       "      <td>2.5</td>\n",
       "      <td>3.9</td>\n",
       "      <td>2.7</td>\n",
       "      <td>San Diego State University</td>\n",
       "      <td>8.0</td>\n",
       "      <td>8250.0</td>\n",
       "      <td>2950.0</td>\n",
       "      <td>1123.0</td>\n",
       "      <td>0.495</td>\n",
       "      <td>0.383</td>\n",
       "      <td>0.848</td>\n",
       "      <td>17.7</td>\n",
       "      <td>6.3</td>\n",
       "      <td>2.4</td>\n",
       "      <td>1.0</td>\n",
       "      <td>1</td>\n",
       "    </tr>\n",
       "    <tr>\n",
       "      <th>3593</th>\n",
       "      <td>Isaiah Thomas</td>\n",
       "      <td>thomais02</td>\n",
       "      <td>2013</td>\n",
       "      <td>SAC</td>\n",
       "      <td>2012.0</td>\n",
       "      <td>SAC</td>\n",
       "      <td>60.0</td>\n",
       "      <td>PG</td>\n",
       "      <td>23</td>\n",
       "      <td>79</td>\n",
       "      <td>2122</td>\n",
       "      <td>17.5</td>\n",
       "      <td>0.574</td>\n",
       "      <td>0.386</td>\n",
       "      <td>0.345</td>\n",
       "      <td>1.5</td>\n",
       "      <td>7.3</td>\n",
       "      <td>4.4</td>\n",
       "      <td>24.6</td>\n",
       "      <td>1.6</td>\n",
       "      <td>0.1</td>\n",
       "      <td>12.7</td>\n",
       "      <td>23.0</td>\n",
       "      <td>5.2</td>\n",
       "      <td>-0.1</td>\n",
       "      <td>5.0</td>\n",
       "      <td>0.114</td>\n",
       "      <td>3.5</td>\n",
       "      <td>-3.7</td>\n",
       "      <td>-0.2</td>\n",
       "      <td>1.0</td>\n",
       "      <td>University of Washington</td>\n",
       "      <td>8.0</td>\n",
       "      <td>9020.0</td>\n",
       "      <td>1220.0</td>\n",
       "      <td>2453.0</td>\n",
       "      <td>0.437</td>\n",
       "      <td>0.360</td>\n",
       "      <td>0.874</td>\n",
       "      <td>18.6</td>\n",
       "      <td>2.5</td>\n",
       "      <td>5.1</td>\n",
       "      <td>2.0</td>\n",
       "      <td>1</td>\n",
       "    </tr>\n",
       "    <tr>\n",
       "      <th>3599</th>\n",
       "      <td>Klay Thompson</td>\n",
       "      <td>thompkl01</td>\n",
       "      <td>2013</td>\n",
       "      <td>GSW</td>\n",
       "      <td>2012.0</td>\n",
       "      <td>GSW</td>\n",
       "      <td>11.0</td>\n",
       "      <td>SG</td>\n",
       "      <td>22</td>\n",
       "      <td>82</td>\n",
       "      <td>2936</td>\n",
       "      <td>12.7</td>\n",
       "      <td>0.533</td>\n",
       "      <td>0.437</td>\n",
       "      <td>0.130</td>\n",
       "      <td>1.2</td>\n",
       "      <td>10.0</td>\n",
       "      <td>5.7</td>\n",
       "      <td>10.1</td>\n",
       "      <td>1.5</td>\n",
       "      <td>1.2</td>\n",
       "      <td>11.0</td>\n",
       "      <td>21.8</td>\n",
       "      <td>1.7</td>\n",
       "      <td>2.6</td>\n",
       "      <td>4.3</td>\n",
       "      <td>0.070</td>\n",
       "      <td>0.4</td>\n",
       "      <td>-0.6</td>\n",
       "      <td>-0.1</td>\n",
       "      <td>1.4</td>\n",
       "      <td>Washington State University</td>\n",
       "      <td>8.0</td>\n",
       "      <td>11995.0</td>\n",
       "      <td>2130.0</td>\n",
       "      <td>1416.0</td>\n",
       "      <td>0.459</td>\n",
       "      <td>0.419</td>\n",
       "      <td>0.848</td>\n",
       "      <td>19.5</td>\n",
       "      <td>3.5</td>\n",
       "      <td>2.3</td>\n",
       "      <td>1.0</td>\n",
       "      <td>1</td>\n",
       "    </tr>\n",
       "    <tr>\n",
       "      <th>3611</th>\n",
       "      <td>Jonas Valančiūnas</td>\n",
       "      <td>valanjo01</td>\n",
       "      <td>2013</td>\n",
       "      <td>TOR</td>\n",
       "      <td>2012.0</td>\n",
       "      <td>TOR</td>\n",
       "      <td>5.0</td>\n",
       "      <td>C</td>\n",
       "      <td>20</td>\n",
       "      <td>62</td>\n",
       "      <td>1482</td>\n",
       "      <td>15.6</td>\n",
       "      <td>0.619</td>\n",
       "      <td>0.000</td>\n",
       "      <td>0.505</td>\n",
       "      <td>9.6</td>\n",
       "      <td>20.5</td>\n",
       "      <td>14.9</td>\n",
       "      <td>5.0</td>\n",
       "      <td>0.6</td>\n",
       "      <td>4.2</td>\n",
       "      <td>17.4</td>\n",
       "      <td>16.9</td>\n",
       "      <td>2.5</td>\n",
       "      <td>1.5</td>\n",
       "      <td>3.9</td>\n",
       "      <td>0.127</td>\n",
       "      <td>-1.3</td>\n",
       "      <td>0.9</td>\n",
       "      <td>-0.5</td>\n",
       "      <td>0.6</td>\n",
       "      <td>0</td>\n",
       "      <td>7.0</td>\n",
       "      <td>5903.0</td>\n",
       "      <td>4164.0</td>\n",
       "      <td>391.0</td>\n",
       "      <td>0.558</td>\n",
       "      <td>0.357</td>\n",
       "      <td>0.786</td>\n",
       "      <td>12.1</td>\n",
       "      <td>8.5</td>\n",
       "      <td>0.8</td>\n",
       "      <td>1.0</td>\n",
       "      <td>1</td>\n",
       "    </tr>\n",
       "    <tr>\n",
       "      <th>3617</th>\n",
       "      <td>Nikola Vučević</td>\n",
       "      <td>vucevni01</td>\n",
       "      <td>2013</td>\n",
       "      <td>ORL</td>\n",
       "      <td>2012.0</td>\n",
       "      <td>PHI</td>\n",
       "      <td>16.0</td>\n",
       "      <td>C</td>\n",
       "      <td>22</td>\n",
       "      <td>77</td>\n",
       "      <td>2559</td>\n",
       "      <td>17.8</td>\n",
       "      <td>0.534</td>\n",
       "      <td>0.003</td>\n",
       "      <td>0.142</td>\n",
       "      <td>12.0</td>\n",
       "      <td>28.4</td>\n",
       "      <td>20.2</td>\n",
       "      <td>9.3</td>\n",
       "      <td>1.2</td>\n",
       "      <td>2.4</td>\n",
       "      <td>13.0</td>\n",
       "      <td>19.3</td>\n",
       "      <td>2.8</td>\n",
       "      <td>2.9</td>\n",
       "      <td>5.7</td>\n",
       "      <td>0.106</td>\n",
       "      <td>-0.9</td>\n",
       "      <td>1.4</td>\n",
       "      <td>0.4</td>\n",
       "      <td>1.6</td>\n",
       "      <td>University of Southern California</td>\n",
       "      <td>8.0</td>\n",
       "      <td>8411.0</td>\n",
       "      <td>5437.0</td>\n",
       "      <td>1310.0</td>\n",
       "      <td>0.502</td>\n",
       "      <td>0.332</td>\n",
       "      <td>0.741</td>\n",
       "      <td>15.7</td>\n",
       "      <td>10.1</td>\n",
       "      <td>2.4</td>\n",
       "      <td>1.0</td>\n",
       "      <td>1</td>\n",
       "    </tr>\n",
       "    <tr>\n",
       "      <th>3620</th>\n",
       "      <td>Kemba Walker</td>\n",
       "      <td>walkeke02</td>\n",
       "      <td>2013</td>\n",
       "      <td>CHO</td>\n",
       "      <td>2012.0</td>\n",
       "      <td>CHA</td>\n",
       "      <td>9.0</td>\n",
       "      <td>PG</td>\n",
       "      <td>22</td>\n",
       "      <td>82</td>\n",
       "      <td>2859</td>\n",
       "      <td>18.8</td>\n",
       "      <td>0.517</td>\n",
       "      <td>0.267</td>\n",
       "      <td>0.298</td>\n",
       "      <td>2.3</td>\n",
       "      <td>9.2</td>\n",
       "      <td>5.7</td>\n",
       "      <td>31.2</td>\n",
       "      <td>2.9</td>\n",
       "      <td>0.9</td>\n",
       "      <td>12.4</td>\n",
       "      <td>25.6</td>\n",
       "      <td>3.7</td>\n",
       "      <td>1.1</td>\n",
       "      <td>4.8</td>\n",
       "      <td>0.080</td>\n",
       "      <td>3.2</td>\n",
       "      <td>-1.7</td>\n",
       "      <td>1.5</td>\n",
       "      <td>2.5</td>\n",
       "      <td>University of Connecticut</td>\n",
       "      <td>8.0</td>\n",
       "      <td>12009.0</td>\n",
       "      <td>2317.0</td>\n",
       "      <td>3308.0</td>\n",
       "      <td>0.418</td>\n",
       "      <td>0.357</td>\n",
       "      <td>0.835</td>\n",
       "      <td>19.8</td>\n",
       "      <td>3.8</td>\n",
       "      <td>5.5</td>\n",
       "      <td>1.0</td>\n",
       "      <td>1</td>\n",
       "    </tr>\n",
       "    <tr>\n",
       "      <th>2743</th>\n",
       "      <td>Bradley Beal</td>\n",
       "      <td>bealbr01</td>\n",
       "      <td>2014</td>\n",
       "      <td>WAS</td>\n",
       "      <td>2013.0</td>\n",
       "      <td>WAS</td>\n",
       "      <td>3.0</td>\n",
       "      <td>SG</td>\n",
       "      <td>20</td>\n",
       "      <td>73</td>\n",
       "      <td>2530</td>\n",
       "      <td>14.3</td>\n",
       "      <td>0.507</td>\n",
       "      <td>0.299</td>\n",
       "      <td>0.164</td>\n",
       "      <td>2.4</td>\n",
       "      <td>10.2</td>\n",
       "      <td>6.3</td>\n",
       "      <td>16.0</td>\n",
       "      <td>1.4</td>\n",
       "      <td>0.6</td>\n",
       "      <td>9.4</td>\n",
       "      <td>24.3</td>\n",
       "      <td>1.6</td>\n",
       "      <td>2.4</td>\n",
       "      <td>4.0</td>\n",
       "      <td>0.076</td>\n",
       "      <td>0.2</td>\n",
       "      <td>-1.3</td>\n",
       "      <td>-1.1</td>\n",
       "      <td>0.5</td>\n",
       "      <td>University of Florida</td>\n",
       "      <td>7.0</td>\n",
       "      <td>9684.0</td>\n",
       "      <td>1927.0</td>\n",
       "      <td>1824.0</td>\n",
       "      <td>0.452</td>\n",
       "      <td>0.384</td>\n",
       "      <td>0.798</td>\n",
       "      <td>19.8</td>\n",
       "      <td>3.9</td>\n",
       "      <td>3.7</td>\n",
       "      <td>1.0</td>\n",
       "      <td>1</td>\n",
       "    </tr>\n",
       "    <tr>\n",
       "      <th>2974</th>\n",
       "      <td>Damian Lillard</td>\n",
       "      <td>lillada01</td>\n",
       "      <td>2014</td>\n",
       "      <td>POR</td>\n",
       "      <td>2013.0</td>\n",
       "      <td>POR</td>\n",
       "      <td>6.0</td>\n",
       "      <td>PG</td>\n",
       "      <td>23</td>\n",
       "      <td>82</td>\n",
       "      <td>2937</td>\n",
       "      <td>18.6</td>\n",
       "      <td>0.568</td>\n",
       "      <td>0.425</td>\n",
       "      <td>0.327</td>\n",
       "      <td>1.3</td>\n",
       "      <td>9.2</td>\n",
       "      <td>5.3</td>\n",
       "      <td>25.1</td>\n",
       "      <td>1.1</td>\n",
       "      <td>0.5</td>\n",
       "      <td>11.5</td>\n",
       "      <td>25.0</td>\n",
       "      <td>7.8</td>\n",
       "      <td>1.8</td>\n",
       "      <td>9.6</td>\n",
       "      <td>0.157</td>\n",
       "      <td>4.4</td>\n",
       "      <td>-1.7</td>\n",
       "      <td>2.7</td>\n",
       "      <td>3.5</td>\n",
       "      <td>Weber State University</td>\n",
       "      <td>7.0</td>\n",
       "      <td>12909.0</td>\n",
       "      <td>2289.0</td>\n",
       "      <td>3479.0</td>\n",
       "      <td>0.434</td>\n",
       "      <td>0.368</td>\n",
       "      <td>0.889</td>\n",
       "      <td>23.5</td>\n",
       "      <td>4.2</td>\n",
       "      <td>6.3</td>\n",
       "      <td>1.0</td>\n",
       "      <td>1</td>\n",
       "    </tr>\n",
       "    <tr>\n",
       "      <th>3038</th>\n",
       "      <td>Kyle O'Quinn</td>\n",
       "      <td>oquinky01</td>\n",
       "      <td>2014</td>\n",
       "      <td>ORL</td>\n",
       "      <td>2013.0</td>\n",
       "      <td>ORL</td>\n",
       "      <td>49.0</td>\n",
       "      <td>C</td>\n",
       "      <td>23</td>\n",
       "      <td>69</td>\n",
       "      <td>1188</td>\n",
       "      <td>16.5</td>\n",
       "      <td>0.526</td>\n",
       "      <td>0.008</td>\n",
       "      <td>0.224</td>\n",
       "      <td>9.5</td>\n",
       "      <td>25.2</td>\n",
       "      <td>17.3</td>\n",
       "      <td>10.9</td>\n",
       "      <td>1.7</td>\n",
       "      <td>5.8</td>\n",
       "      <td>16.1</td>\n",
       "      <td>18.6</td>\n",
       "      <td>0.5</td>\n",
       "      <td>2.0</td>\n",
       "      <td>2.5</td>\n",
       "      <td>0.101</td>\n",
       "      <td>-3.1</td>\n",
       "      <td>3.6</td>\n",
       "      <td>0.5</td>\n",
       "      <td>0.7</td>\n",
       "      <td>Norfolk State University</td>\n",
       "      <td>7.0</td>\n",
       "      <td>2466.0</td>\n",
       "      <td>2050.0</td>\n",
       "      <td>592.0</td>\n",
       "      <td>0.518</td>\n",
       "      <td>0.209</td>\n",
       "      <td>0.748</td>\n",
       "      <td>5.6</td>\n",
       "      <td>4.6</td>\n",
       "      <td>1.3</td>\n",
       "      <td>2.0</td>\n",
       "      <td>1</td>\n",
       "    </tr>\n",
       "    <tr>\n",
       "      <th>2212</th>\n",
       "      <td>Steven Adams</td>\n",
       "      <td>adamsst01</td>\n",
       "      <td>2015</td>\n",
       "      <td>OKC</td>\n",
       "      <td>2014.0</td>\n",
       "      <td>OKC</td>\n",
       "      <td>12.0</td>\n",
       "      <td>C</td>\n",
       "      <td>21</td>\n",
       "      <td>70</td>\n",
       "      <td>1771</td>\n",
       "      <td>14.1</td>\n",
       "      <td>0.549</td>\n",
       "      <td>0.005</td>\n",
       "      <td>0.514</td>\n",
       "      <td>12.2</td>\n",
       "      <td>19.3</td>\n",
       "      <td>15.8</td>\n",
       "      <td>5.5</td>\n",
       "      <td>1.1</td>\n",
       "      <td>3.8</td>\n",
       "      <td>16.8</td>\n",
       "      <td>14.3</td>\n",
       "      <td>1.9</td>\n",
       "      <td>2.2</td>\n",
       "      <td>4.1</td>\n",
       "      <td>0.111</td>\n",
       "      <td>-1.4</td>\n",
       "      <td>1.8</td>\n",
       "      <td>0.4</td>\n",
       "      <td>1.1</td>\n",
       "      <td>University of Pittsburgh</td>\n",
       "      <td>6.0</td>\n",
       "      <td>4507.0</td>\n",
       "      <td>3446.0</td>\n",
       "      <td>469.0</td>\n",
       "      <td>0.588</td>\n",
       "      <td>0.000</td>\n",
       "      <td>0.553</td>\n",
       "      <td>9.7</td>\n",
       "      <td>7.4</td>\n",
       "      <td>1.0</td>\n",
       "      <td>1.0</td>\n",
       "      <td>1</td>\n",
       "    </tr>\n",
       "    <tr>\n",
       "      <th>2227</th>\n",
       "      <td>Giannis Antetokounmpo</td>\n",
       "      <td>antetgi01</td>\n",
       "      <td>2015</td>\n",
       "      <td>MIL</td>\n",
       "      <td>2014.0</td>\n",
       "      <td>MIL</td>\n",
       "      <td>15.0</td>\n",
       "      <td>SG</td>\n",
       "      <td>20</td>\n",
       "      <td>81</td>\n",
       "      <td>2541</td>\n",
       "      <td>14.8</td>\n",
       "      <td>0.552</td>\n",
       "      <td>0.056</td>\n",
       "      <td>0.445</td>\n",
       "      <td>4.5</td>\n",
       "      <td>19.7</td>\n",
       "      <td>12.2</td>\n",
       "      <td>13.1</td>\n",
       "      <td>1.5</td>\n",
       "      <td>2.8</td>\n",
       "      <td>15.6</td>\n",
       "      <td>19.6</td>\n",
       "      <td>2.2</td>\n",
       "      <td>4.0</td>\n",
       "      <td>6.2</td>\n",
       "      <td>0.117</td>\n",
       "      <td>-1.7</td>\n",
       "      <td>2.1</td>\n",
       "      <td>0.5</td>\n",
       "      <td>1.6</td>\n",
       "      <td>0</td>\n",
       "      <td>6.0</td>\n",
       "      <td>8745.0</td>\n",
       "      <td>3844.0</td>\n",
       "      <td>1921.0</td>\n",
       "      <td>0.521</td>\n",
       "      <td>0.277</td>\n",
       "      <td>0.742</td>\n",
       "      <td>18.8</td>\n",
       "      <td>8.3</td>\n",
       "      <td>4.1</td>\n",
       "      <td>1.0</td>\n",
       "      <td>1</td>\n",
       "    </tr>\n",
       "    <tr>\n",
       "      <th>2560</th>\n",
       "      <td>Victor Oladipo</td>\n",
       "      <td>oladivi01</td>\n",
       "      <td>2015</td>\n",
       "      <td>ORL</td>\n",
       "      <td>2014.0</td>\n",
       "      <td>ORL</td>\n",
       "      <td>2.0</td>\n",
       "      <td>SG</td>\n",
       "      <td>22</td>\n",
       "      <td>72</td>\n",
       "      <td>2573</td>\n",
       "      <td>15.9</td>\n",
       "      <td>0.527</td>\n",
       "      <td>0.228</td>\n",
       "      <td>0.295</td>\n",
       "      <td>2.2</td>\n",
       "      <td>11.2</td>\n",
       "      <td>6.6</td>\n",
       "      <td>19.3</td>\n",
       "      <td>2.4</td>\n",
       "      <td>0.6</td>\n",
       "      <td>14.3</td>\n",
       "      <td>25.2</td>\n",
       "      <td>1.5</td>\n",
       "      <td>2.0</td>\n",
       "      <td>3.5</td>\n",
       "      <td>0.065</td>\n",
       "      <td>0.5</td>\n",
       "      <td>-0.5</td>\n",
       "      <td>0.0</td>\n",
       "      <td>1.3</td>\n",
       "      <td>Indiana University</td>\n",
       "      <td>6.0</td>\n",
       "      <td>7028.0</td>\n",
       "      <td>1859.0</td>\n",
       "      <td>1589.0</td>\n",
       "      <td>0.443</td>\n",
       "      <td>0.352</td>\n",
       "      <td>0.793</td>\n",
       "      <td>17.5</td>\n",
       "      <td>4.6</td>\n",
       "      <td>4.0</td>\n",
       "      <td>1.0</td>\n",
       "      <td>1</td>\n",
       "    </tr>\n",
       "    <tr>\n",
       "      <th>1811</th>\n",
       "      <td>Clint Capela</td>\n",
       "      <td>capelca01</td>\n",
       "      <td>2016</td>\n",
       "      <td>HOU</td>\n",
       "      <td>2015.0</td>\n",
       "      <td>HOU</td>\n",
       "      <td>25.0</td>\n",
       "      <td>C</td>\n",
       "      <td>21</td>\n",
       "      <td>77</td>\n",
       "      <td>1471</td>\n",
       "      <td>18.3</td>\n",
       "      <td>0.553</td>\n",
       "      <td>0.003</td>\n",
       "      <td>0.531</td>\n",
       "      <td>14.4</td>\n",
       "      <td>22.7</td>\n",
       "      <td>18.5</td>\n",
       "      <td>5.1</td>\n",
       "      <td>2.0</td>\n",
       "      <td>5.2</td>\n",
       "      <td>10.9</td>\n",
       "      <td>16.1</td>\n",
       "      <td>2.4</td>\n",
       "      <td>2.0</td>\n",
       "      <td>4.4</td>\n",
       "      <td>0.144</td>\n",
       "      <td>-1.2</td>\n",
       "      <td>1.7</td>\n",
       "      <td>0.5</td>\n",
       "      <td>0.9</td>\n",
       "      <td>0</td>\n",
       "      <td>5.0</td>\n",
       "      <td>3532.0</td>\n",
       "      <td>2706.0</td>\n",
       "      <td>276.0</td>\n",
       "      <td>0.635</td>\n",
       "      <td>0.000</td>\n",
       "      <td>0.525</td>\n",
       "      <td>12.0</td>\n",
       "      <td>9.2</td>\n",
       "      <td>0.9</td>\n",
       "      <td>1.0</td>\n",
       "      <td>1</td>\n",
       "    </tr>\n",
       "    <tr>\n",
       "      <th>2066</th>\n",
       "      <td>Jusuf Nurkić</td>\n",
       "      <td>nurkiju01</td>\n",
       "      <td>2016</td>\n",
       "      <td>DEN</td>\n",
       "      <td>2015.0</td>\n",
       "      <td>CHI</td>\n",
       "      <td>16.0</td>\n",
       "      <td>C</td>\n",
       "      <td>21</td>\n",
       "      <td>32</td>\n",
       "      <td>547</td>\n",
       "      <td>16.0</td>\n",
       "      <td>0.460</td>\n",
       "      <td>0.012</td>\n",
       "      <td>0.409</td>\n",
       "      <td>12.9</td>\n",
       "      <td>22.7</td>\n",
       "      <td>17.7</td>\n",
       "      <td>12.3</td>\n",
       "      <td>2.2</td>\n",
       "      <td>6.5</td>\n",
       "      <td>16.1</td>\n",
       "      <td>27.2</td>\n",
       "      <td>-0.5</td>\n",
       "      <td>0.9</td>\n",
       "      <td>0.4</td>\n",
       "      <td>0.031</td>\n",
       "      <td>-4.1</td>\n",
       "      <td>2.8</td>\n",
       "      <td>-1.3</td>\n",
       "      <td>0.1</td>\n",
       "      <td>0</td>\n",
       "      <td>5.0</td>\n",
       "      <td>3608.0</td>\n",
       "      <td>2480.0</td>\n",
       "      <td>589.0</td>\n",
       "      <td>0.491</td>\n",
       "      <td>0.071</td>\n",
       "      <td>0.666</td>\n",
       "      <td>11.6</td>\n",
       "      <td>8.0</td>\n",
       "      <td>1.9</td>\n",
       "      <td>1.0</td>\n",
       "      <td>1</td>\n",
       "    </tr>\n",
       "    <tr>\n",
       "      <th>2094</th>\n",
       "      <td>Dwight Powell</td>\n",
       "      <td>poweldw01</td>\n",
       "      <td>2016</td>\n",
       "      <td>DAL</td>\n",
       "      <td>2015.0</td>\n",
       "      <td>CHH</td>\n",
       "      <td>45.0</td>\n",
       "      <td>PF</td>\n",
       "      <td>24</td>\n",
       "      <td>69</td>\n",
       "      <td>992</td>\n",
       "      <td>16.8</td>\n",
       "      <td>0.557</td>\n",
       "      <td>0.054</td>\n",
       "      <td>0.480</td>\n",
       "      <td>9.3</td>\n",
       "      <td>20.9</td>\n",
       "      <td>15.1</td>\n",
       "      <td>7.2</td>\n",
       "      <td>1.8</td>\n",
       "      <td>2.0</td>\n",
       "      <td>10.0</td>\n",
       "      <td>18.4</td>\n",
       "      <td>1.8</td>\n",
       "      <td>1.3</td>\n",
       "      <td>3.1</td>\n",
       "      <td>0.151</td>\n",
       "      <td>-1.3</td>\n",
       "      <td>1.0</td>\n",
       "      <td>-0.3</td>\n",
       "      <td>0.4</td>\n",
       "      <td>Stanford University</td>\n",
       "      <td>5.0</td>\n",
       "      <td>2491.0</td>\n",
       "      <td>1484.0</td>\n",
       "      <td>305.0</td>\n",
       "      <td>0.553</td>\n",
       "      <td>0.298</td>\n",
       "      <td>0.750</td>\n",
       "      <td>7.5</td>\n",
       "      <td>4.5</td>\n",
       "      <td>0.9</td>\n",
       "      <td>2.0</td>\n",
       "      <td>1</td>\n",
       "    </tr>\n",
       "    <tr>\n",
       "      <th>2100</th>\n",
       "      <td>Julius Randle</td>\n",
       "      <td>randlju01</td>\n",
       "      <td>2016</td>\n",
       "      <td>LAL</td>\n",
       "      <td>2015.0</td>\n",
       "      <td>LAL</td>\n",
       "      <td>7.0</td>\n",
       "      <td>PF</td>\n",
       "      <td>21</td>\n",
       "      <td>81</td>\n",
       "      <td>2286</td>\n",
       "      <td>13.9</td>\n",
       "      <td>0.482</td>\n",
       "      <td>0.043</td>\n",
       "      <td>0.323</td>\n",
       "      <td>7.8</td>\n",
       "      <td>32.0</td>\n",
       "      <td>19.5</td>\n",
       "      <td>11.0</td>\n",
       "      <td>1.2</td>\n",
       "      <td>1.0</td>\n",
       "      <td>13.5</td>\n",
       "      <td>21.2</td>\n",
       "      <td>-0.3</td>\n",
       "      <td>1.9</td>\n",
       "      <td>1.6</td>\n",
       "      <td>0.035</td>\n",
       "      <td>-3.7</td>\n",
       "      <td>0.0</td>\n",
       "      <td>-3.6</td>\n",
       "      <td>-0.9</td>\n",
       "      <td>University of Kentucky</td>\n",
       "      <td>5.0</td>\n",
       "      <td>4784.0</td>\n",
       "      <td>2753.0</td>\n",
       "      <td>847.0</td>\n",
       "      <td>0.502</td>\n",
       "      <td>0.307</td>\n",
       "      <td>0.722</td>\n",
       "      <td>15.4</td>\n",
       "      <td>8.9</td>\n",
       "      <td>2.7</td>\n",
       "      <td>1.0</td>\n",
       "      <td>1</td>\n",
       "    </tr>\n",
       "    <tr>\n",
       "      <th>5610</th>\n",
       "      <td>Maurice Ager</td>\n",
       "      <td>agerma01</td>\n",
       "      <td>2008</td>\n",
       "      <td>DAL</td>\n",
       "      <td>2007.0</td>\n",
       "      <td>DAL</td>\n",
       "      <td>28.0</td>\n",
       "      <td>SG</td>\n",
       "      <td>23</td>\n",
       "      <td>12</td>\n",
       "      <td>77</td>\n",
       "      <td>-4.4</td>\n",
       "      <td>0.253</td>\n",
       "      <td>0.296</td>\n",
       "      <td>0.222</td>\n",
       "      <td>1.6</td>\n",
       "      <td>4.4</td>\n",
       "      <td>3.0</td>\n",
       "      <td>7.4</td>\n",
       "      <td>0.0</td>\n",
       "      <td>1.0</td>\n",
       "      <td>9.2</td>\n",
       "      <td>19.8</td>\n",
       "      <td>-0.3</td>\n",
       "      <td>0.0</td>\n",
       "      <td>-0.3</td>\n",
       "      <td>-0.181</td>\n",
       "      <td>-9.6</td>\n",
       "      <td>-3.5</td>\n",
       "      <td>-13.1</td>\n",
       "      <td>-0.2</td>\n",
       "      <td>Michigan State University</td>\n",
       "      <td>4.0</td>\n",
       "      <td>169.0</td>\n",
       "      <td>46.0</td>\n",
       "      <td>19.0</td>\n",
       "      <td>0.339</td>\n",
       "      <td>0.250</td>\n",
       "      <td>0.566</td>\n",
       "      <td>2.1</td>\n",
       "      <td>0.6</td>\n",
       "      <td>0.2</td>\n",
       "      <td>1.0</td>\n",
       "      <td>0</td>\n",
       "    </tr>\n",
       "    <tr>\n",
       "      <th>5611</th>\n",
       "      <td>Maurice Ager</td>\n",
       "      <td>agerma01</td>\n",
       "      <td>2008</td>\n",
       "      <td>BRK</td>\n",
       "      <td>2007.0</td>\n",
       "      <td>DAL</td>\n",
       "      <td>28.0</td>\n",
       "      <td>SG</td>\n",
       "      <td>23</td>\n",
       "      <td>14</td>\n",
       "      <td>88</td>\n",
       "      <td>7.1</td>\n",
       "      <td>0.443</td>\n",
       "      <td>0.289</td>\n",
       "      <td>0.158</td>\n",
       "      <td>3.9</td>\n",
       "      <td>7.9</td>\n",
       "      <td>5.9</td>\n",
       "      <td>8.4</td>\n",
       "      <td>0.0</td>\n",
       "      <td>0.0</td>\n",
       "      <td>6.9</td>\n",
       "      <td>22.7</td>\n",
       "      <td>-0.1</td>\n",
       "      <td>0.0</td>\n",
       "      <td>-0.1</td>\n",
       "      <td>-0.056</td>\n",
       "      <td>-4.4</td>\n",
       "      <td>-5.4</td>\n",
       "      <td>-9.8</td>\n",
       "      <td>-0.2</td>\n",
       "      <td>Michigan State University</td>\n",
       "      <td>4.0</td>\n",
       "      <td>169.0</td>\n",
       "      <td>46.0</td>\n",
       "      <td>19.0</td>\n",
       "      <td>0.339</td>\n",
       "      <td>0.250</td>\n",
       "      <td>0.566</td>\n",
       "      <td>2.1</td>\n",
       "      <td>0.6</td>\n",
       "      <td>0.2</td>\n",
       "      <td>1.0</td>\n",
       "      <td>0</td>\n",
       "    </tr>\n",
       "    <tr>\n",
       "      <th>5632</th>\n",
       "      <td>Hilton Armstrong</td>\n",
       "      <td>armsthi01</td>\n",
       "      <td>2008</td>\n",
       "      <td>NOP</td>\n",
       "      <td>2007.0</td>\n",
       "      <td>NOK</td>\n",
       "      <td>12.0</td>\n",
       "      <td>C</td>\n",
       "      <td>23</td>\n",
       "      <td>65</td>\n",
       "      <td>732</td>\n",
       "      <td>7.7</td>\n",
       "      <td>0.498</td>\n",
       "      <td>0.000</td>\n",
       "      <td>0.473</td>\n",
       "      <td>10.1</td>\n",
       "      <td>16.0</td>\n",
       "      <td>13.0</td>\n",
       "      <td>4.4</td>\n",
       "      <td>1.1</td>\n",
       "      <td>3.6</td>\n",
       "      <td>24.8</td>\n",
       "      <td>15.1</td>\n",
       "      <td>-0.5</td>\n",
       "      <td>1.0</td>\n",
       "      <td>0.5</td>\n",
       "      <td>0.032</td>\n",
       "      <td>-5.1</td>\n",
       "      <td>1.8</td>\n",
       "      <td>-3.3</td>\n",
       "      <td>-0.2</td>\n",
       "      <td>University of Connecticut</td>\n",
       "      <td>6.0</td>\n",
       "      <td>880.0</td>\n",
       "      <td>766.0</td>\n",
       "      <td>102.0</td>\n",
       "      <td>0.501</td>\n",
       "      <td>0.286</td>\n",
       "      <td>0.582</td>\n",
       "      <td>3.0</td>\n",
       "      <td>2.6</td>\n",
       "      <td>0.3</td>\n",
       "      <td>1.0</td>\n",
       "      <td>0</td>\n",
       "    </tr>\n",
       "  </tbody>\n",
       "</table>\n",
       "</div>"
      ],
      "text/plain": [
       "                Player_name  player_id  SEASON Tm_x  DRAFT_YEAR+1 Draft_team    Pk Pos  Age   G    MP   PER    TS%   3PAr    FTr  ORB%  DRB%  TRB%  AST%  STL%  BLK%  TOV%  USG%  OWS  DWS   WS  WS/48  OBPM  DBPM   BPM  VORP                               College   Yrs      PTS     TRB     AST    FG%    3P%    FT%   PPG   RPG  APG  draft_round  target\n",
       "5613      LaMarcus Aldridge  aldrila01    2008  POR        2007.0        CHI   2.0  PF   22  76  2649  18.5  0.523  0.006  0.257   9.8  15.8  12.8   8.8   1.1   2.8   8.9  25.3  3.5  2.8  6.2  0.113   0.1   0.7   0.8   1.8         University of Texas at Austin  13.0  18598.0  7968.0  1856.0  0.491  0.283  0.810  19.6   8.4  2.0          1.0       1\n",
       "5975           Paul Millsap  millspa01    2008  UTA        2007.0        UTA  47.0  PF   22  82  1702  16.1  0.548  0.008  0.456  12.1  20.8  16.5   7.0   2.2   3.5  12.6  18.1  2.5  2.7  5.2  0.148  -0.2   2.1   1.9   1.7             Louisiana Tech University  13.0  13328.0  7004.0  2168.0  0.491  0.334  0.734  14.1   7.4  2.3          2.0       1\n",
       "6069            Brandon Roy    roybr01    2008  POR        2007.0        MIN   6.0  SG   23  74  2792  19.4  0.531  0.184  0.319   3.4  11.2   7.3  28.2   1.5   0.4   9.3  24.9  5.9  2.1  8.0  0.138   3.6  -0.2   3.5   3.9              University of Washington   6.0   6136.0  1388.0  1517.0  0.459  0.348  0.800  18.8   4.3  4.7          1.0       1\n",
       "5272             Al Horford  horfoal01    2009  ATL        2008.0        ATL   3.0   C   22  67  2242  17.0  0.565  0.002  0.345   7.6  25.0  16.3  11.9   1.3   3.3  13.1  16.4  3.3  3.5  6.8  0.145  -0.7   3.1   2.3   2.5                 University of Florida  12.0  11092.0  6597.0  2548.0  0.525  0.368  0.754  14.1   8.4  3.2          1.0       1\n",
       "5600         Brandan Wright  wrighbr03    2009  GSW        2008.0        CHA   8.0  PF   21  39   688  18.7  0.570  0.016  0.346   9.8  15.0  12.4   4.9   1.6   3.7   7.5  19.0  1.4  0.4  1.9  0.131  -0.2  -0.9  -1.2   0.1          University of North Carolina  10.0   2976.0  1560.0   199.0  0.607  0.000  0.674   7.0   3.6  0.5          1.0       1\n",
       "4595          Ryan Anderson  anderry01    2010  ORL        2009.0        NJN  21.0  PF   21  63   911  18.1  0.574  0.544  0.211   9.2  16.2  12.8   7.1   1.4   1.1  11.7  24.4  1.7  1.4  3.1  0.161   2.3  -1.0   1.3   0.8              University of California  11.0   7996.0  3406.0   584.0  0.422  0.380  0.854  12.4   5.3  0.9          1.0       1\n",
       "4702           Goran Dragić  dragigo01    2010  PHO        2009.0        SAS  45.0  PG   23  80  1442  14.8  0.566  0.383  0.324   3.2   9.8   6.7  24.1   1.7   0.4  18.3  21.1  2.0  0.8  2.8  0.094   1.6  -1.2   0.4   0.9                                     0  11.0  10421.0  2315.0  3648.0  0.466  0.363  0.762  13.7   3.1  4.8          2.0       1\n",
       "4862           JaVale McGee  mcgeeja01    2010  WAS        2009.0        WAS  18.0   C   22  60   968  17.0  0.539  0.003  0.378  10.3  18.7  14.5   2.4   0.9   8.0  12.5  19.1  0.8  1.3  2.1  0.105  -3.2   1.7  -1.5   0.1             University of Nevada Reno  11.0   5073.0  3219.0   240.0  0.570  0.074  0.588   8.0   5.1  0.4          1.0       1\n",
       "4936           Derrick Rose   rosede01    2010  CHI        2009.0        CHI   1.0  PG   21  78  2871  18.6  0.532  0.044  0.246   2.6   8.7   5.7  30.3   1.0   0.7  12.5  27.2  3.5  2.5  6.0  0.100   1.7  -1.3   0.5   1.8                 University of Memphis  10.0  10281.0  1910.0  3056.0  0.453  0.304  0.824  18.8   3.5  5.6          1.0       1\n",
       "5002      Russell Westbrook  westbru01    2010  OKC        2009.0        SEA   4.0  PG   21  82  2813  17.8  0.491  0.090  0.364   6.0  10.3   8.2  38.6   2.0   0.9  16.6  25.7  2.7  3.4  6.1  0.105   1.4   0.6   2.1   2.9  University of California Los Angeles  11.0  18859.0  5760.0  6897.0  0.434  0.308  0.801  23.0   7.0  8.4          1.0       1\n",
       "4232          Stephen Curry  curryst01    2011  GSW        2010.0        GSW   7.0  PG   22  74  2489  19.4  0.595  0.325  0.216   2.3  10.9   6.5  28.1   2.2   0.6  16.4  24.4  5.4  1.3  6.6  0.128   3.5  -1.6   1.9   2.4                      Davidson College  10.0  16315.0  3132.0  4588.0  0.477  0.436  0.905  23.5   4.5  6.6          1.0       1\n",
       "4316           James Harden  hardeja01    2011  OKC        2010.0        OKC   3.0  SG   21  82  2189  16.4  0.598  0.474  0.501   2.3  11.0   6.8  12.8   2.2   0.8  11.3  19.5  5.0  2.1  7.1  0.156   2.9  -0.6   2.3   2.4              Arizona State University  10.0  18627.0  4000.0  4743.0  0.443  0.365  0.857  24.3   5.2  6.2          1.0       1\n",
       "4520            Jeff Teague  teaguje01    2011  ATL        2010.0        ATL  19.0  PG   22  70   963  14.6  0.521  0.158  0.319   1.4  11.3   6.4  23.3   2.5   2.0  15.6  20.3  0.4  1.2  1.7  0.083  -2.0   0.2  -1.8   0.1                Wake Forest University  10.0   9049.0  1759.0  4145.0  0.445  0.356  0.842  12.7   2.5  5.8          1.0       1\n",
       "3793         Derrick Favors  favorde01    2012  UTA        2011.0        NJN   3.0  PF   20  65  1376  17.1  0.537  0.000  0.436  13.0  22.5  17.7   5.0   1.4   3.8  16.3  20.7  1.4  1.6  3.0  0.105  -1.3   0.5  -0.8   0.4       Georgia Institute of Technology   9.0   7320.0  4547.0   701.0  0.525  0.210  0.664  11.6   7.2  1.1          1.0       1\n",
       "3817            Paul George  georgpa01    2012  IND        2011.0        IND  10.0  SG   21  66  1958  16.5  0.555  0.366  0.285   3.2  17.9  10.6  13.6   2.9   1.5  14.0  19.3  2.8  3.2  6.0  0.148   1.9   1.9   3.9   2.9    California State University Fresno   9.0  11983.0  3891.0  2000.0  0.433  0.378  0.844  19.8   6.4  3.3          1.0       1\n",
       "3851         Gordon Hayward  haywago01    2012  UTA        2011.0        UTA   9.0  SF   21  66  2015  15.5  0.568  0.271  0.396   3.3   9.9   6.6  15.9   1.4   1.6  13.7  17.8  3.8  1.0  4.9  0.116   2.0  -0.1   1.9   2.0                     Butler University   9.0   8904.0  2472.0  2006.0  0.446  0.364  0.821  15.1   4.2  3.4          1.0       1\n",
       "4096              John Wall   walljo01    2012  WAS        2011.0        WAS   1.0  PG   21  66  2386  17.7  0.502  0.047  0.450   2.3  12.0   7.1  36.9   2.1   1.8  19.2  24.9  1.7  1.9  3.5  0.071   0.5   0.1   0.6   1.6                University of Kentucky   9.0  10879.0  2483.0  5282.0  0.433  0.324  0.781  19.0   4.3  9.2          1.0       1\n",
       "4109       Hassan Whiteside  whiteha01    2012  SAC        2011.0        SAC  33.0   C   22  18   109  16.2  0.449  0.000  0.444  15.4  24.3  19.6   0.0   1.4  10.0  13.4  14.8  0.0  0.2  0.2  0.073  -6.4  -0.3  -6.7  -0.1                   Marshall University   7.0   4583.0  3909.0   203.0  0.574  0.222  0.593  13.4  11.4  0.6          2.0       1\n",
       "3251           Jimmy Butler  butleji01    2013  CHI        2012.0        CHI  30.0  SF   23  82  2134  15.2  0.574  0.205  0.455   7.2  10.4   8.8   8.6   2.0   1.1   9.2  14.6  4.4  2.6  7.0  0.158   0.9   1.0   1.9   2.1                  Marquette University   8.0   8730.0  2577.0  1805.0  0.454  0.341  0.835  16.7   4.9  3.5          1.0       1\n",
       "3312         Kenneth Faried  farieke01    2013  DEN        2012.0        DEN  22.0  PF   23  80  2248  18.5  0.573  0.000  0.386  13.2  23.2  18.3   5.1   1.8   2.9  12.3  17.7  4.5  3.4  7.8  0.167   0.8   1.5   2.2   2.4             Morehead State University   8.0   5430.0  3884.0   470.0  0.546  0.222  0.654  11.4   8.1  1.0          1.0       1\n",
       "3426            Enes Kanter  kanteen01    2013  UTA        2012.0        UTA   3.0   C   20  70  1078  17.6  0.588  0.003  0.309  14.5  18.6  16.5   5.0   1.4   2.3  19.0  22.4  1.2  1.0  2.3  0.101  -0.9  -1.2  -2.1   0.0                                     0   8.0   6946.0  4436.0   490.0  0.541  0.294  0.780  11.9   7.6  0.8          1.0       1\n",
       "3442          Kawhi Leonard  leonaka01    2013  SAS        2012.0        IND  15.0  SF   21  58  1810  16.4  0.592  0.331  0.240   4.3  17.1  11.1   7.7   2.7   1.3   9.6  16.4  3.0  3.3  6.2  0.166   1.4   2.5   3.9   2.7            San Diego State University   8.0   8250.0  2950.0  1123.0  0.495  0.383  0.848  17.7   6.3  2.4          1.0       1\n",
       "3593          Isaiah Thomas  thomais02    2013  SAC        2012.0        SAC  60.0  PG   23  79  2122  17.5  0.574  0.386  0.345   1.5   7.3   4.4  24.6   1.6   0.1  12.7  23.0  5.2 -0.1  5.0  0.114   3.5  -3.7  -0.2   1.0              University of Washington   8.0   9020.0  1220.0  2453.0  0.437  0.360  0.874  18.6   2.5  5.1          2.0       1\n",
       "3599          Klay Thompson  thompkl01    2013  GSW        2012.0        GSW  11.0  SG   22  82  2936  12.7  0.533  0.437  0.130   1.2  10.0   5.7  10.1   1.5   1.2  11.0  21.8  1.7  2.6  4.3  0.070   0.4  -0.6  -0.1   1.4           Washington State University   8.0  11995.0  2130.0  1416.0  0.459  0.419  0.848  19.5   3.5  2.3          1.0       1\n",
       "3611      Jonas Valančiūnas  valanjo01    2013  TOR        2012.0        TOR   5.0   C   20  62  1482  15.6  0.619  0.000  0.505   9.6  20.5  14.9   5.0   0.6   4.2  17.4  16.9  2.5  1.5  3.9  0.127  -1.3   0.9  -0.5   0.6                                     0   7.0   5903.0  4164.0   391.0  0.558  0.357  0.786  12.1   8.5  0.8          1.0       1\n",
       "3617         Nikola Vučević  vucevni01    2013  ORL        2012.0        PHI  16.0   C   22  77  2559  17.8  0.534  0.003  0.142  12.0  28.4  20.2   9.3   1.2   2.4  13.0  19.3  2.8  2.9  5.7  0.106  -0.9   1.4   0.4   1.6     University of Southern California   8.0   8411.0  5437.0  1310.0  0.502  0.332  0.741  15.7  10.1  2.4          1.0       1\n",
       "3620           Kemba Walker  walkeke02    2013  CHO        2012.0        CHA   9.0  PG   22  82  2859  18.8  0.517  0.267  0.298   2.3   9.2   5.7  31.2   2.9   0.9  12.4  25.6  3.7  1.1  4.8  0.080   3.2  -1.7   1.5   2.5             University of Connecticut   8.0  12009.0  2317.0  3308.0  0.418  0.357  0.835  19.8   3.8  5.5          1.0       1\n",
       "2743           Bradley Beal   bealbr01    2014  WAS        2013.0        WAS   3.0  SG   20  73  2530  14.3  0.507  0.299  0.164   2.4  10.2   6.3  16.0   1.4   0.6   9.4  24.3  1.6  2.4  4.0  0.076   0.2  -1.3  -1.1   0.5                 University of Florida   7.0   9684.0  1927.0  1824.0  0.452  0.384  0.798  19.8   3.9  3.7          1.0       1\n",
       "2974         Damian Lillard  lillada01    2014  POR        2013.0        POR   6.0  PG   23  82  2937  18.6  0.568  0.425  0.327   1.3   9.2   5.3  25.1   1.1   0.5  11.5  25.0  7.8  1.8  9.6  0.157   4.4  -1.7   2.7   3.5                Weber State University   7.0  12909.0  2289.0  3479.0  0.434  0.368  0.889  23.5   4.2  6.3          1.0       1\n",
       "3038           Kyle O'Quinn  oquinky01    2014  ORL        2013.0        ORL  49.0   C   23  69  1188  16.5  0.526  0.008  0.224   9.5  25.2  17.3  10.9   1.7   5.8  16.1  18.6  0.5  2.0  2.5  0.101  -3.1   3.6   0.5   0.7              Norfolk State University   7.0   2466.0  2050.0   592.0  0.518  0.209  0.748   5.6   4.6  1.3          2.0       1\n",
       "2212           Steven Adams  adamsst01    2015  OKC        2014.0        OKC  12.0   C   21  70  1771  14.1  0.549  0.005  0.514  12.2  19.3  15.8   5.5   1.1   3.8  16.8  14.3  1.9  2.2  4.1  0.111  -1.4   1.8   0.4   1.1              University of Pittsburgh   6.0   4507.0  3446.0   469.0  0.588  0.000  0.553   9.7   7.4  1.0          1.0       1\n",
       "2227  Giannis Antetokounmpo  antetgi01    2015  MIL        2014.0        MIL  15.0  SG   20  81  2541  14.8  0.552  0.056  0.445   4.5  19.7  12.2  13.1   1.5   2.8  15.6  19.6  2.2  4.0  6.2  0.117  -1.7   2.1   0.5   1.6                                     0   6.0   8745.0  3844.0  1921.0  0.521  0.277  0.742  18.8   8.3  4.1          1.0       1\n",
       "2560         Victor Oladipo  oladivi01    2015  ORL        2014.0        ORL   2.0  SG   22  72  2573  15.9  0.527  0.228  0.295   2.2  11.2   6.6  19.3   2.4   0.6  14.3  25.2  1.5  2.0  3.5  0.065   0.5  -0.5   0.0   1.3                    Indiana University   6.0   7028.0  1859.0  1589.0  0.443  0.352  0.793  17.5   4.6  4.0          1.0       1\n",
       "1811           Clint Capela  capelca01    2016  HOU        2015.0        HOU  25.0   C   21  77  1471  18.3  0.553  0.003  0.531  14.4  22.7  18.5   5.1   2.0   5.2  10.9  16.1  2.4  2.0  4.4  0.144  -1.2   1.7   0.5   0.9                                     0   5.0   3532.0  2706.0   276.0  0.635  0.000  0.525  12.0   9.2  0.9          1.0       1\n",
       "2066           Jusuf Nurkić  nurkiju01    2016  DEN        2015.0        CHI  16.0   C   21  32   547  16.0  0.460  0.012  0.409  12.9  22.7  17.7  12.3   2.2   6.5  16.1  27.2 -0.5  0.9  0.4  0.031  -4.1   2.8  -1.3   0.1                                     0   5.0   3608.0  2480.0   589.0  0.491  0.071  0.666  11.6   8.0  1.9          1.0       1\n",
       "2094          Dwight Powell  poweldw01    2016  DAL        2015.0        CHH  45.0  PF   24  69   992  16.8  0.557  0.054  0.480   9.3  20.9  15.1   7.2   1.8   2.0  10.0  18.4  1.8  1.3  3.1  0.151  -1.3   1.0  -0.3   0.4                   Stanford University   5.0   2491.0  1484.0   305.0  0.553  0.298  0.750   7.5   4.5  0.9          2.0       1\n",
       "2100          Julius Randle  randlju01    2016  LAL        2015.0        LAL   7.0  PF   21  81  2286  13.9  0.482  0.043  0.323   7.8  32.0  19.5  11.0   1.2   1.0  13.5  21.2 -0.3  1.9  1.6  0.035  -3.7   0.0  -3.6  -0.9                University of Kentucky   5.0   4784.0  2753.0   847.0  0.502  0.307  0.722  15.4   8.9  2.7          1.0       1\n",
       "5610           Maurice Ager   agerma01    2008  DAL        2007.0        DAL  28.0  SG   23  12    77  -4.4  0.253  0.296  0.222   1.6   4.4   3.0   7.4   0.0   1.0   9.2  19.8 -0.3  0.0 -0.3 -0.181  -9.6  -3.5 -13.1  -0.2             Michigan State University   4.0    169.0    46.0    19.0  0.339  0.250  0.566   2.1   0.6  0.2          1.0       0\n",
       "5611           Maurice Ager   agerma01    2008  BRK        2007.0        DAL  28.0  SG   23  14    88   7.1  0.443  0.289  0.158   3.9   7.9   5.9   8.4   0.0   0.0   6.9  22.7 -0.1  0.0 -0.1 -0.056  -4.4  -5.4  -9.8  -0.2             Michigan State University   4.0    169.0    46.0    19.0  0.339  0.250  0.566   2.1   0.6  0.2          1.0       0\n",
       "5632       Hilton Armstrong  armsthi01    2008  NOP        2007.0        NOK  12.0   C   23  65   732   7.7  0.498  0.000  0.473  10.1  16.0  13.0   4.4   1.1   3.6  24.8  15.1 -0.5  1.0  0.5  0.032  -5.1   1.8  -3.3  -0.2             University of Connecticut   6.0    880.0   766.0   102.0  0.501  0.286  0.582   3.0   2.6  0.3          1.0       0"
      ]
     },
     "execution_count": 300,
     "metadata": {},
     "output_type": "execute_result"
    }
   ],
   "source": [
    "# Creating a data set to do future predictions that can't be completely tested\n",
    "print(second_year_prime.shape)\n",
    "test_master = second_year_prime.loc[(second_year_prime['DRAFT_YEAR+1'] == 2016) | (second_year_prime['DRAFT_YEAR+1'] == 2017) | (second_year_prime['DRAFT_YEAR+1'] == 2018)]\n",
    "print(test_master.shape)\n",
    "second_year_prime_test = second_year_prime.loc[~second_year_prime[\"player_id\"].isin(test_master['player_id'])]\n",
    "print(second_year_prime_test.shape)\n",
    "second_year_prime_test.sort_values(by=[\"target\", 'DRAFT_YEAR+1'], ascending=(False, True)).head(40)"
   ]
  },
  {
   "cell_type": "markdown",
   "metadata": {},
   "source": [
    "## Modeling: Ensemble Classification Approach\n",
    "This section is going to show a lot of different things going on. I decided that I would take an ensemble model approach. This means that I am going to train an array of different classification models and aggregate their results to see who they generally predict will achieve the benchmark. \n",
    "\n",
    "- First I will select my features.\n",
    "- Then I set my X and y variables. `y` will be the `target` variable. `X` will be the features that I am setting in the cell below.\n",
    "- I will then scale my data using a `StandardScaler()`. This is because my features are on very different scales.\n",
    "- I then need to correct for significant class imbalance. Because only about 0.08% of my data is from the class that I am trying to predict I need to use an oversampling technique to correct for that class imbalance. You can see below that once I have corrected for the class imbalance I have 319 samples in each class.\n",
    "- Finally I will `train_test_split` my oversampled data.\n",
    "#### Modeling\n",
    "Now it is time for me to choose the classification models that I am going to use. I have chosen the following models:\n",
    "- Logistic Regression\n",
    "- KNeighbors Classifier\n",
    "- DecisionTree Classifier\n",
    "- Bagging Classifier\n",
    "- Random Forest Classifier\n",
    "- AdaBoost Classifier\n",
    "- Support Vector Classifier\n",
    "- Gradient Boosting Classifier"
   ]
  },
  {
   "cell_type": "code",
   "execution_count": 312,
   "metadata": {},
   "outputs": [],
   "source": [
    "features = [\n",
    "            'Pk', \n",
    "            'Age', \n",
    "            'G', \n",
    "            'MP', \n",
    "            'TS%', \n",
    "            '3PAr', \n",
    "            'FTr', \n",
    "            'ORB%', \n",
    "            'DRB%', \n",
    "            'TRB%', \n",
    "            'AST%', \n",
    "            'BLK%', \n",
    "            'TOV%', \n",
    "            'USG%', \n",
    "            'WS', \n",
    "#             'WS/48', \n",
    "#             'OBPM', \n",
    "#             'DBPM', \n",
    "            'BPM', \n",
    "            'VORP',\n",
    "#             'RPG',\n",
    "#             'PPG',\n",
    "#             'APG',\n",
    "#             'FT%',\n",
    "#             '3P%',\n",
    "#             'PER'\n",
    "]"
   ]
  },
  {
   "cell_type": "code",
   "execution_count": 313,
   "metadata": {},
   "outputs": [
    {
     "name": "stdout",
     "output_type": "stream",
     "text": [
      "[(0, 319), (1, 319)]\n"
     ]
    }
   ],
   "source": [
    "y = second_year_prime_test['target'] # Setting y --> our target variable\n",
    "X = second_year_prime_test[features] # Creating our X variables based on the features we want to use to predict target\n",
    "ss = StandardScaler() # Instantiate a standard scalar\n",
    "X_sc = ss.fit_transform(X) # Fit and transform our X variable\n",
    "ros = RandomOverSampler(random_state=0) # Instantiate a random oversampler in order to oversample our training set\n",
    "X_resampled, y_resampled = ros.fit_resample(X_sc, y) # Fit that oversampler to our X_sc (scaled) and y data\n",
    "print(sorted(Counter(y_resampled).items())) # Show the balance btw classes"
   ]
  },
  {
   "cell_type": "code",
   "execution_count": 314,
   "metadata": {},
   "outputs": [],
   "source": [
    "# Train, test, split based on our oversampled data\n",
    "X_train, X_test, y_train, y_test = train_test_split(X_resampled, y_resampled, random_state=100, test_size=0.25)"
   ]
  },
  {
   "cell_type": "code",
   "execution_count": 322,
   "metadata": {},
   "outputs": [],
   "source": [
    "# Instantiating all of our different classification models\n",
    "lr_class = LogisticRegression(penalty='l1', C=40, solver='liblinear')\n",
    "knn_class = KNeighborsClassifier(n_neighbors=3, p=4, leaf_size=10)\n",
    "tree_class = DecisionTreeClassifier(max_features='auto', min_samples_leaf=3, min_samples_split=4, random_state=100)\n",
    "bag_class = BaggingClassifier(bootstrap=False, max_features=8, max_samples=100, n_estimators=100, random_state=100)\n",
    "forest_class = RandomForestClassifier(bootstrap=True, max_leaf_nodes=None, min_samples_leaf=3, min_samples_split=8, n_estimators=9, random_state=100)\n",
    "ada_class = AdaBoostClassifier(learning_rate=0.78, n_estimators=100, random_state=100)\n",
    "svc = SVC(degree=8, C=20, gamma=1, kernel='poly', random_state=100)\n",
    "grad_class = GradientBoostingClassifier(n_estimators=100, min_samples_leaf=3, min_samples_split=8, max_depth=3)"
   ]
  },
  {
   "cell_type": "code",
   "execution_count": 323,
   "metadata": {},
   "outputs": [],
   "source": [
    "class_models = {\n",
    "            'lr_class': lr_class, \n",
    "            'forest_class': forest_class, \n",
    "            'tree_class': tree_class,\n",
    "            'ada_class': ada_class,            \n",
    "            'knn_class': knn_class, \n",
    "            'bag_class': bag_class, \n",
    "            'svc': svc,\n",
    "            \"grad\": grad_class\n",
    "                } "
   ]
  },
  {
   "cell_type": "code",
   "execution_count": 324,
   "metadata": {},
   "outputs": [
    {
     "name": "stdout",
     "output_type": "stream",
     "text": [
      "(160, 8)\n",
      "(478, 8)\n"
     ]
    }
   ],
   "source": [
    "y_pred_testc = []\n",
    "y_pred_trainc = []\n",
    "\n",
    "for model in class_models.values():\n",
    "    model.fit(X_train, y_train)\n",
    "    y_pred_testc.append(model.predict(X_test))\n",
    "    y_pred_trainc.append(model.predict(X_train))\n",
    "\n",
    "y_pred_testc_df = pd.DataFrame(y_pred_testc, index=class_models.keys()).T\n",
    "y_pred_trainc_df = pd.DataFrame(y_pred_trainc, index=class_models.keys()).T\n",
    "print(y_pred_testc_df.shape)\n",
    "print(y_pred_trainc_df.shape)"
   ]
  },
  {
   "cell_type": "markdown",
   "metadata": {},
   "source": [
    "## Measuring Ensemble Accuracy, F1-Score & Confusion Matrix Results\n",
    "In the cell above I created a dataframe of predictions from each model. These dataframes are used again in the cell below to get my results. I am creating another dataframe called `accuracy_df` that is a summary of the important metrics that I care about in this project. You can see that there is the `train` and `test` accuracy and the F1-Score for both the training and testing sets. Additionally I have columns that list out all of the true negatives, false positives, false negatives and true positives. It is important to note as we have stated before that the thing we are trying to control for is false negatives. We will model for false negatives with the cost of having a few more false positives. Other than Logistic Regression, the rest of the models produce very few false negatives."
   ]
  },
  {
   "cell_type": "code",
   "execution_count": 325,
   "metadata": {
    "scrolled": true
   },
   "outputs": [
    {
     "data": {
      "text/html": [
       "<div>\n",
       "<style scoped>\n",
       "    .dataframe tbody tr th:only-of-type {\n",
       "        vertical-align: middle;\n",
       "    }\n",
       "\n",
       "    .dataframe tbody tr th {\n",
       "        vertical-align: top;\n",
       "    }\n",
       "\n",
       "    .dataframe thead th {\n",
       "        text-align: right;\n",
       "    }\n",
       "</style>\n",
       "<table border=\"1\" class=\"dataframe\">\n",
       "  <thead>\n",
       "    <tr style=\"text-align: right;\">\n",
       "      <th></th>\n",
       "      <th>train</th>\n",
       "      <th>test</th>\n",
       "      <th>F1-train</th>\n",
       "      <th>F1-test</th>\n",
       "      <th>true_neg</th>\n",
       "      <th>fal_pos</th>\n",
       "      <th>fal_neg</th>\n",
       "      <th>true_po</th>\n",
       "    </tr>\n",
       "  </thead>\n",
       "  <tbody>\n",
       "    <tr>\n",
       "      <th>lr_class</th>\n",
       "      <td>0.868201</td>\n",
       "      <td>0.83750</td>\n",
       "      <td>0.868476</td>\n",
       "      <td>0.843373</td>\n",
       "      <td>64</td>\n",
       "      <td>11</td>\n",
       "      <td>15</td>\n",
       "      <td>70</td>\n",
       "    </tr>\n",
       "    <tr>\n",
       "      <th>forest_class</th>\n",
       "      <td>0.985356</td>\n",
       "      <td>0.95000</td>\n",
       "      <td>0.985201</td>\n",
       "      <td>0.954023</td>\n",
       "      <td>69</td>\n",
       "      <td>6</td>\n",
       "      <td>2</td>\n",
       "      <td>83</td>\n",
       "    </tr>\n",
       "    <tr>\n",
       "      <th>tree_class</th>\n",
       "      <td>0.972803</td>\n",
       "      <td>0.92500</td>\n",
       "      <td>0.972860</td>\n",
       "      <td>0.932584</td>\n",
       "      <td>65</td>\n",
       "      <td>10</td>\n",
       "      <td>2</td>\n",
       "      <td>83</td>\n",
       "    </tr>\n",
       "    <tr>\n",
       "      <th>ada_class</th>\n",
       "      <td>1.000000</td>\n",
       "      <td>0.95625</td>\n",
       "      <td>1.000000</td>\n",
       "      <td>0.960452</td>\n",
       "      <td>68</td>\n",
       "      <td>7</td>\n",
       "      <td>0</td>\n",
       "      <td>85</td>\n",
       "    </tr>\n",
       "    <tr>\n",
       "      <th>knn_class</th>\n",
       "      <td>0.941423</td>\n",
       "      <td>0.93750</td>\n",
       "      <td>0.943320</td>\n",
       "      <td>0.943182</td>\n",
       "      <td>67</td>\n",
       "      <td>8</td>\n",
       "      <td>2</td>\n",
       "      <td>83</td>\n",
       "    </tr>\n",
       "    <tr>\n",
       "      <th>bag_class</th>\n",
       "      <td>0.958159</td>\n",
       "      <td>0.93750</td>\n",
       "      <td>0.958848</td>\n",
       "      <td>0.943182</td>\n",
       "      <td>67</td>\n",
       "      <td>8</td>\n",
       "      <td>2</td>\n",
       "      <td>83</td>\n",
       "    </tr>\n",
       "    <tr>\n",
       "      <th>svc</th>\n",
       "      <td>1.000000</td>\n",
       "      <td>0.95000</td>\n",
       "      <td>1.000000</td>\n",
       "      <td>0.955056</td>\n",
       "      <td>67</td>\n",
       "      <td>8</td>\n",
       "      <td>0</td>\n",
       "      <td>85</td>\n",
       "    </tr>\n",
       "    <tr>\n",
       "      <th>grad</th>\n",
       "      <td>1.000000</td>\n",
       "      <td>0.95625</td>\n",
       "      <td>1.000000</td>\n",
       "      <td>0.960452</td>\n",
       "      <td>68</td>\n",
       "      <td>7</td>\n",
       "      <td>0</td>\n",
       "      <td>85</td>\n",
       "    </tr>\n",
       "  </tbody>\n",
       "</table>\n",
       "</div>"
      ],
      "text/plain": [
       "                 train     test  F1-train   F1-test  true_neg  fal_pos  fal_neg  true_po\n",
       "lr_class      0.868201  0.83750  0.868476  0.843373        64       11       15       70\n",
       "forest_class  0.985356  0.95000  0.985201  0.954023        69        6        2       83\n",
       "tree_class    0.972803  0.92500  0.972860  0.932584        65       10        2       83\n",
       "ada_class     1.000000  0.95625  1.000000  0.960452        68        7        0       85\n",
       "knn_class     0.941423  0.93750  0.943320  0.943182        67        8        2       83\n",
       "bag_class     0.958159  0.93750  0.958848  0.943182        67        8        2       83\n",
       "svc           1.000000  0.95000  1.000000  0.955056        67        8        0       85\n",
       "grad          1.000000  0.95625  1.000000  0.960452        68        7        0       85"
      ]
     },
     "execution_count": 325,
     "metadata": {},
     "output_type": "execute_result"
    }
   ],
   "source": [
    "accuracy = {'train': [], 'test': [], 'F1-train': [], 'F1-test': [], 'true_neg': [], 'fal_pos': [], 'fal_neg': [], 'true_po': []}\n",
    "for model in class_models.values():\n",
    "    accuracy['train'].append(model.score(X_train, y_train))\n",
    "    accuracy['test'].append(model.score(X_test, y_test))\n",
    "for col in y_pred_testc_df:\n",
    "    accuracy['F1-train'].append(f1_score(y_train, y_pred_trainc_df[col]))\n",
    "    accuracy['F1-test'].append(f1_score(y_test, y_pred_testc_df[col]))\n",
    "for col in y_pred_testc_df:\n",
    "    accuracy['true_neg'].append(confusion_matrix(y_test, y_pred_testc_df[col])[0][0])\n",
    "    accuracy['fal_pos'].append(confusion_matrix(y_test, y_pred_testc_df[col])[0][1])\n",
    "    accuracy['fal_neg'].append(confusion_matrix(y_test, y_pred_testc_df[col])[1][0])\n",
    "    accuracy['true_po'].append(confusion_matrix(y_test, y_pred_testc_df[col])[1][1])\n",
    "    \n",
    "accuracy_df = pd.DataFrame(accuracy, index=class_models.keys())\n",
    "accuracy_df"
   ]
  },
  {
   "cell_type": "code",
   "execution_count": 326,
   "metadata": {
    "scrolled": false
   },
   "outputs": [],
   "source": [
    "master = test_master[features]\n",
    "master_sc = ss.fit_transform(master)\n",
    "predicted_player = pd.DataFrame(index=master.index)\n",
    "predicted_player[['Player_name', 'DRAFT_YEAR+1']] = test_master[['Player_name', 'DRAFT_YEAR+1']]\n",
    "for (model_name, model) in class_models.items():\n",
    "    predicted_player[model_name] = model.predict(master_sc)\n",
    "predicted_player['tot'] = predicted_player['lr_class'] + predicted_player['forest_class'] + predicted_player['tree_class'] + predicted_player['ada_class'] + predicted_player['knn_class'] + predicted_player['bag_class'] + predicted_player['svc'] + predicted_player['grad'] \n",
    "predicted_player.to_csv('predict_15_16_17_based_on_2nd_yr')"
   ]
  },
  {
   "cell_type": "code",
   "execution_count": 327,
   "metadata": {
    "scrolled": false
   },
   "outputs": [
    {
     "name": "stdout",
     "output_type": "stream",
     "text": [
      "Stored 'predicted_player' (DataFrame)\n"
     ]
    }
   ],
   "source": [
    "%store predicted_player"
   ]
  },
  {
   "cell_type": "markdown",
   "metadata": {},
   "source": [
    "#### Ensemble Predictions\n",
    "Here is a breakdown of the players from the `test_master` dataframe that were predicted by the model. **Please Note** I ran each model individually through a `GridSearch` to find the best hyper-parameters for each model.\n",
    "\n",
    "When I analyze the aggregated results, I conclude that the models have generally done a good job. It is impossible to predict the future but they have correctly classified the players that have already achieved this benchmark. Montrezl Harrell, Kristaps Porzingis, Ben Simmons, Larry Nance and Domantas Sabonis. The players on this list with the higher values in `tot` were the players that were predicted by the most models. \n",
    "\n",
    "As you can see Support Vectors didn't project anyone the model was incredibly overfit and so I decided not to include it. "
   ]
  },
  {
   "cell_type": "code",
   "execution_count": 328,
   "metadata": {
    "scrolled": false
   },
   "outputs": [
    {
     "data": {
      "text/html": [
       "<div>\n",
       "<style scoped>\n",
       "    .dataframe tbody tr th:only-of-type {\n",
       "        vertical-align: middle;\n",
       "    }\n",
       "\n",
       "    .dataframe tbody tr th {\n",
       "        vertical-align: top;\n",
       "    }\n",
       "\n",
       "    .dataframe thead th {\n",
       "        text-align: right;\n",
       "    }\n",
       "</style>\n",
       "<table border=\"1\" class=\"dataframe\">\n",
       "  <thead>\n",
       "    <tr style=\"text-align: right;\">\n",
       "      <th></th>\n",
       "      <th>Player_name</th>\n",
       "      <th>DRAFT_YEAR+1</th>\n",
       "      <th>lr_class</th>\n",
       "      <th>forest_class</th>\n",
       "      <th>tree_class</th>\n",
       "      <th>ada_class</th>\n",
       "      <th>knn_class</th>\n",
       "      <th>bag_class</th>\n",
       "      <th>svc</th>\n",
       "      <th>grad</th>\n",
       "      <th>tot</th>\n",
       "    </tr>\n",
       "  </thead>\n",
       "  <tbody>\n",
       "    <tr>\n",
       "      <th>222</th>\n",
       "      <td>De'Aaron Fox</td>\n",
       "      <td>2018.0</td>\n",
       "      <td>1</td>\n",
       "      <td>1</td>\n",
       "      <td>1</td>\n",
       "      <td>1</td>\n",
       "      <td>1</td>\n",
       "      <td>1</td>\n",
       "      <td>1</td>\n",
       "      <td>1</td>\n",
       "      <td>8</td>\n",
       "    </tr>\n",
       "    <tr>\n",
       "      <th>1436</th>\n",
       "      <td>Willy Hernangomez</td>\n",
       "      <td>2016.0</td>\n",
       "      <td>1</td>\n",
       "      <td>1</td>\n",
       "      <td>1</td>\n",
       "      <td>1</td>\n",
       "      <td>1</td>\n",
       "      <td>1</td>\n",
       "      <td>1</td>\n",
       "      <td>1</td>\n",
       "      <td>8</td>\n",
       "    </tr>\n",
       "    <tr>\n",
       "      <th>1683</th>\n",
       "      <td>Myles Turner</td>\n",
       "      <td>2016.0</td>\n",
       "      <td>1</td>\n",
       "      <td>1</td>\n",
       "      <td>1</td>\n",
       "      <td>1</td>\n",
       "      <td>1</td>\n",
       "      <td>1</td>\n",
       "      <td>1</td>\n",
       "      <td>1</td>\n",
       "      <td>8</td>\n",
       "    </tr>\n",
       "    <tr>\n",
       "      <th>1068</th>\n",
       "      <td>Jamal Murray</td>\n",
       "      <td>2017.0</td>\n",
       "      <td>1</td>\n",
       "      <td>1</td>\n",
       "      <td>1</td>\n",
       "      <td>1</td>\n",
       "      <td>0</td>\n",
       "      <td>1</td>\n",
       "      <td>1</td>\n",
       "      <td>1</td>\n",
       "      <td>7</td>\n",
       "    </tr>\n",
       "    <tr>\n",
       "      <th>469</th>\n",
       "      <td>Donovan Mitchell</td>\n",
       "      <td>2018.0</td>\n",
       "      <td>1</td>\n",
       "      <td>1</td>\n",
       "      <td>0</td>\n",
       "      <td>1</td>\n",
       "      <td>1</td>\n",
       "      <td>1</td>\n",
       "      <td>1</td>\n",
       "      <td>1</td>\n",
       "      <td>7</td>\n",
       "    </tr>\n",
       "    <tr>\n",
       "      <th>1157</th>\n",
       "      <td>Ben Simmons</td>\n",
       "      <td>2017.0</td>\n",
       "      <td>1</td>\n",
       "      <td>1</td>\n",
       "      <td>1</td>\n",
       "      <td>0</td>\n",
       "      <td>1</td>\n",
       "      <td>1</td>\n",
       "      <td>1</td>\n",
       "      <td>1</td>\n",
       "      <td>7</td>\n",
       "    </tr>\n",
       "    <tr>\n",
       "      <th>140</th>\n",
       "      <td>Zach Collins</td>\n",
       "      <td>2018.0</td>\n",
       "      <td>1</td>\n",
       "      <td>1</td>\n",
       "      <td>1</td>\n",
       "      <td>0</td>\n",
       "      <td>1</td>\n",
       "      <td>1</td>\n",
       "      <td>0</td>\n",
       "      <td>1</td>\n",
       "      <td>6</td>\n",
       "    </tr>\n",
       "    <tr>\n",
       "      <th>838</th>\n",
       "      <td>Cheick Diallo</td>\n",
       "      <td>2017.0</td>\n",
       "      <td>1</td>\n",
       "      <td>0</td>\n",
       "      <td>1</td>\n",
       "      <td>1</td>\n",
       "      <td>1</td>\n",
       "      <td>1</td>\n",
       "      <td>0</td>\n",
       "      <td>1</td>\n",
       "      <td>6</td>\n",
       "    </tr>\n",
       "    <tr>\n",
       "      <th>1145</th>\n",
       "      <td>Domantas Sabonis</td>\n",
       "      <td>2017.0</td>\n",
       "      <td>1</td>\n",
       "      <td>1</td>\n",
       "      <td>1</td>\n",
       "      <td>1</td>\n",
       "      <td>0</td>\n",
       "      <td>1</td>\n",
       "      <td>0</td>\n",
       "      <td>1</td>\n",
       "      <td>6</td>\n",
       "    </tr>\n",
       "    <tr>\n",
       "      <th>10</th>\n",
       "      <td>Jarrett Allen</td>\n",
       "      <td>2018.0</td>\n",
       "      <td>1</td>\n",
       "      <td>1</td>\n",
       "      <td>0</td>\n",
       "      <td>0</td>\n",
       "      <td>1</td>\n",
       "      <td>1</td>\n",
       "      <td>1</td>\n",
       "      <td>1</td>\n",
       "      <td>6</td>\n",
       "    </tr>\n",
       "    <tr>\n",
       "      <th>945</th>\n",
       "      <td>Brandon Ingram</td>\n",
       "      <td>2017.0</td>\n",
       "      <td>1</td>\n",
       "      <td>1</td>\n",
       "      <td>1</td>\n",
       "      <td>1</td>\n",
       "      <td>0</td>\n",
       "      <td>1</td>\n",
       "      <td>0</td>\n",
       "      <td>1</td>\n",
       "      <td>6</td>\n",
       "    </tr>\n",
       "    <tr>\n",
       "      <th>777</th>\n",
       "      <td>Jaylen Brown</td>\n",
       "      <td>2017.0</td>\n",
       "      <td>0</td>\n",
       "      <td>1</td>\n",
       "      <td>1</td>\n",
       "      <td>1</td>\n",
       "      <td>0</td>\n",
       "      <td>1</td>\n",
       "      <td>0</td>\n",
       "      <td>1</td>\n",
       "      <td>5</td>\n",
       "    </tr>\n",
       "    <tr>\n",
       "      <th>4</th>\n",
       "      <td>Bam Adebayo</td>\n",
       "      <td>2018.0</td>\n",
       "      <td>1</td>\n",
       "      <td>1</td>\n",
       "      <td>0</td>\n",
       "      <td>0</td>\n",
       "      <td>1</td>\n",
       "      <td>1</td>\n",
       "      <td>1</td>\n",
       "      <td>0</td>\n",
       "      <td>5</td>\n",
       "    </tr>\n",
       "    <tr>\n",
       "      <th>1610</th>\n",
       "      <td>Kristaps Porzingis</td>\n",
       "      <td>2016.0</td>\n",
       "      <td>1</td>\n",
       "      <td>0</td>\n",
       "      <td>0</td>\n",
       "      <td>1</td>\n",
       "      <td>1</td>\n",
       "      <td>1</td>\n",
       "      <td>0</td>\n",
       "      <td>1</td>\n",
       "      <td>5</td>\n",
       "    </tr>\n",
       "    <tr>\n",
       "      <th>18</th>\n",
       "      <td>Ike Anigbogu</td>\n",
       "      <td>2018.0</td>\n",
       "      <td>1</td>\n",
       "      <td>1</td>\n",
       "      <td>0</td>\n",
       "      <td>0</td>\n",
       "      <td>1</td>\n",
       "      <td>1</td>\n",
       "      <td>1</td>\n",
       "      <td>0</td>\n",
       "      <td>5</td>\n",
       "    </tr>\n",
       "    <tr>\n",
       "      <th>1114</th>\n",
       "      <td>Jakob Pöltl</td>\n",
       "      <td>2017.0</td>\n",
       "      <td>1</td>\n",
       "      <td>1</td>\n",
       "      <td>0</td>\n",
       "      <td>1</td>\n",
       "      <td>1</td>\n",
       "      <td>1</td>\n",
       "      <td>0</td>\n",
       "      <td>0</td>\n",
       "      <td>5</td>\n",
       "    </tr>\n",
       "    <tr>\n",
       "      <th>432</th>\n",
       "      <td>Lauri Markkanen</td>\n",
       "      <td>2018.0</td>\n",
       "      <td>1</td>\n",
       "      <td>0</td>\n",
       "      <td>1</td>\n",
       "      <td>1</td>\n",
       "      <td>0</td>\n",
       "      <td>0</td>\n",
       "      <td>0</td>\n",
       "      <td>1</td>\n",
       "      <td>4</td>\n",
       "    </tr>\n",
       "    <tr>\n",
       "      <th>1246</th>\n",
       "      <td>Ante Žižić</td>\n",
       "      <td>2017.0</td>\n",
       "      <td>1</td>\n",
       "      <td>0</td>\n",
       "      <td>0</td>\n",
       "      <td>0</td>\n",
       "      <td>1</td>\n",
       "      <td>0</td>\n",
       "      <td>1</td>\n",
       "      <td>0</td>\n",
       "      <td>3</td>\n",
       "    </tr>\n",
       "    <tr>\n",
       "      <th>552</th>\n",
       "      <td>Ivan Rabb</td>\n",
       "      <td>2018.0</td>\n",
       "      <td>0</td>\n",
       "      <td>0</td>\n",
       "      <td>0</td>\n",
       "      <td>1</td>\n",
       "      <td>0</td>\n",
       "      <td>1</td>\n",
       "      <td>0</td>\n",
       "      <td>1</td>\n",
       "      <td>3</td>\n",
       "    </tr>\n",
       "    <tr>\n",
       "      <th>1422</th>\n",
       "      <td>Montrezl Harrell</td>\n",
       "      <td>2016.0</td>\n",
       "      <td>0</td>\n",
       "      <td>1</td>\n",
       "      <td>1</td>\n",
       "      <td>0</td>\n",
       "      <td>0</td>\n",
       "      <td>1</td>\n",
       "      <td>0</td>\n",
       "      <td>0</td>\n",
       "      <td>3</td>\n",
       "    </tr>\n",
       "    <tr>\n",
       "      <th>1636</th>\n",
       "      <td>D'Angelo Russell</td>\n",
       "      <td>2016.0</td>\n",
       "      <td>1</td>\n",
       "      <td>0</td>\n",
       "      <td>1</td>\n",
       "      <td>1</td>\n",
       "      <td>0</td>\n",
       "      <td>0</td>\n",
       "      <td>0</td>\n",
       "      <td>0</td>\n",
       "      <td>3</td>\n",
       "    </tr>\n",
       "    <tr>\n",
       "      <th>1448</th>\n",
       "      <td>Richaun Holmes</td>\n",
       "      <td>2016.0</td>\n",
       "      <td>1</td>\n",
       "      <td>0</td>\n",
       "      <td>0</td>\n",
       "      <td>0</td>\n",
       "      <td>1</td>\n",
       "      <td>1</td>\n",
       "      <td>0</td>\n",
       "      <td>0</td>\n",
       "      <td>3</td>\n",
       "    </tr>\n",
       "    <tr>\n",
       "      <th>1207</th>\n",
       "      <td>Taurean Waller-Prince</td>\n",
       "      <td>2017.0</td>\n",
       "      <td>0</td>\n",
       "      <td>0</td>\n",
       "      <td>1</td>\n",
       "      <td>0</td>\n",
       "      <td>1</td>\n",
       "      <td>0</td>\n",
       "      <td>0</td>\n",
       "      <td>0</td>\n",
       "      <td>2</td>\n",
       "    </tr>\n",
       "    <tr>\n",
       "      <th>1067</th>\n",
       "      <td>Dejounte Murray</td>\n",
       "      <td>2017.0</td>\n",
       "      <td>1</td>\n",
       "      <td>0</td>\n",
       "      <td>0</td>\n",
       "      <td>0</td>\n",
       "      <td>1</td>\n",
       "      <td>0</td>\n",
       "      <td>0</td>\n",
       "      <td>0</td>\n",
       "      <td>2</td>\n",
       "    </tr>\n",
       "    <tr>\n",
       "      <th>629</th>\n",
       "      <td>Jayson Tatum</td>\n",
       "      <td>2018.0</td>\n",
       "      <td>1</td>\n",
       "      <td>0</td>\n",
       "      <td>0</td>\n",
       "      <td>0</td>\n",
       "      <td>0</td>\n",
       "      <td>1</td>\n",
       "      <td>0</td>\n",
       "      <td>0</td>\n",
       "      <td>2</td>\n",
       "    </tr>\n",
       "    <tr>\n",
       "      <th>1155</th>\n",
       "      <td>Pascal Siakam</td>\n",
       "      <td>2017.0</td>\n",
       "      <td>0</td>\n",
       "      <td>1</td>\n",
       "      <td>0</td>\n",
       "      <td>0</td>\n",
       "      <td>0</td>\n",
       "      <td>1</td>\n",
       "      <td>0</td>\n",
       "      <td>0</td>\n",
       "      <td>2</td>\n",
       "    </tr>\n",
       "    <tr>\n",
       "      <th>485</th>\n",
       "      <td>Monte Morris</td>\n",
       "      <td>2018.0</td>\n",
       "      <td>0</td>\n",
       "      <td>1</td>\n",
       "      <td>0</td>\n",
       "      <td>0</td>\n",
       "      <td>1</td>\n",
       "      <td>0</td>\n",
       "      <td>0</td>\n",
       "      <td>0</td>\n",
       "      <td>2</td>\n",
       "    </tr>\n",
       "    <tr>\n",
       "      <th>1609</th>\n",
       "      <td>Bobby Portis</td>\n",
       "      <td>2016.0</td>\n",
       "      <td>0</td>\n",
       "      <td>1</td>\n",
       "      <td>0</td>\n",
       "      <td>1</td>\n",
       "      <td>0</td>\n",
       "      <td>0</td>\n",
       "      <td>0</td>\n",
       "      <td>0</td>\n",
       "      <td>2</td>\n",
       "    </tr>\n",
       "    <tr>\n",
       "      <th>803</th>\n",
       "      <td>Marquese Chriss</td>\n",
       "      <td>2017.0</td>\n",
       "      <td>1</td>\n",
       "      <td>0</td>\n",
       "      <td>1</td>\n",
       "      <td>0</td>\n",
       "      <td>0</td>\n",
       "      <td>0</td>\n",
       "      <td>0</td>\n",
       "      <td>0</td>\n",
       "      <td>2</td>\n",
       "    </tr>\n",
       "    <tr>\n",
       "      <th>830</th>\n",
       "      <td>Deyonta Davis</td>\n",
       "      <td>2017.0</td>\n",
       "      <td>1</td>\n",
       "      <td>0</td>\n",
       "      <td>0</td>\n",
       "      <td>0</td>\n",
       "      <td>0</td>\n",
       "      <td>1</td>\n",
       "      <td>0</td>\n",
       "      <td>0</td>\n",
       "      <td>2</td>\n",
       "    </tr>\n",
       "    <tr>\n",
       "      <th>1003</th>\n",
       "      <td>Caris LeVert</td>\n",
       "      <td>2017.0</td>\n",
       "      <td>0</td>\n",
       "      <td>0</td>\n",
       "      <td>1</td>\n",
       "      <td>0</td>\n",
       "      <td>1</td>\n",
       "      <td>0</td>\n",
       "      <td>0</td>\n",
       "      <td>0</td>\n",
       "      <td>2</td>\n",
       "    </tr>\n",
       "    <tr>\n",
       "      <th>1300</th>\n",
       "      <td>Devin Booker</td>\n",
       "      <td>2016.0</td>\n",
       "      <td>1</td>\n",
       "      <td>0</td>\n",
       "      <td>0</td>\n",
       "      <td>0</td>\n",
       "      <td>0</td>\n",
       "      <td>0</td>\n",
       "      <td>0</td>\n",
       "      <td>0</td>\n",
       "      <td>1</td>\n",
       "    </tr>\n",
       "    <tr>\n",
       "      <th>1323</th>\n",
       "      <td>Willie Cauley-Stein</td>\n",
       "      <td>2016.0</td>\n",
       "      <td>0</td>\n",
       "      <td>0</td>\n",
       "      <td>1</td>\n",
       "      <td>0</td>\n",
       "      <td>0</td>\n",
       "      <td>0</td>\n",
       "      <td>0</td>\n",
       "      <td>0</td>\n",
       "      <td>1</td>\n",
       "    </tr>\n",
       "    <tr>\n",
       "      <th>849</th>\n",
       "      <td>Kris Dunn</td>\n",
       "      <td>2017.0</td>\n",
       "      <td>0</td>\n",
       "      <td>0</td>\n",
       "      <td>0</td>\n",
       "      <td>0</td>\n",
       "      <td>0</td>\n",
       "      <td>0</td>\n",
       "      <td>1</td>\n",
       "      <td>0</td>\n",
       "      <td>1</td>\n",
       "    </tr>\n",
       "    <tr>\n",
       "      <th>607</th>\n",
       "      <td>Dennis Smith</td>\n",
       "      <td>2018.0</td>\n",
       "      <td>0</td>\n",
       "      <td>0</td>\n",
       "      <td>0</td>\n",
       "      <td>0</td>\n",
       "      <td>0</td>\n",
       "      <td>0</td>\n",
       "      <td>1</td>\n",
       "      <td>0</td>\n",
       "      <td>1</td>\n",
       "    </tr>\n",
       "  </tbody>\n",
       "</table>\n",
       "</div>"
      ],
      "text/plain": [
       "                Player_name  DRAFT_YEAR+1  lr_class  forest_class  tree_class  ada_class  knn_class  bag_class  svc  grad  tot\n",
       "222            De'Aaron Fox        2018.0         1             1           1          1          1          1    1     1    8\n",
       "1436      Willy Hernangomez        2016.0         1             1           1          1          1          1    1     1    8\n",
       "1683           Myles Turner        2016.0         1             1           1          1          1          1    1     1    8\n",
       "1068           Jamal Murray        2017.0         1             1           1          1          0          1    1     1    7\n",
       "469        Donovan Mitchell        2018.0         1             1           0          1          1          1    1     1    7\n",
       "1157            Ben Simmons        2017.0         1             1           1          0          1          1    1     1    7\n",
       "140            Zach Collins        2018.0         1             1           1          0          1          1    0     1    6\n",
       "838           Cheick Diallo        2017.0         1             0           1          1          1          1    0     1    6\n",
       "1145       Domantas Sabonis        2017.0         1             1           1          1          0          1    0     1    6\n",
       "10            Jarrett Allen        2018.0         1             1           0          0          1          1    1     1    6\n",
       "945          Brandon Ingram        2017.0         1             1           1          1          0          1    0     1    6\n",
       "777            Jaylen Brown        2017.0         0             1           1          1          0          1    0     1    5\n",
       "4               Bam Adebayo        2018.0         1             1           0          0          1          1    1     0    5\n",
       "1610     Kristaps Porzingis        2016.0         1             0           0          1          1          1    0     1    5\n",
       "18             Ike Anigbogu        2018.0         1             1           0          0          1          1    1     0    5\n",
       "1114            Jakob Pöltl        2017.0         1             1           0          1          1          1    0     0    5\n",
       "432         Lauri Markkanen        2018.0         1             0           1          1          0          0    0     1    4\n",
       "1246             Ante Žižić        2017.0         1             0           0          0          1          0    1     0    3\n",
       "552               Ivan Rabb        2018.0         0             0           0          1          0          1    0     1    3\n",
       "1422       Montrezl Harrell        2016.0         0             1           1          0          0          1    0     0    3\n",
       "1636       D'Angelo Russell        2016.0         1             0           1          1          0          0    0     0    3\n",
       "1448         Richaun Holmes        2016.0         1             0           0          0          1          1    0     0    3\n",
       "1207  Taurean Waller-Prince        2017.0         0             0           1          0          1          0    0     0    2\n",
       "1067        Dejounte Murray        2017.0         1             0           0          0          1          0    0     0    2\n",
       "629            Jayson Tatum        2018.0         1             0           0          0          0          1    0     0    2\n",
       "1155          Pascal Siakam        2017.0         0             1           0          0          0          1    0     0    2\n",
       "485            Monte Morris        2018.0         0             1           0          0          1          0    0     0    2\n",
       "1609           Bobby Portis        2016.0         0             1           0          1          0          0    0     0    2\n",
       "803         Marquese Chriss        2017.0         1             0           1          0          0          0    0     0    2\n",
       "830           Deyonta Davis        2017.0         1             0           0          0          0          1    0     0    2\n",
       "1003           Caris LeVert        2017.0         0             0           1          0          1          0    0     0    2\n",
       "1300           Devin Booker        2016.0         1             0           0          0          0          0    0     0    1\n",
       "1323    Willie Cauley-Stein        2016.0         0             0           1          0          0          0    0     0    1\n",
       "849               Kris Dunn        2017.0         0             0           0          0          0          0    1     0    1\n",
       "607            Dennis Smith        2018.0         0             0           0          0          0          0    1     0    1"
      ]
     },
     "execution_count": 328,
     "metadata": {},
     "output_type": "execute_result"
    }
   ],
   "source": [
    "predicted_player.sort_values(by='tot', ascending=False).head(35)"
   ]
  },
  {
   "cell_type": "code",
   "execution_count": 247,
   "metadata": {},
   "outputs": [],
   "source": [
    "# This cell was my gridsearch cell\n",
    "params = {\n",
    "#     'max_depth' : [3, 4],\n",
    "#     'min_samples_leaf' : [2, 3],\n",
    "#     'min_samples_split' : [6, 7, 8],\n",
    "#     'n_estimators' : [30, 35, 37],\n",
    "#     \"learning_rate\" : (np.logspace(-1.6, -1, 20))\n",
    "    'C' : np.logspace(-3, 3, 7),\n",
    "    'gamma' : np.logspace(-3, 3, 7)\n",
    "}\n",
    "gs = GridSearchCV(\n",
    "    SVC(),\n",
    "    params,\n",
    "    cv=3,\n",
    "    verbose=1,\n",
    "    return_train_score=False,\n",
    "    n_jobs=2)\n",
    "gs.fit(X_train, y_train)\n",
    "print(gs.best_score_)\n",
    "print()\n",
    "print(gs.best_params_)\n",
    "print()\n",
    "print(gs.score(X_test, y_test))\n",
    "pred = model.predict(X_test)\n",
    "f1_score(y_test, pred)"
   ]
  },
  {
   "cell_type": "markdown",
   "metadata": {},
   "source": [
    "## Modeling: Neural Network Approach\n",
    "Here I moved from using ensemble models to the Neural Net Approach. I instantiated a neural net with a dropout rate of 50% and 150 `epochs`. I have a callback initialized so that the learning rate gets reduced if the model's loss doesn't improve. The loss function is `binary_crossentropy` and I am measuring success with a **Accuracy score** and an **F1-Score**. The batch size is something that I need to understand more as it made my results change dramatically depending on what I set it to."
   ]
  },
  {
   "cell_type": "code",
   "execution_count": 294,
   "metadata": {},
   "outputs": [
    {
     "name": "stdout",
     "output_type": "stream",
     "text": [
      "Train on 478 samples, validate on 160 samples\n",
      "Epoch 1/150\n",
      "478/478 [==============================] - 5s 10ms/step - loss: 0.6613 - acc: 0.5941 - f1: 0.6210 - val_loss: 0.4614 - val_acc: 0.8625 - val_f1: 0.8803\n",
      "Epoch 2/150\n",
      "478/478 [==============================] - 0s 309us/step - loss: 0.4989 - acc: 0.7615 - f1: 0.7652 - val_loss: 0.2996 - val_acc: 0.8875 - val_f1: 0.9006\n",
      "Epoch 3/150\n",
      "478/478 [==============================] - 0s 289us/step - loss: 0.4104 - acc: 0.8222 - f1: 0.8115 - val_loss: 0.2234 - val_acc: 0.9312 - val_f1: 0.9386\n",
      "Epoch 4/150\n",
      "478/478 [==============================] - 0s 279us/step - loss: 0.3597 - acc: 0.8201 - f1: 0.8082 - val_loss: 0.1966 - val_acc: 0.9125 - val_f1: 0.9253\n",
      "Epoch 5/150\n",
      "478/478 [==============================] - 0s 266us/step - loss: 0.3012 - acc: 0.8556 - f1: 0.8502 - val_loss: 0.1795 - val_acc: 0.9062 - val_f1: 0.9200\n",
      "Epoch 6/150\n",
      "478/478 [==============================] - 0s 294us/step - loss: 0.2965 - acc: 0.8515 - f1: 0.8482 - val_loss: 0.1745 - val_acc: 0.9687 - val_f1: 0.9701\n",
      "Epoch 7/150\n",
      "478/478 [==============================] - 0s 286us/step - loss: 0.2871 - acc: 0.8808 - f1: 0.8773 - val_loss: 0.1591 - val_acc: 0.9562 - val_f1: 0.9572\n",
      "Epoch 8/150\n",
      "478/478 [==============================] - 0s 280us/step - loss: 0.2766 - acc: 0.8912 - f1: 0.8857 - val_loss: 0.1406 - val_acc: 0.9625 - val_f1: 0.9632\n",
      "Epoch 9/150\n",
      "478/478 [==============================] - 0s 373us/step - loss: 0.2205 - acc: 0.9142 - f1: 0.9120 - val_loss: 0.1135 - val_acc: 0.9812 - val_f1: 0.9830\n",
      "Epoch 10/150\n",
      "478/478 [==============================] - 0s 363us/step - loss: 0.2440 - acc: 0.9059 - f1: 0.9079 - val_loss: 0.1126 - val_acc: 0.9812 - val_f1: 0.9830\n",
      "Epoch 11/150\n",
      "478/478 [==============================] - 0s 475us/step - loss: 0.2166 - acc: 0.9184 - f1: 0.9141 - val_loss: 0.1054 - val_acc: 0.9687 - val_f1: 0.9718\n",
      "Epoch 12/150\n",
      "478/478 [==============================] - 0s 505us/step - loss: 0.2055 - acc: 0.9205 - f1: 0.9182 - val_loss: 0.1035 - val_acc: 0.9812 - val_f1: 0.9826\n",
      "Epoch 13/150\n",
      "478/478 [==============================] - 0s 523us/step - loss: 0.1823 - acc: 0.9372 - f1: 0.9357 - val_loss: 0.0984 - val_acc: 0.9750 - val_f1: 0.9776\n",
      "Epoch 14/150\n",
      "478/478 [==============================] - 0s 493us/step - loss: 0.1768 - acc: 0.9435 - f1: 0.9365 - val_loss: 0.0765 - val_acc: 0.9875 - val_f1: 0.9880\n",
      "Epoch 15/150\n",
      "478/478 [==============================] - 0s 495us/step - loss: 0.1961 - acc: 0.9247 - f1: 0.9196 - val_loss: 0.0848 - val_acc: 0.9875 - val_f1: 0.9880\n",
      "Epoch 16/150\n",
      "478/478 [==============================] - 0s 424us/step - loss: 0.1863 - acc: 0.9310 - f1: 0.9243 - val_loss: 0.0643 - val_acc: 0.9750 - val_f1: 0.9784\n",
      "\n",
      "Epoch 00016: ReduceLROnPlateau reducing learning rate to 0.00045000000391155477.\n",
      "Epoch 17/150\n",
      "478/478 [==============================] - 0s 306us/step - loss: 0.1688 - acc: 0.9435 - f1: 0.9407 - val_loss: 0.0695 - val_acc: 0.9812 - val_f1: 0.9830\n",
      "Epoch 18/150\n",
      "478/478 [==============================] - 0s 268us/step - loss: 0.1489 - acc: 0.9582 - f1: 0.9563 - val_loss: 0.0649 - val_acc: 0.9875 - val_f1: 0.9880\n",
      "Epoch 19/150\n",
      "478/478 [==============================] - 0s 246us/step - loss: 0.1644 - acc: 0.9561 - f1: 0.9563 - val_loss: 0.0581 - val_acc: 0.9812 - val_f1: 0.9830\n",
      "Epoch 20/150\n",
      "478/478 [==============================] - 0s 248us/step - loss: 0.1404 - acc: 0.9519 - f1: 0.9509 - val_loss: 0.0512 - val_acc: 0.9812 - val_f1: 0.9830\n",
      "Epoch 21/150\n",
      "478/478 [==============================] - 0s 260us/step - loss: 0.1390 - acc: 0.9561 - f1: 0.9559 - val_loss: 0.0505 - val_acc: 0.9812 - val_f1: 0.9830\n",
      "Epoch 22/150\n",
      "478/478 [==============================] - 0s 479us/step - loss: 0.1035 - acc: 0.9644 - f1: 0.9651 - val_loss: 0.0458 - val_acc: 0.9875 - val_f1: 0.9880\n",
      "Epoch 23/150\n",
      "478/478 [==============================] - 0s 376us/step - loss: 0.1241 - acc: 0.9623 - f1: 0.9560 - val_loss: 0.0402 - val_acc: 0.9812 - val_f1: 0.9830\n",
      "Epoch 24/150\n",
      "478/478 [==============================] - 0s 429us/step - loss: 0.1215 - acc: 0.9623 - f1: 0.9589 - val_loss: 0.0419 - val_acc: 0.9875 - val_f1: 0.9880\n",
      "\n",
      "Epoch 00024: ReduceLROnPlateau reducing learning rate to 0.00013499999768100678.\n",
      "Epoch 25/150\n",
      "478/478 [==============================] - 0s 343us/step - loss: 0.1258 - acc: 0.9540 - f1: 0.9512 - val_loss: 0.0421 - val_acc: 0.9875 - val_f1: 0.9880\n",
      "Epoch 26/150\n",
      "478/478 [==============================] - 0s 302us/step - loss: 0.1085 - acc: 0.9623 - f1: 0.9608 - val_loss: 0.0424 - val_acc: 0.9875 - val_f1: 0.9880\n",
      "\n",
      "Epoch 00026: ReduceLROnPlateau reducing learning rate to 4.049999843118712e-05.\n",
      "Epoch 27/150\n",
      "478/478 [==============================] - 0s 355us/step - loss: 0.0862 - acc: 0.9812 - f1: 0.9806 - val_loss: 0.0422 - val_acc: 0.9875 - val_f1: 0.9880\n",
      "Epoch 28/150\n",
      "478/478 [==============================] - 0s 579us/step - loss: 0.1289 - acc: 0.9582 - f1: 0.9562 - val_loss: 0.0411 - val_acc: 0.9875 - val_f1: 0.9880\n",
      "Epoch 29/150\n",
      "478/478 [==============================] - 0s 466us/step - loss: 0.1150 - acc: 0.9582 - f1: 0.9526 - val_loss: 0.0406 - val_acc: 0.9875 - val_f1: 0.9880\n",
      "\n",
      "Epoch 00029: ReduceLROnPlateau reducing learning rate to 1.2149999747634865e-05.\n",
      "Epoch 30/150\n",
      "478/478 [==============================] - 0s 433us/step - loss: 0.1346 - acc: 0.9707 - f1: 0.9721 - val_loss: 0.0407 - val_acc: 0.9875 - val_f1: 0.9880\n",
      "Epoch 31/150\n",
      "478/478 [==============================] - 0s 404us/step - loss: 0.1336 - acc: 0.9561 - f1: 0.9530 - val_loss: 0.0405 - val_acc: 0.9875 - val_f1: 0.9880\n",
      "\n",
      "Epoch 00031: ReduceLROnPlateau reducing learning rate to 3.6449999242904594e-06.\n",
      "Epoch 32/150\n",
      "478/478 [==============================] - 0s 373us/step - loss: 0.1302 - acc: 0.9498 - f1: 0.9484 - val_loss: 0.0405 - val_acc: 0.9875 - val_f1: 0.9880\n",
      "Epoch 33/150\n",
      "478/478 [==============================] - 0s 334us/step - loss: 0.1050 - acc: 0.9749 - f1: 0.9750 - val_loss: 0.0405 - val_acc: 0.9875 - val_f1: 0.9880\n",
      "\n",
      "Epoch 00033: ReduceLROnPlateau reducing learning rate to 1.0934999636447174e-06.\n",
      "Epoch 34/150\n",
      "478/478 [==============================] - 0s 960us/step - loss: 0.1012 - acc: 0.9665 - f1: 0.9619 - val_loss: 0.0405 - val_acc: 0.9875 - val_f1: 0.9880\n",
      "Epoch 35/150\n",
      "478/478 [==============================] - 0s 469us/step - loss: 0.1117 - acc: 0.9603 - f1: 0.9569 - val_loss: 0.0405 - val_acc: 0.9875 - val_f1: 0.9880\n",
      "\n",
      "Epoch 00035: ReduceLROnPlateau reducing learning rate to 3.280499754509947e-07.\n",
      "Epoch 36/150\n",
      "478/478 [==============================] - 0s 438us/step - loss: 0.1129 - acc: 0.9707 - f1: 0.9665 - val_loss: 0.0405 - val_acc: 0.9875 - val_f1: 0.9880\n",
      "Epoch 37/150\n",
      "478/478 [==============================] - 0s 877us/step - loss: 0.1118 - acc: 0.9644 - f1: 0.9630 - val_loss: 0.0405 - val_acc: 0.9875 - val_f1: 0.9880\n",
      "\n",
      "Epoch 00037: ReduceLROnPlateau reducing learning rate to 9.841498922469327e-08.\n",
      "Epoch 38/150\n",
      "478/478 [==============================] - 0s 552us/step - loss: 0.1062 - acc: 0.9644 - f1: 0.9629 - val_loss: 0.0405 - val_acc: 0.9875 - val_f1: 0.9880\n",
      "Epoch 39/150\n",
      "478/478 [==============================] - 0s 394us/step - loss: 0.1149 - acc: 0.9686 - f1: 0.9642 - val_loss: 0.0405 - val_acc: 0.9875 - val_f1: 0.9880\n",
      "\n",
      "Epoch 00039: ReduceLROnPlateau reducing learning rate to 2.9524495914756698e-08.\n",
      "Epoch 40/150\n",
      "478/478 [==============================] - 0s 218us/step - loss: 0.1167 - acc: 0.9644 - f1: 0.9561 - val_loss: 0.0405 - val_acc: 0.9875 - val_f1: 0.9880\n",
      "Epoch 41/150\n",
      "478/478 [==============================] - 0s 246us/step - loss: 0.1365 - acc: 0.9603 - f1: 0.9555 - val_loss: 0.0405 - val_acc: 0.9875 - val_f1: 0.9880\n",
      "\n",
      "Epoch 00041: ReduceLROnPlateau reducing learning rate to 1e-08.\n",
      "Epoch 42/150\n",
      "478/478 [==============================] - 0s 243us/step - loss: 0.1163 - acc: 0.9519 - f1: 0.9463 - val_loss: 0.0405 - val_acc: 0.9875 - val_f1: 0.9880\n",
      "Epoch 43/150\n",
      "478/478 [==============================] - 0s 209us/step - loss: 0.0958 - acc: 0.9749 - f1: 0.9730 - val_loss: 0.0405 - val_acc: 0.9875 - val_f1: 0.9880\n",
      "Epoch 44/150\n",
      "478/478 [==============================] - 0s 249us/step - loss: 0.1307 - acc: 0.9623 - f1: 0.9600 - val_loss: 0.0405 - val_acc: 0.9875 - val_f1: 0.9880\n",
      "Epoch 45/150\n"
     ]
    },
    {
     "name": "stdout",
     "output_type": "stream",
     "text": [
      "478/478 [==============================] - 0s 271us/step - loss: 0.1407 - acc: 0.9582 - f1: 0.9552 - val_loss: 0.0405 - val_acc: 0.9875 - val_f1: 0.9880\n",
      "Epoch 46/150\n",
      "478/478 [==============================] - 0s 240us/step - loss: 0.1299 - acc: 0.9603 - f1: 0.9575 - val_loss: 0.0405 - val_acc: 0.9875 - val_f1: 0.9880\n",
      "Epoch 47/150\n",
      "478/478 [==============================] - 0s 610us/step - loss: 0.1129 - acc: 0.9749 - f1: 0.9752 - val_loss: 0.0405 - val_acc: 0.9875 - val_f1: 0.9880\n",
      "Epoch 48/150\n",
      "478/478 [==============================] - 0s 516us/step - loss: 0.1206 - acc: 0.9644 - f1: 0.9611 - val_loss: 0.0405 - val_acc: 0.9875 - val_f1: 0.9880\n",
      "Epoch 49/150\n",
      "478/478 [==============================] - 0s 705us/step - loss: 0.1173 - acc: 0.9644 - f1: 0.9589 - val_loss: 0.0405 - val_acc: 0.9875 - val_f1: 0.9880\n",
      "Epoch 50/150\n",
      "478/478 [==============================] - 0s 410us/step - loss: 0.1302 - acc: 0.9561 - f1: 0.9548 - val_loss: 0.0405 - val_acc: 0.9875 - val_f1: 0.9880\n",
      "Epoch 51/150\n",
      "478/478 [==============================] - 0s 329us/step - loss: 0.1153 - acc: 0.9623 - f1: 0.9618 - val_loss: 0.0405 - val_acc: 0.9875 - val_f1: 0.9880\n",
      "Epoch 52/150\n",
      "478/478 [==============================] - 0s 282us/step - loss: 0.1053 - acc: 0.9644 - f1: 0.9625 - val_loss: 0.0405 - val_acc: 0.9875 - val_f1: 0.9880\n",
      "Epoch 53/150\n",
      "478/478 [==============================] - 0s 248us/step - loss: 0.1215 - acc: 0.9582 - f1: 0.9569 - val_loss: 0.0405 - val_acc: 0.9875 - val_f1: 0.9880\n",
      "Epoch 54/150\n",
      "478/478 [==============================] - 0s 334us/step - loss: 0.1233 - acc: 0.9603 - f1: 0.9558 - val_loss: 0.0405 - val_acc: 0.9875 - val_f1: 0.9880\n",
      "Epoch 55/150\n",
      "478/478 [==============================] - 0s 380us/step - loss: 0.1091 - acc: 0.9644 - f1: 0.9644 - val_loss: 0.0405 - val_acc: 0.9875 - val_f1: 0.9880\n",
      "Epoch 56/150\n",
      "478/478 [==============================] - 0s 418us/step - loss: 0.1211 - acc: 0.9603 - f1: 0.9562 - val_loss: 0.0405 - val_acc: 0.9875 - val_f1: 0.9880\n",
      "Epoch 57/150\n",
      "478/478 [==============================] - 0s 427us/step - loss: 0.1179 - acc: 0.9603 - f1: 0.9550 - val_loss: 0.0405 - val_acc: 0.9875 - val_f1: 0.9880\n",
      "Epoch 58/150\n",
      "478/478 [==============================] - 0s 455us/step - loss: 0.1199 - acc: 0.9603 - f1: 0.9597 - val_loss: 0.0405 - val_acc: 0.9875 - val_f1: 0.9880\n",
      "Epoch 59/150\n",
      "478/478 [==============================] - 0s 370us/step - loss: 0.1052 - acc: 0.9686 - f1: 0.9651 - val_loss: 0.0405 - val_acc: 0.9875 - val_f1: 0.9880\n",
      "Epoch 60/150\n",
      "478/478 [==============================] - 0s 446us/step - loss: 0.1142 - acc: 0.9623 - f1: 0.9611 - val_loss: 0.0405 - val_acc: 0.9875 - val_f1: 0.9880\n",
      "Epoch 61/150\n",
      "478/478 [==============================] - 0s 637us/step - loss: 0.1547 - acc: 0.9644 - f1: 0.9637 - val_loss: 0.0405 - val_acc: 0.9875 - val_f1: 0.9880\n",
      "Epoch 62/150\n",
      "478/478 [==============================] - 0s 368us/step - loss: 0.1216 - acc: 0.9686 - f1: 0.9701 - val_loss: 0.0405 - val_acc: 0.9875 - val_f1: 0.9880\n",
      "Epoch 63/150\n",
      "478/478 [==============================] - 0s 637us/step - loss: 0.1022 - acc: 0.9644 - f1: 0.9638 - val_loss: 0.0405 - val_acc: 0.9875 - val_f1: 0.9880\n",
      "Epoch 64/150\n",
      "478/478 [==============================] - 1s 1ms/step - loss: 0.1069 - acc: 0.9791 - f1: 0.9798 - val_loss: 0.0405 - val_acc: 0.9875 - val_f1: 0.9880\n",
      "Epoch 65/150\n",
      "478/478 [==============================] - 0s 484us/step - loss: 0.1386 - acc: 0.9623 - f1: 0.9599 - val_loss: 0.0405 - val_acc: 0.9875 - val_f1: 0.9880\n",
      "Epoch 66/150\n",
      "478/478 [==============================] - 0s 844us/step - loss: 0.1202 - acc: 0.9686 - f1: 0.9678 - val_loss: 0.0405 - val_acc: 0.9875 - val_f1: 0.9880\n",
      "Epoch 67/150\n",
      "478/478 [==============================] - 0s 274us/step - loss: 0.1033 - acc: 0.9603 - f1: 0.9560 - val_loss: 0.0405 - val_acc: 0.9875 - val_f1: 0.9880\n",
      "Epoch 68/150\n",
      "478/478 [==============================] - 0s 289us/step - loss: 0.1508 - acc: 0.9644 - f1: 0.9654 - val_loss: 0.0405 - val_acc: 0.9875 - val_f1: 0.9880\n",
      "Epoch 69/150\n",
      "478/478 [==============================] - 0s 639us/step - loss: 0.1120 - acc: 0.9644 - f1: 0.9627 - val_loss: 0.0405 - val_acc: 0.9875 - val_f1: 0.9880\n",
      "Epoch 70/150\n",
      "478/478 [==============================] - 0s 648us/step - loss: 0.1485 - acc: 0.9561 - f1: 0.9514 - val_loss: 0.0405 - val_acc: 0.9875 - val_f1: 0.9880\n",
      "Epoch 71/150\n",
      "478/478 [==============================] - 0s 587us/step - loss: 0.0928 - acc: 0.9791 - f1: 0.9748 - val_loss: 0.0405 - val_acc: 0.9875 - val_f1: 0.9880\n",
      "Epoch 72/150\n",
      "478/478 [==============================] - 0s 622us/step - loss: 0.1254 - acc: 0.9561 - f1: 0.9530 - val_loss: 0.0405 - val_acc: 0.9875 - val_f1: 0.9880\n",
      "Epoch 73/150\n",
      "478/478 [==============================] - 0s 331us/step - loss: 0.1355 - acc: 0.9582 - f1: 0.9504 - val_loss: 0.0405 - val_acc: 0.9875 - val_f1: 0.9880\n",
      "Epoch 74/150\n",
      "478/478 [==============================] - 0s 241us/step - loss: 0.1249 - acc: 0.9623 - f1: 0.9619 - val_loss: 0.0405 - val_acc: 0.9875 - val_f1: 0.9880\n",
      "Epoch 75/150\n",
      "478/478 [==============================] - 0s 309us/step - loss: 0.1070 - acc: 0.9603 - f1: 0.9578 - val_loss: 0.0405 - val_acc: 0.9875 - val_f1: 0.9880\n",
      "Epoch 76/150\n",
      "478/478 [==============================] - 0s 363us/step - loss: 0.1203 - acc: 0.9603 - f1: 0.9606 - val_loss: 0.0405 - val_acc: 0.9875 - val_f1: 0.9880\n",
      "Epoch 77/150\n",
      "478/478 [==============================] - 0s 308us/step - loss: 0.1044 - acc: 0.9686 - f1: 0.9687 - val_loss: 0.0405 - val_acc: 0.9875 - val_f1: 0.9880\n",
      "Epoch 78/150\n",
      "478/478 [==============================] - 0s 295us/step - loss: 0.0925 - acc: 0.9686 - f1: 0.9676 - val_loss: 0.0405 - val_acc: 0.9875 - val_f1: 0.9880\n",
      "Epoch 79/150\n",
      "478/478 [==============================] - 0s 269us/step - loss: 0.1102 - acc: 0.9707 - f1: 0.9737 - val_loss: 0.0405 - val_acc: 0.9875 - val_f1: 0.9880\n",
      "Epoch 80/150\n",
      "478/478 [==============================] - 0s 262us/step - loss: 0.1257 - acc: 0.9603 - f1: 0.9584 - val_loss: 0.0405 - val_acc: 0.9875 - val_f1: 0.9880\n",
      "Epoch 81/150\n",
      "478/478 [==============================] - 0s 307us/step - loss: 0.1252 - acc: 0.9623 - f1: 0.9594 - val_loss: 0.0405 - val_acc: 0.9875 - val_f1: 0.9880\n",
      "Epoch 82/150\n",
      "478/478 [==============================] - 0s 263us/step - loss: 0.1269 - acc: 0.9686 - f1: 0.9626 - val_loss: 0.0405 - val_acc: 0.9875 - val_f1: 0.9880\n",
      "Epoch 83/150\n",
      "478/478 [==============================] - 0s 257us/step - loss: 0.1343 - acc: 0.9540 - f1: 0.9477 - val_loss: 0.0405 - val_acc: 0.9875 - val_f1: 0.9880\n",
      "Epoch 84/150\n",
      "478/478 [==============================] - 0s 261us/step - loss: 0.1016 - acc: 0.9707 - f1: 0.9693 - val_loss: 0.0405 - val_acc: 0.9875 - val_f1: 0.9880\n",
      "Epoch 85/150\n",
      "478/478 [==============================] - 0s 273us/step - loss: 0.1157 - acc: 0.9644 - f1: 0.9621 - val_loss: 0.0405 - val_acc: 0.9875 - val_f1: 0.9880\n",
      "Epoch 86/150\n",
      "478/478 [==============================] - 0s 298us/step - loss: 0.1047 - acc: 0.9728 - f1: 0.9667 - val_loss: 0.0405 - val_acc: 0.9875 - val_f1: 0.9880\n",
      "Epoch 87/150\n",
      "478/478 [==============================] - 0s 239us/step - loss: 0.0919 - acc: 0.9623 - f1: 0.9625 - val_loss: 0.0405 - val_acc: 0.9875 - val_f1: 0.9880\n",
      "Epoch 88/150\n",
      "478/478 [==============================] - 0s 251us/step - loss: 0.0984 - acc: 0.9728 - f1: 0.9719 - val_loss: 0.0405 - val_acc: 0.9875 - val_f1: 0.9880\n",
      "Epoch 89/150\n",
      "478/478 [==============================] - 0s 210us/step - loss: 0.1034 - acc: 0.9644 - f1: 0.9630 - val_loss: 0.0405 - val_acc: 0.9875 - val_f1: 0.9880\n",
      "Epoch 90/150\n",
      "478/478 [==============================] - 0s 208us/step - loss: 0.0956 - acc: 0.9686 - f1: 0.9672 - val_loss: 0.0405 - val_acc: 0.9875 - val_f1: 0.9880\n",
      "Epoch 91/150\n",
      "478/478 [==============================] - 0s 258us/step - loss: 0.1124 - acc: 0.9686 - f1: 0.9682 - val_loss: 0.0405 - val_acc: 0.9875 - val_f1: 0.9880\n",
      "Epoch 92/150\n",
      "478/478 [==============================] - 0s 246us/step - loss: 0.1011 - acc: 0.9623 - f1: 0.9633 - val_loss: 0.0405 - val_acc: 0.9875 - val_f1: 0.9880\n",
      "Epoch 93/150\n",
      "478/478 [==============================] - 0s 251us/step - loss: 0.1108 - acc: 0.9686 - f1: 0.9686 - val_loss: 0.0405 - val_acc: 0.9875 - val_f1: 0.9880\n",
      "Epoch 94/150\n"
     ]
    },
    {
     "name": "stdout",
     "output_type": "stream",
     "text": [
      "478/478 [==============================] - 0s 225us/step - loss: 0.1184 - acc: 0.9665 - f1: 0.9674 - val_loss: 0.0405 - val_acc: 0.9875 - val_f1: 0.9880\n",
      "Epoch 95/150\n",
      "478/478 [==============================] - 0s 226us/step - loss: 0.1275 - acc: 0.9603 - f1: 0.9538 - val_loss: 0.0405 - val_acc: 0.9875 - val_f1: 0.9880\n",
      "Epoch 96/150\n",
      "478/478 [==============================] - 0s 232us/step - loss: 0.1423 - acc: 0.9477 - f1: 0.9450 - val_loss: 0.0405 - val_acc: 0.9875 - val_f1: 0.9880\n",
      "Epoch 97/150\n",
      "478/478 [==============================] - 0s 263us/step - loss: 0.1119 - acc: 0.9665 - f1: 0.9681 - val_loss: 0.0405 - val_acc: 0.9875 - val_f1: 0.9880\n",
      "Epoch 98/150\n",
      "478/478 [==============================] - 0s 294us/step - loss: 0.1275 - acc: 0.9686 - f1: 0.9655 - val_loss: 0.0405 - val_acc: 0.9875 - val_f1: 0.9880\n",
      "Epoch 99/150\n",
      "478/478 [==============================] - 0s 238us/step - loss: 0.1268 - acc: 0.9603 - f1: 0.9601 - val_loss: 0.0405 - val_acc: 0.9875 - val_f1: 0.9880\n",
      "Epoch 100/150\n",
      "478/478 [==============================] - 0s 245us/step - loss: 0.1244 - acc: 0.9623 - f1: 0.9623 - val_loss: 0.0405 - val_acc: 0.9875 - val_f1: 0.9880\n",
      "Epoch 101/150\n",
      "478/478 [==============================] - 0s 260us/step - loss: 0.1293 - acc: 0.9644 - f1: 0.9629 - val_loss: 0.0405 - val_acc: 0.9875 - val_f1: 0.9880\n",
      "Epoch 102/150\n",
      "478/478 [==============================] - 0s 259us/step - loss: 0.1152 - acc: 0.9686 - f1: 0.9649 - val_loss: 0.0405 - val_acc: 0.9875 - val_f1: 0.9880\n",
      "Epoch 103/150\n",
      "478/478 [==============================] - 0s 231us/step - loss: 0.1173 - acc: 0.9665 - f1: 0.9695 - val_loss: 0.0405 - val_acc: 0.9875 - val_f1: 0.9880\n",
      "Epoch 104/150\n",
      "478/478 [==============================] - 0s 237us/step - loss: 0.0995 - acc: 0.9749 - f1: 0.9745 - val_loss: 0.0405 - val_acc: 0.9875 - val_f1: 0.9880\n",
      "Epoch 105/150\n",
      "478/478 [==============================] - 0s 273us/step - loss: 0.1132 - acc: 0.9749 - f1: 0.9755 - val_loss: 0.0405 - val_acc: 0.9875 - val_f1: 0.9880\n",
      "Epoch 106/150\n",
      "478/478 [==============================] - 0s 222us/step - loss: 0.1351 - acc: 0.9561 - f1: 0.9536 - val_loss: 0.0405 - val_acc: 0.9875 - val_f1: 0.9880\n",
      "Epoch 107/150\n",
      "478/478 [==============================] - 0s 233us/step - loss: 0.1061 - acc: 0.9686 - f1: 0.9667 - val_loss: 0.0405 - val_acc: 0.9875 - val_f1: 0.9880\n",
      "Epoch 108/150\n",
      "478/478 [==============================] - 0s 211us/step - loss: 0.1070 - acc: 0.9749 - f1: 0.9711 - val_loss: 0.0405 - val_acc: 0.9875 - val_f1: 0.9880\n",
      "Epoch 109/150\n",
      "478/478 [==============================] - 0s 227us/step - loss: 0.1127 - acc: 0.9665 - f1: 0.9675 - val_loss: 0.0405 - val_acc: 0.9875 - val_f1: 0.9880\n",
      "Epoch 110/150\n",
      "478/478 [==============================] - 0s 243us/step - loss: 0.1232 - acc: 0.9623 - f1: 0.9534 - val_loss: 0.0405 - val_acc: 0.9875 - val_f1: 0.9880\n",
      "Epoch 111/150\n",
      "478/478 [==============================] - 0s 291us/step - loss: 0.1361 - acc: 0.9582 - f1: 0.9544 - val_loss: 0.0405 - val_acc: 0.9875 - val_f1: 0.9880\n",
      "Epoch 112/150\n",
      "478/478 [==============================] - 0s 228us/step - loss: 0.1121 - acc: 0.9582 - f1: 0.9572 - val_loss: 0.0405 - val_acc: 0.9875 - val_f1: 0.9880\n",
      "Epoch 113/150\n",
      "478/478 [==============================] - 0s 256us/step - loss: 0.1207 - acc: 0.9582 - f1: 0.9543 - val_loss: 0.0405 - val_acc: 0.9875 - val_f1: 0.9880\n",
      "Epoch 114/150\n",
      "478/478 [==============================] - 0s 249us/step - loss: 0.1144 - acc: 0.9623 - f1: 0.9570 - val_loss: 0.0405 - val_acc: 0.9875 - val_f1: 0.9880\n",
      "Epoch 115/150\n",
      "478/478 [==============================] - 0s 217us/step - loss: 0.1189 - acc: 0.9665 - f1: 0.9664 - val_loss: 0.0405 - val_acc: 0.9875 - val_f1: 0.9880\n",
      "Epoch 116/150\n",
      "478/478 [==============================] - 0s 270us/step - loss: 0.1030 - acc: 0.9665 - f1: 0.9667 - val_loss: 0.0405 - val_acc: 0.9875 - val_f1: 0.9880\n",
      "Epoch 117/150\n",
      "478/478 [==============================] - 0s 247us/step - loss: 0.1011 - acc: 0.9665 - f1: 0.9647 - val_loss: 0.0405 - val_acc: 0.9875 - val_f1: 0.9880\n",
      "Epoch 118/150\n",
      "478/478 [==============================] - 0s 216us/step - loss: 0.1112 - acc: 0.9623 - f1: 0.9595 - val_loss: 0.0405 - val_acc: 0.9875 - val_f1: 0.9880\n",
      "Epoch 119/150\n",
      "478/478 [==============================] - 0s 241us/step - loss: 0.1162 - acc: 0.9582 - f1: 0.9545 - val_loss: 0.0405 - val_acc: 0.9875 - val_f1: 0.9880\n",
      "Epoch 120/150\n",
      "478/478 [==============================] - 0s 239us/step - loss: 0.1237 - acc: 0.9540 - f1: 0.9531 - val_loss: 0.0405 - val_acc: 0.9875 - val_f1: 0.9880\n",
      "Epoch 121/150\n",
      "478/478 [==============================] - 0s 231us/step - loss: 0.1256 - acc: 0.9603 - f1: 0.9576 - val_loss: 0.0405 - val_acc: 0.9875 - val_f1: 0.9880\n",
      "Epoch 122/150\n",
      "478/478 [==============================] - 0s 279us/step - loss: 0.1144 - acc: 0.9728 - f1: 0.9733 - val_loss: 0.0405 - val_acc: 0.9875 - val_f1: 0.9880\n",
      "Epoch 123/150\n",
      "478/478 [==============================] - 0s 244us/step - loss: 0.1253 - acc: 0.9582 - f1: 0.9597 - val_loss: 0.0405 - val_acc: 0.9875 - val_f1: 0.9880\n",
      "Epoch 124/150\n",
      "478/478 [==============================] - 0s 388us/step - loss: 0.1100 - acc: 0.9603 - f1: 0.9575 - val_loss: 0.0405 - val_acc: 0.9875 - val_f1: 0.9880\n",
      "Epoch 125/150\n",
      "478/478 [==============================] - 0s 281us/step - loss: 0.1181 - acc: 0.9540 - f1: 0.9483 - val_loss: 0.0405 - val_acc: 0.9875 - val_f1: 0.9880\n",
      "Epoch 126/150\n",
      "478/478 [==============================] - 0s 267us/step - loss: 0.1207 - acc: 0.9498 - f1: 0.9481 - val_loss: 0.0405 - val_acc: 0.9875 - val_f1: 0.9880\n",
      "Epoch 127/150\n",
      "478/478 [==============================] - 0s 247us/step - loss: 0.1055 - acc: 0.9707 - f1: 0.9725 - val_loss: 0.0405 - val_acc: 0.9875 - val_f1: 0.9880\n",
      "Epoch 128/150\n",
      "478/478 [==============================] - 0s 220us/step - loss: 0.1261 - acc: 0.9603 - f1: 0.9542 - val_loss: 0.0405 - val_acc: 0.9875 - val_f1: 0.9880\n",
      "Epoch 129/150\n",
      "478/478 [==============================] - 0s 244us/step - loss: 0.1094 - acc: 0.9707 - f1: 0.9732 - val_loss: 0.0405 - val_acc: 0.9875 - val_f1: 0.9880\n",
      "Epoch 130/150\n",
      "478/478 [==============================] - 0s 244us/step - loss: 0.0933 - acc: 0.9686 - f1: 0.9690 - val_loss: 0.0405 - val_acc: 0.9875 - val_f1: 0.9880\n",
      "Epoch 131/150\n",
      "478/478 [==============================] - 0s 404us/step - loss: 0.1044 - acc: 0.9623 - f1: 0.9606 - val_loss: 0.0405 - val_acc: 0.9875 - val_f1: 0.9880\n",
      "Epoch 132/150\n",
      "478/478 [==============================] - 0s 400us/step - loss: 0.1348 - acc: 0.9582 - f1: 0.9593 - val_loss: 0.0405 - val_acc: 0.9875 - val_f1: 0.9880\n",
      "Epoch 133/150\n",
      "478/478 [==============================] - 0s 219us/step - loss: 0.1279 - acc: 0.9540 - f1: 0.9490 - val_loss: 0.0405 - val_acc: 0.9875 - val_f1: 0.9880\n",
      "Epoch 134/150\n",
      "478/478 [==============================] - 0s 223us/step - loss: 0.1191 - acc: 0.9623 - f1: 0.9598 - val_loss: 0.0405 - val_acc: 0.9875 - val_f1: 0.9880\n",
      "Epoch 135/150\n",
      "478/478 [==============================] - 0s 239us/step - loss: 0.0980 - acc: 0.9770 - f1: 0.9772 - val_loss: 0.0405 - val_acc: 0.9875 - val_f1: 0.9880\n",
      "Epoch 136/150\n",
      "478/478 [==============================] - 0s 247us/step - loss: 0.1276 - acc: 0.9686 - f1: 0.9673 - val_loss: 0.0405 - val_acc: 0.9875 - val_f1: 0.9880\n",
      "Epoch 137/150\n",
      "478/478 [==============================] - 0s 222us/step - loss: 0.1436 - acc: 0.9561 - f1: 0.9532 - val_loss: 0.0405 - val_acc: 0.9875 - val_f1: 0.9880\n",
      "Epoch 138/150\n",
      "478/478 [==============================] - 0s 248us/step - loss: 0.1146 - acc: 0.9644 - f1: 0.9540 - val_loss: 0.0405 - val_acc: 0.9875 - val_f1: 0.9880\n",
      "Epoch 139/150\n",
      "478/478 [==============================] - 0s 232us/step - loss: 0.0934 - acc: 0.9791 - f1: 0.9784 - val_loss: 0.0405 - val_acc: 0.9875 - val_f1: 0.9880\n",
      "Epoch 140/150\n",
      "478/478 [==============================] - 0s 270us/step - loss: 0.0959 - acc: 0.9749 - f1: 0.9733 - val_loss: 0.0405 - val_acc: 0.9875 - val_f1: 0.9880\n",
      "Epoch 141/150\n",
      "478/478 [==============================] - 0s 296us/step - loss: 0.1155 - acc: 0.9665 - f1: 0.9645 - val_loss: 0.0405 - val_acc: 0.9875 - val_f1: 0.9880\n",
      "Epoch 142/150\n",
      "478/478 [==============================] - 0s 215us/step - loss: 0.1252 - acc: 0.9498 - f1: 0.9432 - val_loss: 0.0405 - val_acc: 0.9875 - val_f1: 0.9880\n",
      "Epoch 143/150\n"
     ]
    },
    {
     "name": "stdout",
     "output_type": "stream",
     "text": [
      "478/478 [==============================] - 0s 215us/step - loss: 0.1303 - acc: 0.9519 - f1: 0.9528 - val_loss: 0.0405 - val_acc: 0.9875 - val_f1: 0.9880\n",
      "Epoch 144/150\n",
      "478/478 [==============================] - 0s 232us/step - loss: 0.1345 - acc: 0.9498 - f1: 0.9483 - val_loss: 0.0405 - val_acc: 0.9875 - val_f1: 0.9880\n",
      "Epoch 145/150\n",
      "478/478 [==============================] - 0s 270us/step - loss: 0.1215 - acc: 0.9603 - f1: 0.9638 - val_loss: 0.0405 - val_acc: 0.9875 - val_f1: 0.9880\n",
      "Epoch 146/150\n",
      "478/478 [==============================] - 0s 246us/step - loss: 0.1215 - acc: 0.9644 - f1: 0.9622 - val_loss: 0.0405 - val_acc: 0.9875 - val_f1: 0.9880\n",
      "Epoch 147/150\n",
      "478/478 [==============================] - 0s 236us/step - loss: 0.1161 - acc: 0.9665 - f1: 0.9684 - val_loss: 0.0405 - val_acc: 0.9875 - val_f1: 0.9880\n",
      "Epoch 148/150\n",
      "478/478 [==============================] - 0s 227us/step - loss: 0.0943 - acc: 0.9686 - f1: 0.9662 - val_loss: 0.0405 - val_acc: 0.9875 - val_f1: 0.9880\n",
      "Epoch 149/150\n",
      "478/478 [==============================] - 0s 261us/step - loss: 0.1134 - acc: 0.9623 - f1: 0.9601 - val_loss: 0.0405 - val_acc: 0.9875 - val_f1: 0.9880\n",
      "Epoch 150/150\n",
      "478/478 [==============================] - 0s 230us/step - loss: 0.1167 - acc: 0.9686 - f1: 0.9678 - val_loss: 0.0405 - val_acc: 0.9875 - val_f1: 0.9880\n"
     ]
    }
   ],
   "source": [
    "class myCallback(tf.keras.callbacks.Callback):\n",
    "    def on_epoch_end(self, epoch, logs={}):\n",
    "        if logs.get('acc') > .99:\n",
    "            self.model.stop_training=True\n",
    "\n",
    "earlystop = myCallback()\n",
    "reduce_lr = ReduceLROnPlateau(monitor='loss', patience=2, factor=0.3, min_lr=0.00000001, verbose=1)\n",
    "\n",
    "epochs=150\n",
    "model = Sequential()\n",
    "\n",
    "model.add(Dense(256, activation=\"relu\", input_shape=(X_train.shape[1],)))\n",
    "model.add(Dropout(rate=0.50))\n",
    "model.add(Dense(128, activation=\"relu\"))\n",
    "model.add(Dropout(rate=0.50))\n",
    "model.add(Dense(64, activation=\"relu\"))\n",
    "model.add(Dropout(rate=0.50))\n",
    "model.add(Dense(32, activation=\"relu\"))\n",
    "model.add(Dropout(rate=0.50))\n",
    "model.add(Dense(1, activation=\"sigmoid\"))\n",
    "\n",
    "model.compile(\n",
    "#     optimizer=\"adam\",\n",
    "    optimizer=Adam(lr=0.0015),\n",
    "    loss=\"binary_crossentropy\",\n",
    "    metrics=[\"acc\", f1])\n",
    "\n",
    "history = model.fit(\n",
    "    X_train, y_train,\n",
    "    batch_size=20,\n",
    "    epochs=epochs,\n",
    "    validation_data=(X_test, y_test),\n",
    "    callbacks = [reduce_lr, earlystop],\n",
    "#     verbose=0,\n",
    ")"
   ]
  },
  {
   "cell_type": "code",
   "execution_count": 295,
   "metadata": {},
   "outputs": [
    {
     "data": {
      "text/plain": [
       "array([[75,  0],\n",
       "       [ 2, 83]])"
      ]
     },
     "execution_count": 295,
     "metadata": {},
     "output_type": "execute_result"
    }
   ],
   "source": [
    "confusion_matrix(y_test, model.predict_classes(X_test))"
   ]
  },
  {
   "cell_type": "markdown",
   "metadata": {},
   "source": [
    "#### Neural Net Predictions\n",
    "Here is a breakdown of the players from the `test_master` dataframe that were predicted by the Neural Net.\n",
    "\n",
    "When I analyze the results, I conclude that the model has done a better job than the ensemble predictions. It is impossible to predict the future but they have correctly classified the players that have already achieved this benchmark: Montrezl Harrell, Kristaps Porzingis, Ben Simmons and Domantas Sabonis with the exception of Larry Nance. I am actually ok with this result as it was quite a shock that Nance achieved that result last season."
   ]
  },
  {
   "cell_type": "code",
   "execution_count": 296,
   "metadata": {
    "scrolled": false
   },
   "outputs": [
    {
     "data": {
      "text/html": [
       "<div>\n",
       "<style scoped>\n",
       "    .dataframe tbody tr th:only-of-type {\n",
       "        vertical-align: middle;\n",
       "    }\n",
       "\n",
       "    .dataframe tbody tr th {\n",
       "        vertical-align: top;\n",
       "    }\n",
       "\n",
       "    .dataframe thead th {\n",
       "        text-align: right;\n",
       "    }\n",
       "</style>\n",
       "<table border=\"1\" class=\"dataframe\">\n",
       "  <thead>\n",
       "    <tr style=\"text-align: right;\">\n",
       "      <th></th>\n",
       "      <th>Player_name</th>\n",
       "      <th>DRAFT_YEAR+1</th>\n",
       "      <th>neural</th>\n",
       "    </tr>\n",
       "  </thead>\n",
       "  <tbody>\n",
       "    <tr>\n",
       "      <th>10</th>\n",
       "      <td>Jarrett Allen</td>\n",
       "      <td>2018.0</td>\n",
       "      <td>1</td>\n",
       "    </tr>\n",
       "    <tr>\n",
       "      <th>222</th>\n",
       "      <td>De'Aaron Fox</td>\n",
       "      <td>2018.0</td>\n",
       "      <td>1</td>\n",
       "    </tr>\n",
       "    <tr>\n",
       "      <th>383</th>\n",
       "      <td>Kyle Kuzma</td>\n",
       "      <td>2018.0</td>\n",
       "      <td>1</td>\n",
       "    </tr>\n",
       "    <tr>\n",
       "      <th>432</th>\n",
       "      <td>Lauri Markkanen</td>\n",
       "      <td>2018.0</td>\n",
       "      <td>1</td>\n",
       "    </tr>\n",
       "    <tr>\n",
       "      <th>469</th>\n",
       "      <td>Donovan Mitchell</td>\n",
       "      <td>2018.0</td>\n",
       "      <td>1</td>\n",
       "    </tr>\n",
       "    <tr>\n",
       "      <th>552</th>\n",
       "      <td>Ivan Rabb</td>\n",
       "      <td>2018.0</td>\n",
       "      <td>1</td>\n",
       "    </tr>\n",
       "    <tr>\n",
       "      <th>629</th>\n",
       "      <td>Jayson Tatum</td>\n",
       "      <td>2018.0</td>\n",
       "      <td>1</td>\n",
       "    </tr>\n",
       "    <tr>\n",
       "      <th>838</th>\n",
       "      <td>Cheick Diallo</td>\n",
       "      <td>2017.0</td>\n",
       "      <td>1</td>\n",
       "    </tr>\n",
       "    <tr>\n",
       "      <th>945</th>\n",
       "      <td>Brandon Ingram</td>\n",
       "      <td>2017.0</td>\n",
       "      <td>1</td>\n",
       "    </tr>\n",
       "    <tr>\n",
       "      <th>1068</th>\n",
       "      <td>Jamal Murray</td>\n",
       "      <td>2017.0</td>\n",
       "      <td>1</td>\n",
       "    </tr>\n",
       "    <tr>\n",
       "      <th>1145</th>\n",
       "      <td>Domantas Sabonis</td>\n",
       "      <td>2017.0</td>\n",
       "      <td>1</td>\n",
       "    </tr>\n",
       "    <tr>\n",
       "      <th>1157</th>\n",
       "      <td>Ben Simmons</td>\n",
       "      <td>2017.0</td>\n",
       "      <td>1</td>\n",
       "    </tr>\n",
       "    <tr>\n",
       "      <th>1246</th>\n",
       "      <td>Ante Žižić</td>\n",
       "      <td>2017.0</td>\n",
       "      <td>1</td>\n",
       "    </tr>\n",
       "    <tr>\n",
       "      <th>1247</th>\n",
       "      <td>Ivica Zubac</td>\n",
       "      <td>2017.0</td>\n",
       "      <td>1</td>\n",
       "    </tr>\n",
       "    <tr>\n",
       "      <th>1300</th>\n",
       "      <td>Devin Booker</td>\n",
       "      <td>2016.0</td>\n",
       "      <td>1</td>\n",
       "    </tr>\n",
       "    <tr>\n",
       "      <th>1422</th>\n",
       "      <td>Montrezl Harrell</td>\n",
       "      <td>2016.0</td>\n",
       "      <td>1</td>\n",
       "    </tr>\n",
       "    <tr>\n",
       "      <th>1436</th>\n",
       "      <td>Willy Hernangomez</td>\n",
       "      <td>2016.0</td>\n",
       "      <td>1</td>\n",
       "    </tr>\n",
       "    <tr>\n",
       "      <th>1447</th>\n",
       "      <td>Rondae Hollis-Jefferson</td>\n",
       "      <td>2016.0</td>\n",
       "      <td>1</td>\n",
       "    </tr>\n",
       "    <tr>\n",
       "      <th>1448</th>\n",
       "      <td>Richaun Holmes</td>\n",
       "      <td>2016.0</td>\n",
       "      <td>1</td>\n",
       "    </tr>\n",
       "    <tr>\n",
       "      <th>1610</th>\n",
       "      <td>Kristaps Porzingis</td>\n",
       "      <td>2016.0</td>\n",
       "      <td>1</td>\n",
       "    </tr>\n",
       "    <tr>\n",
       "      <th>1636</th>\n",
       "      <td>D'Angelo Russell</td>\n",
       "      <td>2016.0</td>\n",
       "      <td>1</td>\n",
       "    </tr>\n",
       "    <tr>\n",
       "      <th>1683</th>\n",
       "      <td>Myles Turner</td>\n",
       "      <td>2016.0</td>\n",
       "      <td>1</td>\n",
       "    </tr>\n",
       "    <tr>\n",
       "      <th>4</th>\n",
       "      <td>Bam Adebayo</td>\n",
       "      <td>2018.0</td>\n",
       "      <td>0</td>\n",
       "    </tr>\n",
       "    <tr>\n",
       "      <th>11</th>\n",
       "      <td>Kadeem Allen</td>\n",
       "      <td>2018.0</td>\n",
       "      <td>0</td>\n",
       "    </tr>\n",
       "    <tr>\n",
       "      <th>18</th>\n",
       "      <td>Ike Anigbogu</td>\n",
       "      <td>2018.0</td>\n",
       "      <td>0</td>\n",
       "    </tr>\n",
       "    <tr>\n",
       "      <th>22</th>\n",
       "      <td>OG Anunoby</td>\n",
       "      <td>2018.0</td>\n",
       "      <td>0</td>\n",
       "    </tr>\n",
       "    <tr>\n",
       "      <th>29</th>\n",
       "      <td>Dwayne Bacon</td>\n",
       "      <td>2018.0</td>\n",
       "      <td>0</td>\n",
       "    </tr>\n",
       "    <tr>\n",
       "      <th>35</th>\n",
       "      <td>Lonzo Ball</td>\n",
       "      <td>2018.0</td>\n",
       "      <td>0</td>\n",
       "    </tr>\n",
       "    <tr>\n",
       "      <th>51</th>\n",
       "      <td>Jordan Bell</td>\n",
       "      <td>2018.0</td>\n",
       "      <td>0</td>\n",
       "    </tr>\n",
       "    <tr>\n",
       "      <th>62</th>\n",
       "      <td>Jaron Blossomgame</td>\n",
       "      <td>2018.0</td>\n",
       "      <td>0</td>\n",
       "    </tr>\n",
       "  </tbody>\n",
       "</table>\n",
       "</div>"
      ],
      "text/plain": [
       "                  Player_name  DRAFT_YEAR+1  neural\n",
       "10              Jarrett Allen        2018.0       1\n",
       "222              De'Aaron Fox        2018.0       1\n",
       "383                Kyle Kuzma        2018.0       1\n",
       "432           Lauri Markkanen        2018.0       1\n",
       "469          Donovan Mitchell        2018.0       1\n",
       "552                 Ivan Rabb        2018.0       1\n",
       "629              Jayson Tatum        2018.0       1\n",
       "838             Cheick Diallo        2017.0       1\n",
       "945            Brandon Ingram        2017.0       1\n",
       "1068             Jamal Murray        2017.0       1\n",
       "1145         Domantas Sabonis        2017.0       1\n",
       "1157              Ben Simmons        2017.0       1\n",
       "1246               Ante Žižić        2017.0       1\n",
       "1247              Ivica Zubac        2017.0       1\n",
       "1300             Devin Booker        2016.0       1\n",
       "1422         Montrezl Harrell        2016.0       1\n",
       "1436        Willy Hernangomez        2016.0       1\n",
       "1447  Rondae Hollis-Jefferson        2016.0       1\n",
       "1448           Richaun Holmes        2016.0       1\n",
       "1610       Kristaps Porzingis        2016.0       1\n",
       "1636         D'Angelo Russell        2016.0       1\n",
       "1683             Myles Turner        2016.0       1\n",
       "4                 Bam Adebayo        2018.0       0\n",
       "11               Kadeem Allen        2018.0       0\n",
       "18               Ike Anigbogu        2018.0       0\n",
       "22                 OG Anunoby        2018.0       0\n",
       "29               Dwayne Bacon        2018.0       0\n",
       "35                 Lonzo Ball        2018.0       0\n",
       "51                Jordan Bell        2018.0       0\n",
       "62          Jaron Blossomgame        2018.0       0"
      ]
     },
     "execution_count": 296,
     "metadata": {},
     "output_type": "execute_result"
    }
   ],
   "source": [
    "master = test_master[features]\n",
    "master_nn = ss.fit_transform(master)\n",
    "predicted_player_nn = pd.DataFrame(index=master.index)\n",
    "predicted_player_nn[['Player_name', 'DRAFT_YEAR+1']] = test_master[['Player_name', 'DRAFT_YEAR+1']]\n",
    "predicted_player_nn['neural'] = model.predict_classes(master_nn)\n",
    "predicted_player_nn.sort_values(by=['neural', \"DRAFT_YEAR+1\"], ascending=(False, False)).head(30)"
   ]
  },
  {
   "cell_type": "code",
   "execution_count": 267,
   "metadata": {},
   "outputs": [
    {
     "data": {
      "image/png": "[encoded data removed]",
      "text/plain": [
       "<Figure size 864x576 with 1 Axes>"
      ]
     },
     "metadata": {
      "needs_background": "light"
     },
     "output_type": "display_data"
    }
   ],
   "source": [
    "ticks_1 = (np.linspace(0, epochs-1, 20).astype(int))\n",
    "ticks_2 = (np.linspace(1, epochs, 20).astype(int))\n",
    "\n",
    "# Check out our train loss and test loss over epochs.\n",
    "train_loss = history.history['loss']\n",
    "test_loss = history.history['val_loss']\n",
    "\n",
    "# Set figure size.\n",
    "plt.figure(figsize=(12, 8))\n",
    "\n",
    "# Generate line plot of training, testing loss over epochs.\n",
    "plt.plot(train_loss, label='Training Loss', color='#185fad')\n",
    "plt.plot(test_loss, label='Testing Loss', color='orange')\n",
    "\n",
    "# Set title\n",
    "plt.title('Training and Testing Loss by Epoch', fontsize = 25)\n",
    "plt.xlabel('Epoch', fontsize = 18)\n",
    "plt.ylabel('Categorical Crossentropy', fontsize = 18)\n",
    "plt.xticks(ticks_1, ticks_2)\n",
    "plt.legend(fontsize = 18);"
   ]
  },
  {
   "cell_type": "code",
   "execution_count": 268,
   "metadata": {},
   "outputs": [
    {
     "data": {
      "image/png": "[encoded data removed]",
      "text/plain": [
       "<Figure size 864x576 with 1 Axes>"
      ]
     },
     "metadata": {
      "needs_background": "light"
     },
     "output_type": "display_data"
    }
   ],
   "source": [
    "ticks_1 = (np.linspace(0, epochs-1, 20).astype(int))\n",
    "ticks_2 = (np.linspace(1, epochs, 20).astype(int))\n",
    "\n",
    "# Check out our train accuracy and accuracy loss over epochs.\n",
    "train_loss = history.history['acc']\n",
    "test_loss = history.history['val_acc']\n",
    "\n",
    "# Set figure size.\n",
    "plt.figure(figsize=(12, 8))\n",
    "\n",
    "# Generate line plot of training, testing accuracy over epochs.\n",
    "plt.plot(train_loss, label='Training Accuracy', color='#185fad')\n",
    "plt.plot(test_loss, label='Testing Accuracy', color='orange')\n",
    "\n",
    "# Set title\n",
    "plt.title('Training and Testing Accuracy by Epoch', fontsize = 25)\n",
    "plt.xlabel('Epoch', fontsize = 18)\n",
    "plt.ylabel('Categorical Crossentropy', fontsize = 18)\n",
    "plt.xticks(ticks_1, ticks_2)\n",
    "plt.legend(fontsize = 18);"
   ]
  },
  {
   "cell_type": "code",
   "execution_count": 269,
   "metadata": {},
   "outputs": [
    {
     "data": {
      "image/png": "[encoded data removed]",
      "text/plain": [
       "<Figure size 864x576 with 1 Axes>"
      ]
     },
     "metadata": {
      "needs_background": "light"
     },
     "output_type": "display_data"
    }
   ],
   "source": [
    "ticks_1 = (np.linspace(0, epochs-1, 20).astype(int))\n",
    "ticks_2 = (np.linspace(1, epochs, 20).astype(int))\n",
    "\n",
    "# Check out our train accuracy and accuracy loss over epochs.\n",
    "train_loss = history.history['f1']\n",
    "test_loss = history.history['val_f1']\n",
    "\n",
    "# Set figure size.\n",
    "plt.figure(figsize=(12, 8))\n",
    "\n",
    "# Gaenerate line plot of training, testing accuracy over epochs.\n",
    "plt.plot(train_loss, label='Training F1-Score', color='#185fad')\n",
    "plt.plot(test_loss, label='Testing F1-Score', color='orange')\n",
    "\n",
    "# Set title\n",
    "plt.title('Training and Testing F1-Score by Epoch', fontsize = 25)\n",
    "plt.xlabel('Epoch', fontsize = 18)\n",
    "plt.ylabel('Categorical Crossentropy', fontsize = 18)\n",
    "plt.xticks(ticks_1, ticks_2)\n",
    "plt.legend(fontsize = 18);"
   ]
  },
  {
   "cell_type": "code",
   "execution_count": 59,
   "metadata": {},
   "outputs": [
    {
     "name": "stderr",
     "output_type": "stream",
     "text": [
      "WARNING: Logging before flag parsing goes to stderr.\n",
      "W0826 18:50:43.893471 4635325888 deprecation_wrapper.py:119] From /anaconda3/lib/python3.6/site-packages/keras/backend/tensorflow_backend.py:74: The name tf.get_default_graph is deprecated. Please use tf.compat.v1.get_default_graph instead.\n",
      "\n",
      "W0826 18:50:43.934376 4635325888 deprecation_wrapper.py:119] From /anaconda3/lib/python3.6/site-packages/keras/optimizers.py:790: The name tf.train.Optimizer is deprecated. Please use tf.compat.v1.train.Optimizer instead.\n",
      "\n"
     ]
    }
   ],
   "source": [
    "from keras import backend as K\n",
    "model = Sequential()\n",
    "\n",
    "def f1(y_true, y_pred):\n",
    "    def recall(y_true, y_pred):\n",
    "        \"\"\"Recall metric.\n",
    "\n",
    "        Only computes a batch-wise average of recall.\n",
    "\n",
    "        Computes the recall, a metric for multi-label classification of\n",
    "        how many relevant items are selected.\n",
    "        \"\"\"\n",
    "        true_positives = K.sum(K.round(K.clip(y_true * y_pred, 0, 1)))\n",
    "        possible_positives = K.sum(K.round(K.clip(y_true, 0, 1)))\n",
    "        recall = true_positives / (possible_positives + K.epsilon())\n",
    "        return recall\n",
    "\n",
    "    def precision(y_true, y_pred):\n",
    "        \"\"\"Precision metric.\n",
    "\n",
    "        Only computes a batch-wise average of precision.\n",
    "\n",
    "        Computes the precision, a metric for multi-label classification of\n",
    "        how many selected items are relevant.\n",
    "        \"\"\"\n",
    "        true_positives = K.sum(K.round(K.clip(y_true * y_pred, 0, 1)))\n",
    "        predicted_positives = K.sum(K.round(K.clip(y_pred, 0, 1)))\n",
    "        precision = true_positives / (predicted_positives + K.epsilon())\n",
    "        return precision\n",
    "    precision = precision(y_true, y_pred)\n",
    "    recall = recall(y_true, y_pred)\n",
    "    return 2*((precision*recall)/(precision+recall+K.epsilon()))\n",
    "\n",
    "\n",
    "model.compile(loss='binary_crossentropy',\n",
    "          optimizer= \"adam\",\n",
    "          metrics=[f1])"
   ]
  },
  {
   "cell_type": "code",
   "execution_count": 277,
   "metadata": {},
   "outputs": [
    {
     "data": {
      "text/html": [
       "<div>\n",
       "<style scoped>\n",
       "    .dataframe tbody tr th:only-of-type {\n",
       "        vertical-align: middle;\n",
       "    }\n",
       "\n",
       "    .dataframe tbody tr th {\n",
       "        vertical-align: top;\n",
       "    }\n",
       "\n",
       "    .dataframe thead th {\n",
       "        text-align: right;\n",
       "    }\n",
       "</style>\n",
       "<table border=\"1\" class=\"dataframe\">\n",
       "  <thead>\n",
       "    <tr style=\"text-align: right;\">\n",
       "      <th></th>\n",
       "      <th>Player_name</th>\n",
       "      <th>player_id</th>\n",
       "      <th>SEASON</th>\n",
       "      <th>Tm_x</th>\n",
       "      <th>Draft_team</th>\n",
       "      <th>Pk</th>\n",
       "      <th>Pos</th>\n",
       "      <th>Age</th>\n",
       "      <th>G</th>\n",
       "      <th>MP</th>\n",
       "      <th>PER</th>\n",
       "      <th>TS%</th>\n",
       "      <th>3PAr</th>\n",
       "      <th>FTr</th>\n",
       "      <th>ORB%</th>\n",
       "      <th>DRB%</th>\n",
       "      <th>TRB%</th>\n",
       "      <th>AST%</th>\n",
       "      <th>STL%</th>\n",
       "      <th>BLK%</th>\n",
       "      <th>TOV%</th>\n",
       "      <th>USG%</th>\n",
       "      <th>OWS</th>\n",
       "      <th>DWS</th>\n",
       "      <th>WS</th>\n",
       "      <th>WS/48</th>\n",
       "      <th>OBPM</th>\n",
       "      <th>DBPM</th>\n",
       "      <th>BPM</th>\n",
       "      <th>VORP</th>\n",
       "      <th>College</th>\n",
       "      <th>Yrs</th>\n",
       "      <th>PTS</th>\n",
       "      <th>TRB</th>\n",
       "      <th>AST</th>\n",
       "      <th>FG%</th>\n",
       "      <th>3P%</th>\n",
       "      <th>FT%</th>\n",
       "      <th>PPG</th>\n",
       "      <th>RPG</th>\n",
       "      <th>APG</th>\n",
       "      <th>draft_round</th>\n",
       "      <th>target</th>\n",
       "      <th>neural</th>\n",
       "      <th>DRAFT_YEAR+1</th>\n",
       "      <th>tot</th>\n",
       "    </tr>\n",
       "  </thead>\n",
       "  <tbody>\n",
       "    <tr>\n",
       "      <th>0</th>\n",
       "      <td>Bam Adebayo</td>\n",
       "      <td>adebaba01</td>\n",
       "      <td>2019</td>\n",
       "      <td>MIA</td>\n",
       "      <td>MIA</td>\n",
       "      <td>14.0</td>\n",
       "      <td>C</td>\n",
       "      <td>21</td>\n",
       "      <td>82</td>\n",
       "      <td>1913</td>\n",
       "      <td>17.9</td>\n",
       "      <td>0.623</td>\n",
       "      <td>0.031</td>\n",
       "      <td>0.465</td>\n",
       "      <td>9.2</td>\n",
       "      <td>24.0</td>\n",
       "      <td>16.6</td>\n",
       "      <td>14.2</td>\n",
       "      <td>1.8</td>\n",
       "      <td>3.0</td>\n",
       "      <td>17.1</td>\n",
       "      <td>15.8</td>\n",
       "      <td>3.4</td>\n",
       "      <td>3.4</td>\n",
       "      <td>6.8</td>\n",
       "      <td>0.171</td>\n",
       "      <td>-0.6</td>\n",
       "      <td>3.6</td>\n",
       "      <td>3.0</td>\n",
       "      <td>2.4</td>\n",
       "      <td>University of Kentucky</td>\n",
       "      <td>2.0</td>\n",
       "      <td>1206.0</td>\n",
       "      <td>978.0</td>\n",
       "      <td>285.0</td>\n",
       "      <td>0.550</td>\n",
       "      <td>0.136</td>\n",
       "      <td>0.728</td>\n",
       "      <td>8.0</td>\n",
       "      <td>6.5</td>\n",
       "      <td>1.9</td>\n",
       "      <td>1.0</td>\n",
       "      <td>0</td>\n",
       "      <td>0</td>\n",
       "      <td>2018.0</td>\n",
       "      <td>3</td>\n",
       "    </tr>\n",
       "    <tr>\n",
       "      <th>1</th>\n",
       "      <td>Jarrett Allen</td>\n",
       "      <td>allenja01</td>\n",
       "      <td>2019</td>\n",
       "      <td>BRK</td>\n",
       "      <td>BRK</td>\n",
       "      <td>22.0</td>\n",
       "      <td>C</td>\n",
       "      <td>20</td>\n",
       "      <td>80</td>\n",
       "      <td>2096</td>\n",
       "      <td>18.5</td>\n",
       "      <td>0.632</td>\n",
       "      <td>0.079</td>\n",
       "      <td>0.489</td>\n",
       "      <td>9.6</td>\n",
       "      <td>24.0</td>\n",
       "      <td>16.8</td>\n",
       "      <td>7.9</td>\n",
       "      <td>1.0</td>\n",
       "      <td>4.5</td>\n",
       "      <td>13.0</td>\n",
       "      <td>15.9</td>\n",
       "      <td>4.4</td>\n",
       "      <td>3.3</td>\n",
       "      <td>7.6</td>\n",
       "      <td>0.175</td>\n",
       "      <td>-0.7</td>\n",
       "      <td>3.2</td>\n",
       "      <td>2.5</td>\n",
       "      <td>2.4</td>\n",
       "      <td>University of Texas at Austin</td>\n",
       "      <td>2.0</td>\n",
       "      <td>1460.0</td>\n",
       "      <td>1060.0</td>\n",
       "      <td>159.0</td>\n",
       "      <td>0.590</td>\n",
       "      <td>0.183</td>\n",
       "      <td>0.732</td>\n",
       "      <td>9.6</td>\n",
       "      <td>7.0</td>\n",
       "      <td>1.0</td>\n",
       "      <td>1.0</td>\n",
       "      <td>0</td>\n",
       "      <td>1</td>\n",
       "      <td>2018.0</td>\n",
       "      <td>3</td>\n",
       "    </tr>\n",
       "    <tr>\n",
       "      <th>2</th>\n",
       "      <td>Kadeem Allen</td>\n",
       "      <td>allenka01</td>\n",
       "      <td>2019</td>\n",
       "      <td>NYK</td>\n",
       "      <td>BOS</td>\n",
       "      <td>53.0</td>\n",
       "      <td>SG</td>\n",
       "      <td>26</td>\n",
       "      <td>19</td>\n",
       "      <td>416</td>\n",
       "      <td>16.2</td>\n",
       "      <td>0.574</td>\n",
       "      <td>0.255</td>\n",
       "      <td>0.383</td>\n",
       "      <td>2.0</td>\n",
       "      <td>11.1</td>\n",
       "      <td>6.4</td>\n",
       "      <td>28.7</td>\n",
       "      <td>1.9</td>\n",
       "      <td>0.8</td>\n",
       "      <td>13.6</td>\n",
       "      <td>19.6</td>\n",
       "      <td>0.7</td>\n",
       "      <td>0.2</td>\n",
       "      <td>1.0</td>\n",
       "      <td>0.111</td>\n",
       "      <td>0.5</td>\n",
       "      <td>-1.6</td>\n",
       "      <td>-1.1</td>\n",
       "      <td>0.1</td>\n",
       "      <td>University of Arizona</td>\n",
       "      <td>2.0</td>\n",
       "      <td>208.0</td>\n",
       "      <td>62.0</td>\n",
       "      <td>88.0</td>\n",
       "      <td>0.436</td>\n",
       "      <td>0.362</td>\n",
       "      <td>0.778</td>\n",
       "      <td>5.6</td>\n",
       "      <td>1.7</td>\n",
       "      <td>2.4</td>\n",
       "      <td>2.0</td>\n",
       "      <td>0</td>\n",
       "      <td>0</td>\n",
       "      <td>2018.0</td>\n",
       "      <td>0</td>\n",
       "    </tr>\n",
       "    <tr>\n",
       "      <th>3</th>\n",
       "      <td>Ike Anigbogu</td>\n",
       "      <td>anigbik01</td>\n",
       "      <td>2019</td>\n",
       "      <td>IND</td>\n",
       "      <td>IND</td>\n",
       "      <td>47.0</td>\n",
       "      <td>C</td>\n",
       "      <td>20</td>\n",
       "      <td>3</td>\n",
       "      <td>6</td>\n",
       "      <td>-6.0</td>\n",
       "      <td>0.000</td>\n",
       "      <td>0.000</td>\n",
       "      <td>0.000</td>\n",
       "      <td>18.9</td>\n",
       "      <td>36.2</td>\n",
       "      <td>27.7</td>\n",
       "      <td>19.4</td>\n",
       "      <td>0.0</td>\n",
       "      <td>14.8</td>\n",
       "      <td>25.0</td>\n",
       "      <td>29.1</td>\n",
       "      <td>-0.1</td>\n",
       "      <td>0.0</td>\n",
       "      <td>-0.1</td>\n",
       "      <td>-0.480</td>\n",
       "      <td>-22.5</td>\n",
       "      <td>8.5</td>\n",
       "      <td>-14.0</td>\n",
       "      <td>0.0</td>\n",
       "      <td>University of California Los Angeles</td>\n",
       "      <td>2.0</td>\n",
       "      <td>13.0</td>\n",
       "      <td>12.0</td>\n",
       "      <td>1.0</td>\n",
       "      <td>0.333</td>\n",
       "      <td>0.000</td>\n",
       "      <td>0.833</td>\n",
       "      <td>0.9</td>\n",
       "      <td>0.9</td>\n",
       "      <td>0.1</td>\n",
       "      <td>2.0</td>\n",
       "      <td>0</td>\n",
       "      <td>0</td>\n",
       "      <td>2018.0</td>\n",
       "      <td>0</td>\n",
       "    </tr>\n",
       "    <tr>\n",
       "      <th>4</th>\n",
       "      <td>OG Anunoby</td>\n",
       "      <td>anunoog01</td>\n",
       "      <td>2019</td>\n",
       "      <td>TOR</td>\n",
       "      <td>TOR</td>\n",
       "      <td>23.0</td>\n",
       "      <td>SF</td>\n",
       "      <td>21</td>\n",
       "      <td>67</td>\n",
       "      <td>1352</td>\n",
       "      <td>9.8</td>\n",
       "      <td>0.544</td>\n",
       "      <td>0.500</td>\n",
       "      <td>0.153</td>\n",
       "      <td>4.8</td>\n",
       "      <td>10.8</td>\n",
       "      <td>7.9</td>\n",
       "      <td>4.7</td>\n",
       "      <td>1.6</td>\n",
       "      <td>1.3</td>\n",
       "      <td>11.3</td>\n",
       "      <td>15.5</td>\n",
       "      <td>0.3</td>\n",
       "      <td>1.7</td>\n",
       "      <td>2.0</td>\n",
       "      <td>0.070</td>\n",
       "      <td>-1.3</td>\n",
       "      <td>0.1</td>\n",
       "      <td>-1.2</td>\n",
       "      <td>0.3</td>\n",
       "      <td>Indiana University</td>\n",
       "      <td>2.0</td>\n",
       "      <td>907.0</td>\n",
       "      <td>381.0</td>\n",
       "      <td>102.0</td>\n",
       "      <td>0.461</td>\n",
       "      <td>0.351</td>\n",
       "      <td>0.605</td>\n",
       "      <td>6.4</td>\n",
       "      <td>2.7</td>\n",
       "      <td>0.7</td>\n",
       "      <td>1.0</td>\n",
       "      <td>0</td>\n",
       "      <td>0</td>\n",
       "      <td>2018.0</td>\n",
       "      <td>0</td>\n",
       "    </tr>\n",
       "  </tbody>\n",
       "</table>\n",
       "</div>"
      ],
      "text/plain": [
       "     Player_name  player_id  SEASON Tm_x Draft_team    Pk Pos  Age   G    MP   PER    TS%   3PAr    FTr  ORB%  DRB%  TRB%  AST%  STL%  BLK%  TOV%  USG%  OWS  DWS   WS  WS/48  OBPM  DBPM   BPM  VORP                               College  Yrs     PTS     TRB    AST    FG%    3P%    FT%  PPG  RPG  APG  draft_round  target  neural  DRAFT_YEAR+1  tot\n",
       "0    Bam Adebayo  adebaba01    2019  MIA        MIA  14.0   C   21  82  1913  17.9  0.623  0.031  0.465   9.2  24.0  16.6  14.2   1.8   3.0  17.1  15.8  3.4  3.4  6.8  0.171  -0.6   3.6   3.0   2.4                University of Kentucky  2.0  1206.0   978.0  285.0  0.550  0.136  0.728  8.0  6.5  1.9          1.0       0       0        2018.0    3\n",
       "1  Jarrett Allen  allenja01    2019  BRK        BRK  22.0   C   20  80  2096  18.5  0.632  0.079  0.489   9.6  24.0  16.8   7.9   1.0   4.5  13.0  15.9  4.4  3.3  7.6  0.175  -0.7   3.2   2.5   2.4         University of Texas at Austin  2.0  1460.0  1060.0  159.0  0.590  0.183  0.732  9.6  7.0  1.0          1.0       0       1        2018.0    3\n",
       "2   Kadeem Allen  allenka01    2019  NYK        BOS  53.0  SG   26  19   416  16.2  0.574  0.255  0.383   2.0  11.1   6.4  28.7   1.9   0.8  13.6  19.6  0.7  0.2  1.0  0.111   0.5  -1.6  -1.1   0.1                 University of Arizona  2.0   208.0    62.0   88.0  0.436  0.362  0.778  5.6  1.7  2.4          2.0       0       0        2018.0    0\n",
       "3   Ike Anigbogu  anigbik01    2019  IND        IND  47.0   C   20   3     6  -6.0  0.000  0.000  0.000  18.9  36.2  27.7  19.4   0.0  14.8  25.0  29.1 -0.1  0.0 -0.1 -0.480 -22.5   8.5 -14.0   0.0  University of California Los Angeles  2.0    13.0    12.0    1.0  0.333  0.000  0.833  0.9  0.9  0.1          2.0       0       0        2018.0    0\n",
       "4     OG Anunoby  anunoog01    2019  TOR        TOR  23.0  SF   21  67  1352   9.8  0.544  0.500  0.153   4.8  10.8   7.9   4.7   1.6   1.3  11.3  15.5  0.3  1.7  2.0  0.070  -1.3   0.1  -1.2   0.3                    Indiana University  2.0   907.0   381.0  102.0  0.461  0.351  0.605  6.4  2.7  0.7          1.0       0       0        2018.0    0"
      ]
     },
     "execution_count": 277,
     "metadata": {},
     "output_type": "execute_result"
    }
   ],
   "source": [
    "test_master_w_predictions = pd.merge(test_master, predicted_player_nn, left_on='Player_name', right_on='Player_name')\n",
    "test_master_w_predictions = pd.merge(test_master_w_predictions, predicted_player, left_on='Player_name', right_on='Player_name')\n",
    "test_master_w_predictions.drop(columns=['lr_class', 'lr_class', 'tree_class', 'ada_class', 'knn_class', 'bag_class', 'svc', 'grad', 'forest_class', 'DRAFT_YEAR+1_x', 'DRAFT_YEAR+1_y'], inplace=True)\n",
    "test_master_w_predictions.head()"
   ]
  },
  {
   "cell_type": "code",
   "execution_count": 274,
   "metadata": {},
   "outputs": [
    {
     "data": {
      "application/vnd.plotly.v1+json": {
       "config": {
        "plotlyServerURL": "https://plot.ly"
       },
       "data": [
        {
         "customdata": [
          [
           15.8,
           17.9,
           1913,
           2.4,
           21
          ],
          [
           19.6,
           16.2,
           416,
           0.1,
           26
          ],
          [
           29.1,
           -6,
           6,
           0,
           20
          ],
          [
           15.5,
           9.8,
           1352,
           0.3,
           21
          ],
          [
           16.8,
           11.7,
           759,
           -0.3,
           23
          ],
          [
           16.9,
           11.7,
           1423,
           0.9,
           21
          ],
          [
           13.7,
           12.9,
           788,
           0.3,
           24
          ],
          [
           12.2,
           10.2,
           439,
           -0.3,
           25
          ],
          [
           13.8,
           12.7,
           639,
           0.5,
           23
          ],
          [
           23.6,
           19.6,
           36,
           0,
           21
          ],
          [
           20.9,
           7.6,
           330,
           -0.3,
           23
          ],
          [
           15.2,
           10.9,
           1034,
           0.1,
           23
          ],
          [
           16.6,
           13.5,
           1356,
           0.7,
           21
          ],
          [
           17.9,
           7.8,
           251,
           -0.3,
           22
          ],
          [
           17.9,
           7.8,
           251,
           -0.3,
           22
          ],
          [
           17.9,
           7.8,
           251,
           -0.3,
           22
          ],
          [
           17.9,
           7.8,
           251,
           -0.3,
           22
          ],
          [
           20.7,
           13.1,
           447,
           0,
           22
          ],
          [
           20.7,
           13.1,
           447,
           0,
           22
          ],
          [
           20.7,
           13.1,
           447,
           0,
           22
          ],
          [
           20.7,
           13.1,
           447,
           0,
           22
          ],
          [
           17.3,
           10.8,
           2004,
           -0.2,
           24
          ],
          [
           12.7,
           0.7,
           64,
           -0.1,
           22
          ],
          [
           12.7,
           0.7,
           64,
           -0.1,
           22
          ],
          [
           12.7,
           0.7,
           64,
           -0.1,
           22
          ],
          [
           12.7,
           0.7,
           64,
           -0.1,
           22
          ],
          [
           40.7,
           -38.1,
           1,
           0,
           22
          ],
          [
           40.7,
           -38.1,
           1,
           0,
           22
          ],
          [
           40.7,
           -38.1,
           1,
           0,
           22
          ],
          [
           40.7,
           -38.1,
           1,
           0,
           22
          ],
          [
           10.6,
           6.4,
           1931,
           0,
           20
          ],
          [
           19.3,
           10.5,
           427,
           -0.1,
           20
          ],
          [
           23.2,
           14.4,
           820,
           0,
           20
          ],
          [
           13.5,
           9.3,
           1715,
           0.6,
           23
          ],
          [
           11.8,
           10,
           221,
           0.1,
           20
          ],
          [
           16.3,
           13,
           1996,
           1.1,
           21
          ],
          [
           12.8,
           8.7,
           1233,
           -0.2,
           24
          ],
          [
           18.5,
           9.4,
           1169,
           -0.9,
           20
          ],
          [
           23.9,
           10.6,
           1988,
           -1.4,
           21
          ],
          [
           12.9,
           10.1,
           1083,
           0.1,
           23
          ],
          [
           12.9,
           10.1,
           1083,
           0.1,
           23
          ],
          [
           12.9,
           10.1,
           1083,
           0.1,
           23
          ],
          [
           12.9,
           10.1,
           1083,
           0.1,
           23
          ],
          [
           17,
           13.9,
           531,
           0.1,
           23
          ],
          [
           17,
           13.9,
           531,
           0.1,
           23
          ],
          [
           17,
           13.9,
           531,
           0.1,
           23
          ],
          [
           17,
           13.9,
           531,
           0.1,
           23
          ],
          [
           18.1,
           11.9,
           1437,
           0.2,
           22
          ],
          [
           17.5,
           16.9,
           522,
           0.1,
           21
          ],
          [
           10.6,
           9.3,
           94,
           0,
           22
          ],
          [
           21.8,
           12.4,
           435,
           -0.3,
           24
          ],
          [
           24.6,
           11.8,
           1258,
           -0.6,
           20
          ],
          [
           17.1,
           16.2,
           1970,
           1.1,
           23
          ],
          [
           16.6,
           6,
           904,
           -0.8,
           20
          ],
          [
           14.1,
           8.5,
           594,
           -0.3,
           24
          ],
          [
           15.7,
           10.5,
           21,
           0,
           21
          ],
          [
           17.2,
           16.1,
           721,
           0.2,
           21
          ],
          [
           12.1,
           8.1,
           47,
           0,
           23
          ],
          [
           23.3,
           11.5,
           908,
           -0.1,
           21
          ],
          [
           23.3,
           11.5,
           908,
           -0.1,
           21
          ],
          [
           23.3,
           11.5,
           908,
           -0.1,
           21
          ],
          [
           23.3,
           11.5,
           908,
           -0.1,
           21
          ],
          [
           27,
           13.5,
           600,
           -0.1,
           21
          ],
          [
           27,
           13.5,
           600,
           -0.1,
           21
          ],
          [
           27,
           13.5,
           600,
           -0.1,
           21
          ],
          [
           27,
           13.5,
           600,
           -0.1,
           21
          ],
          [
           17.6,
           7.6,
           210,
           -0.1,
           23
          ],
          [
           18.4,
           3.1,
           145,
           -0.3,
           21
          ],
          [
           18.4,
           3.1,
           145,
           -0.3,
           21
          ],
          [
           18.4,
           3.1,
           145,
           -0.3,
           21
          ],
          [
           18.4,
           3.1,
           145,
           -0.3,
           21
          ],
          [
           14.9,
           11.7,
           33,
           0,
           21
          ],
          [
           14.9,
           11.7,
           33,
           0,
           21
          ],
          [
           14.9,
           11.7,
           33,
           0,
           21
          ],
          [
           14.9,
           11.7,
           33,
           0,
           21
          ],
          [
           11.3,
           5.2,
           313,
           -0.2,
           24
          ],
          [
           17.7,
           14.8,
           1728,
           1.3,
           24
          ],
          [
           14.4,
           10.3,
           882,
           0.1,
           22
          ],
          [
           16.1,
           16.6,
           80,
           0,
           21
          ],
          [
           16.2,
           9,
           583,
           -0.5,
           21
          ],
          [
           18.2,
           7.6,
           455,
           -0.3,
           23
          ],
          [
           12.7,
           7.1,
           2069,
           -0.4,
           20
          ],
          [
           12.6,
           11.7,
           38,
           -0.1,
           24
          ],
          [
           19.1,
           14.3,
           1436,
           0.2,
           25
          ],
          [
           21.4,
           13.6,
           2152,
           1,
           21
          ],
          [
           18.1,
           11.1,
           1527,
           0,
           20
          ],
          [
           15.3,
           16.6,
           943,
           0.3,
           21
          ],
          [
           17.4,
           17,
           581,
           -0.2,
           21
          ],
          [
           24.7,
           14.5,
           1525,
           0.7,
           23
          ],
          [
           23.8,
           10.5,
           329,
           -0.4,
           21
          ],
          [
           19.9,
           18.2,
           28,
           0,
           22
          ],
          [
           14,
           9.7,
           277,
           -0.1,
           22
          ],
          [
           24.3,
           16.1,
           2024,
           0.9,
           25
          ],
          [
           13.9,
           6.8,
           89,
           -0.1,
           22
          ],
          [
           16.9,
           3.4,
           80,
           -0.1,
           20
          ],
          [
           21.1,
           14.3,
           1240,
           -0.2,
           21
          ],
          [
           14.6,
           4.9,
           160,
           -0.1,
           23
          ],
          [
           22.5,
           14.2,
           1864,
           0.7,
           23
          ],
          [
           17.5,
           7,
           807,
           -0.5,
           22
          ],
          [
           14.6,
           10.2,
           1238,
           -0.2,
           20
          ],
          [
           12.8,
           7.4,
           961,
           -0.3,
           22
          ],
          [
           20.7,
           15.1,
           1743,
           1.4,
           21
          ],
          [
           17.1,
           5.1,
           522,
           -0.5,
           24
          ],
          [
           20.9,
           9.2,
           32,
           0,
           24
          ],
          [
           16.1,
           -3.2,
           22,
           -0.1,
           21
          ],
          [
           23,
           9.1,
           28,
           0,
           24
          ],
          [
           14.8,
           17.5,
           1524,
           2,
           22
          ],
          [
           16.8,
           1.9,
           124,
           -0.2,
           22
          ],
          [
           15.7,
           14.5,
           1679,
           1.7,
           23
          ],
          [
           18.5,
           10.1,
           1658,
           -1.3,
           22
          ],
          [
           17.5,
           12.1,
           2095,
           0.8,
           24
          ],
          [
           16.6,
           10.1,
           851,
           0,
           23
          ],
          [
           22.1,
           12.8,
           2464,
           0.8,
           23
          ],
          [
           28.5,
           11.5,
           180,
           -0.2,
           22
          ],
          [
           15.7,
           12.3,
           235,
           0.1,
           22
          ],
          [
           15.2,
           5.2,
           824,
           -0.8,
           23
          ],
          [
           17.6,
           15.3,
           410,
           0,
           20
          ],
          [
           19.7,
           16.3,
           1421,
           0.3,
           23
          ],
          [
           13.1,
           10.4,
           219,
           -0.1,
           25
          ],
          [
           13,
           11.8,
           316,
           0,
           24
          ],
          [
           14.9,
           13.1,
           1419,
           0.3,
           22
          ],
          [
           16,
           13.2,
           1028,
           0.4,
           24
          ],
          [
           16.4,
           8.7,
           1474,
           -0.2,
           22
          ],
          [
           20.3,
           19,
           1324,
           0.7,
           22
          ],
          [
           18.8,
           7.2,
           960,
           -0.9,
           21
          ],
          [
           19.3,
           5.9,
           381,
           -0.4,
           23
          ],
          [
           18.7,
           13.7,
           1761,
           0.4,
           22
          ],
          [
           4.8,
           -3.2,
           9,
           0,
           23
          ],
          [
           14.8,
           7.2,
           1371,
           0,
           20
          ],
          [
           13.6,
           13.8,
           774,
           0,
           20
          ],
          [
           21.8,
           13,
           1954,
           0.2,
           23
          ],
          [
           13.4,
           13.6,
           447,
           0.3,
           20
          ],
          [
           21.7,
           9.9,
           1158,
           -0.3,
           21
          ],
          [
           16.4,
           8.7,
           558,
           -0.6,
           22
          ],
          [
           15.5,
           9.8,
           141,
           -0.1,
           22
          ],
          [
           22.6,
           10.9,
           1406,
           -0.6,
           20
          ],
          [
           13.4,
           15.7,
           1442,
           1.4,
           24
          ],
          [
           14.6,
           9.1,
           1605,
           -0.1,
           21
          ],
          [
           19.1,
           14.9,
           1000,
           -0.3,
           21
          ],
          [
           21.1,
           14,
           1368,
           0.2,
           23
          ],
          [
           16.8,
           10.7,
           1614,
           0.9,
           23
          ],
          [
           17.1,
           10.9,
           1263,
           -0.2,
           22
          ],
          [
           17.2,
           7.8,
           458,
           -0.3,
           20
          ],
          [
           19.8,
           8.2,
           625,
           -0.1,
           20
          ],
          [
           16.6,
           15,
           446,
           0.4,
           24
          ],
          [
           27.8,
           11.4,
           135,
           -0.2,
           24
          ]
         ],
         "hoverlabel": {
          "namelength": 0
         },
         "hovertemplate": "<b>%{hovertext}</b><br><br>neural=%{marker.color}<br>VORP=%{customdata[3]}<br>WS=%{y}<br>MP=%{customdata[2]}<br>USG%=%{customdata[0]}<br>PER=%{customdata[1]}<br>Age=%{customdata[4]}",
         "hovertext": [
          "Bam Adebayo",
          "Kadeem Allen",
          "Ike Anigbogu",
          "OG Anunoby",
          "Dwayne Bacon",
          "Lonzo Ball",
          "Jordan Bell",
          "Jaron Blossomgame",
          "Jonah Bolden",
          "Tony Bradley",
          "Dillon Brooks",
          "Sterling Brown",
          "Zach Collins",
          "Tyler Dorsey",
          "Tyler Dorsey",
          "Tyler Dorsey",
          "Tyler Dorsey",
          "Tyler Dorsey",
          "Tyler Dorsey",
          "Tyler Dorsey",
          "Tyler Dorsey",
          "Damyean Dotson",
          "Jawun Evans",
          "Jawun Evans",
          "Jawun Evans",
          "Jawun Evans",
          "Jawun Evans",
          "Jawun Evans",
          "Jawun Evans",
          "Jawun Evans",
          "Terrance Ferguson",
          "Markelle Fultz",
          "Harry Giles",
          "Josh Hart",
          "Isaiah Hartenstein",
          "Jonathan Isaac",
          "Wesley Iwundu",
          "Frank Jackson",
          "Josh Jackson",
          "Justin Jackson",
          "Justin Jackson",
          "Justin Jackson",
          "Justin Jackson",
          "Justin Jackson",
          "Justin Jackson",
          "Justin Jackson",
          "Justin Jackson",
          "Luke Kennard",
          "T.J. Leaf",
          "Tyler Lydon",
          "Frank Mason",
          "Malik Monk",
          "Monte Morris",
          "Frank Ntilikina",
          "Semi Ojeleye",
          "Justin Patton",
          "Ivan Rabb",
          "Davon Reed",
          "Dennis Smith",
          "Dennis Smith",
          "Dennis Smith",
          "Dennis Smith",
          "Dennis Smith",
          "Dennis Smith",
          "Dennis Smith",
          "Dennis Smith",
          "Edmond Sumner",
          "Caleb Swanigan",
          "Caleb Swanigan",
          "Caleb Swanigan",
          "Caleb Swanigan",
          "Caleb Swanigan",
          "Caleb Swanigan",
          "Caleb Swanigan",
          "Caleb Swanigan",
          "Sindarius Thornwell",
          "Derrick White",
          "D.J. Wilson",
          "Wade Baldwin",
          "Malik Beasley",
          "DeAndre' Bembry",
          "Dragan Bender",
          "Joel Bolomboy",
          "Malcolm Brogdon",
          "Jaylen Brown",
          "Marquese Chriss",
          "Deyonta Davis",
          "Cheick Diallo",
          "Kris Dunn",
          "Henry Ellenson",
          "Daniel Hamilton",
          "Juan Hernangómez",
          "Buddy Hield",
          "Damian Jones",
          "Furkan Korkmaz",
          "Skal Labissière",
          "Jake Layman",
          "Caris LeVert",
          "Timothé Luwawu-Cabarrot",
          "Thon Maker",
          "Patrick McCaw",
          "Dejounte Murray",
          "Abdel Nader",
          "Georges Niang",
          "Chinanu Onuaku",
          "Marcus Paige",
          "Jakob Pöltl",
          "Zhou Qi",
          "Pascal Siakam",
          "Tyler Ulis",
          "Denzel Valentine",
          "Tyrone Wallace",
          "Taurean Waller-Prince",
          "Isaiah Whitehead",
          "Guerschon Yabusele",
          "Paul Zipser",
          "Ivica Zubac",
          "Willie Cauley-Stein",
          "Rakeem Christmas",
          "Pat Connaughton",
          "Sam Dekker",
          "Jerian Grant",
          "Andrew Harrison",
          "Willy Hernangomez",
          "Mario Hezonja",
          "Darrun Hilliard",
          "Rondae Hollis-Jefferson",
          "R.J. Hunter",
          "Stanley Johnson",
          "Tyus Jones",
          "Frank Kaminsky",
          "Kevon Looney",
          "Trey Lyles",
          "Jarell Martin",
          "Jordan Mickey",
          "Emmanuel Mudiay",
          "Larry Nance",
          "Kelly Oubre",
          "Bobby Portis",
          "Norman Powell",
          "Josh Richardson",
          "Terry Rozier",
          "Rashad Vaughn",
          "Justise Winslow",
          "Delon Wright",
          "Joe Young"
         ],
         "legendgroup": "neural=0",
         "marker": {
          "color": [
           0,
           0,
           0,
           0,
           0,
           0,
           0,
           0,
           0,
           0,
           0,
           0,
           0,
           0,
           0,
           0,
           0,
           0,
           0,
           0,
           0,
           0,
           0,
           0,
           0,
           0,
           0,
           0,
           0,
           0,
           0,
           0,
           0,
           0,
           0,
           0,
           0,
           0,
           0,
           0,
           0,
           0,
           0,
           0,
           0,
           0,
           0,
           0,
           0,
           0,
           0,
           0,
           0,
           0,
           0,
           0,
           0,
           0,
           0,
           0,
           0,
           0,
           0,
           0,
           0,
           0,
           0,
           0,
           0,
           0,
           0,
           0,
           0,
           0,
           0,
           0,
           0,
           0,
           0,
           0,
           0,
           0,
           0,
           0,
           0,
           0,
           0,
           0,
           0,
           0,
           0,
           0,
           0,
           0,
           0,
           0,
           0,
           0,
           0,
           0,
           0,
           0,
           0,
           0,
           0,
           0,
           0,
           0,
           0,
           0,
           0,
           0,
           0,
           0,
           0,
           0,
           0,
           0,
           0,
           0,
           0,
           0,
           0,
           0,
           0,
           0,
           0,
           0,
           0,
           0,
           0,
           0,
           0,
           0,
           0,
           0,
           0,
           0,
           0,
           0,
           0,
           0,
           0,
           0,
           0,
           0
          ],
          "coloraxis": "coloraxis",
          "line": {
           "color": "DarkSlateGrey",
           "width": 1
          },
          "size": 10,
          "symbol": "circle"
         },
         "mode": "markers",
         "name": "neural=0",
         "scene": "scene",
         "showlegend": true,
         "type": "scatter3d",
         "x": [
          2.4,
          0.1,
          0,
          0.3,
          -0.3,
          0.9,
          0.3,
          -0.3,
          0.5,
          0,
          -0.3,
          0.1,
          0.7,
          -0.3,
          -0.3,
          -0.3,
          -0.3,
          0,
          0,
          0,
          0,
          -0.2,
          -0.1,
          -0.1,
          -0.1,
          -0.1,
          0,
          0,
          0,
          0,
          0,
          -0.1,
          0,
          0.6,
          0.1,
          1.1,
          -0.2,
          -0.9,
          -1.4,
          0.1,
          0.1,
          0.1,
          0.1,
          0.1,
          0.1,
          0.1,
          0.1,
          0.2,
          0.1,
          0,
          -0.3,
          -0.6,
          1.1,
          -0.8,
          -0.3,
          0,
          0.2,
          0,
          -0.1,
          -0.1,
          -0.1,
          -0.1,
          -0.1,
          -0.1,
          -0.1,
          -0.1,
          -0.1,
          -0.3,
          -0.3,
          -0.3,
          -0.3,
          0,
          0,
          0,
          0,
          -0.2,
          1.3,
          0.1,
          0,
          -0.5,
          -0.3,
          -0.4,
          -0.1,
          0.2,
          1,
          0,
          0.3,
          -0.2,
          0.7,
          -0.4,
          0,
          -0.1,
          0.9,
          -0.1,
          -0.1,
          -0.2,
          -0.1,
          0.7,
          -0.5,
          -0.2,
          -0.3,
          1.4,
          -0.5,
          0,
          -0.1,
          0,
          2,
          -0.2,
          1.7,
          -1.3,
          0.8,
          0,
          0.8,
          -0.2,
          0.1,
          -0.8,
          0,
          0.3,
          -0.1,
          0,
          0.3,
          0.4,
          -0.2,
          0.7,
          -0.9,
          -0.4,
          0.4,
          0,
          0,
          0,
          0.2,
          0.3,
          -0.3,
          -0.6,
          -0.1,
          -0.6,
          1.4,
          -0.1,
          -0.3,
          0.2,
          0.9,
          -0.2,
          -0.3,
          -0.1,
          0.4,
          -0.2
         ],
         "y": [
          6.8,
          1,
          -0.1,
          2,
          1.2,
          1.6,
          1.6,
          0.3,
          1.4,
          0.1,
          0,
          2.1,
          2.9,
          -0.1,
          -0.1,
          -0.1,
          -0.1,
          0.7,
          0.7,
          0.7,
          0.7,
          1.5,
          -0.2,
          -0.2,
          -0.2,
          -0.2,
          0,
          0,
          0,
          0,
          2.8,
          0.3,
          1,
          2.1,
          0.5,
          4,
          1.9,
          0.4,
          -1.7,
          1.6,
          1.6,
          1.6,
          1.6,
          1.3,
          1.3,
          1.3,
          1.3,
          2.5,
          1.6,
          0.2,
          0.3,
          0.3,
          6.2,
          -0.8,
          0.7,
          0,
          2.1,
          0.1,
          0.2,
          0.2,
          0.2,
          0.2,
          -0.2,
          -0.2,
          -0.2,
          -0.2,
          0.1,
          -0.3,
          -0.3,
          -0.3,
          -0.3,
          0,
          0,
          0,
          0,
          0,
          3.6,
          1.7,
          0.3,
          0.3,
          -0.4,
          0.1,
          0.1,
          2.7,
          4.5,
          0.7,
          2.7,
          1.9,
          0.9,
          0.1,
          0.1,
          0.4,
          2.8,
          0.1,
          0,
          1.4,
          -0.1,
          2.3,
          0.8,
          1.5,
          0.6,
          3.2,
          -0.1,
          0,
          -0.1,
          0,
          5.6,
          -0.3,
          4.7,
          -0.2,
          2.5,
          0.7,
          2,
          -0.1,
          0.6,
          -0.6,
          1,
          2.9,
          0.5,
          0.6,
          3.1,
          2.5,
          1.6,
          3.4,
          -0.7,
          -0.2,
          2.6,
          0,
          0.4,
          1.5,
          2.3,
          1.4,
          0.8,
          0.6,
          0.1,
          0.2,
          3.5,
          2,
          2.4,
          2.8,
          2.2,
          1.4,
          0,
          -0.1,
          1.1,
          -0.1
         ],
         "z": [
          1913,
          416,
          6,
          1352,
          759,
          1423,
          788,
          439,
          639,
          36,
          330,
          1034,
          1356,
          251,
          251,
          251,
          251,
          447,
          447,
          447,
          447,
          2004,
          64,
          64,
          64,
          64,
          1,
          1,
          1,
          1,
          1931,
          427,
          820,
          1715,
          221,
          1996,
          1233,
          1169,
          1988,
          1083,
          1083,
          1083,
          1083,
          531,
          531,
          531,
          531,
          1437,
          522,
          94,
          435,
          1258,
          1970,
          904,
          594,
          21,
          721,
          47,
          908,
          908,
          908,
          908,
          600,
          600,
          600,
          600,
          210,
          145,
          145,
          145,
          145,
          33,
          33,
          33,
          33,
          313,
          1728,
          882,
          80,
          583,
          455,
          2069,
          38,
          1436,
          2152,
          1527,
          943,
          581,
          1525,
          329,
          28,
          277,
          2024,
          89,
          80,
          1240,
          160,
          1864,
          807,
          1238,
          961,
          1743,
          522,
          32,
          22,
          28,
          1524,
          124,
          1679,
          1658,
          2095,
          851,
          2464,
          180,
          235,
          824,
          410,
          1421,
          219,
          316,
          1419,
          1028,
          1474,
          1324,
          960,
          381,
          1761,
          9,
          1371,
          774,
          1954,
          447,
          1158,
          558,
          141,
          1406,
          1442,
          1605,
          1000,
          1368,
          1614,
          1263,
          458,
          625,
          446,
          135
         ]
        },
        {
         "customdata": [
          [
           15.9,
           18.5,
           2096,
           2.4,
           20
          ],
          [
           24.5,
           18.1,
           2546,
           2,
           21
          ],
          [
           23.8,
           14,
           2314,
           0.2,
           23
          ],
          [
           25.1,
           17.1,
           1682,
           0,
           21
          ],
          [
           31.6,
           17.2,
           2598,
           1.7,
           22
          ],
          [
           22.1,
           15.1,
           2455,
           0.8,
           20
          ],
          [
           22.2,
           13.8,
           1975,
           0.4,
           20
          ],
          [
           22.8,
           16.1,
           2565,
           1.2,
           20
          ],
          [
           22.1,
           17.5,
           1810,
           0.8,
           21
          ],
          [
           22.3,
           20,
           2732,
           4.6,
           21
          ],
          [
           18.8,
           24.2,
           214,
           0.1,
           21
          ],
          [
           28.6,
           14.6,
           2730,
           -0.2,
           20
          ],
          [
           17.6,
           19.2,
           1064,
           0.8,
           23
          ],
          [
           18.6,
           18.6,
           1193,
           1.1,
           23
          ],
          [
           24.1,
           14.8,
           1134,
           -0.4,
           21
          ],
          [
           24.3,
           17.4,
           2164,
           1.2,
           21
          ],
          [
           26.6,
           15.3,
           1811,
           0.7,
           20
          ],
          [
           19.5,
           18.5,
           2541,
           2.8,
           20
          ]
         ],
         "hoverlabel": {
          "namelength": 0
         },
         "hovertemplate": "<b>%{hovertext}</b><br><br>neural=%{marker.color}<br>VORP=%{customdata[3]}<br>WS=%{y}<br>MP=%{customdata[2]}<br>USG%=%{customdata[0]}<br>PER=%{customdata[1]}<br>Age=%{customdata[4]}",
         "hovertext": [
          "Jarrett Allen",
          "De'Aaron Fox",
          "Kyle Kuzma",
          "Lauri Markkanen",
          "Donovan Mitchell",
          "Jayson Tatum",
          "Brandon Ingram",
          "Jamal Murray",
          "Domantas Sabonis",
          "Ben Simmons",
          "Ante Žižić",
          "Devin Booker",
          "Montrezl Harrell",
          "Richaun Holmes",
          "Jahlil Okafor",
          "Kristaps Porzingis",
          "D'Angelo Russell",
          "Myles Turner"
         ],
         "legendgroup": "neural=1",
         "marker": {
          "color": [
           1,
           1,
           1,
           1,
           1,
           1,
           1,
           1,
           1,
           1,
           1,
           1,
           1,
           1,
           1,
           1,
           1,
           1
          ],
          "coloraxis": "coloraxis",
          "line": {
           "color": "DarkSlateGrey",
           "width": 1
          },
          "size": 10,
          "symbol": "diamond"
         },
         "mode": "markers",
         "name": "neural=1",
         "scene": "scene",
         "showlegend": true,
         "type": "scatter3d",
         "x": [
          2.4,
          2,
          0.2,
          0,
          1.7,
          0.8,
          0.4,
          1.2,
          0.8,
          4.6,
          0.1,
          -0.2,
          0.8,
          1.1,
          -0.4,
          1.2,
          0.7,
          2.8
         ],
         "y": [
          7.6,
          5.6,
          3.1,
          2.7,
          5,
          5,
          2.8,
          5.5,
          4.7,
          9.2,
          1,
          2,
          4.1,
          3.8,
          1.2,
          4.5,
          1.3,
          8
         ],
         "z": [
          2096,
          2546,
          2314,
          1682,
          2598,
          2455,
          1975,
          2565,
          1810,
          2732,
          214,
          2730,
          1064,
          1193,
          1134,
          2164,
          1811,
          2541
         ]
        }
       ],
       "layout": {
        "coloraxis": {
         "colorbar": {
          "title": {
           "text": "neural"
          }
         },
         "colorscale": [
          [
           0,
           "#0d0887"
          ],
          [
           0.1111111111111111,
           "#46039f"
          ],
          [
           0.2222222222222222,
           "#7201a8"
          ],
          [
           0.3333333333333333,
           "#9c179e"
          ],
          [
           0.4444444444444444,
           "#bd3786"
          ],
          [
           0.5555555555555556,
           "#d8576b"
          ],
          [
           0.6666666666666666,
           "#ed7953"
          ],
          [
           0.7777777777777778,
           "#fb9f3a"
          ],
          [
           0.8888888888888888,
           "#fdca26"
          ],
          [
           1,
           "#f0f921"
          ]
         ]
        },
        "height": 600,
        "legend": {
         "orientation": "h",
         "tracegroupgap": 0
        },
        "margin": {
         "t": 60
        },
        "scene": {
         "domain": {
          "x": [
           0,
           0.98
          ],
          "y": [
           0,
           1
          ]
         },
         "xaxis": {
          "title": {
           "text": "VORP"
          }
         },
         "yaxis": {
          "title": {
           "text": "WS"
          }
         },
         "zaxis": {
          "title": {
           "text": "MP"
          }
         }
        },
        "template": {
         "data": {
          "bar": [
           {
            "error_x": {
             "color": "#2a3f5f"
            },
            "error_y": {
             "color": "#2a3f5f"
            },
            "marker": {
             "line": {
              "color": "#E5ECF6",
              "width": 0.5
             }
            },
            "type": "bar"
           }
          ],
          "barpolar": [
           {
            "marker": {
             "line": {
              "color": "#E5ECF6",
              "width": 0.5
             }
            },
            "type": "barpolar"
           }
          ],
          "carpet": [
           {
            "aaxis": {
             "endlinecolor": "#2a3f5f",
             "gridcolor": "white",
             "linecolor": "white",
             "minorgridcolor": "white",
             "startlinecolor": "#2a3f5f"
            },
            "baxis": {
             "endlinecolor": "#2a3f5f",
             "gridcolor": "white",
             "linecolor": "white",
             "minorgridcolor": "white",
             "startlinecolor": "#2a3f5f"
            },
            "type": "carpet"
           }
          ],
          "choropleth": [
           {
            "colorbar": {
             "outlinewidth": 0,
             "ticks": ""
            },
            "type": "choropleth"
           }
          ],
          "contour": [
           {
            "colorbar": {
             "outlinewidth": 0,
             "ticks": ""
            },
            "colorscale": [
             [
              0,
              "#0d0887"
             ],
             [
              0.1111111111111111,
              "#46039f"
             ],
             [
              0.2222222222222222,
              "#7201a8"
             ],
             [
              0.3333333333333333,
              "#9c179e"
             ],
             [
              0.4444444444444444,
              "#bd3786"
             ],
             [
              0.5555555555555556,
              "#d8576b"
             ],
             [
              0.6666666666666666,
              "#ed7953"
             ],
             [
              0.7777777777777778,
              "#fb9f3a"
             ],
             [
              0.8888888888888888,
              "#fdca26"
             ],
             [
              1,
              "#f0f921"
             ]
            ],
            "type": "contour"
           }
          ],
          "contourcarpet": [
           {
            "colorbar": {
             "outlinewidth": 0,
             "ticks": ""
            },
            "type": "contourcarpet"
           }
          ],
          "heatmap": [
           {
            "colorbar": {
             "outlinewidth": 0,
             "ticks": ""
            },
            "colorscale": [
             [
              0,
              "#0d0887"
             ],
             [
              0.1111111111111111,
              "#46039f"
             ],
             [
              0.2222222222222222,
              "#7201a8"
             ],
             [
              0.3333333333333333,
              "#9c179e"
             ],
             [
              0.4444444444444444,
              "#bd3786"
             ],
             [
              0.5555555555555556,
              "#d8576b"
             ],
             [
              0.6666666666666666,
              "#ed7953"
             ],
             [
              0.7777777777777778,
              "#fb9f3a"
             ],
             [
              0.8888888888888888,
              "#fdca26"
             ],
             [
              1,
              "#f0f921"
             ]
            ],
            "type": "heatmap"
           }
          ],
          "heatmapgl": [
           {
            "colorbar": {
             "outlinewidth": 0,
             "ticks": ""
            },
            "colorscale": [
             [
              0,
              "#0d0887"
             ],
             [
              0.1111111111111111,
              "#46039f"
             ],
             [
              0.2222222222222222,
              "#7201a8"
             ],
             [
              0.3333333333333333,
              "#9c179e"
             ],
             [
              0.4444444444444444,
              "#bd3786"
             ],
             [
              0.5555555555555556,
              "#d8576b"
             ],
             [
              0.6666666666666666,
              "#ed7953"
             ],
             [
              0.7777777777777778,
              "#fb9f3a"
             ],
             [
              0.8888888888888888,
              "#fdca26"
             ],
             [
              1,
              "#f0f921"
             ]
            ],
            "type": "heatmapgl"
           }
          ],
          "histogram": [
           {
            "marker": {
             "colorbar": {
              "outlinewidth": 0,
              "ticks": ""
             }
            },
            "type": "histogram"
           }
          ],
          "histogram2d": [
           {
            "colorbar": {
             "outlinewidth": 0,
             "ticks": ""
            },
            "colorscale": [
             [
              0,
              "#0d0887"
             ],
             [
              0.1111111111111111,
              "#46039f"
             ],
             [
              0.2222222222222222,
              "#7201a8"
             ],
             [
              0.3333333333333333,
              "#9c179e"
             ],
             [
              0.4444444444444444,
              "#bd3786"
             ],
             [
              0.5555555555555556,
              "#d8576b"
             ],
             [
              0.6666666666666666,
              "#ed7953"
             ],
             [
              0.7777777777777778,
              "#fb9f3a"
             ],
             [
              0.8888888888888888,
              "#fdca26"
             ],
             [
              1,
              "#f0f921"
             ]
            ],
            "type": "histogram2d"
           }
          ],
          "histogram2dcontour": [
           {
            "colorbar": {
             "outlinewidth": 0,
             "ticks": ""
            },
            "colorscale": [
             [
              0,
              "#0d0887"
             ],
             [
              0.1111111111111111,
              "#46039f"
             ],
             [
              0.2222222222222222,
              "#7201a8"
             ],
             [
              0.3333333333333333,
              "#9c179e"
             ],
             [
              0.4444444444444444,
              "#bd3786"
             ],
             [
              0.5555555555555556,
              "#d8576b"
             ],
             [
              0.6666666666666666,
              "#ed7953"
             ],
             [
              0.7777777777777778,
              "#fb9f3a"
             ],
             [
              0.8888888888888888,
              "#fdca26"
             ],
             [
              1,
              "#f0f921"
             ]
            ],
            "type": "histogram2dcontour"
           }
          ],
          "mesh3d": [
           {
            "colorbar": {
             "outlinewidth": 0,
             "ticks": ""
            },
            "type": "mesh3d"
           }
          ],
          "parcoords": [
           {
            "line": {
             "colorbar": {
              "outlinewidth": 0,
              "ticks": ""
             }
            },
            "type": "parcoords"
           }
          ],
          "scatter": [
           {
            "marker": {
             "colorbar": {
              "outlinewidth": 0,
              "ticks": ""
             }
            },
            "type": "scatter"
           }
          ],
          "scatter3d": [
           {
            "line": {
             "colorbar": {
              "outlinewidth": 0,
              "ticks": ""
             }
            },
            "marker": {
             "colorbar": {
              "outlinewidth": 0,
              "ticks": ""
             }
            },
            "type": "scatter3d"
           }
          ],
          "scattercarpet": [
           {
            "marker": {
             "colorbar": {
              "outlinewidth": 0,
              "ticks": ""
             }
            },
            "type": "scattercarpet"
           }
          ],
          "scattergeo": [
           {
            "marker": {
             "colorbar": {
              "outlinewidth": 0,
              "ticks": ""
             }
            },
            "type": "scattergeo"
           }
          ],
          "scattergl": [
           {
            "marker": {
             "colorbar": {
              "outlinewidth": 0,
              "ticks": ""
             }
            },
            "type": "scattergl"
           }
          ],
          "scattermapbox": [
           {
            "marker": {
             "colorbar": {
              "outlinewidth": 0,
              "ticks": ""
             }
            },
            "type": "scattermapbox"
           }
          ],
          "scatterpolar": [
           {
            "marker": {
             "colorbar": {
              "outlinewidth": 0,
              "ticks": ""
             }
            },
            "type": "scatterpolar"
           }
          ],
          "scatterpolargl": [
           {
            "marker": {
             "colorbar": {
              "outlinewidth": 0,
              "ticks": ""
             }
            },
            "type": "scatterpolargl"
           }
          ],
          "scatterternary": [
           {
            "marker": {
             "colorbar": {
              "outlinewidth": 0,
              "ticks": ""
             }
            },
            "type": "scatterternary"
           }
          ],
          "surface": [
           {
            "colorbar": {
             "outlinewidth": 0,
             "ticks": ""
            },
            "colorscale": [
             [
              0,
              "#0d0887"
             ],
             [
              0.1111111111111111,
              "#46039f"
             ],
             [
              0.2222222222222222,
              "#7201a8"
             ],
             [
              0.3333333333333333,
              "#9c179e"
             ],
             [
              0.4444444444444444,
              "#bd3786"
             ],
             [
              0.5555555555555556,
              "#d8576b"
             ],
             [
              0.6666666666666666,
              "#ed7953"
             ],
             [
              0.7777777777777778,
              "#fb9f3a"
             ],
             [
              0.8888888888888888,
              "#fdca26"
             ],
             [
              1,
              "#f0f921"
             ]
            ],
            "type": "surface"
           }
          ],
          "table": [
           {
            "cells": {
             "fill": {
              "color": "#EBF0F8"
             },
             "line": {
              "color": "white"
             }
            },
            "header": {
             "fill": {
              "color": "#C8D4E3"
             },
             "line": {
              "color": "white"
             }
            },
            "type": "table"
           }
          ]
         },
         "layout": {
          "annotationdefaults": {
           "arrowcolor": "#2a3f5f",
           "arrowhead": 0,
           "arrowwidth": 1
          },
          "colorscale": {
           "diverging": [
            [
             0,
             "#8e0152"
            ],
            [
             0.1,
             "#c51b7d"
            ],
            [
             0.2,
             "#de77ae"
            ],
            [
             0.3,
             "#f1b6da"
            ],
            [
             0.4,
             "#fde0ef"
            ],
            [
             0.5,
             "#f7f7f7"
            ],
            [
             0.6,
             "#e6f5d0"
            ],
            [
             0.7,
             "#b8e186"
            ],
            [
             0.8,
             "#7fbc41"
            ],
            [
             0.9,
             "#4d9221"
            ],
            [
             1,
             "#276419"
            ]
           ],
           "sequential": [
            [
             0,
             "#0d0887"
            ],
            [
             0.1111111111111111,
             "#46039f"
            ],
            [
             0.2222222222222222,
             "#7201a8"
            ],
            [
             0.3333333333333333,
             "#9c179e"
            ],
            [
             0.4444444444444444,
             "#bd3786"
            ],
            [
             0.5555555555555556,
             "#d8576b"
            ],
            [
             0.6666666666666666,
             "#ed7953"
            ],
            [
             0.7777777777777778,
             "#fb9f3a"
            ],
            [
             0.8888888888888888,
             "#fdca26"
            ],
            [
             1,
             "#f0f921"
            ]
           ],
           "sequentialminus": [
            [
             0,
             "#0d0887"
            ],
            [
             0.1111111111111111,
             "#46039f"
            ],
            [
             0.2222222222222222,
             "#7201a8"
            ],
            [
             0.3333333333333333,
             "#9c179e"
            ],
            [
             0.4444444444444444,
             "#bd3786"
            ],
            [
             0.5555555555555556,
             "#d8576b"
            ],
            [
             0.6666666666666666,
             "#ed7953"
            ],
            [
             0.7777777777777778,
             "#fb9f3a"
            ],
            [
             0.8888888888888888,
             "#fdca26"
            ],
            [
             1,
             "#f0f921"
            ]
           ]
          },
          "colorway": [
           "#636efa",
           "#EF553B",
           "#00cc96",
           "#ab63fa",
           "#FFA15A",
           "#19d3f3",
           "#FF6692",
           "#B6E880",
           "#FF97FF",
           "#FECB52"
          ],
          "font": {
           "color": "#2a3f5f"
          },
          "geo": {
           "bgcolor": "white",
           "lakecolor": "white",
           "landcolor": "#E5ECF6",
           "showlakes": true,
           "showland": true,
           "subunitcolor": "white"
          },
          "hoverlabel": {
           "align": "left"
          },
          "hovermode": "closest",
          "mapbox": {
           "style": "light"
          },
          "paper_bgcolor": "white",
          "plot_bgcolor": "#E5ECF6",
          "polar": {
           "angularaxis": {
            "gridcolor": "white",
            "linecolor": "white",
            "ticks": ""
           },
           "bgcolor": "#E5ECF6",
           "radialaxis": {
            "gridcolor": "white",
            "linecolor": "white",
            "ticks": ""
           }
          },
          "scene": {
           "xaxis": {
            "backgroundcolor": "#E5ECF6",
            "gridcolor": "white",
            "gridwidth": 2,
            "linecolor": "white",
            "showbackground": true,
            "ticks": "",
            "zerolinecolor": "white"
           },
           "yaxis": {
            "backgroundcolor": "#E5ECF6",
            "gridcolor": "white",
            "gridwidth": 2,
            "linecolor": "white",
            "showbackground": true,
            "ticks": "",
            "zerolinecolor": "white"
           },
           "zaxis": {
            "backgroundcolor": "#E5ECF6",
            "gridcolor": "white",
            "gridwidth": 2,
            "linecolor": "white",
            "showbackground": true,
            "ticks": "",
            "zerolinecolor": "white"
           }
          },
          "shapedefaults": {
           "line": {
            "color": "#2a3f5f"
           }
          },
          "ternary": {
           "aaxis": {
            "gridcolor": "white",
            "linecolor": "white",
            "ticks": ""
           },
           "baxis": {
            "gridcolor": "white",
            "linecolor": "white",
            "ticks": ""
           },
           "bgcolor": "#E5ECF6",
           "caxis": {
            "gridcolor": "white",
            "linecolor": "white",
            "ticks": ""
           }
          },
          "title": {
           "x": 0.05
          },
          "xaxis": {
           "automargin": true,
           "gridcolor": "white",
           "linecolor": "white",
           "ticks": "",
           "zerolinecolor": "white",
           "zerolinewidth": 2
          },
          "yaxis": {
           "automargin": true,
           "gridcolor": "white",
           "linecolor": "white",
           "ticks": "",
           "zerolinecolor": "white",
           "zerolinewidth": 2
          }
         }
        },
        "title": {
         "text": "Players Classified By Neural Net: VROP, WS & Minutes Played"
        }
       }
      },
      "text/html": [
       "<div>\n",
       "        \n",
       "        \n",
       "            <div id=\"fc6b078b-bd9f-4630-a03b-0650bfc87cf3\" class=\"plotly-graph-div\" style=\"height:600px; width:100%;\"></div>\n",
       "            <script type=\"text/javascript\">\n",
       "                require([\"plotly\"], function(Plotly) {\n",
       "                    window.PLOTLYENV=window.PLOTLYENV || {};\n",
       "                    \n",
       "                if (document.getElementById(\"fc6b078b-bd9f-4630-a03b-0650bfc87cf3\")) {\n",
       "                    Plotly.newPlot(\n",
       "                        'fc6b078b-bd9f-4630-a03b-0650bfc87cf3',\n",
       "                        [{\"customdata\": [[15.8, 17.9, 1913.0, 2.4, 21.0], [19.6, 16.2, 416.0, 0.1, 26.0], [29.1, -6.0, 6.0, 0.0, 20.0], [15.5, 9.8, 1352.0, 0.3, 21.0], [16.8, 11.7, 759.0, -0.3, 23.0], [16.9, 11.7, 1423.0, 0.9, 21.0], [13.7, 12.9, 788.0, 0.3, 24.0], [12.2, 10.2, 439.0, -0.3, 25.0], [13.8, 12.7, 639.0, 0.5, 23.0], [23.6, 19.6, 36.0, 0.0, 21.0], [20.9, 7.6, 330.0, -0.3, 23.0], [15.2, 10.9, 1034.0, 0.1, 23.0], [16.6, 13.5, 1356.0, 0.7, 21.0], [17.9, 7.8, 251.0, -0.3, 22.0], [17.9, 7.8, 251.0, -0.3, 22.0], [17.9, 7.8, 251.0, -0.3, 22.0], [17.9, 7.8, 251.0, -0.3, 22.0], [20.7, 13.1, 447.0, 0.0, 22.0], [20.7, 13.1, 447.0, 0.0, 22.0], [20.7, 13.1, 447.0, 0.0, 22.0], [20.7, 13.1, 447.0, 0.0, 22.0], [17.3, 10.8, 2004.0, -0.2, 24.0], [12.7, 0.7, 64.0, -0.1, 22.0], [12.7, 0.7, 64.0, -0.1, 22.0], [12.7, 0.7, 64.0, -0.1, 22.0], [12.7, 0.7, 64.0, -0.1, 22.0], [40.7, -38.1, 1.0, 0.0, 22.0], [40.7, -38.1, 1.0, 0.0, 22.0], [40.7, -38.1, 1.0, 0.0, 22.0], [40.7, -38.1, 1.0, 0.0, 22.0], [10.6, 6.4, 1931.0, 0.0, 20.0], [19.3, 10.5, 427.0, -0.1, 20.0], [23.2, 14.4, 820.0, 0.0, 20.0], [13.5, 9.3, 1715.0, 0.6, 23.0], [11.8, 10.0, 221.0, 0.1, 20.0], [16.3, 13.0, 1996.0, 1.1, 21.0], [12.8, 8.7, 1233.0, -0.2, 24.0], [18.5, 9.4, 1169.0, -0.9, 20.0], [23.9, 10.6, 1988.0, -1.4, 21.0], [12.9, 10.1, 1083.0, 0.1, 23.0], [12.9, 10.1, 1083.0, 0.1, 23.0], [12.9, 10.1, 1083.0, 0.1, 23.0], [12.9, 10.1, 1083.0, 0.1, 23.0], [17.0, 13.9, 531.0, 0.1, 23.0], [17.0, 13.9, 531.0, 0.1, 23.0], [17.0, 13.9, 531.0, 0.1, 23.0], [17.0, 13.9, 531.0, 0.1, 23.0], [18.1, 11.9, 1437.0, 0.2, 22.0], [17.5, 16.9, 522.0, 0.1, 21.0], [10.6, 9.3, 94.0, 0.0, 22.0], [21.8, 12.4, 435.0, -0.3, 24.0], [24.6, 11.8, 1258.0, -0.6, 20.0], [17.1, 16.2, 1970.0, 1.1, 23.0], [16.6, 6.0, 904.0, -0.8, 20.0], [14.1, 8.5, 594.0, -0.3, 24.0], [15.7, 10.5, 21.0, 0.0, 21.0], [17.2, 16.1, 721.0, 0.2, 21.0], [12.1, 8.1, 47.0, 0.0, 23.0], [23.3, 11.5, 908.0, -0.1, 21.0], [23.3, 11.5, 908.0, -0.1, 21.0], [23.3, 11.5, 908.0, -0.1, 21.0], [23.3, 11.5, 908.0, -0.1, 21.0], [27.0, 13.5, 600.0, -0.1, 21.0], [27.0, 13.5, 600.0, -0.1, 21.0], [27.0, 13.5, 600.0, -0.1, 21.0], [27.0, 13.5, 600.0, -0.1, 21.0], [17.6, 7.6, 210.0, -0.1, 23.0], [18.4, 3.1, 145.0, -0.3, 21.0], [18.4, 3.1, 145.0, -0.3, 21.0], [18.4, 3.1, 145.0, -0.3, 21.0], [18.4, 3.1, 145.0, -0.3, 21.0], [14.9, 11.7, 33.0, 0.0, 21.0], [14.9, 11.7, 33.0, 0.0, 21.0], [14.9, 11.7, 33.0, 0.0, 21.0], [14.9, 11.7, 33.0, 0.0, 21.0], [11.3, 5.2, 313.0, -0.2, 24.0], [17.7, 14.8, 1728.0, 1.3, 24.0], [14.4, 10.3, 882.0, 0.1, 22.0], [16.1, 16.6, 80.0, 0.0, 21.0], [16.2, 9.0, 583.0, -0.5, 21.0], [18.2, 7.6, 455.0, -0.3, 23.0], [12.7, 7.1, 2069.0, -0.4, 20.0], [12.6, 11.7, 38.0, -0.1, 24.0], [19.1, 14.3, 1436.0, 0.2, 25.0], [21.4, 13.6, 2152.0, 1.0, 21.0], [18.1, 11.1, 1527.0, 0.0, 20.0], [15.3, 16.6, 943.0, 0.3, 21.0], [17.4, 17.0, 581.0, -0.2, 21.0], [24.7, 14.5, 1525.0, 0.7, 23.0], [23.8, 10.5, 329.0, -0.4, 21.0], [19.9, 18.2, 28.0, 0.0, 22.0], [14.0, 9.7, 277.0, -0.1, 22.0], [24.3, 16.1, 2024.0, 0.9, 25.0], [13.9, 6.8, 89.0, -0.1, 22.0], [16.9, 3.4, 80.0, -0.1, 20.0], [21.1, 14.3, 1240.0, -0.2, 21.0], [14.6, 4.9, 160.0, -0.1, 23.0], [22.5, 14.2, 1864.0, 0.7, 23.0], [17.5, 7.0, 807.0, -0.5, 22.0], [14.6, 10.2, 1238.0, -0.2, 20.0], [12.8, 7.4, 961.0, -0.3, 22.0], [20.7, 15.1, 1743.0, 1.4, 21.0], [17.1, 5.1, 522.0, -0.5, 24.0], [20.9, 9.2, 32.0, 0.0, 24.0], [16.1, -3.2, 22.0, -0.1, 21.0], [23.0, 9.1, 28.0, 0.0, 24.0], [14.8, 17.5, 1524.0, 2.0, 22.0], [16.8, 1.9, 124.0, -0.2, 22.0], [15.7, 14.5, 1679.0, 1.7, 23.0], [18.5, 10.1, 1658.0, -1.3, 22.0], [17.5, 12.1, 2095.0, 0.8, 24.0], [16.6, 10.1, 851.0, 0.0, 23.0], [22.1, 12.8, 2464.0, 0.8, 23.0], [28.5, 11.5, 180.0, -0.2, 22.0], [15.7, 12.3, 235.0, 0.1, 22.0], [15.2, 5.2, 824.0, -0.8, 23.0], [17.6, 15.3, 410.0, 0.0, 20.0], [19.7, 16.3, 1421.0, 0.3, 23.0], [13.1, 10.4, 219.0, -0.1, 25.0], [13.0, 11.8, 316.0, 0.0, 24.0], [14.9, 13.1, 1419.0, 0.3, 22.0], [16.0, 13.2, 1028.0, 0.4, 24.0], [16.4, 8.7, 1474.0, -0.2, 22.0], [20.3, 19.0, 1324.0, 0.7, 22.0], [18.8, 7.2, 960.0, -0.9, 21.0], [19.3, 5.9, 381.0, -0.4, 23.0], [18.7, 13.7, 1761.0, 0.4, 22.0], [4.8, -3.2, 9.0, 0.0, 23.0], [14.8, 7.2, 1371.0, 0.0, 20.0], [13.6, 13.8, 774.0, 0.0, 20.0], [21.8, 13.0, 1954.0, 0.2, 23.0], [13.4, 13.6, 447.0, 0.3, 20.0], [21.7, 9.9, 1158.0, -0.3, 21.0], [16.4, 8.7, 558.0, -0.6, 22.0], [15.5, 9.8, 141.0, -0.1, 22.0], [22.6, 10.9, 1406.0, -0.6, 20.0], [13.4, 15.7, 1442.0, 1.4, 24.0], [14.6, 9.1, 1605.0, -0.1, 21.0], [19.1, 14.9, 1000.0, -0.3, 21.0], [21.1, 14.0, 1368.0, 0.2, 23.0], [16.8, 10.7, 1614.0, 0.9, 23.0], [17.1, 10.9, 1263.0, -0.2, 22.0], [17.2, 7.8, 458.0, -0.3, 20.0], [19.8, 8.2, 625.0, -0.1, 20.0], [16.6, 15.0, 446.0, 0.4, 24.0], [27.8, 11.4, 135.0, -0.2, 24.0]], \"hoverlabel\": {\"namelength\": 0}, \"hovertemplate\": \"<b>%{hovertext}</b><br><br>neural=%{marker.color}<br>VORP=%{customdata[3]}<br>WS=%{y}<br>MP=%{customdata[2]}<br>USG%=%{customdata[0]}<br>PER=%{customdata[1]}<br>Age=%{customdata[4]}\", \"hovertext\": [\"Bam Adebayo\", \"Kadeem Allen\", \"Ike Anigbogu\", \"OG Anunoby\", \"Dwayne Bacon\", \"Lonzo Ball\", \"Jordan Bell\", \"Jaron Blossomgame\", \"Jonah Bolden\", \"Tony Bradley\", \"Dillon Brooks\", \"Sterling Brown\", \"Zach Collins\", \"Tyler Dorsey\", \"Tyler Dorsey\", \"Tyler Dorsey\", \"Tyler Dorsey\", \"Tyler Dorsey\", \"Tyler Dorsey\", \"Tyler Dorsey\", \"Tyler Dorsey\", \"Damyean Dotson\", \"Jawun Evans\", \"Jawun Evans\", \"Jawun Evans\", \"Jawun Evans\", \"Jawun Evans\", \"Jawun Evans\", \"Jawun Evans\", \"Jawun Evans\", \"Terrance Ferguson\", \"Markelle Fultz\", \"Harry Giles\", \"Josh Hart\", \"Isaiah Hartenstein\", \"Jonathan Isaac\", \"Wesley Iwundu\", \"Frank Jackson\", \"Josh Jackson\", \"Justin Jackson\", \"Justin Jackson\", \"Justin Jackson\", \"Justin Jackson\", \"Justin Jackson\", \"Justin Jackson\", \"Justin Jackson\", \"Justin Jackson\", \"Luke Kennard\", \"T.J. Leaf\", \"Tyler Lydon\", \"Frank Mason\", \"Malik Monk\", \"Monte Morris\", \"Frank Ntilikina\", \"Semi Ojeleye\", \"Justin Patton\", \"Ivan Rabb\", \"Davon Reed\", \"Dennis Smith\", \"Dennis Smith\", \"Dennis Smith\", \"Dennis Smith\", \"Dennis Smith\", \"Dennis Smith\", \"Dennis Smith\", \"Dennis Smith\", \"Edmond Sumner\", \"Caleb Swanigan\", \"Caleb Swanigan\", \"Caleb Swanigan\", \"Caleb Swanigan\", \"Caleb Swanigan\", \"Caleb Swanigan\", \"Caleb Swanigan\", \"Caleb Swanigan\", \"Sindarius Thornwell\", \"Derrick White\", \"D.J. Wilson\", \"Wade Baldwin\", \"Malik Beasley\", \"DeAndre' Bembry\", \"Dragan Bender\", \"Joel Bolomboy\", \"Malcolm Brogdon\", \"Jaylen Brown\", \"Marquese Chriss\", \"Deyonta Davis\", \"Cheick Diallo\", \"Kris Dunn\", \"Henry Ellenson\", \"Daniel Hamilton\", \"Juan Hernang\\u00f3mez\", \"Buddy Hield\", \"Damian Jones\", \"Furkan Korkmaz\", \"Skal Labissi\\u00e8re\", \"Jake Layman\", \"Caris LeVert\", \"Timoth\\u00e9 Luwawu-Cabarrot\", \"Thon Maker\", \"Patrick McCaw\", \"Dejounte Murray\", \"Abdel Nader\", \"Georges Niang\", \"Chinanu Onuaku\", \"Marcus Paige\", \"Jakob P\\u00f6ltl\", \"Zhou Qi\", \"Pascal Siakam\", \"Tyler Ulis\", \"Denzel Valentine\", \"Tyrone Wallace\", \"Taurean Waller-Prince\", \"Isaiah Whitehead\", \"Guerschon Yabusele\", \"Paul Zipser\", \"Ivica Zubac\", \"Willie Cauley-Stein\", \"Rakeem Christmas\", \"Pat Connaughton\", \"Sam Dekker\", \"Jerian Grant\", \"Andrew Harrison\", \"Willy Hernangomez\", \"Mario Hezonja\", \"Darrun Hilliard\", \"Rondae Hollis-Jefferson\", \"R.J. Hunter\", \"Stanley Johnson\", \"Tyus Jones\", \"Frank Kaminsky\", \"Kevon Looney\", \"Trey Lyles\", \"Jarell Martin\", \"Jordan Mickey\", \"Emmanuel Mudiay\", \"Larry Nance\", \"Kelly Oubre\", \"Bobby Portis\", \"Norman Powell\", \"Josh Richardson\", \"Terry Rozier\", \"Rashad Vaughn\", \"Justise Winslow\", \"Delon Wright\", \"Joe Young\"], \"legendgroup\": \"neural=0\", \"marker\": {\"color\": [0, 0, 0, 0, 0, 0, 0, 0, 0, 0, 0, 0, 0, 0, 0, 0, 0, 0, 0, 0, 0, 0, 0, 0, 0, 0, 0, 0, 0, 0, 0, 0, 0, 0, 0, 0, 0, 0, 0, 0, 0, 0, 0, 0, 0, 0, 0, 0, 0, 0, 0, 0, 0, 0, 0, 0, 0, 0, 0, 0, 0, 0, 0, 0, 0, 0, 0, 0, 0, 0, 0, 0, 0, 0, 0, 0, 0, 0, 0, 0, 0, 0, 0, 0, 0, 0, 0, 0, 0, 0, 0, 0, 0, 0, 0, 0, 0, 0, 0, 0, 0, 0, 0, 0, 0, 0, 0, 0, 0, 0, 0, 0, 0, 0, 0, 0, 0, 0, 0, 0, 0, 0, 0, 0, 0, 0, 0, 0, 0, 0, 0, 0, 0, 0, 0, 0, 0, 0, 0, 0, 0, 0, 0, 0, 0, 0], \"coloraxis\": \"coloraxis\", \"line\": {\"color\": \"DarkSlateGrey\", \"width\": 1}, \"size\": 10, \"symbol\": \"circle\"}, \"mode\": \"markers\", \"name\": \"neural=0\", \"scene\": \"scene\", \"showlegend\": true, \"type\": \"scatter3d\", \"x\": [2.4, 0.1, 0.0, 0.3, -0.3, 0.9, 0.3, -0.3, 0.5, 0.0, -0.3, 0.1, 0.7, -0.3, -0.3, -0.3, -0.3, 0.0, 0.0, 0.0, 0.0, -0.2, -0.1, -0.1, -0.1, -0.1, 0.0, 0.0, 0.0, 0.0, 0.0, -0.1, 0.0, 0.6, 0.1, 1.1, -0.2, -0.9, -1.4, 0.1, 0.1, 0.1, 0.1, 0.1, 0.1, 0.1, 0.1, 0.2, 0.1, 0.0, -0.3, -0.6, 1.1, -0.8, -0.3, 0.0, 0.2, 0.0, -0.1, -0.1, -0.1, -0.1, -0.1, -0.1, -0.1, -0.1, -0.1, -0.3, -0.3, -0.3, -0.3, 0.0, 0.0, 0.0, 0.0, -0.2, 1.3, 0.1, 0.0, -0.5, -0.3, -0.4, -0.1, 0.2, 1.0, 0.0, 0.3, -0.2, 0.7, -0.4, 0.0, -0.1, 0.9, -0.1, -0.1, -0.2, -0.1, 0.7, -0.5, -0.2, -0.3, 1.4, -0.5, 0.0, -0.1, 0.0, 2.0, -0.2, 1.7, -1.3, 0.8, 0.0, 0.8, -0.2, 0.1, -0.8, 0.0, 0.3, -0.1, 0.0, 0.3, 0.4, -0.2, 0.7, -0.9, -0.4, 0.4, 0.0, 0.0, 0.0, 0.2, 0.3, -0.3, -0.6, -0.1, -0.6, 1.4, -0.1, -0.3, 0.2, 0.9, -0.2, -0.3, -0.1, 0.4, -0.2], \"y\": [6.8, 1.0, -0.1, 2.0, 1.2, 1.6, 1.6, 0.3, 1.4, 0.1, 0.0, 2.1, 2.9, -0.1, -0.1, -0.1, -0.1, 0.7, 0.7, 0.7, 0.7, 1.5, -0.2, -0.2, -0.2, -0.2, 0.0, 0.0, 0.0, 0.0, 2.8, 0.3, 1.0, 2.1, 0.5, 4.0, 1.9, 0.4, -1.7, 1.6, 1.6, 1.6, 1.6, 1.3, 1.3, 1.3, 1.3, 2.5, 1.6, 0.2, 0.3, 0.3, 6.2, -0.8, 0.7, 0.0, 2.1, 0.1, 0.2, 0.2, 0.2, 0.2, -0.2, -0.2, -0.2, -0.2, 0.1, -0.3, -0.3, -0.3, -0.3, 0.0, 0.0, 0.0, 0.0, 0.0, 3.6, 1.7, 0.3, 0.3, -0.4, 0.1, 0.1, 2.7, 4.5, 0.7, 2.7, 1.9, 0.9, 0.1, 0.1, 0.4, 2.8, 0.1, 0.0, 1.4, -0.1, 2.3, 0.8, 1.5, 0.6, 3.2, -0.1, 0.0, -0.1, 0.0, 5.6, -0.3, 4.7, -0.2, 2.5, 0.7, 2.0, -0.1, 0.6, -0.6, 1.0, 2.9, 0.5, 0.6, 3.1, 2.5, 1.6, 3.4, -0.7, -0.2, 2.6, 0.0, 0.4, 1.5, 2.3, 1.4, 0.8, 0.6, 0.1, 0.2, 3.5, 2.0, 2.4, 2.8, 2.2, 1.4, 0.0, -0.1, 1.1, -0.1], \"z\": [1913, 416, 6, 1352, 759, 1423, 788, 439, 639, 36, 330, 1034, 1356, 251, 251, 251, 251, 447, 447, 447, 447, 2004, 64, 64, 64, 64, 1, 1, 1, 1, 1931, 427, 820, 1715, 221, 1996, 1233, 1169, 1988, 1083, 1083, 1083, 1083, 531, 531, 531, 531, 1437, 522, 94, 435, 1258, 1970, 904, 594, 21, 721, 47, 908, 908, 908, 908, 600, 600, 600, 600, 210, 145, 145, 145, 145, 33, 33, 33, 33, 313, 1728, 882, 80, 583, 455, 2069, 38, 1436, 2152, 1527, 943, 581, 1525, 329, 28, 277, 2024, 89, 80, 1240, 160, 1864, 807, 1238, 961, 1743, 522, 32, 22, 28, 1524, 124, 1679, 1658, 2095, 851, 2464, 180, 235, 824, 410, 1421, 219, 316, 1419, 1028, 1474, 1324, 960, 381, 1761, 9, 1371, 774, 1954, 447, 1158, 558, 141, 1406, 1442, 1605, 1000, 1368, 1614, 1263, 458, 625, 446, 135]}, {\"customdata\": [[15.9, 18.5, 2096.0, 2.4, 20.0], [24.5, 18.1, 2546.0, 2.0, 21.0], [23.8, 14.0, 2314.0, 0.2, 23.0], [25.1, 17.1, 1682.0, 0.0, 21.0], [31.6, 17.2, 2598.0, 1.7, 22.0], [22.1, 15.1, 2455.0, 0.8, 20.0], [22.2, 13.8, 1975.0, 0.4, 20.0], [22.8, 16.1, 2565.0, 1.2, 20.0], [22.1, 17.5, 1810.0, 0.8, 21.0], [22.3, 20.0, 2732.0, 4.6, 21.0], [18.8, 24.2, 214.0, 0.1, 21.0], [28.6, 14.6, 2730.0, -0.2, 20.0], [17.6, 19.2, 1064.0, 0.8, 23.0], [18.6, 18.6, 1193.0, 1.1, 23.0], [24.1, 14.8, 1134.0, -0.4, 21.0], [24.3, 17.4, 2164.0, 1.2, 21.0], [26.6, 15.3, 1811.0, 0.7, 20.0], [19.5, 18.5, 2541.0, 2.8, 20.0]], \"hoverlabel\": {\"namelength\": 0}, \"hovertemplate\": \"<b>%{hovertext}</b><br><br>neural=%{marker.color}<br>VORP=%{customdata[3]}<br>WS=%{y}<br>MP=%{customdata[2]}<br>USG%=%{customdata[0]}<br>PER=%{customdata[1]}<br>Age=%{customdata[4]}\", \"hovertext\": [\"Jarrett Allen\", \"De'Aaron Fox\", \"Kyle Kuzma\", \"Lauri Markkanen\", \"Donovan Mitchell\", \"Jayson Tatum\", \"Brandon Ingram\", \"Jamal Murray\", \"Domantas Sabonis\", \"Ben Simmons\", \"Ante \\u017di\\u017ei\\u0107\", \"Devin Booker\", \"Montrezl Harrell\", \"Richaun Holmes\", \"Jahlil Okafor\", \"Kristaps Porzingis\", \"D'Angelo Russell\", \"Myles Turner\"], \"legendgroup\": \"neural=1\", \"marker\": {\"color\": [1, 1, 1, 1, 1, 1, 1, 1, 1, 1, 1, 1, 1, 1, 1, 1, 1, 1], \"coloraxis\": \"coloraxis\", \"line\": {\"color\": \"DarkSlateGrey\", \"width\": 1}, \"size\": 10, \"symbol\": \"diamond\"}, \"mode\": \"markers\", \"name\": \"neural=1\", \"scene\": \"scene\", \"showlegend\": true, \"type\": \"scatter3d\", \"x\": [2.4, 2.0, 0.2, 0.0, 1.7, 0.8, 0.4, 1.2, 0.8, 4.6, 0.1, -0.2, 0.8, 1.1, -0.4, 1.2, 0.7, 2.8], \"y\": [7.6, 5.6, 3.1, 2.7, 5.0, 5.0, 2.8, 5.5, 4.7, 9.2, 1.0, 2.0, 4.1, 3.8, 1.2, 4.5, 1.3, 8.0], \"z\": [2096, 2546, 2314, 1682, 2598, 2455, 1975, 2565, 1810, 2732, 214, 2730, 1064, 1193, 1134, 2164, 1811, 2541]}],\n",
       "                        {\"coloraxis\": {\"colorbar\": {\"title\": {\"text\": \"neural\"}}, \"colorscale\": [[0.0, \"#0d0887\"], [0.1111111111111111, \"#46039f\"], [0.2222222222222222, \"#7201a8\"], [0.3333333333333333, \"#9c179e\"], [0.4444444444444444, \"#bd3786\"], [0.5555555555555556, \"#d8576b\"], [0.6666666666666666, \"#ed7953\"], [0.7777777777777778, \"#fb9f3a\"], [0.8888888888888888, \"#fdca26\"], [1.0, \"#f0f921\"]]}, \"height\": 600, \"legend\": {\"orientation\": \"h\", \"tracegroupgap\": 0}, \"margin\": {\"t\": 60}, \"scene\": {\"domain\": {\"x\": [0.0, 0.98], \"y\": [0.0, 1.0]}, \"xaxis\": {\"title\": {\"text\": \"VORP\"}}, \"yaxis\": {\"title\": {\"text\": \"WS\"}}, \"zaxis\": {\"title\": {\"text\": \"MP\"}}}, \"template\": {\"data\": {\"bar\": [{\"error_x\": {\"color\": \"#2a3f5f\"}, \"error_y\": {\"color\": \"#2a3f5f\"}, \"marker\": {\"line\": {\"color\": \"#E5ECF6\", \"width\": 0.5}}, \"type\": \"bar\"}], \"barpolar\": [{\"marker\": {\"line\": {\"color\": \"#E5ECF6\", \"width\": 0.5}}, \"type\": \"barpolar\"}], \"carpet\": [{\"aaxis\": {\"endlinecolor\": \"#2a3f5f\", \"gridcolor\": \"white\", \"linecolor\": \"white\", \"minorgridcolor\": \"white\", \"startlinecolor\": \"#2a3f5f\"}, \"baxis\": {\"endlinecolor\": \"#2a3f5f\", \"gridcolor\": \"white\", \"linecolor\": \"white\", \"minorgridcolor\": \"white\", \"startlinecolor\": \"#2a3f5f\"}, \"type\": \"carpet\"}], \"choropleth\": [{\"colorbar\": {\"outlinewidth\": 0, \"ticks\": \"\"}, \"type\": \"choropleth\"}], \"contour\": [{\"colorbar\": {\"outlinewidth\": 0, \"ticks\": \"\"}, \"colorscale\": [[0.0, \"#0d0887\"], [0.1111111111111111, \"#46039f\"], [0.2222222222222222, \"#7201a8\"], [0.3333333333333333, \"#9c179e\"], [0.4444444444444444, \"#bd3786\"], [0.5555555555555556, \"#d8576b\"], [0.6666666666666666, \"#ed7953\"], [0.7777777777777778, \"#fb9f3a\"], [0.8888888888888888, \"#fdca26\"], [1.0, \"#f0f921\"]], \"type\": \"contour\"}], \"contourcarpet\": [{\"colorbar\": {\"outlinewidth\": 0, \"ticks\": \"\"}, \"type\": \"contourcarpet\"}], \"heatmap\": [{\"colorbar\": {\"outlinewidth\": 0, \"ticks\": \"\"}, \"colorscale\": [[0.0, \"#0d0887\"], [0.1111111111111111, \"#46039f\"], [0.2222222222222222, \"#7201a8\"], [0.3333333333333333, \"#9c179e\"], [0.4444444444444444, \"#bd3786\"], [0.5555555555555556, \"#d8576b\"], [0.6666666666666666, \"#ed7953\"], [0.7777777777777778, \"#fb9f3a\"], [0.8888888888888888, \"#fdca26\"], [1.0, \"#f0f921\"]], \"type\": \"heatmap\"}], \"heatmapgl\": [{\"colorbar\": {\"outlinewidth\": 0, \"ticks\": \"\"}, \"colorscale\": [[0.0, \"#0d0887\"], [0.1111111111111111, \"#46039f\"], [0.2222222222222222, \"#7201a8\"], [0.3333333333333333, \"#9c179e\"], [0.4444444444444444, \"#bd3786\"], [0.5555555555555556, \"#d8576b\"], [0.6666666666666666, \"#ed7953\"], [0.7777777777777778, \"#fb9f3a\"], [0.8888888888888888, \"#fdca26\"], [1.0, \"#f0f921\"]], \"type\": \"heatmapgl\"}], \"histogram\": [{\"marker\": {\"colorbar\": {\"outlinewidth\": 0, \"ticks\": \"\"}}, \"type\": \"histogram\"}], \"histogram2d\": [{\"colorbar\": {\"outlinewidth\": 0, \"ticks\": \"\"}, \"colorscale\": [[0.0, \"#0d0887\"], [0.1111111111111111, \"#46039f\"], [0.2222222222222222, \"#7201a8\"], [0.3333333333333333, \"#9c179e\"], [0.4444444444444444, \"#bd3786\"], [0.5555555555555556, \"#d8576b\"], [0.6666666666666666, \"#ed7953\"], [0.7777777777777778, \"#fb9f3a\"], [0.8888888888888888, \"#fdca26\"], [1.0, \"#f0f921\"]], \"type\": \"histogram2d\"}], \"histogram2dcontour\": [{\"colorbar\": {\"outlinewidth\": 0, \"ticks\": \"\"}, \"colorscale\": [[0.0, \"#0d0887\"], [0.1111111111111111, \"#46039f\"], [0.2222222222222222, \"#7201a8\"], [0.3333333333333333, \"#9c179e\"], [0.4444444444444444, \"#bd3786\"], [0.5555555555555556, \"#d8576b\"], [0.6666666666666666, \"#ed7953\"], [0.7777777777777778, \"#fb9f3a\"], [0.8888888888888888, \"#fdca26\"], [1.0, \"#f0f921\"]], \"type\": \"histogram2dcontour\"}], \"mesh3d\": [{\"colorbar\": {\"outlinewidth\": 0, \"ticks\": \"\"}, \"type\": \"mesh3d\"}], \"parcoords\": [{\"line\": {\"colorbar\": {\"outlinewidth\": 0, \"ticks\": \"\"}}, \"type\": \"parcoords\"}], \"scatter\": [{\"marker\": {\"colorbar\": {\"outlinewidth\": 0, \"ticks\": \"\"}}, \"type\": \"scatter\"}], \"scatter3d\": [{\"line\": {\"colorbar\": {\"outlinewidth\": 0, \"ticks\": \"\"}}, \"marker\": {\"colorbar\": {\"outlinewidth\": 0, \"ticks\": \"\"}}, \"type\": \"scatter3d\"}], \"scattercarpet\": [{\"marker\": {\"colorbar\": {\"outlinewidth\": 0, \"ticks\": \"\"}}, \"type\": \"scattercarpet\"}], \"scattergeo\": [{\"marker\": {\"colorbar\": {\"outlinewidth\": 0, \"ticks\": \"\"}}, \"type\": \"scattergeo\"}], \"scattergl\": [{\"marker\": {\"colorbar\": {\"outlinewidth\": 0, \"ticks\": \"\"}}, \"type\": \"scattergl\"}], \"scattermapbox\": [{\"marker\": {\"colorbar\": {\"outlinewidth\": 0, \"ticks\": \"\"}}, \"type\": \"scattermapbox\"}], \"scatterpolar\": [{\"marker\": {\"colorbar\": {\"outlinewidth\": 0, \"ticks\": \"\"}}, \"type\": \"scatterpolar\"}], \"scatterpolargl\": [{\"marker\": {\"colorbar\": {\"outlinewidth\": 0, \"ticks\": \"\"}}, \"type\": \"scatterpolargl\"}], \"scatterternary\": [{\"marker\": {\"colorbar\": {\"outlinewidth\": 0, \"ticks\": \"\"}}, \"type\": \"scatterternary\"}], \"surface\": [{\"colorbar\": {\"outlinewidth\": 0, \"ticks\": \"\"}, \"colorscale\": [[0.0, \"#0d0887\"], [0.1111111111111111, \"#46039f\"], [0.2222222222222222, \"#7201a8\"], [0.3333333333333333, \"#9c179e\"], [0.4444444444444444, \"#bd3786\"], [0.5555555555555556, \"#d8576b\"], [0.6666666666666666, \"#ed7953\"], [0.7777777777777778, \"#fb9f3a\"], [0.8888888888888888, \"#fdca26\"], [1.0, \"#f0f921\"]], \"type\": \"surface\"}], \"table\": [{\"cells\": {\"fill\": {\"color\": \"#EBF0F8\"}, \"line\": {\"color\": \"white\"}}, \"header\": {\"fill\": {\"color\": \"#C8D4E3\"}, \"line\": {\"color\": \"white\"}}, \"type\": \"table\"}]}, \"layout\": {\"annotationdefaults\": {\"arrowcolor\": \"#2a3f5f\", \"arrowhead\": 0, \"arrowwidth\": 1}, \"colorscale\": {\"diverging\": [[0, \"#8e0152\"], [0.1, \"#c51b7d\"], [0.2, \"#de77ae\"], [0.3, \"#f1b6da\"], [0.4, \"#fde0ef\"], [0.5, \"#f7f7f7\"], [0.6, \"#e6f5d0\"], [0.7, \"#b8e186\"], [0.8, \"#7fbc41\"], [0.9, \"#4d9221\"], [1, \"#276419\"]], \"sequential\": [[0.0, \"#0d0887\"], [0.1111111111111111, \"#46039f\"], [0.2222222222222222, \"#7201a8\"], [0.3333333333333333, \"#9c179e\"], [0.4444444444444444, \"#bd3786\"], [0.5555555555555556, \"#d8576b\"], [0.6666666666666666, \"#ed7953\"], [0.7777777777777778, \"#fb9f3a\"], [0.8888888888888888, \"#fdca26\"], [1.0, \"#f0f921\"]], \"sequentialminus\": [[0.0, \"#0d0887\"], [0.1111111111111111, \"#46039f\"], [0.2222222222222222, \"#7201a8\"], [0.3333333333333333, \"#9c179e\"], [0.4444444444444444, \"#bd3786\"], [0.5555555555555556, \"#d8576b\"], [0.6666666666666666, \"#ed7953\"], [0.7777777777777778, \"#fb9f3a\"], [0.8888888888888888, \"#fdca26\"], [1.0, \"#f0f921\"]]}, \"colorway\": [\"#636efa\", \"#EF553B\", \"#00cc96\", \"#ab63fa\", \"#FFA15A\", \"#19d3f3\", \"#FF6692\", \"#B6E880\", \"#FF97FF\", \"#FECB52\"], \"font\": {\"color\": \"#2a3f5f\"}, \"geo\": {\"bgcolor\": \"white\", \"lakecolor\": \"white\", \"landcolor\": \"#E5ECF6\", \"showlakes\": true, \"showland\": true, \"subunitcolor\": \"white\"}, \"hoverlabel\": {\"align\": \"left\"}, \"hovermode\": \"closest\", \"mapbox\": {\"style\": \"light\"}, \"paper_bgcolor\": \"white\", \"plot_bgcolor\": \"#E5ECF6\", \"polar\": {\"angularaxis\": {\"gridcolor\": \"white\", \"linecolor\": \"white\", \"ticks\": \"\"}, \"bgcolor\": \"#E5ECF6\", \"radialaxis\": {\"gridcolor\": \"white\", \"linecolor\": \"white\", \"ticks\": \"\"}}, \"scene\": {\"xaxis\": {\"backgroundcolor\": \"#E5ECF6\", \"gridcolor\": \"white\", \"gridwidth\": 2, \"linecolor\": \"white\", \"showbackground\": true, \"ticks\": \"\", \"zerolinecolor\": \"white\"}, \"yaxis\": {\"backgroundcolor\": \"#E5ECF6\", \"gridcolor\": \"white\", \"gridwidth\": 2, \"linecolor\": \"white\", \"showbackground\": true, \"ticks\": \"\", \"zerolinecolor\": \"white\"}, \"zaxis\": {\"backgroundcolor\": \"#E5ECF6\", \"gridcolor\": \"white\", \"gridwidth\": 2, \"linecolor\": \"white\", \"showbackground\": true, \"ticks\": \"\", \"zerolinecolor\": \"white\"}}, \"shapedefaults\": {\"line\": {\"color\": \"#2a3f5f\"}}, \"ternary\": {\"aaxis\": {\"gridcolor\": \"white\", \"linecolor\": \"white\", \"ticks\": \"\"}, \"baxis\": {\"gridcolor\": \"white\", \"linecolor\": \"white\", \"ticks\": \"\"}, \"bgcolor\": \"#E5ECF6\", \"caxis\": {\"gridcolor\": \"white\", \"linecolor\": \"white\", \"ticks\": \"\"}}, \"title\": {\"x\": 0.05}, \"xaxis\": {\"automargin\": true, \"gridcolor\": \"white\", \"linecolor\": \"white\", \"ticks\": \"\", \"zerolinecolor\": \"white\", \"zerolinewidth\": 2}, \"yaxis\": {\"automargin\": true, \"gridcolor\": \"white\", \"linecolor\": \"white\", \"ticks\": \"\", \"zerolinecolor\": \"white\", \"zerolinewidth\": 2}}}, \"title\": {\"text\": \"Players Classified By Neural Net: VROP, WS & Minutes Played\"}},\n",
       "                        {\"responsive\": true}\n",
       "                    ).then(function(){\n",
       "                            \n",
       "var gd = document.getElementById('fc6b078b-bd9f-4630-a03b-0650bfc87cf3');\n",
       "var x = new MutationObserver(function (mutations, observer) {{\n",
       "        var display = window.getComputedStyle(gd).display;\n",
       "        if (!display || display === 'none') {{\n",
       "            console.log([gd, 'removed!']);\n",
       "            Plotly.purge(gd);\n",
       "            observer.disconnect();\n",
       "        }}\n",
       "}});\n",
       "\n",
       "// Listen for the removal of the full notebook cells\n",
       "var notebookContainer = gd.closest('#notebook-container');\n",
       "if (notebookContainer) {{\n",
       "    x.observe(notebookContainer, {childList: true});\n",
       "}}\n",
       "\n",
       "// Listen for the clearing of the current output cell\n",
       "var outputEl = gd.closest('.output');\n",
       "if (outputEl) {{\n",
       "    x.observe(outputEl, {childList: true});\n",
       "}}\n",
       "\n",
       "                        })\n",
       "                };\n",
       "                });\n",
       "            </script>\n",
       "        </div>"
      ]
     },
     "metadata": {},
     "output_type": "display_data"
    }
   ],
   "source": [
    "fig = px.scatter_3d(test_master_w_predictions, x='VORP', y='WS', z='MP',\n",
    "            color='neural', \n",
    "            hover_name='Player_name', \n",
    "            hover_data=['USG%', 'PER', 'MP', 'VORP', 'Age'], \n",
    "            symbol='neural')\n",
    "fig.update_traces(marker=dict(size=10,\n",
    "                              line=dict(width=1,\n",
    "                                        color='DarkSlateGrey')),\n",
    "                  selector=dict(mode='markers'))\n",
    "\n",
    "# fig.update_layout(scene=dict(xaxis=dict(range=[-15,10],),))\n",
    "fig.update_layout(legend_orientation=\"h\")\n",
    "fig.update_layout(\n",
    "    title=go.layout.Title(\n",
    "        text=\"Players Classified By Neural Net: VROP, WS & Minutes Played\"))\n",
    "fig.show()\n",
    "\n",
    "# plotly.offline.plot(fig, filename='html_files/ws_vorp_mp.html')"
   ]
  },
  {
   "cell_type": "code",
   "execution_count": 145,
   "metadata": {},
   "outputs": [
    {
     "data": {
      "application/vnd.plotly.v1+json": {
       "config": {
        "plotlyServerURL": "https://plot.ly"
       },
       "data": [
        {
         "customdata": [
          [
           15.8,
           17.9,
           1913,
           2.4,
           21
          ],
          [
           15.9,
           18.5,
           2096,
           2.4,
           20
          ],
          [
           24.5,
           18.1,
           2546,
           2,
           21
          ],
          [
           25.1,
           17.1,
           1682,
           0,
           21
          ],
          [
           31.6,
           17.2,
           2598,
           1.7,
           22
          ],
          [
           22.1,
           15.1,
           2455,
           0.8,
           20
          ],
          [
           21.4,
           13.6,
           2152,
           1,
           21
          ],
          [
           24.3,
           16.1,
           2024,
           0.9,
           25
          ],
          [
           22.8,
           16.1,
           2565,
           1.2,
           20
          ],
          [
           22.1,
           17.5,
           1810,
           0.8,
           21
          ],
          [
           22.3,
           20,
           2732,
           4.6,
           21
          ],
          [
           20.3,
           19,
           1324,
           0.7,
           22
          ],
          [
           18.6,
           18.6,
           1193,
           1.1,
           23
          ],
          [
           24.3,
           17.4,
           2164,
           1.2,
           21
          ],
          [
           19.5,
           18.5,
           2541,
           2.8,
           20
          ]
         ],
         "hoverlabel": {
          "namelength": 0
         },
         "hovertemplate": "<b>%{hovertext}</b><br><br>neural=%{marker.color}<br>BPM=%{x}<br>WS=%{y}<br>USG%=%{customdata[0]}<br>PER=%{customdata[1]}<br>MP=%{customdata[2]}<br>VORP=%{customdata[3]}<br>Age=%{customdata[4]}",
         "hovertext": [
          "Bam Adebayo",
          "Jarrett Allen",
          "De'Aaron Fox",
          "Lauri Markkanen",
          "Donovan Mitchell",
          "Jayson Tatum",
          "Jaylen Brown",
          "Buddy Hield",
          "Jamal Murray",
          "Domantas Sabonis",
          "Ben Simmons",
          "Willy Hernangomez",
          "Richaun Holmes",
          "Kristaps Porzingis",
          "Myles Turner"
         ],
         "legendgroup": "neural=1",
         "marker": {
          "color": [
           1,
           1,
           1,
           1,
           1,
           1,
           1,
           1,
           1,
           1,
           1,
           1,
           1,
           1,
           1
          ],
          "coloraxis": "coloraxis",
          "line": {
           "color": "DarkSlateGrey",
           "width": 1
          },
          "size": 10,
          "symbol": "circle"
         },
         "mode": "markers",
         "name": "neural=1",
         "showlegend": true,
         "type": "scatter",
         "x": [
          3,
          2.5,
          1.1,
          -1.9,
          0.6,
          -0.8,
          -0.2,
          -0.2,
          -0.2,
          -0.3,
          4.6,
          0,
          1.7,
          0.2,
          2.4
         ],
         "xaxis": "x",
         "y": [
          6.8,
          7.6,
          5.6,
          2.7,
          5,
          5,
          4.5,
          2.8,
          5.5,
          4.7,
          9.2,
          3.4,
          3.8,
          4.5,
          8
         ],
         "yaxis": "y"
        },
        {
         "customdata": [
          [
           19.6,
           16.2,
           416,
           0.1,
           26
          ],
          [
           29.1,
           -6,
           6,
           0,
           20
          ],
          [
           15.5,
           9.8,
           1352,
           0.3,
           21
          ],
          [
           16.8,
           11.7,
           759,
           -0.3,
           23
          ],
          [
           16.9,
           11.7,
           1423,
           0.9,
           21
          ],
          [
           13.7,
           12.9,
           788,
           0.3,
           24
          ],
          [
           12.2,
           10.2,
           439,
           -0.3,
           25
          ],
          [
           13.8,
           12.7,
           639,
           0.5,
           23
          ],
          [
           23.6,
           19.6,
           36,
           0,
           21
          ],
          [
           20.9,
           7.6,
           330,
           -0.3,
           23
          ],
          [
           15.2,
           10.9,
           1034,
           0.1,
           23
          ],
          [
           16.6,
           13.5,
           1356,
           0.7,
           21
          ],
          [
           17.9,
           7.8,
           251,
           -0.3,
           22
          ],
          [
           17.9,
           7.8,
           251,
           -0.3,
           22
          ],
          [
           17.9,
           7.8,
           251,
           -0.3,
           22
          ],
          [
           17.9,
           7.8,
           251,
           -0.3,
           22
          ],
          [
           20.7,
           13.1,
           447,
           0,
           22
          ],
          [
           20.7,
           13.1,
           447,
           0,
           22
          ],
          [
           20.7,
           13.1,
           447,
           0,
           22
          ],
          [
           20.7,
           13.1,
           447,
           0,
           22
          ],
          [
           17.3,
           10.8,
           2004,
           -0.2,
           24
          ],
          [
           12.7,
           0.7,
           64,
           -0.1,
           22
          ],
          [
           12.7,
           0.7,
           64,
           -0.1,
           22
          ],
          [
           12.7,
           0.7,
           64,
           -0.1,
           22
          ],
          [
           12.7,
           0.7,
           64,
           -0.1,
           22
          ],
          [
           40.7,
           -38.1,
           1,
           0,
           22
          ],
          [
           40.7,
           -38.1,
           1,
           0,
           22
          ],
          [
           40.7,
           -38.1,
           1,
           0,
           22
          ],
          [
           40.7,
           -38.1,
           1,
           0,
           22
          ],
          [
           10.6,
           6.4,
           1931,
           0,
           20
          ],
          [
           19.3,
           10.5,
           427,
           -0.1,
           20
          ],
          [
           23.2,
           14.4,
           820,
           0,
           20
          ],
          [
           13.5,
           9.3,
           1715,
           0.6,
           23
          ],
          [
           11.8,
           10,
           221,
           0.1,
           20
          ],
          [
           16.3,
           13,
           1996,
           1.1,
           21
          ],
          [
           12.8,
           8.7,
           1233,
           -0.2,
           24
          ],
          [
           18.5,
           9.4,
           1169,
           -0.9,
           20
          ],
          [
           23.9,
           10.6,
           1988,
           -1.4,
           21
          ],
          [
           12.9,
           10.1,
           1083,
           0.1,
           23
          ],
          [
           12.9,
           10.1,
           1083,
           0.1,
           23
          ],
          [
           12.9,
           10.1,
           1083,
           0.1,
           23
          ],
          [
           12.9,
           10.1,
           1083,
           0.1,
           23
          ],
          [
           17,
           13.9,
           531,
           0.1,
           23
          ],
          [
           17,
           13.9,
           531,
           0.1,
           23
          ],
          [
           17,
           13.9,
           531,
           0.1,
           23
          ],
          [
           17,
           13.9,
           531,
           0.1,
           23
          ],
          [
           18.1,
           11.9,
           1437,
           0.2,
           22
          ],
          [
           23.8,
           14,
           2314,
           0.2,
           23
          ],
          [
           17.5,
           16.9,
           522,
           0.1,
           21
          ],
          [
           10.6,
           9.3,
           94,
           0,
           22
          ],
          [
           21.8,
           12.4,
           435,
           -0.3,
           24
          ],
          [
           24.6,
           11.8,
           1258,
           -0.6,
           20
          ],
          [
           17.1,
           16.2,
           1970,
           1.1,
           23
          ],
          [
           16.6,
           6,
           904,
           -0.8,
           20
          ],
          [
           14.1,
           8.5,
           594,
           -0.3,
           24
          ],
          [
           15.7,
           10.5,
           21,
           0,
           21
          ],
          [
           17.2,
           16.1,
           721,
           0.2,
           21
          ],
          [
           12.1,
           8.1,
           47,
           0,
           23
          ],
          [
           23.3,
           11.5,
           908,
           -0.1,
           21
          ],
          [
           23.3,
           11.5,
           908,
           -0.1,
           21
          ],
          [
           23.3,
           11.5,
           908,
           -0.1,
           21
          ],
          [
           23.3,
           11.5,
           908,
           -0.1,
           21
          ],
          [
           27,
           13.5,
           600,
           -0.1,
           21
          ],
          [
           27,
           13.5,
           600,
           -0.1,
           21
          ],
          [
           27,
           13.5,
           600,
           -0.1,
           21
          ],
          [
           27,
           13.5,
           600,
           -0.1,
           21
          ],
          [
           17.6,
           7.6,
           210,
           -0.1,
           23
          ],
          [
           18.4,
           3.1,
           145,
           -0.3,
           21
          ],
          [
           18.4,
           3.1,
           145,
           -0.3,
           21
          ],
          [
           18.4,
           3.1,
           145,
           -0.3,
           21
          ],
          [
           18.4,
           3.1,
           145,
           -0.3,
           21
          ],
          [
           14.9,
           11.7,
           33,
           0,
           21
          ],
          [
           14.9,
           11.7,
           33,
           0,
           21
          ],
          [
           14.9,
           11.7,
           33,
           0,
           21
          ],
          [
           14.9,
           11.7,
           33,
           0,
           21
          ],
          [
           11.3,
           5.2,
           313,
           -0.2,
           24
          ],
          [
           17.7,
           14.8,
           1728,
           1.3,
           24
          ],
          [
           14.4,
           10.3,
           882,
           0.1,
           22
          ],
          [
           16.1,
           16.6,
           80,
           0,
           21
          ],
          [
           16.2,
           9,
           583,
           -0.5,
           21
          ],
          [
           18.2,
           7.6,
           455,
           -0.3,
           23
          ],
          [
           12.7,
           7.1,
           2069,
           -0.4,
           20
          ],
          [
           12.6,
           11.7,
           38,
           -0.1,
           24
          ],
          [
           19.1,
           14.3,
           1436,
           0.2,
           25
          ],
          [
           18.1,
           11.1,
           1527,
           0,
           20
          ],
          [
           15.3,
           16.6,
           943,
           0.3,
           21
          ],
          [
           17.4,
           17,
           581,
           -0.2,
           21
          ],
          [
           24.7,
           14.5,
           1525,
           0.7,
           23
          ],
          [
           23.8,
           10.5,
           329,
           -0.4,
           21
          ],
          [
           19.9,
           18.2,
           28,
           0,
           22
          ],
          [
           14,
           9.7,
           277,
           -0.1,
           22
          ],
          [
           22.2,
           13.8,
           1975,
           0.4,
           20
          ],
          [
           13.9,
           6.8,
           89,
           -0.1,
           22
          ],
          [
           16.9,
           3.4,
           80,
           -0.1,
           20
          ],
          [
           21.1,
           14.3,
           1240,
           -0.2,
           21
          ],
          [
           14.6,
           4.9,
           160,
           -0.1,
           23
          ],
          [
           22.5,
           14.2,
           1864,
           0.7,
           23
          ],
          [
           17.5,
           7,
           807,
           -0.5,
           22
          ],
          [
           14.6,
           10.2,
           1238,
           -0.2,
           20
          ],
          [
           12.8,
           7.4,
           961,
           -0.3,
           22
          ],
          [
           20.7,
           15.1,
           1743,
           1.4,
           21
          ],
          [
           17.1,
           5.1,
           522,
           -0.5,
           24
          ],
          [
           20.9,
           9.2,
           32,
           0,
           24
          ],
          [
           16.1,
           -3.2,
           22,
           -0.1,
           21
          ],
          [
           23,
           9.1,
           28,
           0,
           24
          ],
          [
           14.8,
           17.5,
           1524,
           2,
           22
          ],
          [
           16.8,
           1.9,
           124,
           -0.2,
           22
          ],
          [
           15.7,
           14.5,
           1679,
           1.7,
           23
          ],
          [
           18.5,
           10.1,
           1658,
           -1.3,
           22
          ],
          [
           17.5,
           12.1,
           2095,
           0.8,
           24
          ],
          [
           16.6,
           10.1,
           851,
           0,
           23
          ],
          [
           22.1,
           12.8,
           2464,
           0.8,
           23
          ],
          [
           28.5,
           11.5,
           180,
           -0.2,
           22
          ],
          [
           15.7,
           12.3,
           235,
           0.1,
           22
          ],
          [
           15.2,
           5.2,
           824,
           -0.8,
           23
          ],
          [
           18.8,
           24.2,
           214,
           0.1,
           21
          ],
          [
           17.6,
           15.3,
           410,
           0,
           20
          ],
          [
           28.6,
           14.6,
           2730,
           -0.2,
           20
          ],
          [
           19.7,
           16.3,
           1421,
           0.3,
           23
          ],
          [
           13.1,
           10.4,
           219,
           -0.1,
           25
          ],
          [
           13,
           11.8,
           316,
           0,
           24
          ],
          [
           14.9,
           13.1,
           1419,
           0.3,
           22
          ],
          [
           16,
           13.2,
           1028,
           0.4,
           24
          ],
          [
           17.6,
           19.2,
           1064,
           0.8,
           23
          ],
          [
           16.4,
           8.7,
           1474,
           -0.2,
           22
          ],
          [
           18.8,
           7.2,
           960,
           -0.9,
           21
          ],
          [
           19.3,
           5.9,
           381,
           -0.4,
           23
          ],
          [
           18.7,
           13.7,
           1761,
           0.4,
           22
          ],
          [
           4.8,
           -3.2,
           9,
           0,
           23
          ],
          [
           14.8,
           7.2,
           1371,
           0,
           20
          ],
          [
           13.6,
           13.8,
           774,
           0,
           20
          ],
          [
           21.8,
           13,
           1954,
           0.2,
           23
          ],
          [
           13.4,
           13.6,
           447,
           0.3,
           20
          ],
          [
           21.7,
           9.9,
           1158,
           -0.3,
           21
          ],
          [
           16.4,
           8.7,
           558,
           -0.6,
           22
          ],
          [
           15.5,
           9.8,
           141,
           -0.1,
           22
          ],
          [
           22.6,
           10.9,
           1406,
           -0.6,
           20
          ],
          [
           13.4,
           15.7,
           1442,
           1.4,
           24
          ],
          [
           24.1,
           14.8,
           1134,
           -0.4,
           21
          ],
          [
           14.6,
           9.1,
           1605,
           -0.1,
           21
          ],
          [
           19.1,
           14.9,
           1000,
           -0.3,
           21
          ],
          [
           21.1,
           14,
           1368,
           0.2,
           23
          ],
          [
           16.8,
           10.7,
           1614,
           0.9,
           23
          ],
          [
           17.1,
           10.9,
           1263,
           -0.2,
           22
          ],
          [
           26.6,
           15.3,
           1811,
           0.7,
           20
          ],
          [
           17.2,
           7.8,
           458,
           -0.3,
           20
          ],
          [
           19.8,
           8.2,
           625,
           -0.1,
           20
          ],
          [
           16.6,
           15,
           446,
           0.4,
           24
          ],
          [
           27.8,
           11.4,
           135,
           -0.2,
           24
          ]
         ],
         "hoverlabel": {
          "namelength": 0
         },
         "hovertemplate": "<b>%{hovertext}</b><br><br>neural=%{marker.color}<br>BPM=%{x}<br>WS=%{y}<br>USG%=%{customdata[0]}<br>PER=%{customdata[1]}<br>MP=%{customdata[2]}<br>VORP=%{customdata[3]}<br>Age=%{customdata[4]}",
         "hovertext": [
          "Kadeem Allen",
          "Ike Anigbogu",
          "OG Anunoby",
          "Dwayne Bacon",
          "Lonzo Ball",
          "Jordan Bell",
          "Jaron Blossomgame",
          "Jonah Bolden",
          "Tony Bradley",
          "Dillon Brooks",
          "Sterling Brown",
          "Zach Collins",
          "Tyler Dorsey",
          "Tyler Dorsey",
          "Tyler Dorsey",
          "Tyler Dorsey",
          "Tyler Dorsey",
          "Tyler Dorsey",
          "Tyler Dorsey",
          "Tyler Dorsey",
          "Damyean Dotson",
          "Jawun Evans",
          "Jawun Evans",
          "Jawun Evans",
          "Jawun Evans",
          "Jawun Evans",
          "Jawun Evans",
          "Jawun Evans",
          "Jawun Evans",
          "Terrance Ferguson",
          "Markelle Fultz",
          "Harry Giles",
          "Josh Hart",
          "Isaiah Hartenstein",
          "Jonathan Isaac",
          "Wesley Iwundu",
          "Frank Jackson",
          "Josh Jackson",
          "Justin Jackson",
          "Justin Jackson",
          "Justin Jackson",
          "Justin Jackson",
          "Justin Jackson",
          "Justin Jackson",
          "Justin Jackson",
          "Justin Jackson",
          "Luke Kennard",
          "Kyle Kuzma",
          "T.J. Leaf",
          "Tyler Lydon",
          "Frank Mason",
          "Malik Monk",
          "Monte Morris",
          "Frank Ntilikina",
          "Semi Ojeleye",
          "Justin Patton",
          "Ivan Rabb",
          "Davon Reed",
          "Dennis Smith",
          "Dennis Smith",
          "Dennis Smith",
          "Dennis Smith",
          "Dennis Smith",
          "Dennis Smith",
          "Dennis Smith",
          "Dennis Smith",
          "Edmond Sumner",
          "Caleb Swanigan",
          "Caleb Swanigan",
          "Caleb Swanigan",
          "Caleb Swanigan",
          "Caleb Swanigan",
          "Caleb Swanigan",
          "Caleb Swanigan",
          "Caleb Swanigan",
          "Sindarius Thornwell",
          "Derrick White",
          "D.J. Wilson",
          "Wade Baldwin",
          "Malik Beasley",
          "DeAndre' Bembry",
          "Dragan Bender",
          "Joel Bolomboy",
          "Malcolm Brogdon",
          "Marquese Chriss",
          "Deyonta Davis",
          "Cheick Diallo",
          "Kris Dunn",
          "Henry Ellenson",
          "Daniel Hamilton",
          "Juan Hernangómez",
          "Brandon Ingram",
          "Damian Jones",
          "Furkan Korkmaz",
          "Skal Labissière",
          "Jake Layman",
          "Caris LeVert",
          "Timothé Luwawu-Cabarrot",
          "Thon Maker",
          "Patrick McCaw",
          "Dejounte Murray",
          "Abdel Nader",
          "Georges Niang",
          "Chinanu Onuaku",
          "Marcus Paige",
          "Jakob Pöltl",
          "Zhou Qi",
          "Pascal Siakam",
          "Tyler Ulis",
          "Denzel Valentine",
          "Tyrone Wallace",
          "Taurean Waller-Prince",
          "Isaiah Whitehead",
          "Guerschon Yabusele",
          "Paul Zipser",
          "Ante Žižić",
          "Ivica Zubac",
          "Devin Booker",
          "Willie Cauley-Stein",
          "Rakeem Christmas",
          "Pat Connaughton",
          "Sam Dekker",
          "Jerian Grant",
          "Montrezl Harrell",
          "Andrew Harrison",
          "Mario Hezonja",
          "Darrun Hilliard",
          "Rondae Hollis-Jefferson",
          "R.J. Hunter",
          "Stanley Johnson",
          "Tyus Jones",
          "Frank Kaminsky",
          "Kevon Looney",
          "Trey Lyles",
          "Jarell Martin",
          "Jordan Mickey",
          "Emmanuel Mudiay",
          "Larry Nance",
          "Jahlil Okafor",
          "Kelly Oubre",
          "Bobby Portis",
          "Norman Powell",
          "Josh Richardson",
          "Terry Rozier",
          "D'Angelo Russell",
          "Rashad Vaughn",
          "Justise Winslow",
          "Delon Wright",
          "Joe Young"
         ],
         "legendgroup": "neural=0",
         "marker": {
          "color": [
           0,
           0,
           0,
           0,
           0,
           0,
           0,
           0,
           0,
           0,
           0,
           0,
           0,
           0,
           0,
           0,
           0,
           0,
           0,
           0,
           0,
           0,
           0,
           0,
           0,
           0,
           0,
           0,
           0,
           0,
           0,
           0,
           0,
           0,
           0,
           0,
           0,
           0,
           0,
           0,
           0,
           0,
           0,
           0,
           0,
           0,
           0,
           0,
           0,
           0,
           0,
           0,
           0,
           0,
           0,
           0,
           0,
           0,
           0,
           0,
           0,
           0,
           0,
           0,
           0,
           0,
           0,
           0,
           0,
           0,
           0,
           0,
           0,
           0,
           0,
           0,
           0,
           0,
           0,
           0,
           0,
           0,
           0,
           0,
           0,
           0,
           0,
           0,
           0,
           0,
           0,
           0,
           0,
           0,
           0,
           0,
           0,
           0,
           0,
           0,
           0,
           0,
           0,
           0,
           0,
           0,
           0,
           0,
           0,
           0,
           0,
           0,
           0,
           0,
           0,
           0,
           0,
           0,
           0,
           0,
           0,
           0,
           0,
           0,
           0,
           0,
           0,
           0,
           0,
           0,
           0,
           0,
           0,
           0,
           0,
           0,
           0,
           0,
           0,
           0,
           0,
           0,
           0,
           0,
           0,
           0,
           0,
           0,
           0
          ],
          "coloraxis": "coloraxis",
          "line": {
           "color": "DarkSlateGrey",
           "width": 1
          },
          "size": 10,
          "symbol": "diamond"
         },
         "mode": "markers",
         "name": "neural=0",
         "showlegend": true,
         "type": "scatter",
         "x": [
          -1.1,
          -14,
          -1.2,
          -3.5,
          0.5,
          -0.4,
          -4.5,
          1.2,
          -0.7,
          -6.1,
          -1.6,
          0.1,
          -6.9,
          -6.9,
          -6.9,
          -6.9,
          -2.1,
          -2.1,
          -2.1,
          -2.1,
          -2.3,
          -10,
          -10,
          -10,
          -10,
          -38.9,
          -38.9,
          -38.9,
          -38.9,
          -1.9,
          -3.1,
          -2.1,
          -0.7,
          -0.6,
          0.1,
          -2.7,
          -5,
          -4.8,
          -1.6,
          -1.6,
          -1.6,
          -1.6,
          -1.4,
          -1.4,
          -1.4,
          -1.4,
          -1.5,
          -1.7,
          -1,
          -2.5,
          -4.5,
          -3.9,
          0.2,
          -5.7,
          -4.3,
          -0.2,
          -0.6,
          -4.2,
          -2.4,
          -2.4,
          -2.4,
          -2.4,
          -2.7,
          -2.7,
          -2.7,
          -2.7,
          -3.6,
          -9.5,
          -9.5,
          -9.5,
          -9.5,
          -0.2,
          -0.2,
          -0.2,
          -0.2,
          -4,
          0.9,
          -1.6,
          0,
          -5.1,
          -4.4,
          -2.7,
          -7.7,
          -1.3,
          -2,
          -0.9,
          -3.1,
          -0.1,
          -6.8,
          -1.6,
          -3.3,
          -1.3,
          -6.6,
          -6.9,
          -2.6,
          -5,
          -0.5,
          -4.7,
          -2.7,
          -3.4,
          1.2,
          -5.6,
          -4,
          -12.3,
          -6.9,
          3.3,
          -7.2,
          2.1,
          -5.2,
          -0.5,
          -2,
          -0.7,
          -5.6,
          -0.7,
          -5.9,
          0.1,
          -2.2,
          -2.3,
          -1.2,
          -4.2,
          -2.5,
          -1,
          -0.3,
          0.9,
          -2.4,
          -5.7,
          -6.1,
          -1,
          -11.4,
          -2,
          -1.8,
          -1.5,
          0.4,
          -3,
          -6.4,
          -4.9,
          -3.7,
          1.9,
          -3.3,
          -2.3,
          -3,
          -1.5,
          0.2,
          -2.5,
          -0.5,
          -4.9,
          -2.8,
          1.1,
          -7.3
         ],
         "xaxis": "x",
         "y": [
          1,
          -0.1,
          2,
          1.2,
          1.6,
          1.6,
          0.3,
          1.4,
          0.1,
          0,
          2.1,
          2.9,
          -0.1,
          -0.1,
          -0.1,
          -0.1,
          0.7,
          0.7,
          0.7,
          0.7,
          1.5,
          -0.2,
          -0.2,
          -0.2,
          -0.2,
          0,
          0,
          0,
          0,
          2.8,
          0.3,
          1,
          2.1,
          0.5,
          4,
          1.9,
          0.4,
          -1.7,
          1.6,
          1.6,
          1.6,
          1.6,
          1.3,
          1.3,
          1.3,
          1.3,
          2.5,
          3.1,
          1.6,
          0.2,
          0.3,
          0.3,
          6.2,
          -0.8,
          0.7,
          0,
          2.1,
          0.1,
          0.2,
          0.2,
          0.2,
          0.2,
          -0.2,
          -0.2,
          -0.2,
          -0.2,
          0.1,
          -0.3,
          -0.3,
          -0.3,
          -0.3,
          0,
          0,
          0,
          0,
          0,
          3.6,
          1.7,
          0.3,
          0.3,
          -0.4,
          0.1,
          0.1,
          2.7,
          0.7,
          2.7,
          1.9,
          0.9,
          0.1,
          0.1,
          0.4,
          2.8,
          0.1,
          0,
          1.4,
          -0.1,
          2.3,
          0.8,
          1.5,
          0.6,
          3.2,
          -0.1,
          0,
          -0.1,
          0,
          5.6,
          -0.3,
          4.7,
          -0.2,
          2.5,
          0.7,
          2,
          -0.1,
          0.6,
          -0.6,
          1,
          1,
          2,
          2.9,
          0.5,
          0.6,
          3.1,
          2.5,
          4.1,
          1.6,
          -0.7,
          -0.2,
          2.6,
          0,
          0.4,
          1.5,
          2.3,
          1.4,
          0.8,
          0.6,
          0.1,
          0.2,
          3.5,
          1.2,
          2,
          2.4,
          2.8,
          2.2,
          1.4,
          1.3,
          0,
          -0.1,
          1.1,
          -0.1
         ],
         "yaxis": "y"
        }
       ],
       "layout": {
        "coloraxis": {
         "colorbar": {
          "title": {
           "text": "neural"
          }
         },
         "colorscale": [
          [
           0,
           "rgb(23, 28, 66)"
          ],
          [
           0.09090909090909091,
           "rgb(41, 58, 143)"
          ],
          [
           0.18181818181818182,
           "rgb(11, 102, 189)"
          ],
          [
           0.2727272727272727,
           "rgb(69, 144, 185)"
          ],
          [
           0.36363636363636365,
           "rgb(142, 181, 194)"
          ],
          [
           0.45454545454545453,
           "rgb(210, 216, 219)"
          ],
          [
           0.5454545454545454,
           "rgb(230, 210, 204)"
          ],
          [
           0.6363636363636364,
           "rgb(213, 157, 137)"
          ],
          [
           0.7272727272727273,
           "rgb(196, 101, 72)"
          ],
          [
           0.8181818181818182,
           "rgb(172, 43, 36)"
          ],
          [
           0.9090909090909091,
           "rgb(120, 14, 40)"
          ],
          [
           1,
           "rgb(60, 9, 17)"
          ]
         ]
        },
        "height": 600,
        "legend": {
         "orientation": "h",
         "tracegroupgap": 0
        },
        "margin": {
         "t": 60
        },
        "template": {
         "data": {
          "bar": [
           {
            "error_x": {
             "color": "#2a3f5f"
            },
            "error_y": {
             "color": "#2a3f5f"
            },
            "marker": {
             "line": {
              "color": "#E5ECF6",
              "width": 0.5
             }
            },
            "type": "bar"
           }
          ],
          "barpolar": [
           {
            "marker": {
             "line": {
              "color": "#E5ECF6",
              "width": 0.5
             }
            },
            "type": "barpolar"
           }
          ],
          "carpet": [
           {
            "aaxis": {
             "endlinecolor": "#2a3f5f",
             "gridcolor": "white",
             "linecolor": "white",
             "minorgridcolor": "white",
             "startlinecolor": "#2a3f5f"
            },
            "baxis": {
             "endlinecolor": "#2a3f5f",
             "gridcolor": "white",
             "linecolor": "white",
             "minorgridcolor": "white",
             "startlinecolor": "#2a3f5f"
            },
            "type": "carpet"
           }
          ],
          "choropleth": [
           {
            "colorbar": {
             "outlinewidth": 0,
             "ticks": ""
            },
            "type": "choropleth"
           }
          ],
          "contour": [
           {
            "colorbar": {
             "outlinewidth": 0,
             "ticks": ""
            },
            "colorscale": [
             [
              0,
              "#0d0887"
             ],
             [
              0.1111111111111111,
              "#46039f"
             ],
             [
              0.2222222222222222,
              "#7201a8"
             ],
             [
              0.3333333333333333,
              "#9c179e"
             ],
             [
              0.4444444444444444,
              "#bd3786"
             ],
             [
              0.5555555555555556,
              "#d8576b"
             ],
             [
              0.6666666666666666,
              "#ed7953"
             ],
             [
              0.7777777777777778,
              "#fb9f3a"
             ],
             [
              0.8888888888888888,
              "#fdca26"
             ],
             [
              1,
              "#f0f921"
             ]
            ],
            "type": "contour"
           }
          ],
          "contourcarpet": [
           {
            "colorbar": {
             "outlinewidth": 0,
             "ticks": ""
            },
            "type": "contourcarpet"
           }
          ],
          "heatmap": [
           {
            "colorbar": {
             "outlinewidth": 0,
             "ticks": ""
            },
            "colorscale": [
             [
              0,
              "#0d0887"
             ],
             [
              0.1111111111111111,
              "#46039f"
             ],
             [
              0.2222222222222222,
              "#7201a8"
             ],
             [
              0.3333333333333333,
              "#9c179e"
             ],
             [
              0.4444444444444444,
              "#bd3786"
             ],
             [
              0.5555555555555556,
              "#d8576b"
             ],
             [
              0.6666666666666666,
              "#ed7953"
             ],
             [
              0.7777777777777778,
              "#fb9f3a"
             ],
             [
              0.8888888888888888,
              "#fdca26"
             ],
             [
              1,
              "#f0f921"
             ]
            ],
            "type": "heatmap"
           }
          ],
          "heatmapgl": [
           {
            "colorbar": {
             "outlinewidth": 0,
             "ticks": ""
            },
            "colorscale": [
             [
              0,
              "#0d0887"
             ],
             [
              0.1111111111111111,
              "#46039f"
             ],
             [
              0.2222222222222222,
              "#7201a8"
             ],
             [
              0.3333333333333333,
              "#9c179e"
             ],
             [
              0.4444444444444444,
              "#bd3786"
             ],
             [
              0.5555555555555556,
              "#d8576b"
             ],
             [
              0.6666666666666666,
              "#ed7953"
             ],
             [
              0.7777777777777778,
              "#fb9f3a"
             ],
             [
              0.8888888888888888,
              "#fdca26"
             ],
             [
              1,
              "#f0f921"
             ]
            ],
            "type": "heatmapgl"
           }
          ],
          "histogram": [
           {
            "marker": {
             "colorbar": {
              "outlinewidth": 0,
              "ticks": ""
             }
            },
            "type": "histogram"
           }
          ],
          "histogram2d": [
           {
            "colorbar": {
             "outlinewidth": 0,
             "ticks": ""
            },
            "colorscale": [
             [
              0,
              "#0d0887"
             ],
             [
              0.1111111111111111,
              "#46039f"
             ],
             [
              0.2222222222222222,
              "#7201a8"
             ],
             [
              0.3333333333333333,
              "#9c179e"
             ],
             [
              0.4444444444444444,
              "#bd3786"
             ],
             [
              0.5555555555555556,
              "#d8576b"
             ],
             [
              0.6666666666666666,
              "#ed7953"
             ],
             [
              0.7777777777777778,
              "#fb9f3a"
             ],
             [
              0.8888888888888888,
              "#fdca26"
             ],
             [
              1,
              "#f0f921"
             ]
            ],
            "type": "histogram2d"
           }
          ],
          "histogram2dcontour": [
           {
            "colorbar": {
             "outlinewidth": 0,
             "ticks": ""
            },
            "colorscale": [
             [
              0,
              "#0d0887"
             ],
             [
              0.1111111111111111,
              "#46039f"
             ],
             [
              0.2222222222222222,
              "#7201a8"
             ],
             [
              0.3333333333333333,
              "#9c179e"
             ],
             [
              0.4444444444444444,
              "#bd3786"
             ],
             [
              0.5555555555555556,
              "#d8576b"
             ],
             [
              0.6666666666666666,
              "#ed7953"
             ],
             [
              0.7777777777777778,
              "#fb9f3a"
             ],
             [
              0.8888888888888888,
              "#fdca26"
             ],
             [
              1,
              "#f0f921"
             ]
            ],
            "type": "histogram2dcontour"
           }
          ],
          "mesh3d": [
           {
            "colorbar": {
             "outlinewidth": 0,
             "ticks": ""
            },
            "type": "mesh3d"
           }
          ],
          "parcoords": [
           {
            "line": {
             "colorbar": {
              "outlinewidth": 0,
              "ticks": ""
             }
            },
            "type": "parcoords"
           }
          ],
          "scatter": [
           {
            "marker": {
             "colorbar": {
              "outlinewidth": 0,
              "ticks": ""
             }
            },
            "type": "scatter"
           }
          ],
          "scatter3d": [
           {
            "line": {
             "colorbar": {
              "outlinewidth": 0,
              "ticks": ""
             }
            },
            "marker": {
             "colorbar": {
              "outlinewidth": 0,
              "ticks": ""
             }
            },
            "type": "scatter3d"
           }
          ],
          "scattercarpet": [
           {
            "marker": {
             "colorbar": {
              "outlinewidth": 0,
              "ticks": ""
             }
            },
            "type": "scattercarpet"
           }
          ],
          "scattergeo": [
           {
            "marker": {
             "colorbar": {
              "outlinewidth": 0,
              "ticks": ""
             }
            },
            "type": "scattergeo"
           }
          ],
          "scattergl": [
           {
            "marker": {
             "colorbar": {
              "outlinewidth": 0,
              "ticks": ""
             }
            },
            "type": "scattergl"
           }
          ],
          "scattermapbox": [
           {
            "marker": {
             "colorbar": {
              "outlinewidth": 0,
              "ticks": ""
             }
            },
            "type": "scattermapbox"
           }
          ],
          "scatterpolar": [
           {
            "marker": {
             "colorbar": {
              "outlinewidth": 0,
              "ticks": ""
             }
            },
            "type": "scatterpolar"
           }
          ],
          "scatterpolargl": [
           {
            "marker": {
             "colorbar": {
              "outlinewidth": 0,
              "ticks": ""
             }
            },
            "type": "scatterpolargl"
           }
          ],
          "scatterternary": [
           {
            "marker": {
             "colorbar": {
              "outlinewidth": 0,
              "ticks": ""
             }
            },
            "type": "scatterternary"
           }
          ],
          "surface": [
           {
            "colorbar": {
             "outlinewidth": 0,
             "ticks": ""
            },
            "colorscale": [
             [
              0,
              "#0d0887"
             ],
             [
              0.1111111111111111,
              "#46039f"
             ],
             [
              0.2222222222222222,
              "#7201a8"
             ],
             [
              0.3333333333333333,
              "#9c179e"
             ],
             [
              0.4444444444444444,
              "#bd3786"
             ],
             [
              0.5555555555555556,
              "#d8576b"
             ],
             [
              0.6666666666666666,
              "#ed7953"
             ],
             [
              0.7777777777777778,
              "#fb9f3a"
             ],
             [
              0.8888888888888888,
              "#fdca26"
             ],
             [
              1,
              "#f0f921"
             ]
            ],
            "type": "surface"
           }
          ],
          "table": [
           {
            "cells": {
             "fill": {
              "color": "#EBF0F8"
             },
             "line": {
              "color": "white"
             }
            },
            "header": {
             "fill": {
              "color": "#C8D4E3"
             },
             "line": {
              "color": "white"
             }
            },
            "type": "table"
           }
          ]
         },
         "layout": {
          "annotationdefaults": {
           "arrowcolor": "#2a3f5f",
           "arrowhead": 0,
           "arrowwidth": 1
          },
          "colorscale": {
           "diverging": [
            [
             0,
             "#8e0152"
            ],
            [
             0.1,
             "#c51b7d"
            ],
            [
             0.2,
             "#de77ae"
            ],
            [
             0.3,
             "#f1b6da"
            ],
            [
             0.4,
             "#fde0ef"
            ],
            [
             0.5,
             "#f7f7f7"
            ],
            [
             0.6,
             "#e6f5d0"
            ],
            [
             0.7,
             "#b8e186"
            ],
            [
             0.8,
             "#7fbc41"
            ],
            [
             0.9,
             "#4d9221"
            ],
            [
             1,
             "#276419"
            ]
           ],
           "sequential": [
            [
             0,
             "#0d0887"
            ],
            [
             0.1111111111111111,
             "#46039f"
            ],
            [
             0.2222222222222222,
             "#7201a8"
            ],
            [
             0.3333333333333333,
             "#9c179e"
            ],
            [
             0.4444444444444444,
             "#bd3786"
            ],
            [
             0.5555555555555556,
             "#d8576b"
            ],
            [
             0.6666666666666666,
             "#ed7953"
            ],
            [
             0.7777777777777778,
             "#fb9f3a"
            ],
            [
             0.8888888888888888,
             "#fdca26"
            ],
            [
             1,
             "#f0f921"
            ]
           ],
           "sequentialminus": [
            [
             0,
             "#0d0887"
            ],
            [
             0.1111111111111111,
             "#46039f"
            ],
            [
             0.2222222222222222,
             "#7201a8"
            ],
            [
             0.3333333333333333,
             "#9c179e"
            ],
            [
             0.4444444444444444,
             "#bd3786"
            ],
            [
             0.5555555555555556,
             "#d8576b"
            ],
            [
             0.6666666666666666,
             "#ed7953"
            ],
            [
             0.7777777777777778,
             "#fb9f3a"
            ],
            [
             0.8888888888888888,
             "#fdca26"
            ],
            [
             1,
             "#f0f921"
            ]
           ]
          },
          "colorway": [
           "#636efa",
           "#EF553B",
           "#00cc96",
           "#ab63fa",
           "#FFA15A",
           "#19d3f3",
           "#FF6692",
           "#B6E880",
           "#FF97FF",
           "#FECB52"
          ],
          "font": {
           "color": "#2a3f5f"
          },
          "geo": {
           "bgcolor": "white",
           "lakecolor": "white",
           "landcolor": "#E5ECF6",
           "showlakes": true,
           "showland": true,
           "subunitcolor": "white"
          },
          "hoverlabel": {
           "align": "left"
          },
          "hovermode": "closest",
          "mapbox": {
           "style": "light"
          },
          "paper_bgcolor": "white",
          "plot_bgcolor": "#E5ECF6",
          "polar": {
           "angularaxis": {
            "gridcolor": "white",
            "linecolor": "white",
            "ticks": ""
           },
           "bgcolor": "#E5ECF6",
           "radialaxis": {
            "gridcolor": "white",
            "linecolor": "white",
            "ticks": ""
           }
          },
          "scene": {
           "xaxis": {
            "backgroundcolor": "#E5ECF6",
            "gridcolor": "white",
            "gridwidth": 2,
            "linecolor": "white",
            "showbackground": true,
            "ticks": "",
            "zerolinecolor": "white"
           },
           "yaxis": {
            "backgroundcolor": "#E5ECF6",
            "gridcolor": "white",
            "gridwidth": 2,
            "linecolor": "white",
            "showbackground": true,
            "ticks": "",
            "zerolinecolor": "white"
           },
           "zaxis": {
            "backgroundcolor": "#E5ECF6",
            "gridcolor": "white",
            "gridwidth": 2,
            "linecolor": "white",
            "showbackground": true,
            "ticks": "",
            "zerolinecolor": "white"
           }
          },
          "shapedefaults": {
           "line": {
            "color": "#2a3f5f"
           }
          },
          "ternary": {
           "aaxis": {
            "gridcolor": "white",
            "linecolor": "white",
            "ticks": ""
           },
           "baxis": {
            "gridcolor": "white",
            "linecolor": "white",
            "ticks": ""
           },
           "bgcolor": "#E5ECF6",
           "caxis": {
            "gridcolor": "white",
            "linecolor": "white",
            "ticks": ""
           }
          },
          "title": {
           "x": 0.05
          },
          "xaxis": {
           "automargin": true,
           "gridcolor": "white",
           "linecolor": "white",
           "ticks": "",
           "zerolinecolor": "white",
           "zerolinewidth": 2
          },
          "yaxis": {
           "automargin": true,
           "gridcolor": "white",
           "linecolor": "white",
           "ticks": "",
           "zerolinecolor": "white",
           "zerolinewidth": 2
          }
         }
        },
        "xaxis": {
         "anchor": "y",
         "domain": [
          0,
          0.98
         ],
         "range": [
          -15,
          7
         ],
         "title": {
          "text": "BPM"
         }
        },
        "yaxis": {
         "anchor": "x",
         "domain": [
          0,
          1
         ],
         "title": {
          "text": "WS"
         }
        }
       }
      },
      "text/html": [
       "<div>\n",
       "        \n",
       "        \n",
       "            <div id=\"e35dcc05-86a1-4eb8-8684-b404560625e8\" class=\"plotly-graph-div\" style=\"height:600px; width:100%;\"></div>\n",
       "            <script type=\"text/javascript\">\n",
       "                require([\"plotly\"], function(Plotly) {\n",
       "                    window.PLOTLYENV=window.PLOTLYENV || {};\n",
       "                    \n",
       "                if (document.getElementById(\"e35dcc05-86a1-4eb8-8684-b404560625e8\")) {\n",
       "                    Plotly.newPlot(\n",
       "                        'e35dcc05-86a1-4eb8-8684-b404560625e8',\n",
       "                        [{\"customdata\": [[15.8, 17.9, 1913.0, 2.4, 21.0], [15.9, 18.5, 2096.0, 2.4, 20.0], [24.5, 18.1, 2546.0, 2.0, 21.0], [25.1, 17.1, 1682.0, 0.0, 21.0], [31.6, 17.2, 2598.0, 1.7, 22.0], [22.1, 15.1, 2455.0, 0.8, 20.0], [21.4, 13.6, 2152.0, 1.0, 21.0], [24.3, 16.1, 2024.0, 0.9, 25.0], [22.8, 16.1, 2565.0, 1.2, 20.0], [22.1, 17.5, 1810.0, 0.8, 21.0], [22.3, 20.0, 2732.0, 4.6, 21.0], [20.3, 19.0, 1324.0, 0.7, 22.0], [18.6, 18.6, 1193.0, 1.1, 23.0], [24.3, 17.4, 2164.0, 1.2, 21.0], [19.5, 18.5, 2541.0, 2.8, 20.0]], \"hoverlabel\": {\"namelength\": 0}, \"hovertemplate\": \"<b>%{hovertext}</b><br><br>neural=%{marker.color}<br>BPM=%{x}<br>WS=%{y}<br>USG%=%{customdata[0]}<br>PER=%{customdata[1]}<br>MP=%{customdata[2]}<br>VORP=%{customdata[3]}<br>Age=%{customdata[4]}\", \"hovertext\": [\"Bam Adebayo\", \"Jarrett Allen\", \"De'Aaron Fox\", \"Lauri Markkanen\", \"Donovan Mitchell\", \"Jayson Tatum\", \"Jaylen Brown\", \"Buddy Hield\", \"Jamal Murray\", \"Domantas Sabonis\", \"Ben Simmons\", \"Willy Hernangomez\", \"Richaun Holmes\", \"Kristaps Porzingis\", \"Myles Turner\"], \"legendgroup\": \"neural=1\", \"marker\": {\"color\": [1, 1, 1, 1, 1, 1, 1, 1, 1, 1, 1, 1, 1, 1, 1], \"coloraxis\": \"coloraxis\", \"line\": {\"color\": \"DarkSlateGrey\", \"width\": 1}, \"size\": 10, \"symbol\": \"circle\"}, \"mode\": \"markers\", \"name\": \"neural=1\", \"showlegend\": true, \"type\": \"scatter\", \"x\": [3.0, 2.5, 1.1, -1.9, 0.6, -0.8, -0.2, -0.2, -0.2, -0.3, 4.6, 0.0, 1.7, 0.2, 2.4], \"xaxis\": \"x\", \"y\": [6.8, 7.6, 5.6, 2.7, 5.0, 5.0, 4.5, 2.8, 5.5, 4.7, 9.2, 3.4, 3.8, 4.5, 8.0], \"yaxis\": \"y\"}, {\"customdata\": [[19.6, 16.2, 416.0, 0.1, 26.0], [29.1, -6.0, 6.0, 0.0, 20.0], [15.5, 9.8, 1352.0, 0.3, 21.0], [16.8, 11.7, 759.0, -0.3, 23.0], [16.9, 11.7, 1423.0, 0.9, 21.0], [13.7, 12.9, 788.0, 0.3, 24.0], [12.2, 10.2, 439.0, -0.3, 25.0], [13.8, 12.7, 639.0, 0.5, 23.0], [23.6, 19.6, 36.0, 0.0, 21.0], [20.9, 7.6, 330.0, -0.3, 23.0], [15.2, 10.9, 1034.0, 0.1, 23.0], [16.6, 13.5, 1356.0, 0.7, 21.0], [17.9, 7.8, 251.0, -0.3, 22.0], [17.9, 7.8, 251.0, -0.3, 22.0], [17.9, 7.8, 251.0, -0.3, 22.0], [17.9, 7.8, 251.0, -0.3, 22.0], [20.7, 13.1, 447.0, 0.0, 22.0], [20.7, 13.1, 447.0, 0.0, 22.0], [20.7, 13.1, 447.0, 0.0, 22.0], [20.7, 13.1, 447.0, 0.0, 22.0], [17.3, 10.8, 2004.0, -0.2, 24.0], [12.7, 0.7, 64.0, -0.1, 22.0], [12.7, 0.7, 64.0, -0.1, 22.0], [12.7, 0.7, 64.0, -0.1, 22.0], [12.7, 0.7, 64.0, -0.1, 22.0], [40.7, -38.1, 1.0, 0.0, 22.0], [40.7, -38.1, 1.0, 0.0, 22.0], [40.7, -38.1, 1.0, 0.0, 22.0], [40.7, -38.1, 1.0, 0.0, 22.0], [10.6, 6.4, 1931.0, 0.0, 20.0], [19.3, 10.5, 427.0, -0.1, 20.0], [23.2, 14.4, 820.0, 0.0, 20.0], [13.5, 9.3, 1715.0, 0.6, 23.0], [11.8, 10.0, 221.0, 0.1, 20.0], [16.3, 13.0, 1996.0, 1.1, 21.0], [12.8, 8.7, 1233.0, -0.2, 24.0], [18.5, 9.4, 1169.0, -0.9, 20.0], [23.9, 10.6, 1988.0, -1.4, 21.0], [12.9, 10.1, 1083.0, 0.1, 23.0], [12.9, 10.1, 1083.0, 0.1, 23.0], [12.9, 10.1, 1083.0, 0.1, 23.0], [12.9, 10.1, 1083.0, 0.1, 23.0], [17.0, 13.9, 531.0, 0.1, 23.0], [17.0, 13.9, 531.0, 0.1, 23.0], [17.0, 13.9, 531.0, 0.1, 23.0], [17.0, 13.9, 531.0, 0.1, 23.0], [18.1, 11.9, 1437.0, 0.2, 22.0], [23.8, 14.0, 2314.0, 0.2, 23.0], [17.5, 16.9, 522.0, 0.1, 21.0], [10.6, 9.3, 94.0, 0.0, 22.0], [21.8, 12.4, 435.0, -0.3, 24.0], [24.6, 11.8, 1258.0, -0.6, 20.0], [17.1, 16.2, 1970.0, 1.1, 23.0], [16.6, 6.0, 904.0, -0.8, 20.0], [14.1, 8.5, 594.0, -0.3, 24.0], [15.7, 10.5, 21.0, 0.0, 21.0], [17.2, 16.1, 721.0, 0.2, 21.0], [12.1, 8.1, 47.0, 0.0, 23.0], [23.3, 11.5, 908.0, -0.1, 21.0], [23.3, 11.5, 908.0, -0.1, 21.0], [23.3, 11.5, 908.0, -0.1, 21.0], [23.3, 11.5, 908.0, -0.1, 21.0], [27.0, 13.5, 600.0, -0.1, 21.0], [27.0, 13.5, 600.0, -0.1, 21.0], [27.0, 13.5, 600.0, -0.1, 21.0], [27.0, 13.5, 600.0, -0.1, 21.0], [17.6, 7.6, 210.0, -0.1, 23.0], [18.4, 3.1, 145.0, -0.3, 21.0], [18.4, 3.1, 145.0, -0.3, 21.0], [18.4, 3.1, 145.0, -0.3, 21.0], [18.4, 3.1, 145.0, -0.3, 21.0], [14.9, 11.7, 33.0, 0.0, 21.0], [14.9, 11.7, 33.0, 0.0, 21.0], [14.9, 11.7, 33.0, 0.0, 21.0], [14.9, 11.7, 33.0, 0.0, 21.0], [11.3, 5.2, 313.0, -0.2, 24.0], [17.7, 14.8, 1728.0, 1.3, 24.0], [14.4, 10.3, 882.0, 0.1, 22.0], [16.1, 16.6, 80.0, 0.0, 21.0], [16.2, 9.0, 583.0, -0.5, 21.0], [18.2, 7.6, 455.0, -0.3, 23.0], [12.7, 7.1, 2069.0, -0.4, 20.0], [12.6, 11.7, 38.0, -0.1, 24.0], [19.1, 14.3, 1436.0, 0.2, 25.0], [18.1, 11.1, 1527.0, 0.0, 20.0], [15.3, 16.6, 943.0, 0.3, 21.0], [17.4, 17.0, 581.0, -0.2, 21.0], [24.7, 14.5, 1525.0, 0.7, 23.0], [23.8, 10.5, 329.0, -0.4, 21.0], [19.9, 18.2, 28.0, 0.0, 22.0], [14.0, 9.7, 277.0, -0.1, 22.0], [22.2, 13.8, 1975.0, 0.4, 20.0], [13.9, 6.8, 89.0, -0.1, 22.0], [16.9, 3.4, 80.0, -0.1, 20.0], [21.1, 14.3, 1240.0, -0.2, 21.0], [14.6, 4.9, 160.0, -0.1, 23.0], [22.5, 14.2, 1864.0, 0.7, 23.0], [17.5, 7.0, 807.0, -0.5, 22.0], [14.6, 10.2, 1238.0, -0.2, 20.0], [12.8, 7.4, 961.0, -0.3, 22.0], [20.7, 15.1, 1743.0, 1.4, 21.0], [17.1, 5.1, 522.0, -0.5, 24.0], [20.9, 9.2, 32.0, 0.0, 24.0], [16.1, -3.2, 22.0, -0.1, 21.0], [23.0, 9.1, 28.0, 0.0, 24.0], [14.8, 17.5, 1524.0, 2.0, 22.0], [16.8, 1.9, 124.0, -0.2, 22.0], [15.7, 14.5, 1679.0, 1.7, 23.0], [18.5, 10.1, 1658.0, -1.3, 22.0], [17.5, 12.1, 2095.0, 0.8, 24.0], [16.6, 10.1, 851.0, 0.0, 23.0], [22.1, 12.8, 2464.0, 0.8, 23.0], [28.5, 11.5, 180.0, -0.2, 22.0], [15.7, 12.3, 235.0, 0.1, 22.0], [15.2, 5.2, 824.0, -0.8, 23.0], [18.8, 24.2, 214.0, 0.1, 21.0], [17.6, 15.3, 410.0, 0.0, 20.0], [28.6, 14.6, 2730.0, -0.2, 20.0], [19.7, 16.3, 1421.0, 0.3, 23.0], [13.1, 10.4, 219.0, -0.1, 25.0], [13.0, 11.8, 316.0, 0.0, 24.0], [14.9, 13.1, 1419.0, 0.3, 22.0], [16.0, 13.2, 1028.0, 0.4, 24.0], [17.6, 19.2, 1064.0, 0.8, 23.0], [16.4, 8.7, 1474.0, -0.2, 22.0], [18.8, 7.2, 960.0, -0.9, 21.0], [19.3, 5.9, 381.0, -0.4, 23.0], [18.7, 13.7, 1761.0, 0.4, 22.0], [4.8, -3.2, 9.0, 0.0, 23.0], [14.8, 7.2, 1371.0, 0.0, 20.0], [13.6, 13.8, 774.0, 0.0, 20.0], [21.8, 13.0, 1954.0, 0.2, 23.0], [13.4, 13.6, 447.0, 0.3, 20.0], [21.7, 9.9, 1158.0, -0.3, 21.0], [16.4, 8.7, 558.0, -0.6, 22.0], [15.5, 9.8, 141.0, -0.1, 22.0], [22.6, 10.9, 1406.0, -0.6, 20.0], [13.4, 15.7, 1442.0, 1.4, 24.0], [24.1, 14.8, 1134.0, -0.4, 21.0], [14.6, 9.1, 1605.0, -0.1, 21.0], [19.1, 14.9, 1000.0, -0.3, 21.0], [21.1, 14.0, 1368.0, 0.2, 23.0], [16.8, 10.7, 1614.0, 0.9, 23.0], [17.1, 10.9, 1263.0, -0.2, 22.0], [26.6, 15.3, 1811.0, 0.7, 20.0], [17.2, 7.8, 458.0, -0.3, 20.0], [19.8, 8.2, 625.0, -0.1, 20.0], [16.6, 15.0, 446.0, 0.4, 24.0], [27.8, 11.4, 135.0, -0.2, 24.0]], \"hoverlabel\": {\"namelength\": 0}, \"hovertemplate\": \"<b>%{hovertext}</b><br><br>neural=%{marker.color}<br>BPM=%{x}<br>WS=%{y}<br>USG%=%{customdata[0]}<br>PER=%{customdata[1]}<br>MP=%{customdata[2]}<br>VORP=%{customdata[3]}<br>Age=%{customdata[4]}\", \"hovertext\": [\"Kadeem Allen\", \"Ike Anigbogu\", \"OG Anunoby\", \"Dwayne Bacon\", \"Lonzo Ball\", \"Jordan Bell\", \"Jaron Blossomgame\", \"Jonah Bolden\", \"Tony Bradley\", \"Dillon Brooks\", \"Sterling Brown\", \"Zach Collins\", \"Tyler Dorsey\", \"Tyler Dorsey\", \"Tyler Dorsey\", \"Tyler Dorsey\", \"Tyler Dorsey\", \"Tyler Dorsey\", \"Tyler Dorsey\", \"Tyler Dorsey\", \"Damyean Dotson\", \"Jawun Evans\", \"Jawun Evans\", \"Jawun Evans\", \"Jawun Evans\", \"Jawun Evans\", \"Jawun Evans\", \"Jawun Evans\", \"Jawun Evans\", \"Terrance Ferguson\", \"Markelle Fultz\", \"Harry Giles\", \"Josh Hart\", \"Isaiah Hartenstein\", \"Jonathan Isaac\", \"Wesley Iwundu\", \"Frank Jackson\", \"Josh Jackson\", \"Justin Jackson\", \"Justin Jackson\", \"Justin Jackson\", \"Justin Jackson\", \"Justin Jackson\", \"Justin Jackson\", \"Justin Jackson\", \"Justin Jackson\", \"Luke Kennard\", \"Kyle Kuzma\", \"T.J. Leaf\", \"Tyler Lydon\", \"Frank Mason\", \"Malik Monk\", \"Monte Morris\", \"Frank Ntilikina\", \"Semi Ojeleye\", \"Justin Patton\", \"Ivan Rabb\", \"Davon Reed\", \"Dennis Smith\", \"Dennis Smith\", \"Dennis Smith\", \"Dennis Smith\", \"Dennis Smith\", \"Dennis Smith\", \"Dennis Smith\", \"Dennis Smith\", \"Edmond Sumner\", \"Caleb Swanigan\", \"Caleb Swanigan\", \"Caleb Swanigan\", \"Caleb Swanigan\", \"Caleb Swanigan\", \"Caleb Swanigan\", \"Caleb Swanigan\", \"Caleb Swanigan\", \"Sindarius Thornwell\", \"Derrick White\", \"D.J. Wilson\", \"Wade Baldwin\", \"Malik Beasley\", \"DeAndre' Bembry\", \"Dragan Bender\", \"Joel Bolomboy\", \"Malcolm Brogdon\", \"Marquese Chriss\", \"Deyonta Davis\", \"Cheick Diallo\", \"Kris Dunn\", \"Henry Ellenson\", \"Daniel Hamilton\", \"Juan Hernang\\u00f3mez\", \"Brandon Ingram\", \"Damian Jones\", \"Furkan Korkmaz\", \"Skal Labissi\\u00e8re\", \"Jake Layman\", \"Caris LeVert\", \"Timoth\\u00e9 Luwawu-Cabarrot\", \"Thon Maker\", \"Patrick McCaw\", \"Dejounte Murray\", \"Abdel Nader\", \"Georges Niang\", \"Chinanu Onuaku\", \"Marcus Paige\", \"Jakob P\\u00f6ltl\", \"Zhou Qi\", \"Pascal Siakam\", \"Tyler Ulis\", \"Denzel Valentine\", \"Tyrone Wallace\", \"Taurean Waller-Prince\", \"Isaiah Whitehead\", \"Guerschon Yabusele\", \"Paul Zipser\", \"Ante \\u017di\\u017ei\\u0107\", \"Ivica Zubac\", \"Devin Booker\", \"Willie Cauley-Stein\", \"Rakeem Christmas\", \"Pat Connaughton\", \"Sam Dekker\", \"Jerian Grant\", \"Montrezl Harrell\", \"Andrew Harrison\", \"Mario Hezonja\", \"Darrun Hilliard\", \"Rondae Hollis-Jefferson\", \"R.J. Hunter\", \"Stanley Johnson\", \"Tyus Jones\", \"Frank Kaminsky\", \"Kevon Looney\", \"Trey Lyles\", \"Jarell Martin\", \"Jordan Mickey\", \"Emmanuel Mudiay\", \"Larry Nance\", \"Jahlil Okafor\", \"Kelly Oubre\", \"Bobby Portis\", \"Norman Powell\", \"Josh Richardson\", \"Terry Rozier\", \"D'Angelo Russell\", \"Rashad Vaughn\", \"Justise Winslow\", \"Delon Wright\", \"Joe Young\"], \"legendgroup\": \"neural=0\", \"marker\": {\"color\": [0, 0, 0, 0, 0, 0, 0, 0, 0, 0, 0, 0, 0, 0, 0, 0, 0, 0, 0, 0, 0, 0, 0, 0, 0, 0, 0, 0, 0, 0, 0, 0, 0, 0, 0, 0, 0, 0, 0, 0, 0, 0, 0, 0, 0, 0, 0, 0, 0, 0, 0, 0, 0, 0, 0, 0, 0, 0, 0, 0, 0, 0, 0, 0, 0, 0, 0, 0, 0, 0, 0, 0, 0, 0, 0, 0, 0, 0, 0, 0, 0, 0, 0, 0, 0, 0, 0, 0, 0, 0, 0, 0, 0, 0, 0, 0, 0, 0, 0, 0, 0, 0, 0, 0, 0, 0, 0, 0, 0, 0, 0, 0, 0, 0, 0, 0, 0, 0, 0, 0, 0, 0, 0, 0, 0, 0, 0, 0, 0, 0, 0, 0, 0, 0, 0, 0, 0, 0, 0, 0, 0, 0, 0, 0, 0, 0, 0, 0, 0], \"coloraxis\": \"coloraxis\", \"line\": {\"color\": \"DarkSlateGrey\", \"width\": 1}, \"size\": 10, \"symbol\": \"diamond\"}, \"mode\": \"markers\", \"name\": \"neural=0\", \"showlegend\": true, \"type\": \"scatter\", \"x\": [-1.1, -14.0, -1.2, -3.5, 0.5, -0.4, -4.5, 1.2, -0.7, -6.1, -1.6, 0.1, -6.9, -6.9, -6.9, -6.9, -2.1, -2.1, -2.1, -2.1, -2.3, -10.0, -10.0, -10.0, -10.0, -38.9, -38.9, -38.9, -38.9, -1.9, -3.1, -2.1, -0.7, -0.6, 0.1, -2.7, -5.0, -4.8, -1.6, -1.6, -1.6, -1.6, -1.4, -1.4, -1.4, -1.4, -1.5, -1.7, -1.0, -2.5, -4.5, -3.9, 0.2, -5.7, -4.3, -0.2, -0.6, -4.2, -2.4, -2.4, -2.4, -2.4, -2.7, -2.7, -2.7, -2.7, -3.6, -9.5, -9.5, -9.5, -9.5, -0.2, -0.2, -0.2, -0.2, -4.0, 0.9, -1.6, 0.0, -5.1, -4.4, -2.7, -7.7, -1.3, -2.0, -0.9, -3.1, -0.1, -6.8, -1.6, -3.3, -1.3, -6.6, -6.9, -2.6, -5.0, -0.5, -4.7, -2.7, -3.4, 1.2, -5.6, -4.0, -12.3, -6.9, 3.3, -7.2, 2.1, -5.2, -0.5, -2.0, -0.7, -5.6, -0.7, -5.9, 0.1, -2.2, -2.3, -1.2, -4.2, -2.5, -1.0, -0.3, 0.9, -2.4, -5.7, -6.1, -1.0, -11.4, -2.0, -1.8, -1.5, 0.4, -3.0, -6.4, -4.9, -3.7, 1.9, -3.3, -2.3, -3.0, -1.5, 0.2, -2.5, -0.5, -4.9, -2.8, 1.1, -7.3], \"xaxis\": \"x\", \"y\": [1.0, -0.1, 2.0, 1.2, 1.6, 1.6, 0.3, 1.4, 0.1, 0.0, 2.1, 2.9, -0.1, -0.1, -0.1, -0.1, 0.7, 0.7, 0.7, 0.7, 1.5, -0.2, -0.2, -0.2, -0.2, 0.0, 0.0, 0.0, 0.0, 2.8, 0.3, 1.0, 2.1, 0.5, 4.0, 1.9, 0.4, -1.7, 1.6, 1.6, 1.6, 1.6, 1.3, 1.3, 1.3, 1.3, 2.5, 3.1, 1.6, 0.2, 0.3, 0.3, 6.2, -0.8, 0.7, 0.0, 2.1, 0.1, 0.2, 0.2, 0.2, 0.2, -0.2, -0.2, -0.2, -0.2, 0.1, -0.3, -0.3, -0.3, -0.3, 0.0, 0.0, 0.0, 0.0, 0.0, 3.6, 1.7, 0.3, 0.3, -0.4, 0.1, 0.1, 2.7, 0.7, 2.7, 1.9, 0.9, 0.1, 0.1, 0.4, 2.8, 0.1, 0.0, 1.4, -0.1, 2.3, 0.8, 1.5, 0.6, 3.2, -0.1, 0.0, -0.1, 0.0, 5.6, -0.3, 4.7, -0.2, 2.5, 0.7, 2.0, -0.1, 0.6, -0.6, 1.0, 1.0, 2.0, 2.9, 0.5, 0.6, 3.1, 2.5, 4.1, 1.6, -0.7, -0.2, 2.6, 0.0, 0.4, 1.5, 2.3, 1.4, 0.8, 0.6, 0.1, 0.2, 3.5, 1.2, 2.0, 2.4, 2.8, 2.2, 1.4, 1.3, 0.0, -0.1, 1.1, -0.1], \"yaxis\": \"y\"}],\n",
       "                        {\"coloraxis\": {\"colorbar\": {\"title\": {\"text\": \"neural\"}}, \"colorscale\": [[0.0, \"rgb(23, 28, 66)\"], [0.09090909090909091, \"rgb(41, 58, 143)\"], [0.18181818181818182, \"rgb(11, 102, 189)\"], [0.2727272727272727, \"rgb(69, 144, 185)\"], [0.36363636363636365, \"rgb(142, 181, 194)\"], [0.45454545454545453, \"rgb(210, 216, 219)\"], [0.5454545454545454, \"rgb(230, 210, 204)\"], [0.6363636363636364, \"rgb(213, 157, 137)\"], [0.7272727272727273, \"rgb(196, 101, 72)\"], [0.8181818181818182, \"rgb(172, 43, 36)\"], [0.9090909090909091, \"rgb(120, 14, 40)\"], [1.0, \"rgb(60, 9, 17)\"]]}, \"height\": 600, \"legend\": {\"orientation\": \"h\", \"tracegroupgap\": 0}, \"margin\": {\"t\": 60}, \"template\": {\"data\": {\"bar\": [{\"error_x\": {\"color\": \"#2a3f5f\"}, \"error_y\": {\"color\": \"#2a3f5f\"}, \"marker\": {\"line\": {\"color\": \"#E5ECF6\", \"width\": 0.5}}, \"type\": \"bar\"}], \"barpolar\": [{\"marker\": {\"line\": {\"color\": \"#E5ECF6\", \"width\": 0.5}}, \"type\": \"barpolar\"}], \"carpet\": [{\"aaxis\": {\"endlinecolor\": \"#2a3f5f\", \"gridcolor\": \"white\", \"linecolor\": \"white\", \"minorgridcolor\": \"white\", \"startlinecolor\": \"#2a3f5f\"}, \"baxis\": {\"endlinecolor\": \"#2a3f5f\", \"gridcolor\": \"white\", \"linecolor\": \"white\", \"minorgridcolor\": \"white\", \"startlinecolor\": \"#2a3f5f\"}, \"type\": \"carpet\"}], \"choropleth\": [{\"colorbar\": {\"outlinewidth\": 0, \"ticks\": \"\"}, \"type\": \"choropleth\"}], \"contour\": [{\"colorbar\": {\"outlinewidth\": 0, \"ticks\": \"\"}, \"colorscale\": [[0.0, \"#0d0887\"], [0.1111111111111111, \"#46039f\"], [0.2222222222222222, \"#7201a8\"], [0.3333333333333333, \"#9c179e\"], [0.4444444444444444, \"#bd3786\"], [0.5555555555555556, \"#d8576b\"], [0.6666666666666666, \"#ed7953\"], [0.7777777777777778, \"#fb9f3a\"], [0.8888888888888888, \"#fdca26\"], [1.0, \"#f0f921\"]], \"type\": \"contour\"}], \"contourcarpet\": [{\"colorbar\": {\"outlinewidth\": 0, \"ticks\": \"\"}, \"type\": \"contourcarpet\"}], \"heatmap\": [{\"colorbar\": {\"outlinewidth\": 0, \"ticks\": \"\"}, \"colorscale\": [[0.0, \"#0d0887\"], [0.1111111111111111, \"#46039f\"], [0.2222222222222222, \"#7201a8\"], [0.3333333333333333, \"#9c179e\"], [0.4444444444444444, \"#bd3786\"], [0.5555555555555556, \"#d8576b\"], [0.6666666666666666, \"#ed7953\"], [0.7777777777777778, \"#fb9f3a\"], [0.8888888888888888, \"#fdca26\"], [1.0, \"#f0f921\"]], \"type\": \"heatmap\"}], \"heatmapgl\": [{\"colorbar\": {\"outlinewidth\": 0, \"ticks\": \"\"}, \"colorscale\": [[0.0, \"#0d0887\"], [0.1111111111111111, \"#46039f\"], [0.2222222222222222, \"#7201a8\"], [0.3333333333333333, \"#9c179e\"], [0.4444444444444444, \"#bd3786\"], [0.5555555555555556, \"#d8576b\"], [0.6666666666666666, \"#ed7953\"], [0.7777777777777778, \"#fb9f3a\"], [0.8888888888888888, \"#fdca26\"], [1.0, \"#f0f921\"]], \"type\": \"heatmapgl\"}], \"histogram\": [{\"marker\": {\"colorbar\": {\"outlinewidth\": 0, \"ticks\": \"\"}}, \"type\": \"histogram\"}], \"histogram2d\": [{\"colorbar\": {\"outlinewidth\": 0, \"ticks\": \"\"}, \"colorscale\": [[0.0, \"#0d0887\"], [0.1111111111111111, \"#46039f\"], [0.2222222222222222, \"#7201a8\"], [0.3333333333333333, \"#9c179e\"], [0.4444444444444444, \"#bd3786\"], [0.5555555555555556, \"#d8576b\"], [0.6666666666666666, \"#ed7953\"], [0.7777777777777778, \"#fb9f3a\"], [0.8888888888888888, \"#fdca26\"], [1.0, \"#f0f921\"]], \"type\": \"histogram2d\"}], \"histogram2dcontour\": [{\"colorbar\": {\"outlinewidth\": 0, \"ticks\": \"\"}, \"colorscale\": [[0.0, \"#0d0887\"], [0.1111111111111111, \"#46039f\"], [0.2222222222222222, \"#7201a8\"], [0.3333333333333333, \"#9c179e\"], [0.4444444444444444, \"#bd3786\"], [0.5555555555555556, \"#d8576b\"], [0.6666666666666666, \"#ed7953\"], [0.7777777777777778, \"#fb9f3a\"], [0.8888888888888888, \"#fdca26\"], [1.0, \"#f0f921\"]], \"type\": \"histogram2dcontour\"}], \"mesh3d\": [{\"colorbar\": {\"outlinewidth\": 0, \"ticks\": \"\"}, \"type\": \"mesh3d\"}], \"parcoords\": [{\"line\": {\"colorbar\": {\"outlinewidth\": 0, \"ticks\": \"\"}}, \"type\": \"parcoords\"}], \"scatter\": [{\"marker\": {\"colorbar\": {\"outlinewidth\": 0, \"ticks\": \"\"}}, \"type\": \"scatter\"}], \"scatter3d\": [{\"line\": {\"colorbar\": {\"outlinewidth\": 0, \"ticks\": \"\"}}, \"marker\": {\"colorbar\": {\"outlinewidth\": 0, \"ticks\": \"\"}}, \"type\": \"scatter3d\"}], \"scattercarpet\": [{\"marker\": {\"colorbar\": {\"outlinewidth\": 0, \"ticks\": \"\"}}, \"type\": \"scattercarpet\"}], \"scattergeo\": [{\"marker\": {\"colorbar\": {\"outlinewidth\": 0, \"ticks\": \"\"}}, \"type\": \"scattergeo\"}], \"scattergl\": [{\"marker\": {\"colorbar\": {\"outlinewidth\": 0, \"ticks\": \"\"}}, \"type\": \"scattergl\"}], \"scattermapbox\": [{\"marker\": {\"colorbar\": {\"outlinewidth\": 0, \"ticks\": \"\"}}, \"type\": \"scattermapbox\"}], \"scatterpolar\": [{\"marker\": {\"colorbar\": {\"outlinewidth\": 0, \"ticks\": \"\"}}, \"type\": \"scatterpolar\"}], \"scatterpolargl\": [{\"marker\": {\"colorbar\": {\"outlinewidth\": 0, \"ticks\": \"\"}}, \"type\": \"scatterpolargl\"}], \"scatterternary\": [{\"marker\": {\"colorbar\": {\"outlinewidth\": 0, \"ticks\": \"\"}}, \"type\": \"scatterternary\"}], \"surface\": [{\"colorbar\": {\"outlinewidth\": 0, \"ticks\": \"\"}, \"colorscale\": [[0.0, \"#0d0887\"], [0.1111111111111111, \"#46039f\"], [0.2222222222222222, \"#7201a8\"], [0.3333333333333333, \"#9c179e\"], [0.4444444444444444, \"#bd3786\"], [0.5555555555555556, \"#d8576b\"], [0.6666666666666666, \"#ed7953\"], [0.7777777777777778, \"#fb9f3a\"], [0.8888888888888888, \"#fdca26\"], [1.0, \"#f0f921\"]], \"type\": \"surface\"}], \"table\": [{\"cells\": {\"fill\": {\"color\": \"#EBF0F8\"}, \"line\": {\"color\": \"white\"}}, \"header\": {\"fill\": {\"color\": \"#C8D4E3\"}, \"line\": {\"color\": \"white\"}}, \"type\": \"table\"}]}, \"layout\": {\"annotationdefaults\": {\"arrowcolor\": \"#2a3f5f\", \"arrowhead\": 0, \"arrowwidth\": 1}, \"colorscale\": {\"diverging\": [[0, \"#8e0152\"], [0.1, \"#c51b7d\"], [0.2, \"#de77ae\"], [0.3, \"#f1b6da\"], [0.4, \"#fde0ef\"], [0.5, \"#f7f7f7\"], [0.6, \"#e6f5d0\"], [0.7, \"#b8e186\"], [0.8, \"#7fbc41\"], [0.9, \"#4d9221\"], [1, \"#276419\"]], \"sequential\": [[0.0, \"#0d0887\"], [0.1111111111111111, \"#46039f\"], [0.2222222222222222, \"#7201a8\"], [0.3333333333333333, \"#9c179e\"], [0.4444444444444444, \"#bd3786\"], [0.5555555555555556, \"#d8576b\"], [0.6666666666666666, \"#ed7953\"], [0.7777777777777778, \"#fb9f3a\"], [0.8888888888888888, \"#fdca26\"], [1.0, \"#f0f921\"]], \"sequentialminus\": [[0.0, \"#0d0887\"], [0.1111111111111111, \"#46039f\"], [0.2222222222222222, \"#7201a8\"], [0.3333333333333333, \"#9c179e\"], [0.4444444444444444, \"#bd3786\"], [0.5555555555555556, \"#d8576b\"], [0.6666666666666666, \"#ed7953\"], [0.7777777777777778, \"#fb9f3a\"], [0.8888888888888888, \"#fdca26\"], [1.0, \"#f0f921\"]]}, \"colorway\": [\"#636efa\", \"#EF553B\", \"#00cc96\", \"#ab63fa\", \"#FFA15A\", \"#19d3f3\", \"#FF6692\", \"#B6E880\", \"#FF97FF\", \"#FECB52\"], \"font\": {\"color\": \"#2a3f5f\"}, \"geo\": {\"bgcolor\": \"white\", \"lakecolor\": \"white\", \"landcolor\": \"#E5ECF6\", \"showlakes\": true, \"showland\": true, \"subunitcolor\": \"white\"}, \"hoverlabel\": {\"align\": \"left\"}, \"hovermode\": \"closest\", \"mapbox\": {\"style\": \"light\"}, \"paper_bgcolor\": \"white\", \"plot_bgcolor\": \"#E5ECF6\", \"polar\": {\"angularaxis\": {\"gridcolor\": \"white\", \"linecolor\": \"white\", \"ticks\": \"\"}, \"bgcolor\": \"#E5ECF6\", \"radialaxis\": {\"gridcolor\": \"white\", \"linecolor\": \"white\", \"ticks\": \"\"}}, \"scene\": {\"xaxis\": {\"backgroundcolor\": \"#E5ECF6\", \"gridcolor\": \"white\", \"gridwidth\": 2, \"linecolor\": \"white\", \"showbackground\": true, \"ticks\": \"\", \"zerolinecolor\": \"white\"}, \"yaxis\": {\"backgroundcolor\": \"#E5ECF6\", \"gridcolor\": \"white\", \"gridwidth\": 2, \"linecolor\": \"white\", \"showbackground\": true, \"ticks\": \"\", \"zerolinecolor\": \"white\"}, \"zaxis\": {\"backgroundcolor\": \"#E5ECF6\", \"gridcolor\": \"white\", \"gridwidth\": 2, \"linecolor\": \"white\", \"showbackground\": true, \"ticks\": \"\", \"zerolinecolor\": \"white\"}}, \"shapedefaults\": {\"line\": {\"color\": \"#2a3f5f\"}}, \"ternary\": {\"aaxis\": {\"gridcolor\": \"white\", \"linecolor\": \"white\", \"ticks\": \"\"}, \"baxis\": {\"gridcolor\": \"white\", \"linecolor\": \"white\", \"ticks\": \"\"}, \"bgcolor\": \"#E5ECF6\", \"caxis\": {\"gridcolor\": \"white\", \"linecolor\": \"white\", \"ticks\": \"\"}}, \"title\": {\"x\": 0.05}, \"xaxis\": {\"automargin\": true, \"gridcolor\": \"white\", \"linecolor\": \"white\", \"ticks\": \"\", \"zerolinecolor\": \"white\", \"zerolinewidth\": 2}, \"yaxis\": {\"automargin\": true, \"gridcolor\": \"white\", \"linecolor\": \"white\", \"ticks\": \"\", \"zerolinecolor\": \"white\", \"zerolinewidth\": 2}}}, \"xaxis\": {\"anchor\": \"y\", \"domain\": [0.0, 0.98], \"range\": [-15, 7], \"title\": {\"text\": \"BPM\"}}, \"yaxis\": {\"anchor\": \"x\", \"domain\": [0.0, 1.0], \"title\": {\"text\": \"WS\"}}},\n",
       "                        {\"responsive\": true}\n",
       "                    ).then(function(){\n",
       "                            \n",
       "var gd = document.getElementById('e35dcc05-86a1-4eb8-8684-b404560625e8');\n",
       "var x = new MutationObserver(function (mutations, observer) {{\n",
       "        var display = window.getComputedStyle(gd).display;\n",
       "        if (!display || display === 'none') {{\n",
       "            console.log([gd, 'removed!']);\n",
       "            Plotly.purge(gd);\n",
       "            observer.disconnect();\n",
       "        }}\n",
       "}});\n",
       "\n",
       "// Listen for the removal of the full notebook cells\n",
       "var notebookContainer = gd.closest('#notebook-container');\n",
       "if (notebookContainer) {{\n",
       "    x.observe(notebookContainer, {childList: true});\n",
       "}}\n",
       "\n",
       "// Listen for the clearing of the current output cell\n",
       "var outputEl = gd.closest('.output');\n",
       "if (outputEl) {{\n",
       "    x.observe(outputEl, {childList: true});\n",
       "}}\n",
       "\n",
       "                        })\n",
       "                };\n",
       "                });\n",
       "            </script>\n",
       "        </div>"
      ]
     },
     "metadata": {},
     "output_type": "display_data"
    }
   ],
   "source": [
    "fig = px.scatter(test_master_w_predictions, x='BPM', y='WS',\n",
    "            color='neural', hover_name='Player_name', hover_data=['USG%', 'PER', 'MP', 'VORP', 'Age'], \n",
    "            color_continuous_scale='balance',\n",
    "            symbol='neural')\n",
    "fig.update_traces(marker=dict(size=10,\n",
    "                              line=dict(width=1,\n",
    "                                        color='DarkSlateGrey')),\n",
    "                  selector=dict(mode='markers'))\n",
    "fig.update_xaxes(range=[-15, 7])\n",
    "fig.update_layout(legend_orientation=\"h\")\n",
    "fig.show()\n",
    "# plotly.offline.plot(fig, filename='html_files/ws_vorp.html')"
   ]
  },
  {
   "cell_type": "code",
   "execution_count": 115,
   "metadata": {},
   "outputs": [
    {
     "data": {
      "application/vnd.plotly.v1+json": {
       "config": {
        "plotlyServerURL": "https://plot.ly"
       },
       "data": [
        {
         "customdata": [
          [
           15.8,
           17.9,
           1913,
           2.4,
           21,
           6.5
          ],
          [
           15.9,
           18.5,
           2096,
           2.4,
           20,
           7
          ],
          [
           19.6,
           16.2,
           416,
           0.1,
           26,
           1.7
          ],
          [
           29.1,
           -6,
           6,
           0,
           20,
           0.9
          ],
          [
           15.5,
           9.8,
           1352,
           0.3,
           21,
           2.7
          ],
          [
           16.8,
           11.7,
           759,
           -0.3,
           23,
           2.2
          ],
          [
           16.9,
           11.7,
           1423,
           0.9,
           21,
           6.2
          ],
          [
           13.7,
           12.9,
           788,
           0.3,
           24,
           3.1
          ],
          [
           12.2,
           10.2,
           439,
           -0.3,
           25,
           3.6
          ],
          [
           13.8,
           12.7,
           639,
           0.5,
           23,
           3.8
          ],
          [
           23.6,
           19.6,
           36,
           0,
           21,
           2.2
          ],
          [
           20.9,
           7.6,
           330,
           -0.3,
           23,
           2.9
          ],
          [
           15.2,
           10.9,
           1034,
           0.1,
           23,
           2.9
          ],
          [
           16.6,
           13.5,
           1356,
           0.7,
           21,
           3.8
          ],
          [
           17.9,
           7.8,
           251,
           -0.3,
           22,
           2.3
          ],
          [
           17.9,
           7.8,
           251,
           -0.3,
           22,
           2.3
          ],
          [
           17.9,
           7.8,
           251,
           -0.3,
           22,
           2.3
          ],
          [
           17.9,
           7.8,
           251,
           -0.3,
           22,
           2.3
          ],
          [
           20.7,
           13.1,
           447,
           0,
           22,
           2.3
          ],
          [
           20.7,
           13.1,
           447,
           0,
           22,
           2.3
          ],
          [
           20.7,
           13.1,
           447,
           0,
           22,
           2.3
          ],
          [
           20.7,
           13.1,
           447,
           0,
           22,
           2.3
          ],
          [
           17.3,
           10.8,
           2004,
           -0.2,
           24,
           3
          ],
          [
           12.7,
           0.7,
           64,
           -0.1,
           22,
           1.7
          ],
          [
           12.7,
           0.7,
           64,
           -0.1,
           22,
           1.7
          ],
          [
           12.7,
           0.7,
           64,
           -0.1,
           22,
           1.7
          ],
          [
           12.7,
           0.7,
           64,
           -0.1,
           22,
           1.7
          ],
          [
           40.7,
           -38.1,
           1,
           0,
           22,
           1.7
          ],
          [
           40.7,
           -38.1,
           1,
           0,
           22,
           1.7
          ],
          [
           40.7,
           -38.1,
           1,
           0,
           22,
           1.7
          ],
          [
           40.7,
           -38.1,
           1,
           0,
           22,
           1.7
          ],
          [
           10.6,
           6.4,
           1931,
           0,
           20,
           1.4
          ],
          [
           24.5,
           18.1,
           2546,
           2,
           21,
           3.3
          ],
          [
           19.3,
           10.5,
           427,
           -0.1,
           20,
           3.4
          ],
          [
           23.2,
           14.4,
           820,
           0,
           20,
           3.8
          ],
          [
           13.5,
           9.3,
           1715,
           0.6,
           23,
           3.9
          ],
          [
           11.8,
           10,
           221,
           0.1,
           20,
           1.7
          ],
          [
           16.3,
           13,
           1996,
           1.1,
           21,
           5
          ],
          [
           12.8,
           8.7,
           1233,
           -0.2,
           24,
           2.5
          ],
          [
           18.5,
           9.4,
           1169,
           -0.9,
           20,
           2.2
          ],
          [
           23.9,
           10.6,
           1988,
           -1.4,
           21,
           4.5
          ],
          [
           12.9,
           10.1,
           1083,
           0.1,
           23,
           2.7
          ],
          [
           12.9,
           10.1,
           1083,
           0.1,
           23,
           2.7
          ],
          [
           12.9,
           10.1,
           1083,
           0.1,
           23,
           2.7
          ],
          [
           12.9,
           10.1,
           1083,
           0.1,
           23,
           2.7
          ],
          [
           17,
           13.9,
           531,
           0.1,
           23,
           2.7
          ],
          [
           17,
           13.9,
           531,
           0.1,
           23,
           2.7
          ],
          [
           17,
           13.9,
           531,
           0.1,
           23,
           2.7
          ],
          [
           17,
           13.9,
           531,
           0.1,
           23,
           2.7
          ],
          [
           18.1,
           11.9,
           1437,
           0.2,
           22,
           2.6
          ],
          [
           23.8,
           14,
           2314,
           0.2,
           23,
           5.9
          ],
          [
           17.5,
           16.9,
           522,
           0.1,
           21,
           1.9
          ],
          [
           10.6,
           9.3,
           94,
           0,
           22,
           0.7
          ],
          [
           25.1,
           17.1,
           1682,
           0,
           21,
           8.2
          ],
          [
           21.8,
           12.4,
           435,
           -0.3,
           24,
           1.9
          ],
          [
           31.6,
           17.2,
           2598,
           1.7,
           22,
           3.9
          ],
          [
           24.6,
           11.8,
           1258,
           -0.6,
           20,
           1.5
          ],
          [
           17.1,
           16.2,
           1970,
           1.1,
           23,
           2.3
          ],
          [
           16.6,
           6,
           904,
           -0.8,
           20,
           2.2
          ],
          [
           14.1,
           8.5,
           594,
           -0.3,
           24,
           1.9
          ],
          [
           15.7,
           10.5,
           21,
           0,
           21,
           1.5
          ],
          [
           17.2,
           16.1,
           721,
           0.2,
           21,
           4.3
          ],
          [
           12.1,
           8.1,
           47,
           0,
           23,
           1.5
          ],
          [
           23.3,
           11.5,
           908,
           -0.1,
           21,
           3.4
          ],
          [
           23.3,
           11.5,
           908,
           -0.1,
           21,
           3.4
          ],
          [
           23.3,
           11.5,
           908,
           -0.1,
           21,
           3.4
          ],
          [
           23.3,
           11.5,
           908,
           -0.1,
           21,
           3.4
          ],
          [
           27,
           13.5,
           600,
           -0.1,
           21,
           3.4
          ],
          [
           27,
           13.5,
           600,
           -0.1,
           21,
           3.4
          ],
          [
           27,
           13.5,
           600,
           -0.1,
           21,
           3.4
          ],
          [
           27,
           13.5,
           600,
           -0.1,
           21,
           3.4
          ],
          [
           17.6,
           7.6,
           210,
           -0.1,
           23,
           1
          ],
          [
           18.4,
           3.1,
           145,
           -0.3,
           21,
           2.5
          ],
          [
           18.4,
           3.1,
           145,
           -0.3,
           21,
           2.5
          ],
          [
           18.4,
           3.1,
           145,
           -0.3,
           21,
           2.5
          ],
          [
           18.4,
           3.1,
           145,
           -0.3,
           21,
           2.5
          ],
          [
           14.9,
           11.7,
           33,
           0,
           21,
           2.5
          ],
          [
           14.9,
           11.7,
           33,
           0,
           21,
           2.5
          ],
          [
           14.9,
           11.7,
           33,
           0,
           21,
           2.5
          ],
          [
           14.9,
           11.7,
           33,
           0,
           21,
           2.5
          ],
          [
           22.1,
           15.1,
           2455,
           0.8,
           20,
           5.5
          ],
          [
           11.3,
           5.2,
           313,
           -0.2,
           24,
           1.3
          ],
          [
           17.7,
           14.8,
           1728,
           1.3,
           24,
           3.3
          ],
          [
           14.4,
           10.3,
           882,
           0.1,
           22,
           3.3
          ],
          [
           16.1,
           16.6,
           80,
           0,
           21,
           1.2
          ],
          [
           16.2,
           9,
           583,
           -0.5,
           21,
           1.7
          ],
          [
           18.2,
           7.6,
           455,
           -0.3,
           23,
           3.3
          ],
          [
           12.7,
           7.1,
           2069,
           -0.4,
           20,
           3.8
          ],
          [
           12.6,
           11.7,
           38,
           -0.1,
           24,
           1.5
          ],
          [
           19.1,
           14.3,
           1436,
           0.2,
           25,
           3.5
          ],
          [
           21.4,
           13.6,
           2152,
           1,
           21,
           4
          ],
          [
           18.1,
           11.1,
           1527,
           0,
           20,
           4.5
          ],
          [
           15.3,
           16.6,
           943,
           0.3,
           21,
           3.2
          ],
          [
           17.4,
           17,
           581,
           -0.2,
           21,
           4.6
          ],
          [
           24.7,
           14.5,
           1525,
           0.7,
           23,
           3.3
          ],
          [
           23.8,
           10.5,
           329,
           -0.4,
           21,
           2.5
          ],
          [
           19.9,
           18.2,
           28,
           0,
           22,
           2.1
          ],
          [
           14,
           9.7,
           277,
           -0.1,
           22,
           3.2
          ],
          [
           24.3,
           16.1,
           2024,
           0.9,
           25,
           4
          ],
          [
           22.2,
           13.8,
           1975,
           0.4,
           20,
           4.7
          ],
          [
           13.9,
           6.8,
           89,
           -0.1,
           22,
           2.3
          ],
          [
           16.9,
           3.4,
           80,
           -0.1,
           20,
           1.9
          ],
          [
           21.1,
           14.3,
           1240,
           -0.2,
           21,
           4.3
          ],
          [
           14.6,
           4.9,
           160,
           -0.1,
           23,
           1.8
          ],
          [
           22.5,
           14.2,
           1864,
           0.7,
           23,
           3.6
          ],
          [
           17.5,
           7,
           807,
           -0.5,
           22,
           1.9
          ],
          [
           14.6,
           10.2,
           1238,
           -0.2,
           20,
           2.8
          ],
          [
           12.8,
           7.4,
           961,
           -0.3,
           22,
           1.5
          ],
          [
           20.7,
           15.1,
           1743,
           1.4,
           21,
           4.2
          ],
          [
           22.8,
           16.1,
           2565,
           1.2,
           20,
           3.5
          ],
          [
           17.1,
           5.1,
           522,
           -0.5,
           24,
           1.7
          ],
          [
           20.9,
           9.2,
           32,
           0,
           24,
           1.2
          ],
          [
           16.1,
           -3.2,
           22,
           -0.1,
           21,
           2.3
          ],
          [
           23,
           9.1,
           28,
           0,
           24,
           0.8
          ],
          [
           14.8,
           17.5,
           1524,
           2,
           22,
           4.5
          ],
          [
           16.8,
           1.9,
           124,
           -0.2,
           22,
           1.2
          ],
          [
           22.1,
           17.5,
           1810,
           0.8,
           21,
           6.8
          ],
          [
           15.7,
           14.5,
           1679,
           1.7,
           23,
           5.1
          ],
          [
           22.3,
           20,
           2732,
           4.6,
           21,
           8.5
          ],
          [
           18.5,
           10.1,
           1658,
           -1.3,
           22,
           1.7
          ],
          [
           17.5,
           12.1,
           2095,
           0.8,
           24,
           4.1
          ],
          [
           16.6,
           10.1,
           851,
           0,
           23,
           2.2
          ],
          [
           22.1,
           12.8,
           2464,
           0.8,
           23,
           3.8
          ],
          [
           28.5,
           11.5,
           180,
           -0.2,
           22,
           2.4
          ],
          [
           15.7,
           12.3,
           235,
           0.1,
           22,
           1.4
          ],
          [
           15.2,
           5.2,
           824,
           -0.8,
           23,
           2.6
          ],
          [
           18.8,
           24.2,
           214,
           0.1,
           21,
           4.2
          ],
          [
           17.6,
           15.3,
           410,
           0,
           20,
           4.6
          ],
          [
           28.6,
           14.6,
           2730,
           -0.2,
           20,
           3.5
          ],
          [
           19.7,
           16.3,
           1421,
           0.3,
           23,
           6.4
          ],
          [
           13.1,
           10.4,
           219,
           -0.1,
           25,
           1.9
          ],
          [
           13,
           11.8,
           316,
           0,
           24,
           2.3
          ],
          [
           14.9,
           13.1,
           1419,
           0.3,
           22,
           3
          ],
          [
           16,
           13.2,
           1028,
           0.4,
           24,
           1.9
          ],
          [
           17.6,
           19.2,
           1064,
           0.8,
           23,
           4.4
          ],
          [
           16.4,
           8.7,
           1474,
           -0.2,
           22,
           2
          ],
          [
           20.3,
           19,
           1324,
           0.7,
           22,
           5.6
          ],
          [
           18.8,
           7.2,
           960,
           -0.9,
           21,
           3
          ],
          [
           19.3,
           5.9,
           381,
           -0.4,
           23,
           0.9
          ],
          [
           18.7,
           13.7,
           1761,
           0.4,
           22,
           5.9
          ],
          [
           18.6,
           18.6,
           1193,
           1.1,
           23,
           4.4
          ],
          [
           4.8,
           -3.2,
           9,
           0,
           23,
           1
          ],
          [
           14.8,
           7.2,
           1371,
           0,
           20,
           3.4
          ],
          [
           13.6,
           13.8,
           774,
           0,
           20,
           1.5
          ],
          [
           21.8,
           13,
           1954,
           0.2,
           23,
           4
          ],
          [
           13.4,
           13.6,
           447,
           0.3,
           20,
           3.8
          ],
          [
           21.7,
           9.9,
           1158,
           -0.3,
           21,
           3.9
          ],
          [
           16.4,
           8.7,
           558,
           -0.6,
           22,
           3.5
          ],
          [
           15.5,
           9.8,
           141,
           -0.1,
           22,
           2
          ],
          [
           22.6,
           10.9,
           1406,
           -0.6,
           20,
           3.1
          ],
          [
           13.4,
           15.7,
           1442,
           1.4,
           24,
           6.5
          ],
          [
           24.1,
           14.8,
           1134,
           -0.4,
           21,
           5.1
          ],
          [
           14.6,
           9.1,
           1605,
           -0.1,
           21,
           3.7
          ],
          [
           19.1,
           14.9,
           1000,
           -0.3,
           21,
           6.2
          ],
          [
           24.3,
           17.4,
           2164,
           1.2,
           21,
           7.1
          ],
          [
           21.1,
           14,
           1368,
           0.2,
           23,
           2.1
          ],
          [
           16.8,
           10.7,
           1614,
           0.9,
           23,
           3.2
          ],
          [
           17.1,
           10.9,
           1263,
           -0.2,
           22,
           3.6
          ],
          [
           26.6,
           15.3,
           1811,
           0.7,
           20,
           3.7
          ],
          [
           19.5,
           18.5,
           2541,
           2.8,
           20,
           6.7
          ],
          [
           17.2,
           7.8,
           458,
           -0.3,
           20,
           1.1
          ],
          [
           19.8,
           8.2,
           625,
           -0.1,
           20,
           5.3
          ],
          [
           16.6,
           15,
           446,
           0.4,
           24,
           2.8
          ],
          [
           27.8,
           11.4,
           135,
           -0.2,
           24,
           1
          ]
         ],
         "hoverlabel": {
          "namelength": 0
         },
         "hovertemplate": "<b>%{hovertext}</b><br><br>WS=%{x}<br>VORP=%{customdata[3]}<br>USG%=%{customdata[0]}<br>PER=%{customdata[1]}<br>MP=%{customdata[2]}<br>Age=%{customdata[4]}<br>RPG=%{customdata[5]}<br>neural=%{marker.color}",
         "hovertext": [
          "Bam Adebayo",
          "Jarrett Allen",
          "Kadeem Allen",
          "Ike Anigbogu",
          "OG Anunoby",
          "Dwayne Bacon",
          "Lonzo Ball",
          "Jordan Bell",
          "Jaron Blossomgame",
          "Jonah Bolden",
          "Tony Bradley",
          "Dillon Brooks",
          "Sterling Brown",
          "Zach Collins",
          "Tyler Dorsey",
          "Tyler Dorsey",
          "Tyler Dorsey",
          "Tyler Dorsey",
          "Tyler Dorsey",
          "Tyler Dorsey",
          "Tyler Dorsey",
          "Tyler Dorsey",
          "Damyean Dotson",
          "Jawun Evans",
          "Jawun Evans",
          "Jawun Evans",
          "Jawun Evans",
          "Jawun Evans",
          "Jawun Evans",
          "Jawun Evans",
          "Jawun Evans",
          "Terrance Ferguson",
          "De'Aaron Fox",
          "Markelle Fultz",
          "Harry Giles",
          "Josh Hart",
          "Isaiah Hartenstein",
          "Jonathan Isaac",
          "Wesley Iwundu",
          "Frank Jackson",
          "Josh Jackson",
          "Justin Jackson",
          "Justin Jackson",
          "Justin Jackson",
          "Justin Jackson",
          "Justin Jackson",
          "Justin Jackson",
          "Justin Jackson",
          "Justin Jackson",
          "Luke Kennard",
          "Kyle Kuzma",
          "T.J. Leaf",
          "Tyler Lydon",
          "Lauri Markkanen",
          "Frank Mason",
          "Donovan Mitchell",
          "Malik Monk",
          "Monte Morris",
          "Frank Ntilikina",
          "Semi Ojeleye",
          "Justin Patton",
          "Ivan Rabb",
          "Davon Reed",
          "Dennis Smith",
          "Dennis Smith",
          "Dennis Smith",
          "Dennis Smith",
          "Dennis Smith",
          "Dennis Smith",
          "Dennis Smith",
          "Dennis Smith",
          "Edmond Sumner",
          "Caleb Swanigan",
          "Caleb Swanigan",
          "Caleb Swanigan",
          "Caleb Swanigan",
          "Caleb Swanigan",
          "Caleb Swanigan",
          "Caleb Swanigan",
          "Caleb Swanigan",
          "Jayson Tatum",
          "Sindarius Thornwell",
          "Derrick White",
          "D.J. Wilson",
          "Wade Baldwin",
          "Malik Beasley",
          "DeAndre' Bembry",
          "Dragan Bender",
          "Joel Bolomboy",
          "Malcolm Brogdon",
          "Jaylen Brown",
          "Marquese Chriss",
          "Deyonta Davis",
          "Cheick Diallo",
          "Kris Dunn",
          "Henry Ellenson",
          "Daniel Hamilton",
          "Juan Hernangómez",
          "Buddy Hield",
          "Brandon Ingram",
          "Damian Jones",
          "Furkan Korkmaz",
          "Skal Labissière",
          "Jake Layman",
          "Caris LeVert",
          "Timothé Luwawu-Cabarrot",
          "Thon Maker",
          "Patrick McCaw",
          "Dejounte Murray",
          "Jamal Murray",
          "Abdel Nader",
          "Georges Niang",
          "Chinanu Onuaku",
          "Marcus Paige",
          "Jakob Pöltl",
          "Zhou Qi",
          "Domantas Sabonis",
          "Pascal Siakam",
          "Ben Simmons",
          "Tyler Ulis",
          "Denzel Valentine",
          "Tyrone Wallace",
          "Taurean Waller-Prince",
          "Isaiah Whitehead",
          "Guerschon Yabusele",
          "Paul Zipser",
          "Ante Žižić",
          "Ivica Zubac",
          "Devin Booker",
          "Willie Cauley-Stein",
          "Rakeem Christmas",
          "Pat Connaughton",
          "Sam Dekker",
          "Jerian Grant",
          "Montrezl Harrell",
          "Andrew Harrison",
          "Willy Hernangomez",
          "Mario Hezonja",
          "Darrun Hilliard",
          "Rondae Hollis-Jefferson",
          "Richaun Holmes",
          "R.J. Hunter",
          "Stanley Johnson",
          "Tyus Jones",
          "Frank Kaminsky",
          "Kevon Looney",
          "Trey Lyles",
          "Jarell Martin",
          "Jordan Mickey",
          "Emmanuel Mudiay",
          "Larry Nance",
          "Jahlil Okafor",
          "Kelly Oubre",
          "Bobby Portis",
          "Kristaps Porzingis",
          "Norman Powell",
          "Josh Richardson",
          "Terry Rozier",
          "D'Angelo Russell",
          "Myles Turner",
          "Rashad Vaughn",
          "Justise Winslow",
          "Delon Wright",
          "Joe Young"
         ],
         "legendgroup": "",
         "marker": {
          "color": [
           1,
           1,
           0,
           1,
           0,
           0,
           0,
           0,
           0,
           0,
           0,
           0,
           0,
           1,
           0,
           0,
           0,
           0,
           0,
           0,
           0,
           0,
           0,
           0,
           0,
           0,
           0,
           0,
           0,
           0,
           0,
           0,
           1,
           0,
           0,
           0,
           0,
           0,
           0,
           0,
           0,
           0,
           0,
           0,
           0,
           0,
           0,
           0,
           0,
           0,
           0,
           0,
           0,
           1,
           0,
           1,
           0,
           0,
           0,
           0,
           0,
           0,
           0,
           0,
           0,
           0,
           0,
           0,
           0,
           0,
           0,
           0,
           0,
           0,
           0,
           0,
           0,
           0,
           0,
           0,
           1,
           0,
           1,
           0,
           0,
           0,
           0,
           0,
           0,
           0,
           1,
           0,
           0,
           1,
           0,
           0,
           0,
           0,
           1,
           1,
           0,
           0,
           0,
           0,
           1,
           0,
           0,
           0,
           1,
           1,
           0,
           0,
           0,
           0,
           1,
           0,
           1,
           0,
           1,
           0,
           0,
           0,
           1,
           0,
           0,
           0,
           1,
           0,
           0,
           1,
           0,
           0,
           0,
           0,
           1,
           0,
           1,
           0,
           0,
           1,
           1,
           0,
           0,
           0,
           0,
           0,
           0,
           0,
           0,
           0,
           0,
           0,
           0,
           0,
           1,
           0,
           0,
           0,
           1,
           1,
           0,
           0,
           0,
           0
          ],
          "coloraxis": "coloraxis",
          "symbol": "circle"
         },
         "mode": "markers",
         "name": "",
         "showlegend": false,
         "type": "scatter",
         "x": [
          6.8,
          7.6,
          1,
          -0.1,
          2,
          1.2,
          1.6,
          1.6,
          0.3,
          1.4,
          0.1,
          0,
          2.1,
          2.9,
          -0.1,
          -0.1,
          -0.1,
          -0.1,
          0.7,
          0.7,
          0.7,
          0.7,
          1.5,
          -0.2,
          -0.2,
          -0.2,
          -0.2,
          0,
          0,
          0,
          0,
          2.8,
          5.6,
          0.3,
          1,
          2.1,
          0.5,
          4,
          1.9,
          0.4,
          -1.7,
          1.6,
          1.6,
          1.6,
          1.6,
          1.3,
          1.3,
          1.3,
          1.3,
          2.5,
          3.1,
          1.6,
          0.2,
          2.7,
          0.3,
          5,
          0.3,
          6.2,
          -0.8,
          0.7,
          0,
          2.1,
          0.1,
          0.2,
          0.2,
          0.2,
          0.2,
          -0.2,
          -0.2,
          -0.2,
          -0.2,
          0.1,
          -0.3,
          -0.3,
          -0.3,
          -0.3,
          0,
          0,
          0,
          0,
          5,
          0,
          3.6,
          1.7,
          0.3,
          0.3,
          -0.4,
          0.1,
          0.1,
          2.7,
          4.5,
          0.7,
          2.7,
          1.9,
          0.9,
          0.1,
          0.1,
          0.4,
          2.8,
          2.8,
          0.1,
          0,
          1.4,
          -0.1,
          2.3,
          0.8,
          1.5,
          0.6,
          3.2,
          5.5,
          -0.1,
          0,
          -0.1,
          0,
          5.6,
          -0.3,
          4.7,
          4.7,
          9.2,
          -0.2,
          2.5,
          0.7,
          2,
          -0.1,
          0.6,
          -0.6,
          1,
          1,
          2,
          2.9,
          0.5,
          0.6,
          3.1,
          2.5,
          4.1,
          1.6,
          3.4,
          -0.7,
          -0.2,
          2.6,
          3.8,
          0,
          0.4,
          1.5,
          2.3,
          1.4,
          0.8,
          0.6,
          0.1,
          0.2,
          3.5,
          1.2,
          2,
          2.4,
          4.5,
          2.8,
          2.2,
          1.4,
          1.3,
          8,
          0,
          -0.1,
          1.1,
          -0.1
         ],
         "xaxis": "x",
         "y": [
          2.4,
          2.4,
          0.1,
          0,
          0.3,
          -0.3,
          0.9,
          0.3,
          -0.3,
          0.5,
          0,
          -0.3,
          0.1,
          0.7,
          -0.3,
          -0.3,
          -0.3,
          -0.3,
          0,
          0,
          0,
          0,
          -0.2,
          -0.1,
          -0.1,
          -0.1,
          -0.1,
          0,
          0,
          0,
          0,
          0,
          2,
          -0.1,
          0,
          0.6,
          0.1,
          1.1,
          -0.2,
          -0.9,
          -1.4,
          0.1,
          0.1,
          0.1,
          0.1,
          0.1,
          0.1,
          0.1,
          0.1,
          0.2,
          0.2,
          0.1,
          0,
          0,
          -0.3,
          1.7,
          -0.6,
          1.1,
          -0.8,
          -0.3,
          0,
          0.2,
          0,
          -0.1,
          -0.1,
          -0.1,
          -0.1,
          -0.1,
          -0.1,
          -0.1,
          -0.1,
          -0.1,
          -0.3,
          -0.3,
          -0.3,
          -0.3,
          0,
          0,
          0,
          0,
          0.8,
          -0.2,
          1.3,
          0.1,
          0,
          -0.5,
          -0.3,
          -0.4,
          -0.1,
          0.2,
          1,
          0,
          0.3,
          -0.2,
          0.7,
          -0.4,
          0,
          -0.1,
          0.9,
          0.4,
          -0.1,
          -0.1,
          -0.2,
          -0.1,
          0.7,
          -0.5,
          -0.2,
          -0.3,
          1.4,
          1.2,
          -0.5,
          0,
          -0.1,
          0,
          2,
          -0.2,
          0.8,
          1.7,
          4.6,
          -1.3,
          0.8,
          0,
          0.8,
          -0.2,
          0.1,
          -0.8,
          0.1,
          0,
          -0.2,
          0.3,
          -0.1,
          0,
          0.3,
          0.4,
          0.8,
          -0.2,
          0.7,
          -0.9,
          -0.4,
          0.4,
          1.1,
          0,
          0,
          0,
          0.2,
          0.3,
          -0.3,
          -0.6,
          -0.1,
          -0.6,
          1.4,
          -0.4,
          -0.1,
          -0.3,
          1.2,
          0.2,
          0.9,
          -0.2,
          0.7,
          2.8,
          -0.3,
          -0.1,
          0.4,
          -0.2
         ],
         "yaxis": "y"
        }
       ],
       "layout": {
        "coloraxis": {
         "colorbar": {
          "title": {
           "text": "neural"
          }
         },
         "colorscale": [
          [
           0,
           "rgb(142,1,82)"
          ],
          [
           0.1,
           "rgb(197,27,125)"
          ],
          [
           0.2,
           "rgb(222,119,174)"
          ],
          [
           0.3,
           "rgb(241,182,218)"
          ],
          [
           0.4,
           "rgb(253,224,239)"
          ],
          [
           0.5,
           "rgb(247,247,247)"
          ],
          [
           0.6,
           "rgb(230,245,208)"
          ],
          [
           0.7,
           "rgb(184,225,134)"
          ],
          [
           0.8,
           "rgb(127,188,65)"
          ],
          [
           0.9,
           "rgb(77,146,33)"
          ],
          [
           1,
           "rgb(39,100,25)"
          ]
         ]
        },
        "height": 600,
        "legend": {
         "tracegroupgap": 0
        },
        "margin": {
         "t": 60
        },
        "template": {
         "data": {
          "bar": [
           {
            "error_x": {
             "color": "#2a3f5f"
            },
            "error_y": {
             "color": "#2a3f5f"
            },
            "marker": {
             "line": {
              "color": "#E5ECF6",
              "width": 0.5
             }
            },
            "type": "bar"
           }
          ],
          "barpolar": [
           {
            "marker": {
             "line": {
              "color": "#E5ECF6",
              "width": 0.5
             }
            },
            "type": "barpolar"
           }
          ],
          "carpet": [
           {
            "aaxis": {
             "endlinecolor": "#2a3f5f",
             "gridcolor": "white",
             "linecolor": "white",
             "minorgridcolor": "white",
             "startlinecolor": "#2a3f5f"
            },
            "baxis": {
             "endlinecolor": "#2a3f5f",
             "gridcolor": "white",
             "linecolor": "white",
             "minorgridcolor": "white",
             "startlinecolor": "#2a3f5f"
            },
            "type": "carpet"
           }
          ],
          "choropleth": [
           {
            "colorbar": {
             "outlinewidth": 0,
             "ticks": ""
            },
            "type": "choropleth"
           }
          ],
          "contour": [
           {
            "colorbar": {
             "outlinewidth": 0,
             "ticks": ""
            },
            "colorscale": [
             [
              0,
              "#0d0887"
             ],
             [
              0.1111111111111111,
              "#46039f"
             ],
             [
              0.2222222222222222,
              "#7201a8"
             ],
             [
              0.3333333333333333,
              "#9c179e"
             ],
             [
              0.4444444444444444,
              "#bd3786"
             ],
             [
              0.5555555555555556,
              "#d8576b"
             ],
             [
              0.6666666666666666,
              "#ed7953"
             ],
             [
              0.7777777777777778,
              "#fb9f3a"
             ],
             [
              0.8888888888888888,
              "#fdca26"
             ],
             [
              1,
              "#f0f921"
             ]
            ],
            "type": "contour"
           }
          ],
          "contourcarpet": [
           {
            "colorbar": {
             "outlinewidth": 0,
             "ticks": ""
            },
            "type": "contourcarpet"
           }
          ],
          "heatmap": [
           {
            "colorbar": {
             "outlinewidth": 0,
             "ticks": ""
            },
            "colorscale": [
             [
              0,
              "#0d0887"
             ],
             [
              0.1111111111111111,
              "#46039f"
             ],
             [
              0.2222222222222222,
              "#7201a8"
             ],
             [
              0.3333333333333333,
              "#9c179e"
             ],
             [
              0.4444444444444444,
              "#bd3786"
             ],
             [
              0.5555555555555556,
              "#d8576b"
             ],
             [
              0.6666666666666666,
              "#ed7953"
             ],
             [
              0.7777777777777778,
              "#fb9f3a"
             ],
             [
              0.8888888888888888,
              "#fdca26"
             ],
             [
              1,
              "#f0f921"
             ]
            ],
            "type": "heatmap"
           }
          ],
          "heatmapgl": [
           {
            "colorbar": {
             "outlinewidth": 0,
             "ticks": ""
            },
            "colorscale": [
             [
              0,
              "#0d0887"
             ],
             [
              0.1111111111111111,
              "#46039f"
             ],
             [
              0.2222222222222222,
              "#7201a8"
             ],
             [
              0.3333333333333333,
              "#9c179e"
             ],
             [
              0.4444444444444444,
              "#bd3786"
             ],
             [
              0.5555555555555556,
              "#d8576b"
             ],
             [
              0.6666666666666666,
              "#ed7953"
             ],
             [
              0.7777777777777778,
              "#fb9f3a"
             ],
             [
              0.8888888888888888,
              "#fdca26"
             ],
             [
              1,
              "#f0f921"
             ]
            ],
            "type": "heatmapgl"
           }
          ],
          "histogram": [
           {
            "marker": {
             "colorbar": {
              "outlinewidth": 0,
              "ticks": ""
             }
            },
            "type": "histogram"
           }
          ],
          "histogram2d": [
           {
            "colorbar": {
             "outlinewidth": 0,
             "ticks": ""
            },
            "colorscale": [
             [
              0,
              "#0d0887"
             ],
             [
              0.1111111111111111,
              "#46039f"
             ],
             [
              0.2222222222222222,
              "#7201a8"
             ],
             [
              0.3333333333333333,
              "#9c179e"
             ],
             [
              0.4444444444444444,
              "#bd3786"
             ],
             [
              0.5555555555555556,
              "#d8576b"
             ],
             [
              0.6666666666666666,
              "#ed7953"
             ],
             [
              0.7777777777777778,
              "#fb9f3a"
             ],
             [
              0.8888888888888888,
              "#fdca26"
             ],
             [
              1,
              "#f0f921"
             ]
            ],
            "type": "histogram2d"
           }
          ],
          "histogram2dcontour": [
           {
            "colorbar": {
             "outlinewidth": 0,
             "ticks": ""
            },
            "colorscale": [
             [
              0,
              "#0d0887"
             ],
             [
              0.1111111111111111,
              "#46039f"
             ],
             [
              0.2222222222222222,
              "#7201a8"
             ],
             [
              0.3333333333333333,
              "#9c179e"
             ],
             [
              0.4444444444444444,
              "#bd3786"
             ],
             [
              0.5555555555555556,
              "#d8576b"
             ],
             [
              0.6666666666666666,
              "#ed7953"
             ],
             [
              0.7777777777777778,
              "#fb9f3a"
             ],
             [
              0.8888888888888888,
              "#fdca26"
             ],
             [
              1,
              "#f0f921"
             ]
            ],
            "type": "histogram2dcontour"
           }
          ],
          "mesh3d": [
           {
            "colorbar": {
             "outlinewidth": 0,
             "ticks": ""
            },
            "type": "mesh3d"
           }
          ],
          "parcoords": [
           {
            "line": {
             "colorbar": {
              "outlinewidth": 0,
              "ticks": ""
             }
            },
            "type": "parcoords"
           }
          ],
          "scatter": [
           {
            "marker": {
             "colorbar": {
              "outlinewidth": 0,
              "ticks": ""
             }
            },
            "type": "scatter"
           }
          ],
          "scatter3d": [
           {
            "line": {
             "colorbar": {
              "outlinewidth": 0,
              "ticks": ""
             }
            },
            "marker": {
             "colorbar": {
              "outlinewidth": 0,
              "ticks": ""
             }
            },
            "type": "scatter3d"
           }
          ],
          "scattercarpet": [
           {
            "marker": {
             "colorbar": {
              "outlinewidth": 0,
              "ticks": ""
             }
            },
            "type": "scattercarpet"
           }
          ],
          "scattergeo": [
           {
            "marker": {
             "colorbar": {
              "outlinewidth": 0,
              "ticks": ""
             }
            },
            "type": "scattergeo"
           }
          ],
          "scattergl": [
           {
            "marker": {
             "colorbar": {
              "outlinewidth": 0,
              "ticks": ""
             }
            },
            "type": "scattergl"
           }
          ],
          "scattermapbox": [
           {
            "marker": {
             "colorbar": {
              "outlinewidth": 0,
              "ticks": ""
             }
            },
            "type": "scattermapbox"
           }
          ],
          "scatterpolar": [
           {
            "marker": {
             "colorbar": {
              "outlinewidth": 0,
              "ticks": ""
             }
            },
            "type": "scatterpolar"
           }
          ],
          "scatterpolargl": [
           {
            "marker": {
             "colorbar": {
              "outlinewidth": 0,
              "ticks": ""
             }
            },
            "type": "scatterpolargl"
           }
          ],
          "scatterternary": [
           {
            "marker": {
             "colorbar": {
              "outlinewidth": 0,
              "ticks": ""
             }
            },
            "type": "scatterternary"
           }
          ],
          "surface": [
           {
            "colorbar": {
             "outlinewidth": 0,
             "ticks": ""
            },
            "colorscale": [
             [
              0,
              "#0d0887"
             ],
             [
              0.1111111111111111,
              "#46039f"
             ],
             [
              0.2222222222222222,
              "#7201a8"
             ],
             [
              0.3333333333333333,
              "#9c179e"
             ],
             [
              0.4444444444444444,
              "#bd3786"
             ],
             [
              0.5555555555555556,
              "#d8576b"
             ],
             [
              0.6666666666666666,
              "#ed7953"
             ],
             [
              0.7777777777777778,
              "#fb9f3a"
             ],
             [
              0.8888888888888888,
              "#fdca26"
             ],
             [
              1,
              "#f0f921"
             ]
            ],
            "type": "surface"
           }
          ],
          "table": [
           {
            "cells": {
             "fill": {
              "color": "#EBF0F8"
             },
             "line": {
              "color": "white"
             }
            },
            "header": {
             "fill": {
              "color": "#C8D4E3"
             },
             "line": {
              "color": "white"
             }
            },
            "type": "table"
           }
          ]
         },
         "layout": {
          "annotationdefaults": {
           "arrowcolor": "#2a3f5f",
           "arrowhead": 0,
           "arrowwidth": 1
          },
          "colorscale": {
           "diverging": [
            [
             0,
             "#8e0152"
            ],
            [
             0.1,
             "#c51b7d"
            ],
            [
             0.2,
             "#de77ae"
            ],
            [
             0.3,
             "#f1b6da"
            ],
            [
             0.4,
             "#fde0ef"
            ],
            [
             0.5,
             "#f7f7f7"
            ],
            [
             0.6,
             "#e6f5d0"
            ],
            [
             0.7,
             "#b8e186"
            ],
            [
             0.8,
             "#7fbc41"
            ],
            [
             0.9,
             "#4d9221"
            ],
            [
             1,
             "#276419"
            ]
           ],
           "sequential": [
            [
             0,
             "#0d0887"
            ],
            [
             0.1111111111111111,
             "#46039f"
            ],
            [
             0.2222222222222222,
             "#7201a8"
            ],
            [
             0.3333333333333333,
             "#9c179e"
            ],
            [
             0.4444444444444444,
             "#bd3786"
            ],
            [
             0.5555555555555556,
             "#d8576b"
            ],
            [
             0.6666666666666666,
             "#ed7953"
            ],
            [
             0.7777777777777778,
             "#fb9f3a"
            ],
            [
             0.8888888888888888,
             "#fdca26"
            ],
            [
             1,
             "#f0f921"
            ]
           ],
           "sequentialminus": [
            [
             0,
             "#0d0887"
            ],
            [
             0.1111111111111111,
             "#46039f"
            ],
            [
             0.2222222222222222,
             "#7201a8"
            ],
            [
             0.3333333333333333,
             "#9c179e"
            ],
            [
             0.4444444444444444,
             "#bd3786"
            ],
            [
             0.5555555555555556,
             "#d8576b"
            ],
            [
             0.6666666666666666,
             "#ed7953"
            ],
            [
             0.7777777777777778,
             "#fb9f3a"
            ],
            [
             0.8888888888888888,
             "#fdca26"
            ],
            [
             1,
             "#f0f921"
            ]
           ]
          },
          "colorway": [
           "#636efa",
           "#EF553B",
           "#00cc96",
           "#ab63fa",
           "#FFA15A",
           "#19d3f3",
           "#FF6692",
           "#B6E880",
           "#FF97FF",
           "#FECB52"
          ],
          "font": {
           "color": "#2a3f5f"
          },
          "geo": {
           "bgcolor": "white",
           "lakecolor": "white",
           "landcolor": "#E5ECF6",
           "showlakes": true,
           "showland": true,
           "subunitcolor": "white"
          },
          "hoverlabel": {
           "align": "left"
          },
          "hovermode": "closest",
          "mapbox": {
           "style": "light"
          },
          "paper_bgcolor": "white",
          "plot_bgcolor": "#E5ECF6",
          "polar": {
           "angularaxis": {
            "gridcolor": "white",
            "linecolor": "white",
            "ticks": ""
           },
           "bgcolor": "#E5ECF6",
           "radialaxis": {
            "gridcolor": "white",
            "linecolor": "white",
            "ticks": ""
           }
          },
          "scene": {
           "xaxis": {
            "backgroundcolor": "#E5ECF6",
            "gridcolor": "white",
            "gridwidth": 2,
            "linecolor": "white",
            "showbackground": true,
            "ticks": "",
            "zerolinecolor": "white"
           },
           "yaxis": {
            "backgroundcolor": "#E5ECF6",
            "gridcolor": "white",
            "gridwidth": 2,
            "linecolor": "white",
            "showbackground": true,
            "ticks": "",
            "zerolinecolor": "white"
           },
           "zaxis": {
            "backgroundcolor": "#E5ECF6",
            "gridcolor": "white",
            "gridwidth": 2,
            "linecolor": "white",
            "showbackground": true,
            "ticks": "",
            "zerolinecolor": "white"
           }
          },
          "shapedefaults": {
           "line": {
            "color": "#2a3f5f"
           }
          },
          "ternary": {
           "aaxis": {
            "gridcolor": "white",
            "linecolor": "white",
            "ticks": ""
           },
           "baxis": {
            "gridcolor": "white",
            "linecolor": "white",
            "ticks": ""
           },
           "bgcolor": "#E5ECF6",
           "caxis": {
            "gridcolor": "white",
            "linecolor": "white",
            "ticks": ""
           }
          },
          "title": {
           "x": 0.05
          },
          "xaxis": {
           "automargin": true,
           "gridcolor": "white",
           "linecolor": "white",
           "ticks": "",
           "zerolinecolor": "white",
           "zerolinewidth": 2
          },
          "yaxis": {
           "automargin": true,
           "gridcolor": "white",
           "linecolor": "white",
           "ticks": "",
           "zerolinecolor": "white",
           "zerolinewidth": 2
          }
         }
        },
        "xaxis": {
         "anchor": "y",
         "domain": [
          0,
          0.98
         ],
         "title": {
          "text": "WS"
         }
        },
        "yaxis": {
         "anchor": "x",
         "domain": [
          0,
          1
         ],
         "title": {
          "text": "VORP"
         }
        }
       }
      },
      "text/html": [
       "<div>\n",
       "        \n",
       "        \n",
       "            <div id=\"74db442b-fcd0-466e-838f-fa9fdb4b9c9a\" class=\"plotly-graph-div\" style=\"height:600px; width:100%;\"></div>\n",
       "            <script type=\"text/javascript\">\n",
       "                require([\"plotly\"], function(Plotly) {\n",
       "                    window.PLOTLYENV=window.PLOTLYENV || {};\n",
       "                    \n",
       "                if (document.getElementById(\"74db442b-fcd0-466e-838f-fa9fdb4b9c9a\")) {\n",
       "                    Plotly.newPlot(\n",
       "                        '74db442b-fcd0-466e-838f-fa9fdb4b9c9a',\n",
       "                        [{\"customdata\": [[15.8, 17.9, 1913.0, 2.4, 21.0, 6.5], [15.9, 18.5, 2096.0, 2.4, 20.0, 7.0], [19.6, 16.2, 416.0, 0.1, 26.0, 1.7], [29.1, -6.0, 6.0, 0.0, 20.0, 0.9], [15.5, 9.8, 1352.0, 0.3, 21.0, 2.7], [16.8, 11.7, 759.0, -0.3, 23.0, 2.2], [16.9, 11.7, 1423.0, 0.9, 21.0, 6.2], [13.7, 12.9, 788.0, 0.3, 24.0, 3.1], [12.2, 10.2, 439.0, -0.3, 25.0, 3.6], [13.8, 12.7, 639.0, 0.5, 23.0, 3.8], [23.6, 19.6, 36.0, 0.0, 21.0, 2.2], [20.9, 7.6, 330.0, -0.3, 23.0, 2.9], [15.2, 10.9, 1034.0, 0.1, 23.0, 2.9], [16.6, 13.5, 1356.0, 0.7, 21.0, 3.8], [17.9, 7.8, 251.0, -0.3, 22.0, 2.3], [17.9, 7.8, 251.0, -0.3, 22.0, 2.3], [17.9, 7.8, 251.0, -0.3, 22.0, 2.3], [17.9, 7.8, 251.0, -0.3, 22.0, 2.3], [20.7, 13.1, 447.0, 0.0, 22.0, 2.3], [20.7, 13.1, 447.0, 0.0, 22.0, 2.3], [20.7, 13.1, 447.0, 0.0, 22.0, 2.3], [20.7, 13.1, 447.0, 0.0, 22.0, 2.3], [17.3, 10.8, 2004.0, -0.2, 24.0, 3.0], [12.7, 0.7, 64.0, -0.1, 22.0, 1.7], [12.7, 0.7, 64.0, -0.1, 22.0, 1.7], [12.7, 0.7, 64.0, -0.1, 22.0, 1.7], [12.7, 0.7, 64.0, -0.1, 22.0, 1.7], [40.7, -38.1, 1.0, 0.0, 22.0, 1.7], [40.7, -38.1, 1.0, 0.0, 22.0, 1.7], [40.7, -38.1, 1.0, 0.0, 22.0, 1.7], [40.7, -38.1, 1.0, 0.0, 22.0, 1.7], [10.6, 6.4, 1931.0, 0.0, 20.0, 1.4], [24.5, 18.1, 2546.0, 2.0, 21.0, 3.3], [19.3, 10.5, 427.0, -0.1, 20.0, 3.4], [23.2, 14.4, 820.0, 0.0, 20.0, 3.8], [13.5, 9.3, 1715.0, 0.6, 23.0, 3.9], [11.8, 10.0, 221.0, 0.1, 20.0, 1.7], [16.3, 13.0, 1996.0, 1.1, 21.0, 5.0], [12.8, 8.7, 1233.0, -0.2, 24.0, 2.5], [18.5, 9.4, 1169.0, -0.9, 20.0, 2.2], [23.9, 10.6, 1988.0, -1.4, 21.0, 4.5], [12.9, 10.1, 1083.0, 0.1, 23.0, 2.7], [12.9, 10.1, 1083.0, 0.1, 23.0, 2.7], [12.9, 10.1, 1083.0, 0.1, 23.0, 2.7], [12.9, 10.1, 1083.0, 0.1, 23.0, 2.7], [17.0, 13.9, 531.0, 0.1, 23.0, 2.7], [17.0, 13.9, 531.0, 0.1, 23.0, 2.7], [17.0, 13.9, 531.0, 0.1, 23.0, 2.7], [17.0, 13.9, 531.0, 0.1, 23.0, 2.7], [18.1, 11.9, 1437.0, 0.2, 22.0, 2.6], [23.8, 14.0, 2314.0, 0.2, 23.0, 5.9], [17.5, 16.9, 522.0, 0.1, 21.0, 1.9], [10.6, 9.3, 94.0, 0.0, 22.0, 0.7], [25.1, 17.1, 1682.0, 0.0, 21.0, 8.2], [21.8, 12.4, 435.0, -0.3, 24.0, 1.9], [31.6, 17.2, 2598.0, 1.7, 22.0, 3.9], [24.6, 11.8, 1258.0, -0.6, 20.0, 1.5], [17.1, 16.2, 1970.0, 1.1, 23.0, 2.3], [16.6, 6.0, 904.0, -0.8, 20.0, 2.2], [14.1, 8.5, 594.0, -0.3, 24.0, 1.9], [15.7, 10.5, 21.0, 0.0, 21.0, 1.5], [17.2, 16.1, 721.0, 0.2, 21.0, 4.3], [12.1, 8.1, 47.0, 0.0, 23.0, 1.5], [23.3, 11.5, 908.0, -0.1, 21.0, 3.4], [23.3, 11.5, 908.0, -0.1, 21.0, 3.4], [23.3, 11.5, 908.0, -0.1, 21.0, 3.4], [23.3, 11.5, 908.0, -0.1, 21.0, 3.4], [27.0, 13.5, 600.0, -0.1, 21.0, 3.4], [27.0, 13.5, 600.0, -0.1, 21.0, 3.4], [27.0, 13.5, 600.0, -0.1, 21.0, 3.4], [27.0, 13.5, 600.0, -0.1, 21.0, 3.4], [17.6, 7.6, 210.0, -0.1, 23.0, 1.0], [18.4, 3.1, 145.0, -0.3, 21.0, 2.5], [18.4, 3.1, 145.0, -0.3, 21.0, 2.5], [18.4, 3.1, 145.0, -0.3, 21.0, 2.5], [18.4, 3.1, 145.0, -0.3, 21.0, 2.5], [14.9, 11.7, 33.0, 0.0, 21.0, 2.5], [14.9, 11.7, 33.0, 0.0, 21.0, 2.5], [14.9, 11.7, 33.0, 0.0, 21.0, 2.5], [14.9, 11.7, 33.0, 0.0, 21.0, 2.5], [22.1, 15.1, 2455.0, 0.8, 20.0, 5.5], [11.3, 5.2, 313.0, -0.2, 24.0, 1.3], [17.7, 14.8, 1728.0, 1.3, 24.0, 3.3], [14.4, 10.3, 882.0, 0.1, 22.0, 3.3], [16.1, 16.6, 80.0, 0.0, 21.0, 1.2], [16.2, 9.0, 583.0, -0.5, 21.0, 1.7], [18.2, 7.6, 455.0, -0.3, 23.0, 3.3], [12.7, 7.1, 2069.0, -0.4, 20.0, 3.8], [12.6, 11.7, 38.0, -0.1, 24.0, 1.5], [19.1, 14.3, 1436.0, 0.2, 25.0, 3.5], [21.4, 13.6, 2152.0, 1.0, 21.0, 4.0], [18.1, 11.1, 1527.0, 0.0, 20.0, 4.5], [15.3, 16.6, 943.0, 0.3, 21.0, 3.2], [17.4, 17.0, 581.0, -0.2, 21.0, 4.6], [24.7, 14.5, 1525.0, 0.7, 23.0, 3.3], [23.8, 10.5, 329.0, -0.4, 21.0, 2.5], [19.9, 18.2, 28.0, 0.0, 22.0, 2.1], [14.0, 9.7, 277.0, -0.1, 22.0, 3.2], [24.3, 16.1, 2024.0, 0.9, 25.0, 4.0], [22.2, 13.8, 1975.0, 0.4, 20.0, 4.7], [13.9, 6.8, 89.0, -0.1, 22.0, 2.3], [16.9, 3.4, 80.0, -0.1, 20.0, 1.9], [21.1, 14.3, 1240.0, -0.2, 21.0, 4.3], [14.6, 4.9, 160.0, -0.1, 23.0, 1.8], [22.5, 14.2, 1864.0, 0.7, 23.0, 3.6], [17.5, 7.0, 807.0, -0.5, 22.0, 1.9], [14.6, 10.2, 1238.0, -0.2, 20.0, 2.8], [12.8, 7.4, 961.0, -0.3, 22.0, 1.5], [20.7, 15.1, 1743.0, 1.4, 21.0, 4.2], [22.8, 16.1, 2565.0, 1.2, 20.0, 3.5], [17.1, 5.1, 522.0, -0.5, 24.0, 1.7], [20.9, 9.2, 32.0, 0.0, 24.0, 1.2], [16.1, -3.2, 22.0, -0.1, 21.0, 2.3], [23.0, 9.1, 28.0, 0.0, 24.0, 0.8], [14.8, 17.5, 1524.0, 2.0, 22.0, 4.5], [16.8, 1.9, 124.0, -0.2, 22.0, 1.2], [22.1, 17.5, 1810.0, 0.8, 21.0, 6.8], [15.7, 14.5, 1679.0, 1.7, 23.0, 5.1], [22.3, 20.0, 2732.0, 4.6, 21.0, 8.5], [18.5, 10.1, 1658.0, -1.3, 22.0, 1.7], [17.5, 12.1, 2095.0, 0.8, 24.0, 4.1], [16.6, 10.1, 851.0, 0.0, 23.0, 2.2], [22.1, 12.8, 2464.0, 0.8, 23.0, 3.8], [28.5, 11.5, 180.0, -0.2, 22.0, 2.4], [15.7, 12.3, 235.0, 0.1, 22.0, 1.4], [15.2, 5.2, 824.0, -0.8, 23.0, 2.6], [18.8, 24.2, 214.0, 0.1, 21.0, 4.2], [17.6, 15.3, 410.0, 0.0, 20.0, 4.6], [28.6, 14.6, 2730.0, -0.2, 20.0, 3.5], [19.7, 16.3, 1421.0, 0.3, 23.0, 6.4], [13.1, 10.4, 219.0, -0.1, 25.0, 1.9], [13.0, 11.8, 316.0, 0.0, 24.0, 2.3], [14.9, 13.1, 1419.0, 0.3, 22.0, 3.0], [16.0, 13.2, 1028.0, 0.4, 24.0, 1.9], [17.6, 19.2, 1064.0, 0.8, 23.0, 4.4], [16.4, 8.7, 1474.0, -0.2, 22.0, 2.0], [20.3, 19.0, 1324.0, 0.7, 22.0, 5.6], [18.8, 7.2, 960.0, -0.9, 21.0, 3.0], [19.3, 5.9, 381.0, -0.4, 23.0, 0.9], [18.7, 13.7, 1761.0, 0.4, 22.0, 5.9], [18.6, 18.6, 1193.0, 1.1, 23.0, 4.4], [4.8, -3.2, 9.0, 0.0, 23.0, 1.0], [14.8, 7.2, 1371.0, 0.0, 20.0, 3.4], [13.6, 13.8, 774.0, 0.0, 20.0, 1.5], [21.8, 13.0, 1954.0, 0.2, 23.0, 4.0], [13.4, 13.6, 447.0, 0.3, 20.0, 3.8], [21.7, 9.9, 1158.0, -0.3, 21.0, 3.9], [16.4, 8.7, 558.0, -0.6, 22.0, 3.5], [15.5, 9.8, 141.0, -0.1, 22.0, 2.0], [22.6, 10.9, 1406.0, -0.6, 20.0, 3.1], [13.4, 15.7, 1442.0, 1.4, 24.0, 6.5], [24.1, 14.8, 1134.0, -0.4, 21.0, 5.1], [14.6, 9.1, 1605.0, -0.1, 21.0, 3.7], [19.1, 14.9, 1000.0, -0.3, 21.0, 6.2], [24.3, 17.4, 2164.0, 1.2, 21.0, 7.1], [21.1, 14.0, 1368.0, 0.2, 23.0, 2.1], [16.8, 10.7, 1614.0, 0.9, 23.0, 3.2], [17.1, 10.9, 1263.0, -0.2, 22.0, 3.6], [26.6, 15.3, 1811.0, 0.7, 20.0, 3.7], [19.5, 18.5, 2541.0, 2.8, 20.0, 6.7], [17.2, 7.8, 458.0, -0.3, 20.0, 1.1], [19.8, 8.2, 625.0, -0.1, 20.0, 5.3], [16.6, 15.0, 446.0, 0.4, 24.0, 2.8], [27.8, 11.4, 135.0, -0.2, 24.0, 1.0]], \"hoverlabel\": {\"namelength\": 0}, \"hovertemplate\": \"<b>%{hovertext}</b><br><br>WS=%{x}<br>VORP=%{customdata[3]}<br>USG%=%{customdata[0]}<br>PER=%{customdata[1]}<br>MP=%{customdata[2]}<br>Age=%{customdata[4]}<br>RPG=%{customdata[5]}<br>neural=%{marker.color}\", \"hovertext\": [\"Bam Adebayo\", \"Jarrett Allen\", \"Kadeem Allen\", \"Ike Anigbogu\", \"OG Anunoby\", \"Dwayne Bacon\", \"Lonzo Ball\", \"Jordan Bell\", \"Jaron Blossomgame\", \"Jonah Bolden\", \"Tony Bradley\", \"Dillon Brooks\", \"Sterling Brown\", \"Zach Collins\", \"Tyler Dorsey\", \"Tyler Dorsey\", \"Tyler Dorsey\", \"Tyler Dorsey\", \"Tyler Dorsey\", \"Tyler Dorsey\", \"Tyler Dorsey\", \"Tyler Dorsey\", \"Damyean Dotson\", \"Jawun Evans\", \"Jawun Evans\", \"Jawun Evans\", \"Jawun Evans\", \"Jawun Evans\", \"Jawun Evans\", \"Jawun Evans\", \"Jawun Evans\", \"Terrance Ferguson\", \"De'Aaron Fox\", \"Markelle Fultz\", \"Harry Giles\", \"Josh Hart\", \"Isaiah Hartenstein\", \"Jonathan Isaac\", \"Wesley Iwundu\", \"Frank Jackson\", \"Josh Jackson\", \"Justin Jackson\", \"Justin Jackson\", \"Justin Jackson\", \"Justin Jackson\", \"Justin Jackson\", \"Justin Jackson\", \"Justin Jackson\", \"Justin Jackson\", \"Luke Kennard\", \"Kyle Kuzma\", \"T.J. Leaf\", \"Tyler Lydon\", \"Lauri Markkanen\", \"Frank Mason\", \"Donovan Mitchell\", \"Malik Monk\", \"Monte Morris\", \"Frank Ntilikina\", \"Semi Ojeleye\", \"Justin Patton\", \"Ivan Rabb\", \"Davon Reed\", \"Dennis Smith\", \"Dennis Smith\", \"Dennis Smith\", \"Dennis Smith\", \"Dennis Smith\", \"Dennis Smith\", \"Dennis Smith\", \"Dennis Smith\", \"Edmond Sumner\", \"Caleb Swanigan\", \"Caleb Swanigan\", \"Caleb Swanigan\", \"Caleb Swanigan\", \"Caleb Swanigan\", \"Caleb Swanigan\", \"Caleb Swanigan\", \"Caleb Swanigan\", \"Jayson Tatum\", \"Sindarius Thornwell\", \"Derrick White\", \"D.J. Wilson\", \"Wade Baldwin\", \"Malik Beasley\", \"DeAndre' Bembry\", \"Dragan Bender\", \"Joel Bolomboy\", \"Malcolm Brogdon\", \"Jaylen Brown\", \"Marquese Chriss\", \"Deyonta Davis\", \"Cheick Diallo\", \"Kris Dunn\", \"Henry Ellenson\", \"Daniel Hamilton\", \"Juan Hernang\\u00f3mez\", \"Buddy Hield\", \"Brandon Ingram\", \"Damian Jones\", \"Furkan Korkmaz\", \"Skal Labissi\\u00e8re\", \"Jake Layman\", \"Caris LeVert\", \"Timoth\\u00e9 Luwawu-Cabarrot\", \"Thon Maker\", \"Patrick McCaw\", \"Dejounte Murray\", \"Jamal Murray\", \"Abdel Nader\", \"Georges Niang\", \"Chinanu Onuaku\", \"Marcus Paige\", \"Jakob P\\u00f6ltl\", \"Zhou Qi\", \"Domantas Sabonis\", \"Pascal Siakam\", \"Ben Simmons\", \"Tyler Ulis\", \"Denzel Valentine\", \"Tyrone Wallace\", \"Taurean Waller-Prince\", \"Isaiah Whitehead\", \"Guerschon Yabusele\", \"Paul Zipser\", \"Ante \\u017di\\u017ei\\u0107\", \"Ivica Zubac\", \"Devin Booker\", \"Willie Cauley-Stein\", \"Rakeem Christmas\", \"Pat Connaughton\", \"Sam Dekker\", \"Jerian Grant\", \"Montrezl Harrell\", \"Andrew Harrison\", \"Willy Hernangomez\", \"Mario Hezonja\", \"Darrun Hilliard\", \"Rondae Hollis-Jefferson\", \"Richaun Holmes\", \"R.J. Hunter\", \"Stanley Johnson\", \"Tyus Jones\", \"Frank Kaminsky\", \"Kevon Looney\", \"Trey Lyles\", \"Jarell Martin\", \"Jordan Mickey\", \"Emmanuel Mudiay\", \"Larry Nance\", \"Jahlil Okafor\", \"Kelly Oubre\", \"Bobby Portis\", \"Kristaps Porzingis\", \"Norman Powell\", \"Josh Richardson\", \"Terry Rozier\", \"D'Angelo Russell\", \"Myles Turner\", \"Rashad Vaughn\", \"Justise Winslow\", \"Delon Wright\", \"Joe Young\"], \"legendgroup\": \"\", \"marker\": {\"color\": [1, 1, 0, 1, 0, 0, 0, 0, 0, 0, 0, 0, 0, 1, 0, 0, 0, 0, 0, 0, 0, 0, 0, 0, 0, 0, 0, 0, 0, 0, 0, 0, 1, 0, 0, 0, 0, 0, 0, 0, 0, 0, 0, 0, 0, 0, 0, 0, 0, 0, 0, 0, 0, 1, 0, 1, 0, 0, 0, 0, 0, 0, 0, 0, 0, 0, 0, 0, 0, 0, 0, 0, 0, 0, 0, 0, 0, 0, 0, 0, 1, 0, 1, 0, 0, 0, 0, 0, 0, 0, 1, 0, 0, 1, 0, 0, 0, 0, 1, 1, 0, 0, 0, 0, 1, 0, 0, 0, 1, 1, 0, 0, 0, 0, 1, 0, 1, 0, 1, 0, 0, 0, 1, 0, 0, 0, 1, 0, 0, 1, 0, 0, 0, 0, 1, 0, 1, 0, 0, 1, 1, 0, 0, 0, 0, 0, 0, 0, 0, 0, 0, 0, 0, 0, 1, 0, 0, 0, 1, 1, 0, 0, 0, 0], \"coloraxis\": \"coloraxis\", \"symbol\": \"circle\"}, \"mode\": \"markers\", \"name\": \"\", \"showlegend\": false, \"type\": \"scatter\", \"x\": [6.8, 7.6, 1.0, -0.1, 2.0, 1.2, 1.6, 1.6, 0.3, 1.4, 0.1, 0.0, 2.1, 2.9, -0.1, -0.1, -0.1, -0.1, 0.7, 0.7, 0.7, 0.7, 1.5, -0.2, -0.2, -0.2, -0.2, 0.0, 0.0, 0.0, 0.0, 2.8, 5.6, 0.3, 1.0, 2.1, 0.5, 4.0, 1.9, 0.4, -1.7, 1.6, 1.6, 1.6, 1.6, 1.3, 1.3, 1.3, 1.3, 2.5, 3.1, 1.6, 0.2, 2.7, 0.3, 5.0, 0.3, 6.2, -0.8, 0.7, 0.0, 2.1, 0.1, 0.2, 0.2, 0.2, 0.2, -0.2, -0.2, -0.2, -0.2, 0.1, -0.3, -0.3, -0.3, -0.3, 0.0, 0.0, 0.0, 0.0, 5.0, 0.0, 3.6, 1.7, 0.3, 0.3, -0.4, 0.1, 0.1, 2.7, 4.5, 0.7, 2.7, 1.9, 0.9, 0.1, 0.1, 0.4, 2.8, 2.8, 0.1, 0.0, 1.4, -0.1, 2.3, 0.8, 1.5, 0.6, 3.2, 5.5, -0.1, 0.0, -0.1, 0.0, 5.6, -0.3, 4.7, 4.7, 9.2, -0.2, 2.5, 0.7, 2.0, -0.1, 0.6, -0.6, 1.0, 1.0, 2.0, 2.9, 0.5, 0.6, 3.1, 2.5, 4.1, 1.6, 3.4, -0.7, -0.2, 2.6, 3.8, 0.0, 0.4, 1.5, 2.3, 1.4, 0.8, 0.6, 0.1, 0.2, 3.5, 1.2, 2.0, 2.4, 4.5, 2.8, 2.2, 1.4, 1.3, 8.0, 0.0, -0.1, 1.1, -0.1], \"xaxis\": \"x\", \"y\": [2.4, 2.4, 0.1, 0.0, 0.3, -0.3, 0.9, 0.3, -0.3, 0.5, 0.0, -0.3, 0.1, 0.7, -0.3, -0.3, -0.3, -0.3, 0.0, 0.0, 0.0, 0.0, -0.2, -0.1, -0.1, -0.1, -0.1, 0.0, 0.0, 0.0, 0.0, 0.0, 2.0, -0.1, 0.0, 0.6, 0.1, 1.1, -0.2, -0.9, -1.4, 0.1, 0.1, 0.1, 0.1, 0.1, 0.1, 0.1, 0.1, 0.2, 0.2, 0.1, 0.0, 0.0, -0.3, 1.7, -0.6, 1.1, -0.8, -0.3, 0.0, 0.2, 0.0, -0.1, -0.1, -0.1, -0.1, -0.1, -0.1, -0.1, -0.1, -0.1, -0.3, -0.3, -0.3, -0.3, 0.0, 0.0, 0.0, 0.0, 0.8, -0.2, 1.3, 0.1, 0.0, -0.5, -0.3, -0.4, -0.1, 0.2, 1.0, 0.0, 0.3, -0.2, 0.7, -0.4, 0.0, -0.1, 0.9, 0.4, -0.1, -0.1, -0.2, -0.1, 0.7, -0.5, -0.2, -0.3, 1.4, 1.2, -0.5, 0.0, -0.1, 0.0, 2.0, -0.2, 0.8, 1.7, 4.6, -1.3, 0.8, 0.0, 0.8, -0.2, 0.1, -0.8, 0.1, 0.0, -0.2, 0.3, -0.1, 0.0, 0.3, 0.4, 0.8, -0.2, 0.7, -0.9, -0.4, 0.4, 1.1, 0.0, 0.0, 0.0, 0.2, 0.3, -0.3, -0.6, -0.1, -0.6, 1.4, -0.4, -0.1, -0.3, 1.2, 0.2, 0.9, -0.2, 0.7, 2.8, -0.3, -0.1, 0.4, -0.2], \"yaxis\": \"y\"}],\n",
       "                        {\"coloraxis\": {\"colorbar\": {\"title\": {\"text\": \"neural\"}}, \"colorscale\": [[0.0, \"rgb(142,1,82)\"], [0.1, \"rgb(197,27,125)\"], [0.2, \"rgb(222,119,174)\"], [0.3, \"rgb(241,182,218)\"], [0.4, \"rgb(253,224,239)\"], [0.5, \"rgb(247,247,247)\"], [0.6, \"rgb(230,245,208)\"], [0.7, \"rgb(184,225,134)\"], [0.8, \"rgb(127,188,65)\"], [0.9, \"rgb(77,146,33)\"], [1.0, \"rgb(39,100,25)\"]]}, \"height\": 600, \"legend\": {\"tracegroupgap\": 0}, \"margin\": {\"t\": 60}, \"template\": {\"data\": {\"bar\": [{\"error_x\": {\"color\": \"#2a3f5f\"}, \"error_y\": {\"color\": \"#2a3f5f\"}, \"marker\": {\"line\": {\"color\": \"#E5ECF6\", \"width\": 0.5}}, \"type\": \"bar\"}], \"barpolar\": [{\"marker\": {\"line\": {\"color\": \"#E5ECF6\", \"width\": 0.5}}, \"type\": \"barpolar\"}], \"carpet\": [{\"aaxis\": {\"endlinecolor\": \"#2a3f5f\", \"gridcolor\": \"white\", \"linecolor\": \"white\", \"minorgridcolor\": \"white\", \"startlinecolor\": \"#2a3f5f\"}, \"baxis\": {\"endlinecolor\": \"#2a3f5f\", \"gridcolor\": \"white\", \"linecolor\": \"white\", \"minorgridcolor\": \"white\", \"startlinecolor\": \"#2a3f5f\"}, \"type\": \"carpet\"}], \"choropleth\": [{\"colorbar\": {\"outlinewidth\": 0, \"ticks\": \"\"}, \"type\": \"choropleth\"}], \"contour\": [{\"colorbar\": {\"outlinewidth\": 0, \"ticks\": \"\"}, \"colorscale\": [[0.0, \"#0d0887\"], [0.1111111111111111, \"#46039f\"], [0.2222222222222222, \"#7201a8\"], [0.3333333333333333, \"#9c179e\"], [0.4444444444444444, \"#bd3786\"], [0.5555555555555556, \"#d8576b\"], [0.6666666666666666, \"#ed7953\"], [0.7777777777777778, \"#fb9f3a\"], [0.8888888888888888, \"#fdca26\"], [1.0, \"#f0f921\"]], \"type\": \"contour\"}], \"contourcarpet\": [{\"colorbar\": {\"outlinewidth\": 0, \"ticks\": \"\"}, \"type\": \"contourcarpet\"}], \"heatmap\": [{\"colorbar\": {\"outlinewidth\": 0, \"ticks\": \"\"}, \"colorscale\": [[0.0, \"#0d0887\"], [0.1111111111111111, \"#46039f\"], [0.2222222222222222, \"#7201a8\"], [0.3333333333333333, \"#9c179e\"], [0.4444444444444444, \"#bd3786\"], [0.5555555555555556, \"#d8576b\"], [0.6666666666666666, \"#ed7953\"], [0.7777777777777778, \"#fb9f3a\"], [0.8888888888888888, \"#fdca26\"], [1.0, \"#f0f921\"]], \"type\": \"heatmap\"}], \"heatmapgl\": [{\"colorbar\": {\"outlinewidth\": 0, \"ticks\": \"\"}, \"colorscale\": [[0.0, \"#0d0887\"], [0.1111111111111111, \"#46039f\"], [0.2222222222222222, \"#7201a8\"], [0.3333333333333333, \"#9c179e\"], [0.4444444444444444, \"#bd3786\"], [0.5555555555555556, \"#d8576b\"], [0.6666666666666666, \"#ed7953\"], [0.7777777777777778, \"#fb9f3a\"], [0.8888888888888888, \"#fdca26\"], [1.0, \"#f0f921\"]], \"type\": \"heatmapgl\"}], \"histogram\": [{\"marker\": {\"colorbar\": {\"outlinewidth\": 0, \"ticks\": \"\"}}, \"type\": \"histogram\"}], \"histogram2d\": [{\"colorbar\": {\"outlinewidth\": 0, \"ticks\": \"\"}, \"colorscale\": [[0.0, \"#0d0887\"], [0.1111111111111111, \"#46039f\"], [0.2222222222222222, \"#7201a8\"], [0.3333333333333333, \"#9c179e\"], [0.4444444444444444, \"#bd3786\"], [0.5555555555555556, \"#d8576b\"], [0.6666666666666666, \"#ed7953\"], [0.7777777777777778, \"#fb9f3a\"], [0.8888888888888888, \"#fdca26\"], [1.0, \"#f0f921\"]], \"type\": \"histogram2d\"}], \"histogram2dcontour\": [{\"colorbar\": {\"outlinewidth\": 0, \"ticks\": \"\"}, \"colorscale\": [[0.0, \"#0d0887\"], [0.1111111111111111, \"#46039f\"], [0.2222222222222222, \"#7201a8\"], [0.3333333333333333, \"#9c179e\"], [0.4444444444444444, \"#bd3786\"], [0.5555555555555556, \"#d8576b\"], [0.6666666666666666, \"#ed7953\"], [0.7777777777777778, \"#fb9f3a\"], [0.8888888888888888, \"#fdca26\"], [1.0, \"#f0f921\"]], \"type\": \"histogram2dcontour\"}], \"mesh3d\": [{\"colorbar\": {\"outlinewidth\": 0, \"ticks\": \"\"}, \"type\": \"mesh3d\"}], \"parcoords\": [{\"line\": {\"colorbar\": {\"outlinewidth\": 0, \"ticks\": \"\"}}, \"type\": \"parcoords\"}], \"scatter\": [{\"marker\": {\"colorbar\": {\"outlinewidth\": 0, \"ticks\": \"\"}}, \"type\": \"scatter\"}], \"scatter3d\": [{\"line\": {\"colorbar\": {\"outlinewidth\": 0, \"ticks\": \"\"}}, \"marker\": {\"colorbar\": {\"outlinewidth\": 0, \"ticks\": \"\"}}, \"type\": \"scatter3d\"}], \"scattercarpet\": [{\"marker\": {\"colorbar\": {\"outlinewidth\": 0, \"ticks\": \"\"}}, \"type\": \"scattercarpet\"}], \"scattergeo\": [{\"marker\": {\"colorbar\": {\"outlinewidth\": 0, \"ticks\": \"\"}}, \"type\": \"scattergeo\"}], \"scattergl\": [{\"marker\": {\"colorbar\": {\"outlinewidth\": 0, \"ticks\": \"\"}}, \"type\": \"scattergl\"}], \"scattermapbox\": [{\"marker\": {\"colorbar\": {\"outlinewidth\": 0, \"ticks\": \"\"}}, \"type\": \"scattermapbox\"}], \"scatterpolar\": [{\"marker\": {\"colorbar\": {\"outlinewidth\": 0, \"ticks\": \"\"}}, \"type\": \"scatterpolar\"}], \"scatterpolargl\": [{\"marker\": {\"colorbar\": {\"outlinewidth\": 0, \"ticks\": \"\"}}, \"type\": \"scatterpolargl\"}], \"scatterternary\": [{\"marker\": {\"colorbar\": {\"outlinewidth\": 0, \"ticks\": \"\"}}, \"type\": \"scatterternary\"}], \"surface\": [{\"colorbar\": {\"outlinewidth\": 0, \"ticks\": \"\"}, \"colorscale\": [[0.0, \"#0d0887\"], [0.1111111111111111, \"#46039f\"], [0.2222222222222222, \"#7201a8\"], [0.3333333333333333, \"#9c179e\"], [0.4444444444444444, \"#bd3786\"], [0.5555555555555556, \"#d8576b\"], [0.6666666666666666, \"#ed7953\"], [0.7777777777777778, \"#fb9f3a\"], [0.8888888888888888, \"#fdca26\"], [1.0, \"#f0f921\"]], \"type\": \"surface\"}], \"table\": [{\"cells\": {\"fill\": {\"color\": \"#EBF0F8\"}, \"line\": {\"color\": \"white\"}}, \"header\": {\"fill\": {\"color\": \"#C8D4E3\"}, \"line\": {\"color\": \"white\"}}, \"type\": \"table\"}]}, \"layout\": {\"annotationdefaults\": {\"arrowcolor\": \"#2a3f5f\", \"arrowhead\": 0, \"arrowwidth\": 1}, \"colorscale\": {\"diverging\": [[0, \"#8e0152\"], [0.1, \"#c51b7d\"], [0.2, \"#de77ae\"], [0.3, \"#f1b6da\"], [0.4, \"#fde0ef\"], [0.5, \"#f7f7f7\"], [0.6, \"#e6f5d0\"], [0.7, \"#b8e186\"], [0.8, \"#7fbc41\"], [0.9, \"#4d9221\"], [1, \"#276419\"]], \"sequential\": [[0.0, \"#0d0887\"], [0.1111111111111111, \"#46039f\"], [0.2222222222222222, \"#7201a8\"], [0.3333333333333333, \"#9c179e\"], [0.4444444444444444, \"#bd3786\"], [0.5555555555555556, \"#d8576b\"], [0.6666666666666666, \"#ed7953\"], [0.7777777777777778, \"#fb9f3a\"], [0.8888888888888888, \"#fdca26\"], [1.0, \"#f0f921\"]], \"sequentialminus\": [[0.0, \"#0d0887\"], [0.1111111111111111, \"#46039f\"], [0.2222222222222222, \"#7201a8\"], [0.3333333333333333, \"#9c179e\"], [0.4444444444444444, \"#bd3786\"], [0.5555555555555556, \"#d8576b\"], [0.6666666666666666, \"#ed7953\"], [0.7777777777777778, \"#fb9f3a\"], [0.8888888888888888, \"#fdca26\"], [1.0, \"#f0f921\"]]}, \"colorway\": [\"#636efa\", \"#EF553B\", \"#00cc96\", \"#ab63fa\", \"#FFA15A\", \"#19d3f3\", \"#FF6692\", \"#B6E880\", \"#FF97FF\", \"#FECB52\"], \"font\": {\"color\": \"#2a3f5f\"}, \"geo\": {\"bgcolor\": \"white\", \"lakecolor\": \"white\", \"landcolor\": \"#E5ECF6\", \"showlakes\": true, \"showland\": true, \"subunitcolor\": \"white\"}, \"hoverlabel\": {\"align\": \"left\"}, \"hovermode\": \"closest\", \"mapbox\": {\"style\": \"light\"}, \"paper_bgcolor\": \"white\", \"plot_bgcolor\": \"#E5ECF6\", \"polar\": {\"angularaxis\": {\"gridcolor\": \"white\", \"linecolor\": \"white\", \"ticks\": \"\"}, \"bgcolor\": \"#E5ECF6\", \"radialaxis\": {\"gridcolor\": \"white\", \"linecolor\": \"white\", \"ticks\": \"\"}}, \"scene\": {\"xaxis\": {\"backgroundcolor\": \"#E5ECF6\", \"gridcolor\": \"white\", \"gridwidth\": 2, \"linecolor\": \"white\", \"showbackground\": true, \"ticks\": \"\", \"zerolinecolor\": \"white\"}, \"yaxis\": {\"backgroundcolor\": \"#E5ECF6\", \"gridcolor\": \"white\", \"gridwidth\": 2, \"linecolor\": \"white\", \"showbackground\": true, \"ticks\": \"\", \"zerolinecolor\": \"white\"}, \"zaxis\": {\"backgroundcolor\": \"#E5ECF6\", \"gridcolor\": \"white\", \"gridwidth\": 2, \"linecolor\": \"white\", \"showbackground\": true, \"ticks\": \"\", \"zerolinecolor\": \"white\"}}, \"shapedefaults\": {\"line\": {\"color\": \"#2a3f5f\"}}, \"ternary\": {\"aaxis\": {\"gridcolor\": \"white\", \"linecolor\": \"white\", \"ticks\": \"\"}, \"baxis\": {\"gridcolor\": \"white\", \"linecolor\": \"white\", \"ticks\": \"\"}, \"bgcolor\": \"#E5ECF6\", \"caxis\": {\"gridcolor\": \"white\", \"linecolor\": \"white\", \"ticks\": \"\"}}, \"title\": {\"x\": 0.05}, \"xaxis\": {\"automargin\": true, \"gridcolor\": \"white\", \"linecolor\": \"white\", \"ticks\": \"\", \"zerolinecolor\": \"white\", \"zerolinewidth\": 2}, \"yaxis\": {\"automargin\": true, \"gridcolor\": \"white\", \"linecolor\": \"white\", \"ticks\": \"\", \"zerolinecolor\": \"white\", \"zerolinewidth\": 2}}}, \"xaxis\": {\"anchor\": \"y\", \"domain\": [0.0, 0.98], \"title\": {\"text\": \"WS\"}}, \"yaxis\": {\"anchor\": \"x\", \"domain\": [0.0, 1.0], \"title\": {\"text\": \"VORP\"}}},\n",
       "                        {\"responsive\": true}\n",
       "                    ).then(function(){\n",
       "                            \n",
       "var gd = document.getElementById('74db442b-fcd0-466e-838f-fa9fdb4b9c9a');\n",
       "var x = new MutationObserver(function (mutations, observer) {{\n",
       "        var display = window.getComputedStyle(gd).display;\n",
       "        if (!display || display === 'none') {{\n",
       "            console.log([gd, 'removed!']);\n",
       "            Plotly.purge(gd);\n",
       "            observer.disconnect();\n",
       "        }}\n",
       "}});\n",
       "\n",
       "// Listen for the removal of the full notebook cells\n",
       "var notebookContainer = gd.closest('#notebook-container');\n",
       "if (notebookContainer) {{\n",
       "    x.observe(notebookContainer, {childList: true});\n",
       "}}\n",
       "\n",
       "// Listen for the clearing of the current output cell\n",
       "var outputEl = gd.closest('.output');\n",
       "if (outputEl) {{\n",
       "    x.observe(outputEl, {childList: true});\n",
       "}}\n",
       "\n",
       "                        })\n",
       "                };\n",
       "                });\n",
       "            </script>\n",
       "        </div>"
      ]
     },
     "metadata": {},
     "output_type": "display_data"
    }
   ],
   "source": [
    "fig = px.scatter(test_master_w_predictions, x='WS', y='VORP',\n",
    "              color='neural', hover_name='Player_name', hover_data=['USG%', 'PER', 'MP', 'VORP', 'Age', 'RPG'], color_continuous_scale=px.colors.diverging.PiYG)\n",
    "# fig.update_xaxes(range=[-2, 4.5])\n",
    "fig.show()\n"
   ]
  },
  {
   "cell_type": "code",
   "execution_count": 278,
   "metadata": {},
   "outputs": [
    {
     "data": {
      "text/html": [
       "<div>\n",
       "<style scoped>\n",
       "    .dataframe tbody tr th:only-of-type {\n",
       "        vertical-align: middle;\n",
       "    }\n",
       "\n",
       "    .dataframe tbody tr th {\n",
       "        vertical-align: top;\n",
       "    }\n",
       "\n",
       "    .dataframe thead th {\n",
       "        text-align: right;\n",
       "    }\n",
       "</style>\n",
       "<table border=\"1\" class=\"dataframe\">\n",
       "  <thead>\n",
       "    <tr style=\"text-align: right;\">\n",
       "      <th></th>\n",
       "      <th>tot</th>\n",
       "      <th>neural</th>\n",
       "    </tr>\n",
       "  </thead>\n",
       "  <tbody>\n",
       "    <tr>\n",
       "      <th>neural</th>\n",
       "      <td>0.797887</td>\n",
       "      <td>1.000000</td>\n",
       "    </tr>\n",
       "    <tr>\n",
       "      <th>tot</th>\n",
       "      <td>1.000000</td>\n",
       "      <td>0.797887</td>\n",
       "    </tr>\n",
       "    <tr>\n",
       "      <th>PPG</th>\n",
       "      <td>0.613434</td>\n",
       "      <td>0.581070</td>\n",
       "    </tr>\n",
       "    <tr>\n",
       "      <th>PTS</th>\n",
       "      <td>0.617390</td>\n",
       "      <td>0.573486</td>\n",
       "    </tr>\n",
       "    <tr>\n",
       "      <th>WS</th>\n",
       "      <td>0.656130</td>\n",
       "      <td>0.560028</td>\n",
       "    </tr>\n",
       "    <tr>\n",
       "      <th>OWS</th>\n",
       "      <td>0.608334</td>\n",
       "      <td>0.531396</td>\n",
       "    </tr>\n",
       "    <tr>\n",
       "      <th>RPG</th>\n",
       "      <td>0.656514</td>\n",
       "      <td>0.524444</td>\n",
       "    </tr>\n",
       "    <tr>\n",
       "      <th>target</th>\n",
       "      <td>0.392185</td>\n",
       "      <td>0.505041</td>\n",
       "    </tr>\n",
       "    <tr>\n",
       "      <th>MP</th>\n",
       "      <td>0.539640</td>\n",
       "      <td>0.501516</td>\n",
       "    </tr>\n",
       "    <tr>\n",
       "      <th>TRB</th>\n",
       "      <td>0.599920</td>\n",
       "      <td>0.478229</td>\n",
       "    </tr>\n",
       "    <tr>\n",
       "      <th>VORP</th>\n",
       "      <td>0.596334</td>\n",
       "      <td>0.468984</td>\n",
       "    </tr>\n",
       "    <tr>\n",
       "      <th>DWS</th>\n",
       "      <td>0.552212</td>\n",
       "      <td>0.458214</td>\n",
       "    </tr>\n",
       "    <tr>\n",
       "      <th>AST</th>\n",
       "      <td>0.399922</td>\n",
       "      <td>0.370960</td>\n",
       "    </tr>\n",
       "    <tr>\n",
       "      <th>G</th>\n",
       "      <td>0.389248</td>\n",
       "      <td>0.313553</td>\n",
       "    </tr>\n",
       "    <tr>\n",
       "      <th>FG%</th>\n",
       "      <td>0.404464</td>\n",
       "      <td>0.300527</td>\n",
       "    </tr>\n",
       "    <tr>\n",
       "      <th>PER</th>\n",
       "      <td>0.345888</td>\n",
       "      <td>0.278768</td>\n",
       "    </tr>\n",
       "    <tr>\n",
       "      <th>USG%</th>\n",
       "      <td>0.263972</td>\n",
       "      <td>0.254163</td>\n",
       "    </tr>\n",
       "    <tr>\n",
       "      <th>TS%</th>\n",
       "      <td>0.289063</td>\n",
       "      <td>0.238171</td>\n",
       "    </tr>\n",
       "    <tr>\n",
       "      <th>APG</th>\n",
       "      <td>0.262982</td>\n",
       "      <td>0.238162</td>\n",
       "    </tr>\n",
       "    <tr>\n",
       "      <th>OBPM</th>\n",
       "      <td>0.275082</td>\n",
       "      <td>0.228358</td>\n",
       "    </tr>\n",
       "    <tr>\n",
       "      <th>FTr</th>\n",
       "      <td>0.236214</td>\n",
       "      <td>0.218005</td>\n",
       "    </tr>\n",
       "    <tr>\n",
       "      <th>BPM</th>\n",
       "      <td>0.263058</td>\n",
       "      <td>0.203497</td>\n",
       "    </tr>\n",
       "    <tr>\n",
       "      <th>BLK%</th>\n",
       "      <td>0.215264</td>\n",
       "      <td>0.184201</td>\n",
       "    </tr>\n",
       "    <tr>\n",
       "      <th>WS/48</th>\n",
       "      <td>0.227475</td>\n",
       "      <td>0.176101</td>\n",
       "    </tr>\n",
       "    <tr>\n",
       "      <th>Yrs</th>\n",
       "      <td>0.188565</td>\n",
       "      <td>0.157058</td>\n",
       "    </tr>\n",
       "    <tr>\n",
       "      <th>FT%</th>\n",
       "      <td>0.091912</td>\n",
       "      <td>0.104433</td>\n",
       "    </tr>\n",
       "    <tr>\n",
       "      <th>DRB%</th>\n",
       "      <td>0.219066</td>\n",
       "      <td>0.099177</td>\n",
       "    </tr>\n",
       "    <tr>\n",
       "      <th>TRB%</th>\n",
       "      <td>0.199847</td>\n",
       "      <td>0.089357</td>\n",
       "    </tr>\n",
       "    <tr>\n",
       "      <th>DBPM</th>\n",
       "      <td>0.148228</td>\n",
       "      <td>0.089148</td>\n",
       "    </tr>\n",
       "    <tr>\n",
       "      <th>AST%</th>\n",
       "      <td>0.118360</td>\n",
       "      <td>0.085386</td>\n",
       "    </tr>\n",
       "    <tr>\n",
       "      <th>ORB%</th>\n",
       "      <td>0.120513</td>\n",
       "      <td>0.049263</td>\n",
       "    </tr>\n",
       "    <tr>\n",
       "      <th>3P%</th>\n",
       "      <td>-0.044963</td>\n",
       "      <td>-0.016578</td>\n",
       "    </tr>\n",
       "    <tr>\n",
       "      <th>TOV%</th>\n",
       "      <td>-0.024902</td>\n",
       "      <td>-0.044591</td>\n",
       "    </tr>\n",
       "    <tr>\n",
       "      <th>STL%</th>\n",
       "      <td>0.029345</td>\n",
       "      <td>-0.046671</td>\n",
       "    </tr>\n",
       "    <tr>\n",
       "      <th>DRAFT_YEAR+1</th>\n",
       "      <td>-0.191792</td>\n",
       "      <td>-0.152127</td>\n",
       "    </tr>\n",
       "    <tr>\n",
       "      <th>SEASON</th>\n",
       "      <td>-0.191792</td>\n",
       "      <td>-0.152127</td>\n",
       "    </tr>\n",
       "    <tr>\n",
       "      <th>draft_round</th>\n",
       "      <td>-0.198295</td>\n",
       "      <td>-0.197102</td>\n",
       "    </tr>\n",
       "    <tr>\n",
       "      <th>3PAr</th>\n",
       "      <td>-0.296815</td>\n",
       "      <td>-0.209334</td>\n",
       "    </tr>\n",
       "    <tr>\n",
       "      <th>Age</th>\n",
       "      <td>-0.225691</td>\n",
       "      <td>-0.235228</td>\n",
       "    </tr>\n",
       "    <tr>\n",
       "      <th>Pk</th>\n",
       "      <td>-0.350101</td>\n",
       "      <td>-0.305023</td>\n",
       "    </tr>\n",
       "  </tbody>\n",
       "</table>\n",
       "</div>"
      ],
      "text/plain": [
       "                   tot    neural\n",
       "neural        0.797887  1.000000\n",
       "tot           1.000000  0.797887\n",
       "PPG           0.613434  0.581070\n",
       "PTS           0.617390  0.573486\n",
       "WS            0.656130  0.560028\n",
       "OWS           0.608334  0.531396\n",
       "RPG           0.656514  0.524444\n",
       "target        0.392185  0.505041\n",
       "MP            0.539640  0.501516\n",
       "TRB           0.599920  0.478229\n",
       "VORP          0.596334  0.468984\n",
       "DWS           0.552212  0.458214\n",
       "AST           0.399922  0.370960\n",
       "G             0.389248  0.313553\n",
       "FG%           0.404464  0.300527\n",
       "PER           0.345888  0.278768\n",
       "USG%          0.263972  0.254163\n",
       "TS%           0.289063  0.238171\n",
       "APG           0.262982  0.238162\n",
       "OBPM          0.275082  0.228358\n",
       "FTr           0.236214  0.218005\n",
       "BPM           0.263058  0.203497\n",
       "BLK%          0.215264  0.184201\n",
       "WS/48         0.227475  0.176101\n",
       "Yrs           0.188565  0.157058\n",
       "FT%           0.091912  0.104433\n",
       "DRB%          0.219066  0.099177\n",
       "TRB%          0.199847  0.089357\n",
       "DBPM          0.148228  0.089148\n",
       "AST%          0.118360  0.085386\n",
       "ORB%          0.120513  0.049263\n",
       "3P%          -0.044963 -0.016578\n",
       "TOV%         -0.024902 -0.044591\n",
       "STL%          0.029345 -0.046671\n",
       "DRAFT_YEAR+1 -0.191792 -0.152127\n",
       "SEASON       -0.191792 -0.152127\n",
       "draft_round  -0.198295 -0.197102\n",
       "3PAr         -0.296815 -0.209334\n",
       "Age          -0.225691 -0.235228\n",
       "Pk           -0.350101 -0.305023"
      ]
     },
     "execution_count": 278,
     "metadata": {},
     "output_type": "execute_result"
    }
   ],
   "source": [
    "test_master_w_predictions.corr()[['tot', 'neural']].sort_values('neural', ascending=False)\n"
   ]
  },
  {
   "cell_type": "code",
   "execution_count": null,
   "metadata": {},
   "outputs": [],
   "source": []
  }
 ],
 "metadata": {
  "kernelspec": {
   "display_name": "Python 3",
   "language": "python",
   "name": "python3"
  },
  "language_info": {
   "codemirror_mode": {
    "name": "ipython",
    "version": 3
   },
   "file_extension": ".py",
   "mimetype": "text/x-python",
   "name": "python",
   "nbconvert_exporter": "python",
   "pygments_lexer": "ipython3",
   "version": "3.6.8"
  }
 },
 "nbformat": 4,
 "nbformat_minor": 2
}
